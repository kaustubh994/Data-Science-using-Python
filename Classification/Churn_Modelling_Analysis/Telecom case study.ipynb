{
 "cells": [
  {
   "cell_type": "code",
   "execution_count": 530,
   "metadata": {},
   "outputs": [],
   "source": [
    "import pandas as pd\n",
    "import matplotlib.pyplot as pl\n",
    "import numpy as np\n",
    "\n",
    "from sklearn.ensemble import RandomForestClassifier\n",
    "from sklearn.cross_validation import train_test_split\n",
    "from sklearn.model_selection import GridSearchCV\n",
    "\n",
    "import statsmodels as sm\n",
    "from statsmodels.stats.outliers_influence import variance_inflation_factor\n",
    "from patsy import dmatrices\n",
    "from sklearn.decomposition import FactorAnalysis\n",
    "from sklearn.linear_model import LogisticRegression, LinearRegression\n",
    "from sklearn.metrics import accuracy_score\n",
    "from sklearn.neighbors import KNeighborsRegressor\n",
    "from sklearn.preprocessing import  StandardScaler\n",
    "from sklearn.cluster import KMeans\n",
    "from sklearn import metrics\n"
   ]
  },
  {
   "cell_type": "code",
   "execution_count": 531,
   "metadata": {},
   "outputs": [
    {
     "data": {
      "text/html": [
       "<div>\n",
       "<style scoped>\n",
       "    .dataframe tbody tr th:only-of-type {\n",
       "        vertical-align: middle;\n",
       "    }\n",
       "\n",
       "    .dataframe tbody tr th {\n",
       "        vertical-align: top;\n",
       "    }\n",
       "\n",
       "    .dataframe thead th {\n",
       "        text-align: right;\n",
       "    }\n",
       "</style>\n",
       "<table border=\"1\" class=\"dataframe\">\n",
       "  <thead>\n",
       "    <tr style=\"text-align: right;\">\n",
       "      <th></th>\n",
       "      <th>SITE_ACCOUNT_NUMBER</th>\n",
       "      <th>ACCOUNT_STATUS</th>\n",
       "      <th>FIRST_COMMUNICATION_DATE</th>\n",
       "      <th>UPGRADE_DATE</th>\n",
       "      <th>SERVICE_ PLAN</th>\n",
       "      <th>MODEL</th>\n",
       "      <th>SALES_CHANNEL</th>\n",
       "      <th>DIRECT_INDIRECT_CHANNEL</th>\n",
       "      <th>SALES_SOURCE</th>\n",
       "      <th>COMPANY_SOURCE_NAME</th>\n",
       "      <th>...</th>\n",
       "      <th>SITE_TYPE_DESC</th>\n",
       "      <th>WARRANTY_NAME</th>\n",
       "      <th>MOST_RECENT_SALES_CHANNEL</th>\n",
       "      <th>GENDER</th>\n",
       "      <th>DATE_OF_BIRTH</th>\n",
       "      <th>AGE</th>\n",
       "      <th>INCOME</th>\n",
       "      <th>MARITAL_STATUS</th>\n",
       "      <th>PRESENCE_OF_CHILDREN</th>\n",
       "      <th>COMPUTER_OWNER</th>\n",
       "    </tr>\n",
       "  </thead>\n",
       "  <tbody>\n",
       "    <tr>\n",
       "      <th>0</th>\n",
       "      <td>AMR-11112345</td>\n",
       "      <td>Active</td>\n",
       "      <td>11/27/2001</td>\n",
       "      <td>12/14/2003</td>\n",
       "      <td>NaN</td>\n",
       "      <td>HN9000</td>\n",
       "      <td>Vars</td>\n",
       "      <td>Indirect</td>\n",
       "      <td>UNKNOWN</td>\n",
       "      <td>HNS Customers</td>\n",
       "      <td>...</td>\n",
       "      <td>Broadband Remote</td>\n",
       "      <td>0</td>\n",
       "      <td>HN7000 Upgrade</td>\n",
       "      <td>2.0</td>\n",
       "      <td>1/5/1943</td>\n",
       "      <td>69</td>\n",
       "      <td>0</td>\n",
       "      <td>1</td>\n",
       "      <td>0</td>\n",
       "      <td>N</td>\n",
       "    </tr>\n",
       "    <tr>\n",
       "      <th>1</th>\n",
       "      <td>AMR-14837287</td>\n",
       "      <td>Active</td>\n",
       "      <td>5/2/2003</td>\n",
       "      <td>8/8/2006</td>\n",
       "      <td>Pro</td>\n",
       "      <td>HN7000S</td>\n",
       "      <td>Sales Agents</td>\n",
       "      <td>Indirect</td>\n",
       "      <td>NCC</td>\n",
       "      <td>HNS Customers</td>\n",
       "      <td>...</td>\n",
       "      <td>Spaceway</td>\n",
       "      <td>0</td>\n",
       "      <td>Retail</td>\n",
       "      <td>2.0</td>\n",
       "      <td>28-12-1969</td>\n",
       "      <td>43</td>\n",
       "      <td>4</td>\n",
       "      <td>1</td>\n",
       "      <td>0</td>\n",
       "      <td>N</td>\n",
       "    </tr>\n",
       "    <tr>\n",
       "      <th>2</th>\n",
       "      <td>AMR-14837803</td>\n",
       "      <td>Active</td>\n",
       "      <td>1/28/2001</td>\n",
       "      <td>3/17/2004</td>\n",
       "      <td>Power150</td>\n",
       "      <td>HN9000</td>\n",
       "      <td>Call Center</td>\n",
       "      <td>Indirect</td>\n",
       "      <td>NCC</td>\n",
       "      <td>HNS Customers</td>\n",
       "      <td>...</td>\n",
       "      <td>Broadband Remote</td>\n",
       "      <td>0</td>\n",
       "      <td>National Sales</td>\n",
       "      <td>2.0</td>\n",
       "      <td>20-7-1954</td>\n",
       "      <td>58</td>\n",
       "      <td>4</td>\n",
       "      <td>1</td>\n",
       "      <td>0</td>\n",
       "      <td>N</td>\n",
       "    </tr>\n",
       "    <tr>\n",
       "      <th>3</th>\n",
       "      <td>AMR-14837821</td>\n",
       "      <td>Active</td>\n",
       "      <td>11/20/2001</td>\n",
       "      <td>3/27/2005</td>\n",
       "      <td>Power150</td>\n",
       "      <td>DW6000</td>\n",
       "      <td>Sales Agents</td>\n",
       "      <td>Direct</td>\n",
       "      <td>NaN</td>\n",
       "      <td>HNS Customers</td>\n",
       "      <td>...</td>\n",
       "      <td>Spaceway</td>\n",
       "      <td>0</td>\n",
       "      <td>Direct</td>\n",
       "      <td>NaN</td>\n",
       "      <td>10/5/1990</td>\n",
       "      <td>22</td>\n",
       "      <td>6</td>\n",
       "      <td>1</td>\n",
       "      <td>1</td>\n",
       "      <td>NaN</td>\n",
       "    </tr>\n",
       "    <tr>\n",
       "      <th>4</th>\n",
       "      <td>AMR-14839297</td>\n",
       "      <td>Active</td>\n",
       "      <td>2/27/2002</td>\n",
       "      <td>6/14/2004</td>\n",
       "      <td>Home</td>\n",
       "      <td>HN7000S</td>\n",
       "      <td>Call Center</td>\n",
       "      <td>Indirect</td>\n",
       "      <td>TAG</td>\n",
       "      <td>HNS Customers</td>\n",
       "      <td>...</td>\n",
       "      <td>Broadband Remote</td>\n",
       "      <td>0</td>\n",
       "      <td>DW6000 Upgrade</td>\n",
       "      <td>1.0</td>\n",
       "      <td>11/5/1976</td>\n",
       "      <td>36</td>\n",
       "      <td>7</td>\n",
       "      <td>0</td>\n",
       "      <td>0</td>\n",
       "      <td>NaN</td>\n",
       "    </tr>\n",
       "    <tr>\n",
       "      <th>...</th>\n",
       "      <td>...</td>\n",
       "      <td>...</td>\n",
       "      <td>...</td>\n",
       "      <td>...</td>\n",
       "      <td>...</td>\n",
       "      <td>...</td>\n",
       "      <td>...</td>\n",
       "      <td>...</td>\n",
       "      <td>...</td>\n",
       "      <td>...</td>\n",
       "      <td>...</td>\n",
       "      <td>...</td>\n",
       "      <td>...</td>\n",
       "      <td>...</td>\n",
       "      <td>...</td>\n",
       "      <td>...</td>\n",
       "      <td>...</td>\n",
       "      <td>...</td>\n",
       "      <td>...</td>\n",
       "      <td>...</td>\n",
       "      <td>...</td>\n",
       "    </tr>\n",
       "    <tr>\n",
       "      <th>9993</th>\n",
       "      <td>AMR-49996971</td>\n",
       "      <td>Active</td>\n",
       "      <td>12/3/2001</td>\n",
       "      <td>12/26/2004</td>\n",
       "      <td>Basic_Ltd</td>\n",
       "      <td>HN7000S</td>\n",
       "      <td>NaN</td>\n",
       "      <td>Indirect</td>\n",
       "      <td>RS&amp;I</td>\n",
       "      <td>HNS Customers</td>\n",
       "      <td>...</td>\n",
       "      <td>Broadband Remote</td>\n",
       "      <td>0</td>\n",
       "      <td>DW7000 Upgrade</td>\n",
       "      <td>NaN</td>\n",
       "      <td>8/2/1980</td>\n",
       "      <td>32</td>\n",
       "      <td>4</td>\n",
       "      <td>0</td>\n",
       "      <td>NaN</td>\n",
       "      <td>N</td>\n",
       "    </tr>\n",
       "    <tr>\n",
       "      <th>9994</th>\n",
       "      <td>AMR-49997196</td>\n",
       "      <td>Active</td>\n",
       "      <td>3/24/2002</td>\n",
       "      <td>5/17/2005</td>\n",
       "      <td>Home</td>\n",
       "      <td>DW4000</td>\n",
       "      <td>Web orders</td>\n",
       "      <td>Indirect</td>\n",
       "      <td>TAG</td>\n",
       "      <td>HNS Customers</td>\n",
       "      <td>...</td>\n",
       "      <td>Spaceway</td>\n",
       "      <td>0</td>\n",
       "      <td>Classic Migration</td>\n",
       "      <td>1.0</td>\n",
       "      <td>17-12-1973</td>\n",
       "      <td>39</td>\n",
       "      <td>4</td>\n",
       "      <td>0</td>\n",
       "      <td>0</td>\n",
       "      <td>N</td>\n",
       "    </tr>\n",
       "    <tr>\n",
       "      <th>9995</th>\n",
       "      <td>AMR-49998050</td>\n",
       "      <td>Active</td>\n",
       "      <td>4/3/2002</td>\n",
       "      <td>4/3/2006</td>\n",
       "      <td>Elite</td>\n",
       "      <td>HN7000S</td>\n",
       "      <td>Retail/others</td>\n",
       "      <td>Direct</td>\n",
       "      <td>LiveBridge Communications LLC</td>\n",
       "      <td>HNS Customers</td>\n",
       "      <td>...</td>\n",
       "      <td>Broadband Remote</td>\n",
       "      <td>NaN</td>\n",
       "      <td>HN7000 Upgrade</td>\n",
       "      <td>1.0</td>\n",
       "      <td>.</td>\n",
       "      <td>.</td>\n",
       "      <td>NaN</td>\n",
       "      <td>0</td>\n",
       "      <td>NaN</td>\n",
       "      <td>NaN</td>\n",
       "    </tr>\n",
       "    <tr>\n",
       "      <th>9996</th>\n",
       "      <td>AMR-49998608</td>\n",
       "      <td>Active</td>\n",
       "      <td>3/8/2002</td>\n",
       "      <td>10/31/2003</td>\n",
       "      <td>Pro</td>\n",
       "      <td>HN9000</td>\n",
       "      <td>Retail/others</td>\n",
       "      <td>Indirect</td>\n",
       "      <td>InfoDish</td>\n",
       "      <td>HNS Customers</td>\n",
       "      <td>...</td>\n",
       "      <td>Broadband Remote</td>\n",
       "      <td>0</td>\n",
       "      <td>Dealer-Generated Sale</td>\n",
       "      <td>2.0</td>\n",
       "      <td>15-10-1979</td>\n",
       "      <td>33</td>\n",
       "      <td>5</td>\n",
       "      <td>1</td>\n",
       "      <td>0</td>\n",
       "      <td>N</td>\n",
       "    </tr>\n",
       "    <tr>\n",
       "      <th>9997</th>\n",
       "      <td>AMR-49999972</td>\n",
       "      <td>Active</td>\n",
       "      <td>11/21/2001</td>\n",
       "      <td>12/19/2003</td>\n",
       "      <td>Home</td>\n",
       "      <td>DW4020</td>\n",
       "      <td>Vars</td>\n",
       "      <td>Indirect</td>\n",
       "      <td>Best Buy</td>\n",
       "      <td>HNS Customers</td>\n",
       "      <td>...</td>\n",
       "      <td>Broadband Remote</td>\n",
       "      <td>0</td>\n",
       "      <td>Dealer-Generated Sale</td>\n",
       "      <td>1.0</td>\n",
       "      <td>27-1-1947</td>\n",
       "      <td>65</td>\n",
       "      <td>0</td>\n",
       "      <td>1</td>\n",
       "      <td>1</td>\n",
       "      <td>NaN</td>\n",
       "    </tr>\n",
       "  </tbody>\n",
       "</table>\n",
       "<p>9998 rows × 29 columns</p>\n",
       "</div>"
      ],
      "text/plain": [
       "     SITE_ACCOUNT_NUMBER ACCOUNT_STATUS FIRST_COMMUNICATION_DATE UPGRADE_DATE  \\\n",
       "0           AMR-11112345         Active               11/27/2001   12/14/2003   \n",
       "1           AMR-14837287         Active                 5/2/2003     8/8/2006   \n",
       "2           AMR-14837803         Active                1/28/2001    3/17/2004   \n",
       "3           AMR-14837821         Active               11/20/2001    3/27/2005   \n",
       "4           AMR-14839297         Active                2/27/2002    6/14/2004   \n",
       "...                  ...            ...                      ...          ...   \n",
       "9993        AMR-49996971         Active                12/3/2001   12/26/2004   \n",
       "9994        AMR-49997196         Active                3/24/2002    5/17/2005   \n",
       "9995        AMR-49998050         Active                 4/3/2002     4/3/2006   \n",
       "9996        AMR-49998608         Active                 3/8/2002   10/31/2003   \n",
       "9997        AMR-49999972         Active               11/21/2001   12/19/2003   \n",
       "\n",
       "     SERVICE_ PLAN    MODEL  SALES_CHANNEL DIRECT_INDIRECT_CHANNEL  \\\n",
       "0              NaN   HN9000           Vars                Indirect   \n",
       "1              Pro  HN7000S   Sales Agents                Indirect   \n",
       "2         Power150   HN9000    Call Center                Indirect   \n",
       "3         Power150   DW6000   Sales Agents                  Direct   \n",
       "4             Home  HN7000S    Call Center                Indirect   \n",
       "...            ...      ...            ...                     ...   \n",
       "9993     Basic_Ltd  HN7000S            NaN                Indirect   \n",
       "9994          Home   DW4000     Web orders                Indirect   \n",
       "9995         Elite  HN7000S  Retail/others                  Direct   \n",
       "9996           Pro   HN9000  Retail/others                Indirect   \n",
       "9997          Home   DW4020           Vars                Indirect   \n",
       "\n",
       "                       SALES_SOURCE COMPANY_SOURCE_NAME  ...  \\\n",
       "0                           UNKNOWN       HNS Customers  ...   \n",
       "1                               NCC       HNS Customers  ...   \n",
       "2                               NCC       HNS Customers  ...   \n",
       "3                               NaN       HNS Customers  ...   \n",
       "4                               TAG       HNS Customers  ...   \n",
       "...                             ...                 ...  ...   \n",
       "9993                           RS&I       HNS Customers  ...   \n",
       "9994                            TAG       HNS Customers  ...   \n",
       "9995  LiveBridge Communications LLC       HNS Customers  ...   \n",
       "9996                       InfoDish       HNS Customers  ...   \n",
       "9997                       Best Buy       HNS Customers  ...   \n",
       "\n",
       "        SITE_TYPE_DESC WARRANTY_NAME MOST_RECENT_SALES_CHANNEL GENDER  \\\n",
       "0     Broadband Remote             0            HN7000 Upgrade    2.0   \n",
       "1             Spaceway             0             Retail           2.0   \n",
       "2     Broadband Remote             0            National Sales    2.0   \n",
       "3             Spaceway             0                    Direct    NaN   \n",
       "4     Broadband Remote             0            DW6000 Upgrade    1.0   \n",
       "...                ...           ...                       ...    ...   \n",
       "9993  Broadband Remote             0            DW7000 Upgrade    NaN   \n",
       "9994          Spaceway             0         Classic Migration    1.0   \n",
       "9995  Broadband Remote           NaN            HN7000 Upgrade    1.0   \n",
       "9996  Broadband Remote             0     Dealer-Generated Sale    2.0   \n",
       "9997  Broadband Remote             0     Dealer-Generated Sale    1.0   \n",
       "\n",
       "     DATE_OF_BIRTH AGE INCOME MARITAL_STATUS PRESENCE_OF_CHILDREN  \\\n",
       "0         1/5/1943  69      0              1                    0   \n",
       "1       28-12-1969  43      4              1                    0   \n",
       "2        20-7-1954  58      4              1                    0   \n",
       "3        10/5/1990  22      6              1                    1   \n",
       "4        11/5/1976  36      7              0                    0   \n",
       "...            ...  ..    ...            ...                  ...   \n",
       "9993      8/2/1980  32      4              0                  NaN   \n",
       "9994    17-12-1973  39      4              0                    0   \n",
       "9995             .   .    NaN              0                  NaN   \n",
       "9996    15-10-1979  33      5              1                    0   \n",
       "9997     27-1-1947  65      0              1                    1   \n",
       "\n",
       "     COMPUTER_OWNER  \n",
       "0                 N  \n",
       "1                 N  \n",
       "2                 N  \n",
       "3               NaN  \n",
       "4               NaN  \n",
       "...             ...  \n",
       "9993              N  \n",
       "9994              N  \n",
       "9995            NaN  \n",
       "9996              N  \n",
       "9997            NaN  \n",
       "\n",
       "[9998 rows x 29 columns]"
      ]
     },
     "execution_count": 531,
     "metadata": {},
     "output_type": "execute_result"
    }
   ],
   "source": [
    "p1=pd.read_csv(\"C:\\\\Users\\\\kaust\\\\Desktop\\\\Telecom case study\\\\Case_study_data.csv\")\n",
    "p1= p1[:-1]\n",
    "p1"
   ]
  },
  {
   "cell_type": "code",
   "execution_count": 532,
   "metadata": {},
   "outputs": [
    {
     "data": {
      "text/html": [
       "<div>\n",
       "<style scoped>\n",
       "    .dataframe tbody tr th:only-of-type {\n",
       "        vertical-align: middle;\n",
       "    }\n",
       "\n",
       "    .dataframe tbody tr th {\n",
       "        vertical-align: top;\n",
       "    }\n",
       "\n",
       "    .dataframe thead th {\n",
       "        text-align: right;\n",
       "    }\n",
       "</style>\n",
       "<table border=\"1\" class=\"dataframe\">\n",
       "  <thead>\n",
       "    <tr style=\"text-align: right;\">\n",
       "      <th></th>\n",
       "      <th>SITE_ACCOUNT_NUMBER</th>\n",
       "      <th>ACCOUNT_STATUS</th>\n",
       "      <th>FIRST_COMMUNICATION_DATE</th>\n",
       "      <th>CHURN_DATE</th>\n",
       "      <th>UPGRADE_DATE</th>\n",
       "      <th>SERVICE_PLAN</th>\n",
       "      <th>MODEL</th>\n",
       "      <th>SALES_CHANNEL</th>\n",
       "      <th>DIRECT_INDIRECT_CHANNEL</th>\n",
       "      <th>SALES_SOURCE</th>\n",
       "      <th>...</th>\n",
       "      <th>SITE_TYPE_DESC</th>\n",
       "      <th>WARRANTY_NAME</th>\n",
       "      <th>MOST_RECENT_SALES_CHANNEL</th>\n",
       "      <th>GENDER</th>\n",
       "      <th>DATE_OF_BIRTH</th>\n",
       "      <th>AGE</th>\n",
       "      <th>INCOME</th>\n",
       "      <th>MARITAL_STATUS</th>\n",
       "      <th>PRESENCE_OF_CHILDREN</th>\n",
       "      <th>COMPUTER_OWNER</th>\n",
       "    </tr>\n",
       "  </thead>\n",
       "  <tbody>\n",
       "    <tr>\n",
       "      <th>0</th>\n",
       "      <td>AMR-53205840</td>\n",
       "      <td>Closed</td>\n",
       "      <td>1/18/2002</td>\n",
       "      <td>4/2/2006</td>\n",
       "      <td>1/3/2004</td>\n",
       "      <td>Professional</td>\n",
       "      <td>DW6000</td>\n",
       "      <td>NaN</td>\n",
       "      <td>Indirect</td>\n",
       "      <td>Perfect 10</td>\n",
       "      <td>...</td>\n",
       "      <td>Broadband Remote</td>\n",
       "      <td>NaN</td>\n",
       "      <td>Dealer-Generated Sale</td>\n",
       "      <td>2.0</td>\n",
       "      <td>27-10-1964</td>\n",
       "      <td>48</td>\n",
       "      <td>0</td>\n",
       "      <td>.</td>\n",
       "      <td>NaN</td>\n",
       "      <td>N</td>\n",
       "    </tr>\n",
       "    <tr>\n",
       "      <th>1</th>\n",
       "      <td>AMR-53383136</td>\n",
       "      <td>Closed</td>\n",
       "      <td>1/2/2002</td>\n",
       "      <td>7/9/2006</td>\n",
       "      <td>7/28/2004</td>\n",
       "      <td>SO</td>\n",
       "      <td>DW6000</td>\n",
       "      <td>Retail/Others</td>\n",
       "      <td>Indirect</td>\n",
       "      <td>ValueElectronics</td>\n",
       "      <td>...</td>\n",
       "      <td>Broadband Remote</td>\n",
       "      <td>NaN</td>\n",
       "      <td>National Sales</td>\n",
       "      <td>NaN</td>\n",
       "      <td>22-10-1965</td>\n",
       "      <td>47</td>\n",
       "      <td>5</td>\n",
       "      <td>0</td>\n",
       "      <td>0.0</td>\n",
       "      <td>Y</td>\n",
       "    </tr>\n",
       "    <tr>\n",
       "      <th>2</th>\n",
       "      <td>AMR-53608585</td>\n",
       "      <td>Closed</td>\n",
       "      <td>1/6/2002</td>\n",
       "      <td>12/30/2008</td>\n",
       "      <td>4/27/2005</td>\n",
       "      <td>NaN</td>\n",
       "      <td>DW6000</td>\n",
       "      <td>Retail/Others</td>\n",
       "      <td>Indirect</td>\n",
       "      <td>TAG</td>\n",
       "      <td>...</td>\n",
       "      <td>Broadband Remote</td>\n",
       "      <td>NaN</td>\n",
       "      <td>Direct</td>\n",
       "      <td>2.0</td>\n",
       "      <td>20-3-1951</td>\n",
       "      <td>61</td>\n",
       "      <td>8</td>\n",
       "      <td>1</td>\n",
       "      <td>0.0</td>\n",
       "      <td>Y</td>\n",
       "    </tr>\n",
       "    <tr>\n",
       "      <th>3</th>\n",
       "      <td>AMR-53610590</td>\n",
       "      <td>Closed</td>\n",
       "      <td>1/5/2002</td>\n",
       "      <td>8/19/2004</td>\n",
       "      <td>NaN</td>\n",
       "      <td>SO</td>\n",
       "      <td>DW4000</td>\n",
       "      <td>NaN</td>\n",
       "      <td>Indirect</td>\n",
       "      <td>TAG</td>\n",
       "      <td>...</td>\n",
       "      <td>Broadband Remote</td>\n",
       "      <td>NaN</td>\n",
       "      <td>Direct</td>\n",
       "      <td>1.0</td>\n",
       "      <td>27-3-1948</td>\n",
       "      <td>64</td>\n",
       "      <td>0</td>\n",
       "      <td>.</td>\n",
       "      <td>NaN</td>\n",
       "      <td>Y</td>\n",
       "    </tr>\n",
       "    <tr>\n",
       "      <th>4</th>\n",
       "      <td>AMR-53612154</td>\n",
       "      <td>Closed</td>\n",
       "      <td>1/5/2002</td>\n",
       "      <td>8/17/2006</td>\n",
       "      <td>11/12/2005</td>\n",
       "      <td>Professional</td>\n",
       "      <td>DW7000</td>\n",
       "      <td>Retail/Others</td>\n",
       "      <td>Indirect</td>\n",
       "      <td>Perfect 10</td>\n",
       "      <td>...</td>\n",
       "      <td>Broadband Remote</td>\n",
       "      <td>NaN</td>\n",
       "      <td>Dealer-Generated Sale</td>\n",
       "      <td>1.0</td>\n",
       "      <td>25-8-1956</td>\n",
       "      <td>56</td>\n",
       "      <td>6</td>\n",
       "      <td>0</td>\n",
       "      <td>0.0</td>\n",
       "      <td>N</td>\n",
       "    </tr>\n",
       "    <tr>\n",
       "      <th>...</th>\n",
       "      <td>...</td>\n",
       "      <td>...</td>\n",
       "      <td>...</td>\n",
       "      <td>...</td>\n",
       "      <td>...</td>\n",
       "      <td>...</td>\n",
       "      <td>...</td>\n",
       "      <td>...</td>\n",
       "      <td>...</td>\n",
       "      <td>...</td>\n",
       "      <td>...</td>\n",
       "      <td>...</td>\n",
       "      <td>...</td>\n",
       "      <td>...</td>\n",
       "      <td>...</td>\n",
       "      <td>...</td>\n",
       "      <td>...</td>\n",
       "      <td>...</td>\n",
       "      <td>...</td>\n",
       "      <td>...</td>\n",
       "      <td>...</td>\n",
       "    </tr>\n",
       "    <tr>\n",
       "      <th>9995</th>\n",
       "      <td>Q-94945717</td>\n",
       "      <td>Closed</td>\n",
       "      <td>1/7/2010</td>\n",
       "      <td>4/12/2011</td>\n",
       "      <td>8/25/2010</td>\n",
       "      <td>Basic</td>\n",
       "      <td>HN9000</td>\n",
       "      <td>Call Centers</td>\n",
       "      <td>Indirect</td>\n",
       "      <td>Red Ventures LLC (SA)</td>\n",
       "      <td>...</td>\n",
       "      <td>Spaceway</td>\n",
       "      <td>EXPRESS REPAIR BASIC</td>\n",
       "      <td>Direct</td>\n",
       "      <td>2.0</td>\n",
       "      <td>12-7-1963</td>\n",
       "      <td>49</td>\n",
       "      <td>3</td>\n",
       "      <td>.</td>\n",
       "      <td>1.0</td>\n",
       "      <td>N</td>\n",
       "    </tr>\n",
       "    <tr>\n",
       "      <th>9996</th>\n",
       "      <td>Q-94977539</td>\n",
       "      <td>Closed</td>\n",
       "      <td>4/29/2010</td>\n",
       "      <td>4/24/2011</td>\n",
       "      <td>10/26/2010</td>\n",
       "      <td>Professional Plus</td>\n",
       "      <td>DW6000</td>\n",
       "      <td>Retail/Others</td>\n",
       "      <td>Direct</td>\n",
       "      <td>Communication Solutions LLC (CC)</td>\n",
       "      <td>...</td>\n",
       "      <td>Spaceway</td>\n",
       "      <td>EXPRESS REPAIR HOME WITH TERM</td>\n",
       "      <td>Direct</td>\n",
       "      <td>2.0</td>\n",
       "      <td>6-7-1974</td>\n",
       "      <td>38</td>\n",
       "      <td>2</td>\n",
       "      <td>1</td>\n",
       "      <td>1.0</td>\n",
       "      <td>Y</td>\n",
       "    </tr>\n",
       "    <tr>\n",
       "      <th>9997</th>\n",
       "      <td>T000078824</td>\n",
       "      <td>Closed</td>\n",
       "      <td>4/9/2003</td>\n",
       "      <td>2/27/2004</td>\n",
       "      <td>NaN</td>\n",
       "      <td>Home</td>\n",
       "      <td>DW4000</td>\n",
       "      <td>Retail/Others</td>\n",
       "      <td>Indirect</td>\n",
       "      <td>TAG</td>\n",
       "      <td>...</td>\n",
       "      <td>Broadband Remote</td>\n",
       "      <td>NaN</td>\n",
       "      <td>Dealer - Direct Order</td>\n",
       "      <td>2.0</td>\n",
       "      <td>1-8-1945</td>\n",
       "      <td>67</td>\n",
       "      <td>8</td>\n",
       "      <td>0</td>\n",
       "      <td>0.0</td>\n",
       "      <td>NaN</td>\n",
       "    </tr>\n",
       "    <tr>\n",
       "      <th>9998</th>\n",
       "      <td>T000079618</td>\n",
       "      <td>Closed</td>\n",
       "      <td>4/8/2003</td>\n",
       "      <td>4/24/2006</td>\n",
       "      <td>1/2/2004</td>\n",
       "      <td>Power15</td>\n",
       "      <td>DW6000</td>\n",
       "      <td>NaN</td>\n",
       "      <td>NaN</td>\n",
       "      <td>TAG</td>\n",
       "      <td>...</td>\n",
       "      <td>Broadband Remote</td>\n",
       "      <td>NaN</td>\n",
       "      <td>Direct</td>\n",
       "      <td>1.0</td>\n",
       "      <td>12-1-1949</td>\n",
       "      <td>63</td>\n",
       "      <td>0</td>\n",
       "      <td>.</td>\n",
       "      <td>NaN</td>\n",
       "      <td>NaN</td>\n",
       "    </tr>\n",
       "    <tr>\n",
       "      <th>9999</th>\n",
       "      <td>T000080092</td>\n",
       "      <td>Closed</td>\n",
       "      <td>4/9/2003</td>\n",
       "      <td>3/27/2007</td>\n",
       "      <td>11/24/2006</td>\n",
       "      <td>Professional Plus</td>\n",
       "      <td>HN7000S</td>\n",
       "      <td>NaN</td>\n",
       "      <td>Indirect</td>\n",
       "      <td>TAG</td>\n",
       "      <td>...</td>\n",
       "      <td>Broadband Remote</td>\n",
       "      <td>NaN</td>\n",
       "      <td>Direct</td>\n",
       "      <td>1.0</td>\n",
       "      <td>10-11-1969</td>\n",
       "      <td>43</td>\n",
       "      <td>0</td>\n",
       "      <td>.</td>\n",
       "      <td>NaN</td>\n",
       "      <td>N</td>\n",
       "    </tr>\n",
       "  </tbody>\n",
       "</table>\n",
       "<p>10000 rows × 30 columns</p>\n",
       "</div>"
      ],
      "text/plain": [
       "     SITE_ACCOUNT_NUMBER ACCOUNT_STATUS FIRST_COMMUNICATION_DATE  CHURN_DATE  \\\n",
       "0           AMR-53205840         Closed                1/18/2002    4/2/2006   \n",
       "1           AMR-53383136         Closed                 1/2/2002    7/9/2006   \n",
       "2           AMR-53608585         Closed                 1/6/2002  12/30/2008   \n",
       "3           AMR-53610590         Closed                 1/5/2002   8/19/2004   \n",
       "4           AMR-53612154         Closed                 1/5/2002   8/17/2006   \n",
       "...                  ...            ...                      ...         ...   \n",
       "9995          Q-94945717         Closed                 1/7/2010   4/12/2011   \n",
       "9996          Q-94977539         Closed                4/29/2010   4/24/2011   \n",
       "9997          T000078824         Closed                 4/9/2003   2/27/2004   \n",
       "9998          T000079618         Closed                 4/8/2003   4/24/2006   \n",
       "9999          T000080092         Closed                 4/9/2003   3/27/2007   \n",
       "\n",
       "     UPGRADE_DATE       SERVICE_PLAN    MODEL  SALES_CHANNEL  \\\n",
       "0        1/3/2004       Professional   DW6000            NaN   \n",
       "1       7/28/2004                 SO   DW6000  Retail/Others   \n",
       "2       4/27/2005                NaN   DW6000  Retail/Others   \n",
       "3             NaN                 SO   DW4000            NaN   \n",
       "4      11/12/2005       Professional   DW7000  Retail/Others   \n",
       "...           ...                ...      ...            ...   \n",
       "9995    8/25/2010              Basic   HN9000   Call Centers   \n",
       "9996   10/26/2010  Professional Plus   DW6000  Retail/Others   \n",
       "9997          NaN               Home   DW4000  Retail/Others   \n",
       "9998     1/2/2004            Power15   DW6000            NaN   \n",
       "9999   11/24/2006  Professional Plus  HN7000S            NaN   \n",
       "\n",
       "     DIRECT_INDIRECT_CHANNEL                      SALES_SOURCE  ...  \\\n",
       "0                   Indirect                        Perfect 10  ...   \n",
       "1                   Indirect                  ValueElectronics  ...   \n",
       "2                   Indirect                               TAG  ...   \n",
       "3                   Indirect                               TAG  ...   \n",
       "4                   Indirect                        Perfect 10  ...   \n",
       "...                      ...                               ...  ...   \n",
       "9995                Indirect             Red Ventures LLC (SA)  ...   \n",
       "9996                  Direct  Communication Solutions LLC (CC)  ...   \n",
       "9997                Indirect                               TAG  ...   \n",
       "9998                     NaN                               TAG  ...   \n",
       "9999                Indirect                               TAG  ...   \n",
       "\n",
       "        SITE_TYPE_DESC                  WARRANTY_NAME  \\\n",
       "0     Broadband Remote                            NaN   \n",
       "1     Broadband Remote                            NaN   \n",
       "2     Broadband Remote                            NaN   \n",
       "3     Broadband Remote                            NaN   \n",
       "4     Broadband Remote                            NaN   \n",
       "...                ...                            ...   \n",
       "9995          Spaceway           EXPRESS REPAIR BASIC   \n",
       "9996          Spaceway  EXPRESS REPAIR HOME WITH TERM   \n",
       "9997  Broadband Remote                            NaN   \n",
       "9998  Broadband Remote                            NaN   \n",
       "9999  Broadband Remote                            NaN   \n",
       "\n",
       "     MOST_RECENT_SALES_CHANNEL GENDER DATE_OF_BIRTH AGE INCOME MARITAL_STATUS  \\\n",
       "0        Dealer-Generated Sale    2.0    27-10-1964  48      0              .   \n",
       "1               National Sales    NaN    22-10-1965  47      5              0   \n",
       "2                       Direct    2.0     20-3-1951  61      8              1   \n",
       "3                       Direct    1.0     27-3-1948  64      0              .   \n",
       "4        Dealer-Generated Sale    1.0     25-8-1956  56      6              0   \n",
       "...                        ...    ...           ...  ..    ...            ...   \n",
       "9995                    Direct    2.0     12-7-1963  49      3              .   \n",
       "9996                    Direct    2.0      6-7-1974  38      2              1   \n",
       "9997     Dealer - Direct Order    2.0      1-8-1945  67      8              0   \n",
       "9998                    Direct    1.0     12-1-1949  63      0              .   \n",
       "9999                    Direct    1.0    10-11-1969  43      0              .   \n",
       "\n",
       "     PRESENCE_OF_CHILDREN COMPUTER_OWNER  \n",
       "0                     NaN              N  \n",
       "1                     0.0              Y  \n",
       "2                     0.0              Y  \n",
       "3                     NaN              Y  \n",
       "4                     0.0              N  \n",
       "...                   ...            ...  \n",
       "9995                  1.0              N  \n",
       "9996                  1.0              Y  \n",
       "9997                  0.0            NaN  \n",
       "9998                  NaN            NaN  \n",
       "9999                  NaN              N  \n",
       "\n",
       "[10000 rows x 30 columns]"
      ]
     },
     "execution_count": 532,
     "metadata": {},
     "output_type": "execute_result"
    }
   ],
   "source": [
    "p2=pd.read_csv(\"C:\\\\Users\\\\kaust\\\\Desktop\\\\Telecom case study\\\\Case_study_data_churn.csv\")\n",
    "p2"
   ]
  },
  {
   "cell_type": "code",
   "execution_count": 533,
   "metadata": {},
   "outputs": [
    {
     "data": {
      "text/plain": [
       "Index(['SITE_ACCOUNT_NUMBER', 'ACCOUNT_STATUS', 'FIRST_COMMUNICATION_DATE',\n",
       "       'UPGRADE_DATE', 'SERVICE_ PLAN', 'MODEL', 'SALES_CHANNEL',\n",
       "       'DIRECT_INDIRECT_CHANNEL', 'SALES_SOURCE', 'COMPANY_SOURCE_NAME',\n",
       "       'FIRST_NAME', 'LAST_NAME', 'ADDRESS', 'CITY', 'STATE', 'ZIPCODE',\n",
       "       'EMAIL_ADDRESS', 'FEEDBACK', 'SATELLITE', 'SITE_TYPE_DESC',\n",
       "       'WARRANTY_NAME', 'MOST_RECENT_SALES_CHANNEL', 'GENDER', 'DATE_OF_BIRTH',\n",
       "       'AGE', 'INCOME', 'MARITAL_STATUS', 'PRESENCE_OF_CHILDREN',\n",
       "       'COMPUTER_OWNER'],\n",
       "      dtype='object')"
      ]
     },
     "execution_count": 533,
     "metadata": {},
     "output_type": "execute_result"
    }
   ],
   "source": [
    "p1.columns"
   ]
  },
  {
   "cell_type": "code",
   "execution_count": 534,
   "metadata": {},
   "outputs": [
    {
     "data": {
      "text/plain": [
       "Index(['SITE_ACCOUNT_NUMBER', 'ACCOUNT_STATUS', 'FIRST_COMMUNICATION_DATE',\n",
       "       'CHURN_DATE', 'UPGRADE_DATE', 'SERVICE_PLAN', 'MODEL', 'SALES_CHANNEL',\n",
       "       'DIRECT_INDIRECT_CHANNEL', 'SALES_SOURCE', 'COMPANY_SOURCE_NAME',\n",
       "       'FIRST_NAME', 'LAST_NAME', 'ADDRESS', 'CITY', 'STATE', 'ZIPCODE',\n",
       "       'EMAIL_ADDRESS', 'FEEDBACK', 'SATELLITE', 'SITE_TYPE_DESC',\n",
       "       'WARRANTY_NAME', 'MOST_RECENT_SALES_CHANNEL', 'GENDER', 'DATE_OF_BIRTH',\n",
       "       'AGE', 'INCOME', 'MARITAL_STATUS', 'PRESENCE_OF_CHILDREN',\n",
       "       'COMPUTER_OWNER'],\n",
       "      dtype='object')"
      ]
     },
     "execution_count": 534,
     "metadata": {},
     "output_type": "execute_result"
    }
   ],
   "source": [
    "p2.columns"
   ]
  },
  {
   "cell_type": "code",
   "execution_count": 535,
   "metadata": {},
   "outputs": [
    {
     "data": {
      "text/plain": [
       "SITE_ACCOUNT_NUMBER           object\n",
       "ACCOUNT_STATUS                object\n",
       "FIRST_COMMUNICATION_DATE      object\n",
       "UPGRADE_DATE                  object\n",
       "SERVICE_ PLAN                 object\n",
       "MODEL                         object\n",
       "SALES_CHANNEL                 object\n",
       "DIRECT_INDIRECT_CHANNEL       object\n",
       "SALES_SOURCE                  object\n",
       "COMPANY_SOURCE_NAME           object\n",
       "FIRST_NAME                    object\n",
       "LAST_NAME                     object\n",
       "ADDRESS                       object\n",
       "CITY                          object\n",
       "STATE                         object\n",
       "ZIPCODE                       object\n",
       "EMAIL_ADDRESS                 object\n",
       "FEEDBACK                      object\n",
       "SATELLITE                     object\n",
       "SITE_TYPE_DESC                object\n",
       "WARRANTY_NAME                 object\n",
       "MOST_RECENT_SALES_CHANNEL     object\n",
       "GENDER                       float64\n",
       "DATE_OF_BIRTH                 object\n",
       "AGE                           object\n",
       "INCOME                        object\n",
       "MARITAL_STATUS                object\n",
       "PRESENCE_OF_CHILDREN          object\n",
       "COMPUTER_OWNER                object\n",
       "dtype: object"
      ]
     },
     "execution_count": 535,
     "metadata": {},
     "output_type": "execute_result"
    }
   ],
   "source": [
    "p1.dtypes"
   ]
  },
  {
   "cell_type": "code",
   "execution_count": 719,
   "metadata": {},
   "outputs": [
    {
     "data": {
      "text/plain": [
       "SITE_ACCOUNT_NUMBER           object\n",
       "ACCOUNT_STATUS                object\n",
       "FIRST_COMMUNICATION_DATE      object\n",
       "CHURN_DATE                    object\n",
       "UPGRADE_DATE                  object\n",
       "SERVICE_PLAN                  object\n",
       "MODEL                         object\n",
       "SALES_CHANNEL                 object\n",
       "DIRECT_INDIRECT_CHANNEL       object\n",
       "SALES_SOURCE                  object\n",
       "COMPANY_SOURCE_NAME           object\n",
       "FIRST_NAME                    object\n",
       "LAST_NAME                     object\n",
       "ADDRESS                       object\n",
       "CITY                          object\n",
       "STATE                         object\n",
       "ZIPCODE                       object\n",
       "EMAIL_ADDRESS                 object\n",
       "FEEDBACK                      object\n",
       "SATELLITE                     object\n",
       "SITE_TYPE_DESC                object\n",
       "WARRANTY_NAME                 object\n",
       "MOST_RECENT_SALES_CHANNEL     object\n",
       "GENDER                       float64\n",
       "DATE_OF_BIRTH                 object\n",
       "AGE                           object\n",
       "INCOME                        object\n",
       "MARITAL_STATUS                object\n",
       "PRESENCE_OF_CHILDREN         float64\n",
       "COMPUTER_OWNER                object\n",
       "dtype: object"
      ]
     },
     "execution_count": 719,
     "metadata": {},
     "output_type": "execute_result"
    }
   ],
   "source": [
    "p2.dtypes"
   ]
  },
  {
   "cell_type": "code",
   "execution_count": null,
   "metadata": {},
   "outputs": [],
   "source": []
  },
  {
   "cell_type": "code",
   "execution_count": null,
   "metadata": {},
   "outputs": [],
   "source": []
  },
  {
   "cell_type": "code",
   "execution_count": null,
   "metadata": {},
   "outputs": [],
   "source": []
  },
  {
   "cell_type": "code",
   "execution_count": 536,
   "metadata": {},
   "outputs": [],
   "source": [
    "# FOR ACTIVE CUSTOMERS:--"
   ]
  },
  {
   "cell_type": "code",
   "execution_count": null,
   "metadata": {},
   "outputs": [],
   "source": []
  },
  {
   "cell_type": "code",
   "execution_count": 8,
   "metadata": {},
   "outputs": [],
   "source": [
    "## Percentage of Missing values--"
   ]
  },
  {
   "cell_type": "code",
   "execution_count": 537,
   "metadata": {},
   "outputs": [
    {
     "data": {
      "text/plain": [
       "COMPUTER_OWNER          30.546109\n",
       "SALES_CHANNEL           29.055811\n",
       "FEEDBACK                19.143829\n",
       "PRESENCE_OF_CHILDREN    13.032607\n",
       "GENDER                  12.712543\n",
       "SERVICE_ PLAN           12.382476\n",
       "WARRANTY_NAME            9.441888\n",
       "SALES_SOURCE             6.861372\n",
       "MODEL                    6.661332\n",
       "SATELLITE                3.840768\n",
       "dtype: float64"
      ]
     },
     "execution_count": 537,
     "metadata": {},
     "output_type": "execute_result"
    }
   ],
   "source": [
    "(p1.isnull().sum()*100/len(p1)).sort_values(ascending=False).head(10)"
   ]
  },
  {
   "cell_type": "code",
   "execution_count": 538,
   "metadata": {},
   "outputs": [],
   "source": [
    "p1=p1.drop([\"COMPUTER_OWNER\",\"SALES_CHANNEL\"],axis=1)"
   ]
  },
  {
   "cell_type": "code",
   "execution_count": 11,
   "metadata": {},
   "outputs": [],
   "source": [
    "# COMPUTER_OWNER and SALES_CHANNEL variables are being dropped as they have more than 25% missing values."
   ]
  },
  {
   "cell_type": "code",
   "execution_count": null,
   "metadata": {},
   "outputs": [],
   "source": []
  },
  {
   "cell_type": "code",
   "execution_count": null,
   "metadata": {},
   "outputs": [],
   "source": []
  },
  {
   "cell_type": "code",
   "execution_count": 539,
   "metadata": {},
   "outputs": [],
   "source": [
    "## NUMERICAL VARIABLES :"
   ]
  },
  {
   "cell_type": "code",
   "execution_count": 540,
   "metadata": {},
   "outputs": [],
   "source": [
    "# Taking Presence of Children, Marital status, Income, Age, Gender, Upgrade date and 1st communication date variables into\n",
    "# account"
   ]
  },
  {
   "cell_type": "code",
   "execution_count": 541,
   "metadata": {},
   "outputs": [],
   "source": [
    "# Missing Value Imputation--"
   ]
  },
  {
   "cell_type": "code",
   "execution_count": 542,
   "metadata": {},
   "outputs": [],
   "source": [
    "# Gender-->"
   ]
  },
  {
   "cell_type": "code",
   "execution_count": 543,
   "metadata": {},
   "outputs": [],
   "source": [
    "p1[\"GENDER\"]=p1[\"GENDER\"].fillna(0)  "
   ]
  },
  {
   "cell_type": "code",
   "execution_count": 544,
   "metadata": {},
   "outputs": [
    {
     "data": {
      "text/plain": [
       "0"
      ]
     },
     "execution_count": 544,
     "metadata": {},
     "output_type": "execute_result"
    }
   ],
   "source": [
    "p1[\"GENDER\"].isnull().sum()"
   ]
  },
  {
   "cell_type": "code",
   "execution_count": 545,
   "metadata": {},
   "outputs": [
    {
     "data": {
      "text/plain": [
       "1.0    4764\n",
       "2.0    3963\n",
       "0.0    1271\n",
       "Name: GENDER, dtype: int64"
      ]
     },
     "execution_count": 545,
     "metadata": {},
     "output_type": "execute_result"
    }
   ],
   "source": [
    "p1[\"GENDER\"].value_counts()"
   ]
  },
  {
   "cell_type": "code",
   "execution_count": 19,
   "metadata": {},
   "outputs": [],
   "source": [
    "# Presence of Children-->"
   ]
  },
  {
   "cell_type": "code",
   "execution_count": 546,
   "metadata": {},
   "outputs": [
    {
     "data": {
      "text/plain": [
       "0        6643\n",
       "1        2041\n",
       "#REF!      11\n",
       "Name: PRESENCE_OF_CHILDREN, dtype: int64"
      ]
     },
     "execution_count": 546,
     "metadata": {},
     "output_type": "execute_result"
    }
   ],
   "source": [
    "p1[\"PRESENCE_OF_CHILDREN\"].value_counts()"
   ]
  },
  {
   "cell_type": "code",
   "execution_count": 547,
   "metadata": {},
   "outputs": [],
   "source": [
    "p1.loc[p1.PRESENCE_OF_CHILDREN==\"#REF!\",\"PRESENCE_OF_CHILDREN\"]=2"
   ]
  },
  {
   "cell_type": "code",
   "execution_count": 548,
   "metadata": {},
   "outputs": [
    {
     "data": {
      "text/plain": [
       "1303"
      ]
     },
     "execution_count": 548,
     "metadata": {},
     "output_type": "execute_result"
    }
   ],
   "source": [
    "p1[\"PRESENCE_OF_CHILDREN\"].isnull().sum()"
   ]
  },
  {
   "cell_type": "code",
   "execution_count": 549,
   "metadata": {},
   "outputs": [],
   "source": [
    "p1[\"PRESENCE_OF_CHILDREN\"]=p1[\"PRESENCE_OF_CHILDREN\"].fillna(2)"
   ]
  },
  {
   "cell_type": "code",
   "execution_count": 550,
   "metadata": {},
   "outputs": [],
   "source": [
    "# Here replacing null values and #REF! with 2 indicates that we cannot tell about the presence of children"
   ]
  },
  {
   "cell_type": "code",
   "execution_count": 551,
   "metadata": {},
   "outputs": [
    {
     "data": {
      "text/plain": [
       "0"
      ]
     },
     "execution_count": 551,
     "metadata": {},
     "output_type": "execute_result"
    }
   ],
   "source": [
    "p1[\"PRESENCE_OF_CHILDREN\"].isnull().sum()"
   ]
  },
  {
   "cell_type": "code",
   "execution_count": 552,
   "metadata": {},
   "outputs": [],
   "source": [
    "p1[\"PRESENCE_OF_CHILDREN\"]=p1[\"PRESENCE_OF_CHILDREN\"].astype(int)"
   ]
  },
  {
   "cell_type": "code",
   "execution_count": 553,
   "metadata": {},
   "outputs": [],
   "source": [
    "# Marital Status-->"
   ]
  },
  {
   "cell_type": "code",
   "execution_count": 554,
   "metadata": {},
   "outputs": [
    {
     "data": {
      "text/plain": [
       "0        4654\n",
       "1        4510\n",
       "2         516\n",
       "#REF!      11\n",
       "Name: MARITAL_STATUS, dtype: int64"
      ]
     },
     "execution_count": 554,
     "metadata": {},
     "output_type": "execute_result"
    }
   ],
   "source": [
    "p1[\"MARITAL_STATUS\"].value_counts()"
   ]
  },
  {
   "cell_type": "code",
   "execution_count": 555,
   "metadata": {},
   "outputs": [],
   "source": [
    "p1.loc[p1.MARITAL_STATUS==\"#REF!\",\"MARITAL_STATUS\"]=3"
   ]
  },
  {
   "cell_type": "code",
   "execution_count": 556,
   "metadata": {},
   "outputs": [
    {
     "data": {
      "text/plain": [
       "307"
      ]
     },
     "execution_count": 556,
     "metadata": {},
     "output_type": "execute_result"
    }
   ],
   "source": [
    "p1[\"MARITAL_STATUS\"].isnull().sum()"
   ]
  },
  {
   "cell_type": "code",
   "execution_count": 557,
   "metadata": {},
   "outputs": [],
   "source": [
    "p1[\"MARITAL_STATUS\"]=p1[\"MARITAL_STATUS\"].fillna(3)"
   ]
  },
  {
   "cell_type": "code",
   "execution_count": 558,
   "metadata": {},
   "outputs": [],
   "source": [
    "# Here replacing null values and #REF! with 3 indicates that we cannot tell about the marital status of the person"
   ]
  },
  {
   "cell_type": "code",
   "execution_count": 559,
   "metadata": {},
   "outputs": [],
   "source": [
    "p1[\"MARITAL_STATUS\"]=p1[\"MARITAL_STATUS\"].astype(int)"
   ]
  },
  {
   "cell_type": "code",
   "execution_count": 560,
   "metadata": {},
   "outputs": [],
   "source": [
    "# Income-->"
   ]
  },
  {
   "cell_type": "code",
   "execution_count": 561,
   "metadata": {},
   "outputs": [
    {
     "data": {
      "text/plain": [
       "0        2734\n",
       "6        1545\n",
       "7        1015\n",
       "4         963\n",
       "5         876\n",
       "3         669\n",
       "8         597\n",
       "9         464\n",
       "A         193\n",
       "2         169\n",
       "D         158\n",
       "1         156\n",
       "C          99\n",
       "B          43\n",
       "#REF!      13\n",
       "Name: INCOME, dtype: int64"
      ]
     },
     "execution_count": 561,
     "metadata": {},
     "output_type": "execute_result"
    }
   ],
   "source": [
    "p1[\"INCOME\"].value_counts()"
   ]
  },
  {
   "cell_type": "code",
   "execution_count": 562,
   "metadata": {},
   "outputs": [
    {
     "data": {
      "text/plain": [
       "304"
      ]
     },
     "execution_count": 562,
     "metadata": {},
     "output_type": "execute_result"
    }
   ],
   "source": [
    "p1[\"INCOME\"].isnull().sum()"
   ]
  },
  {
   "cell_type": "code",
   "execution_count": 563,
   "metadata": {},
   "outputs": [],
   "source": [
    "p1.loc[p1.INCOME==\"#REF!\",\"INCOME\"]=15\n",
    "p1.loc[p1.INCOME==\"A\",\"INCOME\"]=11\n",
    "p1.loc[p1.INCOME==\"B\",\"INCOME\"]=12\n",
    "p1.loc[p1.INCOME==\"C\",\"INCOME\"]=13\n",
    "p1.loc[p1.INCOME==\"D\",\"INCOME\"]=14"
   ]
  },
  {
   "cell_type": "code",
   "execution_count": 564,
   "metadata": {},
   "outputs": [],
   "source": [
    "p1[\"INCOME\"]=p1[\"INCOME\"].fillna(15)"
   ]
  },
  {
   "cell_type": "code",
   "execution_count": 565,
   "metadata": {},
   "outputs": [],
   "source": [
    "# Here replacing null values and #REF! with 15 represents that we cannot tell about income of the person"
   ]
  },
  {
   "cell_type": "code",
   "execution_count": 567,
   "metadata": {},
   "outputs": [
    {
     "data": {
      "text/plain": [
       "0"
      ]
     },
     "execution_count": 567,
     "metadata": {},
     "output_type": "execute_result"
    }
   ],
   "source": [
    "p1[\"INCOME\"].isnull().sum()"
   ]
  },
  {
   "cell_type": "code",
   "execution_count": 568,
   "metadata": {},
   "outputs": [],
   "source": [
    "p1[\"INCOME\"]=p1[\"INCOME\"].astype(int)"
   ]
  },
  {
   "cell_type": "code",
   "execution_count": 569,
   "metadata": {},
   "outputs": [],
   "source": [
    "# Age-->"
   ]
  },
  {
   "cell_type": "code",
   "execution_count": 570,
   "metadata": {},
   "outputs": [
    {
     "data": {
      "text/plain": [
       "0"
      ]
     },
     "execution_count": 570,
     "metadata": {},
     "output_type": "execute_result"
    }
   ],
   "source": [
    "p1[\"AGE\"].isnull().sum()"
   ]
  },
  {
   "cell_type": "code",
   "execution_count": 571,
   "metadata": {},
   "outputs": [],
   "source": [
    "p1[p1[\"AGE\"]==\".\"]=0"
   ]
  },
  {
   "cell_type": "code",
   "execution_count": 572,
   "metadata": {},
   "outputs": [],
   "source": [
    "p1[\"AGE\"]=p1[\"AGE\"].fillna(0)"
   ]
  },
  {
   "cell_type": "code",
   "execution_count": 573,
   "metadata": {},
   "outputs": [
    {
     "data": {
      "text/plain": [
       "0"
      ]
     },
     "execution_count": 573,
     "metadata": {},
     "output_type": "execute_result"
    }
   ],
   "source": [
    "p1[\"AGE\"].isnull().sum()"
   ]
  },
  {
   "cell_type": "code",
   "execution_count": 574,
   "metadata": {},
   "outputs": [],
   "source": [
    "p1[\"AGE\"]=p1[\"AGE\"].astype(int)"
   ]
  },
  {
   "cell_type": "code",
   "execution_count": 575,
   "metadata": {},
   "outputs": [],
   "source": [
    "# First Communication Date-->"
   ]
  },
  {
   "cell_type": "code",
   "execution_count": 576,
   "metadata": {},
   "outputs": [
    {
     "data": {
      "text/plain": [
       "0"
      ]
     },
     "execution_count": 576,
     "metadata": {},
     "output_type": "execute_result"
    }
   ],
   "source": [
    "p1[\"FIRST_COMMUNICATION_DATE\"].isnull().sum()"
   ]
  },
  {
   "cell_type": "code",
   "execution_count": 577,
   "metadata": {},
   "outputs": [],
   "source": [
    "p1[\"FIRST_COMMUNICATION_DATE\"]=pd.to_datetime(p1[\"FIRST_COMMUNICATION_DATE\"],errors=\"coerce\")"
   ]
  },
  {
   "cell_type": "code",
   "execution_count": 578,
   "metadata": {},
   "outputs": [],
   "source": [
    "p1[\"FIRST_COMMUNICATION_DATE_Year\"]=pd.DatetimeIndex(p1[\"FIRST_COMMUNICATION_DATE\"]).year"
   ]
  },
  {
   "cell_type": "code",
   "execution_count": 579,
   "metadata": {},
   "outputs": [],
   "source": [
    "p1[\"FIRST_COMMUNICATION_DATE_Month\"]=pd.DatetimeIndex(p1[\"FIRST_COMMUNICATION_DATE\"]).month"
   ]
  },
  {
   "cell_type": "code",
   "execution_count": 580,
   "metadata": {},
   "outputs": [],
   "source": [
    "p1[\"FIRST_COMMUNICATION_DATE_Day\"]=pd.DatetimeIndex(p1[\"FIRST_COMMUNICATION_DATE\"]).day"
   ]
  },
  {
   "cell_type": "code",
   "execution_count": 581,
   "metadata": {},
   "outputs": [],
   "source": [
    "p1[\"FIRST_COMMUNICATION_DATE_Year\"]=p1[\"FIRST_COMMUNICATION_DATE_Year\"].fillna(0)"
   ]
  },
  {
   "cell_type": "code",
   "execution_count": 582,
   "metadata": {},
   "outputs": [],
   "source": [
    "p1[\"FIRST_COMMUNICATION_DATE_Month\"]=p1[\"FIRST_COMMUNICATION_DATE_Month\"].fillna(0)"
   ]
  },
  {
   "cell_type": "code",
   "execution_count": 583,
   "metadata": {},
   "outputs": [],
   "source": [
    "p1[\"FIRST_COMMUNICATION_DATE_Day\"]=p1[\"FIRST_COMMUNICATION_DATE_Day\"].fillna(0)"
   ]
  },
  {
   "cell_type": "code",
   "execution_count": 584,
   "metadata": {},
   "outputs": [
    {
     "data": {
      "text/plain": [
       "FIRST_COMMUNICATION_DATE_Year     0\n",
       "FIRST_COMMUNICATION_DATE_Month    0\n",
       "FIRST_COMMUNICATION_DATE_Day      0\n",
       "dtype: int64"
      ]
     },
     "execution_count": 584,
     "metadata": {},
     "output_type": "execute_result"
    }
   ],
   "source": [
    "p1[[\"FIRST_COMMUNICATION_DATE_Year\",\"FIRST_COMMUNICATION_DATE_Month\",\"FIRST_COMMUNICATION_DATE_Day\"]].isnull().sum()"
   ]
  },
  {
   "cell_type": "code",
   "execution_count": 585,
   "metadata": {},
   "outputs": [],
   "source": [
    "# Upgrade Date-->"
   ]
  },
  {
   "cell_type": "code",
   "execution_count": 586,
   "metadata": {},
   "outputs": [
    {
     "data": {
      "text/plain": [
       "0"
      ]
     },
     "execution_count": 586,
     "metadata": {},
     "output_type": "execute_result"
    }
   ],
   "source": [
    "p1[\"UPGRADE_DATE\"].isnull().sum()"
   ]
  },
  {
   "cell_type": "code",
   "execution_count": 587,
   "metadata": {},
   "outputs": [],
   "source": [
    "p1[\"UPGRADE_DATE\"]=pd.to_datetime(p1[\"UPGRADE_DATE\"],errors=\"coerce\")"
   ]
  },
  {
   "cell_type": "code",
   "execution_count": 588,
   "metadata": {},
   "outputs": [],
   "source": [
    "p1[\"UPGRADE_DATE_Year\"]=pd.DatetimeIndex(p1[\"UPGRADE_DATE\"]).year"
   ]
  },
  {
   "cell_type": "code",
   "execution_count": 589,
   "metadata": {},
   "outputs": [],
   "source": [
    "p1[\"UPGRADE_DATE_Month\"]=pd.DatetimeIndex(p1[\"UPGRADE_DATE\"]).month"
   ]
  },
  {
   "cell_type": "code",
   "execution_count": 590,
   "metadata": {},
   "outputs": [],
   "source": [
    "p1[\"UPGRADE_DATE_Day\"]=pd.DatetimeIndex(p1[\"UPGRADE_DATE\"]).day"
   ]
  },
  {
   "cell_type": "code",
   "execution_count": 591,
   "metadata": {},
   "outputs": [],
   "source": [
    "p1[\"UPGRADE_DATE_Year\"]=p1[\"UPGRADE_DATE_Year\"].fillna(0)"
   ]
  },
  {
   "cell_type": "code",
   "execution_count": 592,
   "metadata": {},
   "outputs": [],
   "source": [
    "p1[\"UPGRADE_DATE_Month\"]=p1[\"UPGRADE_DATE_Month\"].fillna(0)"
   ]
  },
  {
   "cell_type": "code",
   "execution_count": 593,
   "metadata": {},
   "outputs": [],
   "source": [
    "p1[\"UPGRADE_DATE_Day\"]=p1[\"UPGRADE_DATE_Day\"].fillna(0)"
   ]
  },
  {
   "cell_type": "code",
   "execution_count": 594,
   "metadata": {},
   "outputs": [
    {
     "data": {
      "text/plain": [
       "UPGRADE_DATE_Year     0\n",
       "UPGRADE_DATE_Month    0\n",
       "UPGRADE_DATE_Day      0\n",
       "dtype: int64"
      ]
     },
     "execution_count": 594,
     "metadata": {},
     "output_type": "execute_result"
    }
   ],
   "source": [
    "p1[[\"UPGRADE_DATE_Year\",\"UPGRADE_DATE_Month\",\"UPGRADE_DATE_Day\"]].isnull().sum()"
   ]
  },
  {
   "cell_type": "code",
   "execution_count": null,
   "metadata": {},
   "outputs": [],
   "source": []
  },
  {
   "cell_type": "code",
   "execution_count": null,
   "metadata": {},
   "outputs": [],
   "source": []
  },
  {
   "cell_type": "code",
   "execution_count": 596,
   "metadata": {},
   "outputs": [],
   "source": [
    "## CATEGORICAL VARIABLES :"
   ]
  },
  {
   "cell_type": "code",
   "execution_count": 597,
   "metadata": {},
   "outputs": [],
   "source": [
    "# Taking service plan, Most recent sales channel, Direct Indirect channel, sales source, company source name, state,\n",
    "# feedback, site type desc, model and satellite into account"
   ]
  },
  {
   "cell_type": "code",
   "execution_count": 598,
   "metadata": {},
   "outputs": [],
   "source": [
    "# Missing Value Imputation--"
   ]
  },
  {
   "cell_type": "code",
   "execution_count": 599,
   "metadata": {},
   "outputs": [],
   "source": [
    "p1['SERVICE_ PLAN']=p1['SERVICE_ PLAN'].fillna(\"Not Mentioned\")"
   ]
  },
  {
   "cell_type": "code",
   "execution_count": 600,
   "metadata": {},
   "outputs": [],
   "source": [
    "p1['MODEL']=p1['MODEL'].fillna(\"Not Mentioned\")"
   ]
  },
  {
   "cell_type": "code",
   "execution_count": 601,
   "metadata": {},
   "outputs": [],
   "source": [
    "p1['DIRECT_INDIRECT_CHANNEL']=p1['DIRECT_INDIRECT_CHANNEL'].fillna(\"Not Mentioned\")"
   ]
  },
  {
   "cell_type": "code",
   "execution_count": 602,
   "metadata": {},
   "outputs": [],
   "source": [
    "p1['SALES_SOURCE']=p1['SALES_SOURCE'].fillna(\"Not Mentioned\")"
   ]
  },
  {
   "cell_type": "code",
   "execution_count": 603,
   "metadata": {},
   "outputs": [],
   "source": [
    "p1['COMPANY_SOURCE_NAME']=p1['COMPANY_SOURCE_NAME'].fillna(\"Not Mentioned\")"
   ]
  },
  {
   "cell_type": "code",
   "execution_count": 604,
   "metadata": {},
   "outputs": [],
   "source": [
    "p1['SATELLITE']=p1['SATELLITE'].fillna(\"Not Mentioned\")"
   ]
  },
  {
   "cell_type": "code",
   "execution_count": 605,
   "metadata": {},
   "outputs": [],
   "source": [
    "p1[\"STATE\"]=p1[\"STATE\"].fillna(\"Not Mentioned\")"
   ]
  },
  {
   "cell_type": "code",
   "execution_count": 606,
   "metadata": {},
   "outputs": [],
   "source": [
    "p1[\"SITE_TYPE_DESC\"]=p1[\"SITE_TYPE_DESC\"].fillna(\"Not Mentioned\")"
   ]
  },
  {
   "cell_type": "code",
   "execution_count": 607,
   "metadata": {},
   "outputs": [],
   "source": [
    "p1[\"MOST_RECENT_SALES_CHANNEL\"]=p1[\"MOST_RECENT_SALES_CHANNEL\"].fillna(\"Not Mentioned\")"
   ]
  },
  {
   "cell_type": "code",
   "execution_count": 608,
   "metadata": {},
   "outputs": [],
   "source": [
    "p1['FEEDBACK']=p1['FEEDBACK'].fillna(\"Not Mentioned\")"
   ]
  },
  {
   "cell_type": "code",
   "execution_count": 609,
   "metadata": {},
   "outputs": [
    {
     "data": {
      "text/plain": [
       "SERVICE_ PLAN                0\n",
       "MODEL                        0\n",
       "DIRECT_INDIRECT_CHANNEL      0\n",
       "SALES_SOURCE                 0\n",
       "COMPANY_SOURCE_NAME          0\n",
       "FEEDBACK                     0\n",
       "SATELLITE                    0\n",
       "STATE                        0\n",
       "SITE_TYPE_DESC               0\n",
       "MOST_RECENT_SALES_CHANNEL    0\n",
       "dtype: int64"
      ]
     },
     "execution_count": 609,
     "metadata": {},
     "output_type": "execute_result"
    }
   ],
   "source": [
    "p1[['SERVICE_ PLAN', 'MODEL','DIRECT_INDIRECT_CHANNEL', 'SALES_SOURCE', 'COMPANY_SOURCE_NAME','FEEDBACK', \n",
    "    'SATELLITE',\"STATE\",\"SITE_TYPE_DESC\",\"MOST_RECENT_SALES_CHANNEL\"]].isnull().sum()"
   ]
  },
  {
   "cell_type": "code",
   "execution_count": null,
   "metadata": {},
   "outputs": [],
   "source": []
  },
  {
   "cell_type": "code",
   "execution_count": 610,
   "metadata": {},
   "outputs": [],
   "source": [
    "# Dummy creation for categorical variables--"
   ]
  },
  {
   "cell_type": "code",
   "execution_count": 611,
   "metadata": {},
   "outputs": [],
   "source": [
    "cat1=pd.get_dummies(p1['SERVICE_ PLAN'])"
   ]
  },
  {
   "cell_type": "code",
   "execution_count": 612,
   "metadata": {},
   "outputs": [],
   "source": [
    "cat1=cat1.add_prefix(\"Service_Plan_\")"
   ]
  },
  {
   "cell_type": "code",
   "execution_count": 613,
   "metadata": {},
   "outputs": [],
   "source": [
    "cat2=pd.get_dummies(p1['MODEL'])"
   ]
  },
  {
   "cell_type": "code",
   "execution_count": 614,
   "metadata": {},
   "outputs": [],
   "source": [
    "cat2=cat2.add_prefix(\"Model_\")"
   ]
  },
  {
   "cell_type": "code",
   "execution_count": 615,
   "metadata": {},
   "outputs": [],
   "source": [
    "cat3=pd.get_dummies(p1['DIRECT_INDIRECT_CHANNEL'])"
   ]
  },
  {
   "cell_type": "code",
   "execution_count": 616,
   "metadata": {},
   "outputs": [],
   "source": [
    "cat3=cat3.add_prefix(\"Direct_Indirect_Channel_\")"
   ]
  },
  {
   "cell_type": "code",
   "execution_count": 617,
   "metadata": {},
   "outputs": [],
   "source": [
    "cat4=pd.get_dummies(p1['SALES_SOURCE'])"
   ]
  },
  {
   "cell_type": "code",
   "execution_count": 618,
   "metadata": {},
   "outputs": [],
   "source": [
    "cat4=cat4.add_prefix(\"Sales_source_\")"
   ]
  },
  {
   "cell_type": "code",
   "execution_count": 619,
   "metadata": {},
   "outputs": [],
   "source": [
    "cat5=pd.get_dummies(p1['COMPANY_SOURCE_NAME'])"
   ]
  },
  {
   "cell_type": "code",
   "execution_count": 620,
   "metadata": {},
   "outputs": [],
   "source": [
    "cat5=cat5.add_prefix(\"Company_source_name\")"
   ]
  },
  {
   "cell_type": "code",
   "execution_count": 621,
   "metadata": {},
   "outputs": [],
   "source": [
    "cat6=pd.get_dummies(p1['SATELLITE'])"
   ]
  },
  {
   "cell_type": "code",
   "execution_count": 622,
   "metadata": {},
   "outputs": [],
   "source": [
    "cat6=cat6.add_prefix(\"Satellite\")"
   ]
  },
  {
   "cell_type": "code",
   "execution_count": 623,
   "metadata": {},
   "outputs": [],
   "source": [
    "cat7=pd.get_dummies(p1['STATE'])"
   ]
  },
  {
   "cell_type": "code",
   "execution_count": 624,
   "metadata": {},
   "outputs": [],
   "source": [
    "cat7=cat7.add_prefix(\"State_\")"
   ]
  },
  {
   "cell_type": "code",
   "execution_count": 625,
   "metadata": {},
   "outputs": [],
   "source": [
    "cat8=pd.get_dummies(p1['SITE_TYPE_DESC'])"
   ]
  },
  {
   "cell_type": "code",
   "execution_count": 626,
   "metadata": {},
   "outputs": [],
   "source": [
    "cat8=cat8.add_prefix(\"Site_Type_Desc_\")"
   ]
  },
  {
   "cell_type": "code",
   "execution_count": 627,
   "metadata": {},
   "outputs": [],
   "source": [
    "cat9=pd.get_dummies(p1['MOST_RECENT_SALES_CHANNEL'])"
   ]
  },
  {
   "cell_type": "code",
   "execution_count": 628,
   "metadata": {},
   "outputs": [],
   "source": [
    "cat9=cat9.add_prefix(\"Most_Recent_sales_channel_\")"
   ]
  },
  {
   "cell_type": "code",
   "execution_count": 629,
   "metadata": {},
   "outputs": [],
   "source": [
    "cat10=pd.get_dummies(p1['FEEDBACK'])"
   ]
  },
  {
   "cell_type": "code",
   "execution_count": 630,
   "metadata": {},
   "outputs": [],
   "source": [
    "cat10=cat10.add_prefix(\"Feedback_\")"
   ]
  },
  {
   "cell_type": "code",
   "execution_count": 631,
   "metadata": {},
   "outputs": [],
   "source": [
    "p1=p1.drop(['SERVICE_ PLAN', 'MODEL','DIRECT_INDIRECT_CHANNEL', 'SALES_SOURCE', 'COMPANY_SOURCE_NAME','FEEDBACK', \n",
    "    'SATELLITE',\"STATE\",\"SITE_TYPE_DESC\",\"MOST_RECENT_SALES_CHANNEL\"],axis=1)"
   ]
  },
  {
   "cell_type": "code",
   "execution_count": 632,
   "metadata": {},
   "outputs": [
    {
     "data": {
      "text/plain": [
       "Index(['SITE_ACCOUNT_NUMBER', 'ACCOUNT_STATUS', 'FIRST_COMMUNICATION_DATE',\n",
       "       'UPGRADE_DATE', 'FIRST_NAME', 'LAST_NAME', 'ADDRESS', 'CITY', 'ZIPCODE',\n",
       "       'EMAIL_ADDRESS', 'WARRANTY_NAME', 'GENDER', 'DATE_OF_BIRTH', 'AGE',\n",
       "       'INCOME', 'MARITAL_STATUS', 'PRESENCE_OF_CHILDREN',\n",
       "       'FIRST_COMMUNICATION_DATE_Year', 'FIRST_COMMUNICATION_DATE_Month',\n",
       "       'FIRST_COMMUNICATION_DATE_Day', 'UPGRADE_DATE_Year',\n",
       "       'UPGRADE_DATE_Month', 'UPGRADE_DATE_Day'],\n",
       "      dtype='object')"
      ]
     },
     "execution_count": 632,
     "metadata": {},
     "output_type": "execute_result"
    }
   ],
   "source": [
    "p1.columns"
   ]
  },
  {
   "cell_type": "code",
   "execution_count": null,
   "metadata": {},
   "outputs": [],
   "source": []
  },
  {
   "cell_type": "code",
   "execution_count": 633,
   "metadata": {},
   "outputs": [],
   "source": [
    "# Merging dummy categorical variables with the original dataset."
   ]
  },
  {
   "cell_type": "code",
   "execution_count": 634,
   "metadata": {},
   "outputs": [],
   "source": [
    "p1=pd.concat([p1,cat1,cat2,cat3,cat4,cat5,cat6,cat7,cat8,cat9,cat10],axis=1)"
   ]
  },
  {
   "cell_type": "code",
   "execution_count": 635,
   "metadata": {},
   "outputs": [
    {
     "data": {
      "text/html": [
       "<div>\n",
       "<style scoped>\n",
       "    .dataframe tbody tr th:only-of-type {\n",
       "        vertical-align: middle;\n",
       "    }\n",
       "\n",
       "    .dataframe tbody tr th {\n",
       "        vertical-align: top;\n",
       "    }\n",
       "\n",
       "    .dataframe thead th {\n",
       "        text-align: right;\n",
       "    }\n",
       "</style>\n",
       "<table border=\"1\" class=\"dataframe\">\n",
       "  <thead>\n",
       "    <tr style=\"text-align: right;\">\n",
       "      <th></th>\n",
       "      <th>SITE_ACCOUNT_NUMBER</th>\n",
       "      <th>ACCOUNT_STATUS</th>\n",
       "      <th>FIRST_COMMUNICATION_DATE</th>\n",
       "      <th>UPGRADE_DATE</th>\n",
       "      <th>FIRST_NAME</th>\n",
       "      <th>LAST_NAME</th>\n",
       "      <th>ADDRESS</th>\n",
       "      <th>CITY</th>\n",
       "      <th>ZIPCODE</th>\n",
       "      <th>EMAIL_ADDRESS</th>\n",
       "      <th>...</th>\n",
       "      <th>Most_Recent_sales_channel_National Sales</th>\n",
       "      <th>Most_Recent_sales_channel_Not Mentioned</th>\n",
       "      <th>Most_Recent_sales_channel_Retail</th>\n",
       "      <th>Most_Recent_sales_channel_Retail</th>\n",
       "      <th>Most_Recent_sales_channel_UNKNOWN</th>\n",
       "      <th>Most_Recent_sales_channel_Used Equipment</th>\n",
       "      <th>Feedback_0</th>\n",
       "      <th>Feedback_BAD</th>\n",
       "      <th>Feedback_GOOD</th>\n",
       "      <th>Feedback_Not Mentioned</th>\n",
       "    </tr>\n",
       "  </thead>\n",
       "  <tbody>\n",
       "    <tr>\n",
       "      <th>0</th>\n",
       "      <td>AMR-11112345</td>\n",
       "      <td>Active</td>\n",
       "      <td>2001-11-27</td>\n",
       "      <td>2003-12-14</td>\n",
       "      <td>Ace</td>\n",
       "      <td>FUTRELL</td>\n",
       "      <td>TRIPLE CANTHOOK LN 0 0 0</td>\n",
       "      <td>GERMANTOWN</td>\n",
       "      <td>20876</td>\n",
       "      <td>Ace.FUTRELL@hotmail.com</td>\n",
       "      <td>...</td>\n",
       "      <td>0</td>\n",
       "      <td>0</td>\n",
       "      <td>0</td>\n",
       "      <td>0</td>\n",
       "      <td>0</td>\n",
       "      <td>0</td>\n",
       "      <td>0</td>\n",
       "      <td>0</td>\n",
       "      <td>0</td>\n",
       "      <td>1</td>\n",
       "    </tr>\n",
       "    <tr>\n",
       "      <th>1</th>\n",
       "      <td>AMR-14837287</td>\n",
       "      <td>Active</td>\n",
       "      <td>2003-05-02</td>\n",
       "      <td>2006-08-08</td>\n",
       "      <td>Robert</td>\n",
       "      <td>Fitzpatrick</td>\n",
       "      <td>RR JOE 62 0 0 0</td>\n",
       "      <td>WEST BERLIN</td>\n",
       "      <td>8091</td>\n",
       "      <td>Robert.Fitzpatrick@hughes.net</td>\n",
       "      <td>...</td>\n",
       "      <td>0</td>\n",
       "      <td>0</td>\n",
       "      <td>0</td>\n",
       "      <td>1</td>\n",
       "      <td>0</td>\n",
       "      <td>0</td>\n",
       "      <td>0</td>\n",
       "      <td>0</td>\n",
       "      <td>1</td>\n",
       "      <td>0</td>\n",
       "    </tr>\n",
       "    <tr>\n",
       "      <th>2</th>\n",
       "      <td>AMR-14837803</td>\n",
       "      <td>Active</td>\n",
       "      <td>2001-01-28</td>\n",
       "      <td>2004-03-17</td>\n",
       "      <td>EDWARD</td>\n",
       "      <td>Vipperman</td>\n",
       "      <td>69330 1 RD WAY 0 0</td>\n",
       "      <td>MERRYVILLE</td>\n",
       "      <td>70653</td>\n",
       "      <td>EDWARD.Vipperman@rossaweb.net</td>\n",
       "      <td>...</td>\n",
       "      <td>1</td>\n",
       "      <td>0</td>\n",
       "      <td>0</td>\n",
       "      <td>0</td>\n",
       "      <td>0</td>\n",
       "      <td>0</td>\n",
       "      <td>0</td>\n",
       "      <td>1</td>\n",
       "      <td>0</td>\n",
       "      <td>0</td>\n",
       "    </tr>\n",
       "    <tr>\n",
       "      <th>3</th>\n",
       "      <td>AMR-14837821</td>\n",
       "      <td>Active</td>\n",
       "      <td>2001-11-20</td>\n",
       "      <td>2005-03-27</td>\n",
       "      <td>Dannya</td>\n",
       "      <td>Jyotinagaram</td>\n",
       "      <td>PO ROCK ST 421 0 0</td>\n",
       "      <td>ZANESVILLE</td>\n",
       "      <td>43701</td>\n",
       "      <td>Danny.Jyotinagaram@sipnsearch.com</td>\n",
       "      <td>...</td>\n",
       "      <td>0</td>\n",
       "      <td>0</td>\n",
       "      <td>0</td>\n",
       "      <td>0</td>\n",
       "      <td>0</td>\n",
       "      <td>0</td>\n",
       "      <td>0</td>\n",
       "      <td>0</td>\n",
       "      <td>0</td>\n",
       "      <td>1</td>\n",
       "    </tr>\n",
       "    <tr>\n",
       "      <th>4</th>\n",
       "      <td>AMR-14839297</td>\n",
       "      <td>Active</td>\n",
       "      <td>2002-02-27</td>\n",
       "      <td>2004-06-14</td>\n",
       "      <td>Joannea</td>\n",
       "      <td>BARNOSKY</td>\n",
       "      <td>626 NW RD 0 0 0</td>\n",
       "      <td>CALLICOON</td>\n",
       "      <td>12723</td>\n",
       "      <td>Joanne.BARNOSKY@geeksquad.com</td>\n",
       "      <td>...</td>\n",
       "      <td>0</td>\n",
       "      <td>0</td>\n",
       "      <td>0</td>\n",
       "      <td>0</td>\n",
       "      <td>0</td>\n",
       "      <td>0</td>\n",
       "      <td>0</td>\n",
       "      <td>0</td>\n",
       "      <td>1</td>\n",
       "      <td>0</td>\n",
       "    </tr>\n",
       "  </tbody>\n",
       "</table>\n",
       "<p>5 rows × 208 columns</p>\n",
       "</div>"
      ],
      "text/plain": [
       "  SITE_ACCOUNT_NUMBER ACCOUNT_STATUS FIRST_COMMUNICATION_DATE UPGRADE_DATE  \\\n",
       "0        AMR-11112345         Active               2001-11-27   2003-12-14   \n",
       "1        AMR-14837287         Active               2003-05-02   2006-08-08   \n",
       "2        AMR-14837803         Active               2001-01-28   2004-03-17   \n",
       "3        AMR-14837821         Active               2001-11-20   2005-03-27   \n",
       "4        AMR-14839297         Active               2002-02-27   2004-06-14   \n",
       "\n",
       "  FIRST_NAME     LAST_NAME                   ADDRESS         CITY ZIPCODE  \\\n",
       "0        Ace       FUTRELL  TRIPLE CANTHOOK LN 0 0 0   GERMANTOWN   20876   \n",
       "1     Robert   Fitzpatrick           RR JOE 62 0 0 0  WEST BERLIN    8091   \n",
       "2     EDWARD     Vipperman        69330 1 RD WAY 0 0   MERRYVILLE   70653   \n",
       "3     Dannya  Jyotinagaram        PO ROCK ST 421 0 0   ZANESVILLE   43701   \n",
       "4    Joannea      BARNOSKY           626 NW RD 0 0 0    CALLICOON   12723   \n",
       "\n",
       "                       EMAIL_ADDRESS  ...  \\\n",
       "0            Ace.FUTRELL@hotmail.com  ...   \n",
       "1      Robert.Fitzpatrick@hughes.net  ...   \n",
       "2      EDWARD.Vipperman@rossaweb.net  ...   \n",
       "3  Danny.Jyotinagaram@sipnsearch.com  ...   \n",
       "4      Joanne.BARNOSKY@geeksquad.com  ...   \n",
       "\n",
       "  Most_Recent_sales_channel_National Sales  \\\n",
       "0                                        0   \n",
       "1                                        0   \n",
       "2                                        1   \n",
       "3                                        0   \n",
       "4                                        0   \n",
       "\n",
       "   Most_Recent_sales_channel_Not Mentioned Most_Recent_sales_channel_Retail  \\\n",
       "0                                        0                                0   \n",
       "1                                        0                                0   \n",
       "2                                        0                                0   \n",
       "3                                        0                                0   \n",
       "4                                        0                                0   \n",
       "\n",
       "   Most_Recent_sales_channel_Retail         Most_Recent_sales_channel_UNKNOWN  \\\n",
       "0                                        0                                  0   \n",
       "1                                        1                                  0   \n",
       "2                                        0                                  0   \n",
       "3                                        0                                  0   \n",
       "4                                        0                                  0   \n",
       "\n",
       "   Most_Recent_sales_channel_Used Equipment  Feedback_0  Feedback_BAD  \\\n",
       "0                                         0           0             0   \n",
       "1                                         0           0             0   \n",
       "2                                         0           0             1   \n",
       "3                                         0           0             0   \n",
       "4                                         0           0             0   \n",
       "\n",
       "   Feedback_GOOD  Feedback_Not Mentioned  \n",
       "0              0                       1  \n",
       "1              1                       0  \n",
       "2              0                       0  \n",
       "3              0                       1  \n",
       "4              1                       0  \n",
       "\n",
       "[5 rows x 208 columns]"
      ]
     },
     "execution_count": 635,
     "metadata": {},
     "output_type": "execute_result"
    }
   ],
   "source": [
    "p1.head()"
   ]
  },
  {
   "cell_type": "code",
   "execution_count": null,
   "metadata": {},
   "outputs": [],
   "source": []
  },
  {
   "cell_type": "code",
   "execution_count": 636,
   "metadata": {},
   "outputs": [],
   "source": [
    "# Multi-Index Creation--"
   ]
  },
  {
   "cell_type": "code",
   "execution_count": 637,
   "metadata": {},
   "outputs": [],
   "source": [
    "p1[\"NAME\"]=p1['FIRST_NAME']+ +p1['LAST_NAME']"
   ]
  },
  {
   "cell_type": "code",
   "execution_count": 639,
   "metadata": {},
   "outputs": [],
   "source": [
    "p1=p1.set_index([\"SITE_ACCOUNT_NUMBER\",\"NAME\",\"EMAIL_ADDRESS\",\"CITY\"])"
   ]
  },
  {
   "cell_type": "code",
   "execution_count": 640,
   "metadata": {},
   "outputs": [],
   "source": [
    "p1_select=p1.select_dtypes([\"int32\",\"float\",\"uint8\",\"float64\"])"
   ]
  },
  {
   "cell_type": "code",
   "execution_count": 641,
   "metadata": {},
   "outputs": [
    {
     "data": {
      "text/html": [
       "<div>\n",
       "<style scoped>\n",
       "    .dataframe tbody tr th:only-of-type {\n",
       "        vertical-align: middle;\n",
       "    }\n",
       "\n",
       "    .dataframe tbody tr th {\n",
       "        vertical-align: top;\n",
       "    }\n",
       "\n",
       "    .dataframe thead th {\n",
       "        text-align: right;\n",
       "    }\n",
       "</style>\n",
       "<table border=\"1\" class=\"dataframe\">\n",
       "  <thead>\n",
       "    <tr style=\"text-align: right;\">\n",
       "      <th></th>\n",
       "      <th></th>\n",
       "      <th></th>\n",
       "      <th></th>\n",
       "      <th>GENDER</th>\n",
       "      <th>AGE</th>\n",
       "      <th>INCOME</th>\n",
       "      <th>MARITAL_STATUS</th>\n",
       "      <th>PRESENCE_OF_CHILDREN</th>\n",
       "      <th>FIRST_COMMUNICATION_DATE_Year</th>\n",
       "      <th>FIRST_COMMUNICATION_DATE_Month</th>\n",
       "      <th>FIRST_COMMUNICATION_DATE_Day</th>\n",
       "      <th>UPGRADE_DATE_Year</th>\n",
       "      <th>UPGRADE_DATE_Month</th>\n",
       "      <th>...</th>\n",
       "      <th>Most_Recent_sales_channel_National Sales</th>\n",
       "      <th>Most_Recent_sales_channel_Not Mentioned</th>\n",
       "      <th>Most_Recent_sales_channel_Retail</th>\n",
       "      <th>Most_Recent_sales_channel_Retail</th>\n",
       "      <th>Most_Recent_sales_channel_UNKNOWN</th>\n",
       "      <th>Most_Recent_sales_channel_Used Equipment</th>\n",
       "      <th>Feedback_0</th>\n",
       "      <th>Feedback_BAD</th>\n",
       "      <th>Feedback_GOOD</th>\n",
       "      <th>Feedback_Not Mentioned</th>\n",
       "    </tr>\n",
       "    <tr>\n",
       "      <th>SITE_ACCOUNT_NUMBER</th>\n",
       "      <th>NAME</th>\n",
       "      <th>EMAIL_ADDRESS</th>\n",
       "      <th>CITY</th>\n",
       "      <th></th>\n",
       "      <th></th>\n",
       "      <th></th>\n",
       "      <th></th>\n",
       "      <th></th>\n",
       "      <th></th>\n",
       "      <th></th>\n",
       "      <th></th>\n",
       "      <th></th>\n",
       "      <th></th>\n",
       "      <th></th>\n",
       "      <th></th>\n",
       "      <th></th>\n",
       "      <th></th>\n",
       "      <th></th>\n",
       "      <th></th>\n",
       "      <th></th>\n",
       "      <th></th>\n",
       "      <th></th>\n",
       "      <th></th>\n",
       "      <th></th>\n",
       "    </tr>\n",
       "  </thead>\n",
       "  <tbody>\n",
       "    <tr>\n",
       "      <th>AMR-11112345</th>\n",
       "      <th>AceFUTRELL</th>\n",
       "      <th>Ace.FUTRELL@hotmail.com</th>\n",
       "      <th>GERMANTOWN</th>\n",
       "      <td>2.0</td>\n",
       "      <td>69</td>\n",
       "      <td>0</td>\n",
       "      <td>1</td>\n",
       "      <td>0</td>\n",
       "      <td>2001.0</td>\n",
       "      <td>11.0</td>\n",
       "      <td>27.0</td>\n",
       "      <td>2003.0</td>\n",
       "      <td>12.0</td>\n",
       "      <td>...</td>\n",
       "      <td>0</td>\n",
       "      <td>0</td>\n",
       "      <td>0</td>\n",
       "      <td>0</td>\n",
       "      <td>0</td>\n",
       "      <td>0</td>\n",
       "      <td>0</td>\n",
       "      <td>0</td>\n",
       "      <td>0</td>\n",
       "      <td>1</td>\n",
       "    </tr>\n",
       "    <tr>\n",
       "      <th>AMR-14837287</th>\n",
       "      <th>RobertFitzpatrick</th>\n",
       "      <th>Robert.Fitzpatrick@hughes.net</th>\n",
       "      <th>WEST BERLIN</th>\n",
       "      <td>2.0</td>\n",
       "      <td>43</td>\n",
       "      <td>4</td>\n",
       "      <td>1</td>\n",
       "      <td>0</td>\n",
       "      <td>2003.0</td>\n",
       "      <td>5.0</td>\n",
       "      <td>2.0</td>\n",
       "      <td>2006.0</td>\n",
       "      <td>8.0</td>\n",
       "      <td>...</td>\n",
       "      <td>0</td>\n",
       "      <td>0</td>\n",
       "      <td>0</td>\n",
       "      <td>1</td>\n",
       "      <td>0</td>\n",
       "      <td>0</td>\n",
       "      <td>0</td>\n",
       "      <td>0</td>\n",
       "      <td>1</td>\n",
       "      <td>0</td>\n",
       "    </tr>\n",
       "    <tr>\n",
       "      <th>AMR-14837803</th>\n",
       "      <th>EDWARDVipperman</th>\n",
       "      <th>EDWARD.Vipperman@rossaweb.net</th>\n",
       "      <th>MERRYVILLE</th>\n",
       "      <td>2.0</td>\n",
       "      <td>58</td>\n",
       "      <td>4</td>\n",
       "      <td>1</td>\n",
       "      <td>0</td>\n",
       "      <td>2001.0</td>\n",
       "      <td>1.0</td>\n",
       "      <td>28.0</td>\n",
       "      <td>2004.0</td>\n",
       "      <td>3.0</td>\n",
       "      <td>...</td>\n",
       "      <td>1</td>\n",
       "      <td>0</td>\n",
       "      <td>0</td>\n",
       "      <td>0</td>\n",
       "      <td>0</td>\n",
       "      <td>0</td>\n",
       "      <td>0</td>\n",
       "      <td>1</td>\n",
       "      <td>0</td>\n",
       "      <td>0</td>\n",
       "    </tr>\n",
       "    <tr>\n",
       "      <th>AMR-14837821</th>\n",
       "      <th>DannyaJyotinagaram</th>\n",
       "      <th>Danny.Jyotinagaram@sipnsearch.com</th>\n",
       "      <th>ZANESVILLE</th>\n",
       "      <td>0.0</td>\n",
       "      <td>22</td>\n",
       "      <td>6</td>\n",
       "      <td>1</td>\n",
       "      <td>1</td>\n",
       "      <td>2001.0</td>\n",
       "      <td>11.0</td>\n",
       "      <td>20.0</td>\n",
       "      <td>2005.0</td>\n",
       "      <td>3.0</td>\n",
       "      <td>...</td>\n",
       "      <td>0</td>\n",
       "      <td>0</td>\n",
       "      <td>0</td>\n",
       "      <td>0</td>\n",
       "      <td>0</td>\n",
       "      <td>0</td>\n",
       "      <td>0</td>\n",
       "      <td>0</td>\n",
       "      <td>0</td>\n",
       "      <td>1</td>\n",
       "    </tr>\n",
       "    <tr>\n",
       "      <th>AMR-14839297</th>\n",
       "      <th>JoanneaBARNOSKY</th>\n",
       "      <th>Joanne.BARNOSKY@geeksquad.com</th>\n",
       "      <th>CALLICOON</th>\n",
       "      <td>1.0</td>\n",
       "      <td>36</td>\n",
       "      <td>7</td>\n",
       "      <td>0</td>\n",
       "      <td>0</td>\n",
       "      <td>2002.0</td>\n",
       "      <td>2.0</td>\n",
       "      <td>27.0</td>\n",
       "      <td>2004.0</td>\n",
       "      <td>6.0</td>\n",
       "      <td>...</td>\n",
       "      <td>0</td>\n",
       "      <td>0</td>\n",
       "      <td>0</td>\n",
       "      <td>0</td>\n",
       "      <td>0</td>\n",
       "      <td>0</td>\n",
       "      <td>0</td>\n",
       "      <td>0</td>\n",
       "      <td>1</td>\n",
       "      <td>0</td>\n",
       "    </tr>\n",
       "  </tbody>\n",
       "</table>\n",
       "<p>5 rows × 196 columns</p>\n",
       "</div>"
      ],
      "text/plain": [
       "                                                                                      GENDER  \\\n",
       "SITE_ACCOUNT_NUMBER NAME               EMAIL_ADDRESS                     CITY                  \n",
       "AMR-11112345        AceFUTRELL         Ace.FUTRELL@hotmail.com           GERMANTOWN      2.0   \n",
       "AMR-14837287        RobertFitzpatrick  Robert.Fitzpatrick@hughes.net     WEST BERLIN     2.0   \n",
       "AMR-14837803        EDWARDVipperman    EDWARD.Vipperman@rossaweb.net     MERRYVILLE      2.0   \n",
       "AMR-14837821        DannyaJyotinagaram Danny.Jyotinagaram@sipnsearch.com ZANESVILLE      0.0   \n",
       "AMR-14839297        JoanneaBARNOSKY    Joanne.BARNOSKY@geeksquad.com     CALLICOON       1.0   \n",
       "\n",
       "                                                                                      AGE  \\\n",
       "SITE_ACCOUNT_NUMBER NAME               EMAIL_ADDRESS                     CITY               \n",
       "AMR-11112345        AceFUTRELL         Ace.FUTRELL@hotmail.com           GERMANTOWN    69   \n",
       "AMR-14837287        RobertFitzpatrick  Robert.Fitzpatrick@hughes.net     WEST BERLIN   43   \n",
       "AMR-14837803        EDWARDVipperman    EDWARD.Vipperman@rossaweb.net     MERRYVILLE    58   \n",
       "AMR-14837821        DannyaJyotinagaram Danny.Jyotinagaram@sipnsearch.com ZANESVILLE    22   \n",
       "AMR-14839297        JoanneaBARNOSKY    Joanne.BARNOSKY@geeksquad.com     CALLICOON     36   \n",
       "\n",
       "                                                                                      INCOME  \\\n",
       "SITE_ACCOUNT_NUMBER NAME               EMAIL_ADDRESS                     CITY                  \n",
       "AMR-11112345        AceFUTRELL         Ace.FUTRELL@hotmail.com           GERMANTOWN        0   \n",
       "AMR-14837287        RobertFitzpatrick  Robert.Fitzpatrick@hughes.net     WEST BERLIN       4   \n",
       "AMR-14837803        EDWARDVipperman    EDWARD.Vipperman@rossaweb.net     MERRYVILLE        4   \n",
       "AMR-14837821        DannyaJyotinagaram Danny.Jyotinagaram@sipnsearch.com ZANESVILLE        6   \n",
       "AMR-14839297        JoanneaBARNOSKY    Joanne.BARNOSKY@geeksquad.com     CALLICOON         7   \n",
       "\n",
       "                                                                                      MARITAL_STATUS  \\\n",
       "SITE_ACCOUNT_NUMBER NAME               EMAIL_ADDRESS                     CITY                          \n",
       "AMR-11112345        AceFUTRELL         Ace.FUTRELL@hotmail.com           GERMANTOWN                1   \n",
       "AMR-14837287        RobertFitzpatrick  Robert.Fitzpatrick@hughes.net     WEST BERLIN               1   \n",
       "AMR-14837803        EDWARDVipperman    EDWARD.Vipperman@rossaweb.net     MERRYVILLE                1   \n",
       "AMR-14837821        DannyaJyotinagaram Danny.Jyotinagaram@sipnsearch.com ZANESVILLE                1   \n",
       "AMR-14839297        JoanneaBARNOSKY    Joanne.BARNOSKY@geeksquad.com     CALLICOON                 0   \n",
       "\n",
       "                                                                                      PRESENCE_OF_CHILDREN  \\\n",
       "SITE_ACCOUNT_NUMBER NAME               EMAIL_ADDRESS                     CITY                                \n",
       "AMR-11112345        AceFUTRELL         Ace.FUTRELL@hotmail.com           GERMANTOWN                      0   \n",
       "AMR-14837287        RobertFitzpatrick  Robert.Fitzpatrick@hughes.net     WEST BERLIN                     0   \n",
       "AMR-14837803        EDWARDVipperman    EDWARD.Vipperman@rossaweb.net     MERRYVILLE                      0   \n",
       "AMR-14837821        DannyaJyotinagaram Danny.Jyotinagaram@sipnsearch.com ZANESVILLE                      1   \n",
       "AMR-14839297        JoanneaBARNOSKY    Joanne.BARNOSKY@geeksquad.com     CALLICOON                       0   \n",
       "\n",
       "                                                                                      FIRST_COMMUNICATION_DATE_Year  \\\n",
       "SITE_ACCOUNT_NUMBER NAME               EMAIL_ADDRESS                     CITY                                         \n",
       "AMR-11112345        AceFUTRELL         Ace.FUTRELL@hotmail.com           GERMANTOWN                          2001.0   \n",
       "AMR-14837287        RobertFitzpatrick  Robert.Fitzpatrick@hughes.net     WEST BERLIN                         2003.0   \n",
       "AMR-14837803        EDWARDVipperman    EDWARD.Vipperman@rossaweb.net     MERRYVILLE                          2001.0   \n",
       "AMR-14837821        DannyaJyotinagaram Danny.Jyotinagaram@sipnsearch.com ZANESVILLE                          2001.0   \n",
       "AMR-14839297        JoanneaBARNOSKY    Joanne.BARNOSKY@geeksquad.com     CALLICOON                           2002.0   \n",
       "\n",
       "                                                                                      FIRST_COMMUNICATION_DATE_Month  \\\n",
       "SITE_ACCOUNT_NUMBER NAME               EMAIL_ADDRESS                     CITY                                          \n",
       "AMR-11112345        AceFUTRELL         Ace.FUTRELL@hotmail.com           GERMANTOWN                             11.0   \n",
       "AMR-14837287        RobertFitzpatrick  Robert.Fitzpatrick@hughes.net     WEST BERLIN                             5.0   \n",
       "AMR-14837803        EDWARDVipperman    EDWARD.Vipperman@rossaweb.net     MERRYVILLE                              1.0   \n",
       "AMR-14837821        DannyaJyotinagaram Danny.Jyotinagaram@sipnsearch.com ZANESVILLE                             11.0   \n",
       "AMR-14839297        JoanneaBARNOSKY    Joanne.BARNOSKY@geeksquad.com     CALLICOON                               2.0   \n",
       "\n",
       "                                                                                      FIRST_COMMUNICATION_DATE_Day  \\\n",
       "SITE_ACCOUNT_NUMBER NAME               EMAIL_ADDRESS                     CITY                                        \n",
       "AMR-11112345        AceFUTRELL         Ace.FUTRELL@hotmail.com           GERMANTOWN                           27.0   \n",
       "AMR-14837287        RobertFitzpatrick  Robert.Fitzpatrick@hughes.net     WEST BERLIN                           2.0   \n",
       "AMR-14837803        EDWARDVipperman    EDWARD.Vipperman@rossaweb.net     MERRYVILLE                           28.0   \n",
       "AMR-14837821        DannyaJyotinagaram Danny.Jyotinagaram@sipnsearch.com ZANESVILLE                           20.0   \n",
       "AMR-14839297        JoanneaBARNOSKY    Joanne.BARNOSKY@geeksquad.com     CALLICOON                            27.0   \n",
       "\n",
       "                                                                                      UPGRADE_DATE_Year  \\\n",
       "SITE_ACCOUNT_NUMBER NAME               EMAIL_ADDRESS                     CITY                             \n",
       "AMR-11112345        AceFUTRELL         Ace.FUTRELL@hotmail.com           GERMANTOWN              2003.0   \n",
       "AMR-14837287        RobertFitzpatrick  Robert.Fitzpatrick@hughes.net     WEST BERLIN             2006.0   \n",
       "AMR-14837803        EDWARDVipperman    EDWARD.Vipperman@rossaweb.net     MERRYVILLE              2004.0   \n",
       "AMR-14837821        DannyaJyotinagaram Danny.Jyotinagaram@sipnsearch.com ZANESVILLE              2005.0   \n",
       "AMR-14839297        JoanneaBARNOSKY    Joanne.BARNOSKY@geeksquad.com     CALLICOON               2004.0   \n",
       "\n",
       "                                                                                      UPGRADE_DATE_Month  \\\n",
       "SITE_ACCOUNT_NUMBER NAME               EMAIL_ADDRESS                     CITY                              \n",
       "AMR-11112345        AceFUTRELL         Ace.FUTRELL@hotmail.com           GERMANTOWN                 12.0   \n",
       "AMR-14837287        RobertFitzpatrick  Robert.Fitzpatrick@hughes.net     WEST BERLIN                 8.0   \n",
       "AMR-14837803        EDWARDVipperman    EDWARD.Vipperman@rossaweb.net     MERRYVILLE                  3.0   \n",
       "AMR-14837821        DannyaJyotinagaram Danny.Jyotinagaram@sipnsearch.com ZANESVILLE                  3.0   \n",
       "AMR-14839297        JoanneaBARNOSKY    Joanne.BARNOSKY@geeksquad.com     CALLICOON                   6.0   \n",
       "\n",
       "                                                                                      ...  \\\n",
       "SITE_ACCOUNT_NUMBER NAME               EMAIL_ADDRESS                     CITY         ...   \n",
       "AMR-11112345        AceFUTRELL         Ace.FUTRELL@hotmail.com           GERMANTOWN   ...   \n",
       "AMR-14837287        RobertFitzpatrick  Robert.Fitzpatrick@hughes.net     WEST BERLIN  ...   \n",
       "AMR-14837803        EDWARDVipperman    EDWARD.Vipperman@rossaweb.net     MERRYVILLE   ...   \n",
       "AMR-14837821        DannyaJyotinagaram Danny.Jyotinagaram@sipnsearch.com ZANESVILLE   ...   \n",
       "AMR-14839297        JoanneaBARNOSKY    Joanne.BARNOSKY@geeksquad.com     CALLICOON    ...   \n",
       "\n",
       "                                                                                      Most_Recent_sales_channel_National Sales  \\\n",
       "SITE_ACCOUNT_NUMBER NAME               EMAIL_ADDRESS                     CITY                                                    \n",
       "AMR-11112345        AceFUTRELL         Ace.FUTRELL@hotmail.com           GERMANTOWN                                          0   \n",
       "AMR-14837287        RobertFitzpatrick  Robert.Fitzpatrick@hughes.net     WEST BERLIN                                         0   \n",
       "AMR-14837803        EDWARDVipperman    EDWARD.Vipperman@rossaweb.net     MERRYVILLE                                          1   \n",
       "AMR-14837821        DannyaJyotinagaram Danny.Jyotinagaram@sipnsearch.com ZANESVILLE                                          0   \n",
       "AMR-14839297        JoanneaBARNOSKY    Joanne.BARNOSKY@geeksquad.com     CALLICOON                                           0   \n",
       "\n",
       "                                                                                      Most_Recent_sales_channel_Not Mentioned  \\\n",
       "SITE_ACCOUNT_NUMBER NAME               EMAIL_ADDRESS                     CITY                                                   \n",
       "AMR-11112345        AceFUTRELL         Ace.FUTRELL@hotmail.com           GERMANTOWN                                         0   \n",
       "AMR-14837287        RobertFitzpatrick  Robert.Fitzpatrick@hughes.net     WEST BERLIN                                        0   \n",
       "AMR-14837803        EDWARDVipperman    EDWARD.Vipperman@rossaweb.net     MERRYVILLE                                         0   \n",
       "AMR-14837821        DannyaJyotinagaram Danny.Jyotinagaram@sipnsearch.com ZANESVILLE                                         0   \n",
       "AMR-14839297        JoanneaBARNOSKY    Joanne.BARNOSKY@geeksquad.com     CALLICOON                                          0   \n",
       "\n",
       "                                                                                      Most_Recent_sales_channel_Retail  \\\n",
       "SITE_ACCOUNT_NUMBER NAME               EMAIL_ADDRESS                     CITY                                            \n",
       "AMR-11112345        AceFUTRELL         Ace.FUTRELL@hotmail.com           GERMANTOWN                                  0   \n",
       "AMR-14837287        RobertFitzpatrick  Robert.Fitzpatrick@hughes.net     WEST BERLIN                                 0   \n",
       "AMR-14837803        EDWARDVipperman    EDWARD.Vipperman@rossaweb.net     MERRYVILLE                                  0   \n",
       "AMR-14837821        DannyaJyotinagaram Danny.Jyotinagaram@sipnsearch.com ZANESVILLE                                  0   \n",
       "AMR-14839297        JoanneaBARNOSKY    Joanne.BARNOSKY@geeksquad.com     CALLICOON                                   0   \n",
       "\n",
       "                                                                                      Most_Recent_sales_channel_Retail         \\\n",
       "SITE_ACCOUNT_NUMBER NAME               EMAIL_ADDRESS                     CITY                                                   \n",
       "AMR-11112345        AceFUTRELL         Ace.FUTRELL@hotmail.com           GERMANTOWN                                         0   \n",
       "AMR-14837287        RobertFitzpatrick  Robert.Fitzpatrick@hughes.net     WEST BERLIN                                        1   \n",
       "AMR-14837803        EDWARDVipperman    EDWARD.Vipperman@rossaweb.net     MERRYVILLE                                         0   \n",
       "AMR-14837821        DannyaJyotinagaram Danny.Jyotinagaram@sipnsearch.com ZANESVILLE                                         0   \n",
       "AMR-14839297        JoanneaBARNOSKY    Joanne.BARNOSKY@geeksquad.com     CALLICOON                                          0   \n",
       "\n",
       "                                                                                      Most_Recent_sales_channel_UNKNOWN  \\\n",
       "SITE_ACCOUNT_NUMBER NAME               EMAIL_ADDRESS                     CITY                                             \n",
       "AMR-11112345        AceFUTRELL         Ace.FUTRELL@hotmail.com           GERMANTOWN                                   0   \n",
       "AMR-14837287        RobertFitzpatrick  Robert.Fitzpatrick@hughes.net     WEST BERLIN                                  0   \n",
       "AMR-14837803        EDWARDVipperman    EDWARD.Vipperman@rossaweb.net     MERRYVILLE                                   0   \n",
       "AMR-14837821        DannyaJyotinagaram Danny.Jyotinagaram@sipnsearch.com ZANESVILLE                                   0   \n",
       "AMR-14839297        JoanneaBARNOSKY    Joanne.BARNOSKY@geeksquad.com     CALLICOON                                    0   \n",
       "\n",
       "                                                                                      Most_Recent_sales_channel_Used Equipment  \\\n",
       "SITE_ACCOUNT_NUMBER NAME               EMAIL_ADDRESS                     CITY                                                    \n",
       "AMR-11112345        AceFUTRELL         Ace.FUTRELL@hotmail.com           GERMANTOWN                                          0   \n",
       "AMR-14837287        RobertFitzpatrick  Robert.Fitzpatrick@hughes.net     WEST BERLIN                                         0   \n",
       "AMR-14837803        EDWARDVipperman    EDWARD.Vipperman@rossaweb.net     MERRYVILLE                                          0   \n",
       "AMR-14837821        DannyaJyotinagaram Danny.Jyotinagaram@sipnsearch.com ZANESVILLE                                          0   \n",
       "AMR-14839297        JoanneaBARNOSKY    Joanne.BARNOSKY@geeksquad.com     CALLICOON                                           0   \n",
       "\n",
       "                                                                                      Feedback_0  \\\n",
       "SITE_ACCOUNT_NUMBER NAME               EMAIL_ADDRESS                     CITY                      \n",
       "AMR-11112345        AceFUTRELL         Ace.FUTRELL@hotmail.com           GERMANTOWN            0   \n",
       "AMR-14837287        RobertFitzpatrick  Robert.Fitzpatrick@hughes.net     WEST BERLIN           0   \n",
       "AMR-14837803        EDWARDVipperman    EDWARD.Vipperman@rossaweb.net     MERRYVILLE            0   \n",
       "AMR-14837821        DannyaJyotinagaram Danny.Jyotinagaram@sipnsearch.com ZANESVILLE            0   \n",
       "AMR-14839297        JoanneaBARNOSKY    Joanne.BARNOSKY@geeksquad.com     CALLICOON             0   \n",
       "\n",
       "                                                                                      Feedback_BAD  \\\n",
       "SITE_ACCOUNT_NUMBER NAME               EMAIL_ADDRESS                     CITY                        \n",
       "AMR-11112345        AceFUTRELL         Ace.FUTRELL@hotmail.com           GERMANTOWN              0   \n",
       "AMR-14837287        RobertFitzpatrick  Robert.Fitzpatrick@hughes.net     WEST BERLIN             0   \n",
       "AMR-14837803        EDWARDVipperman    EDWARD.Vipperman@rossaweb.net     MERRYVILLE              1   \n",
       "AMR-14837821        DannyaJyotinagaram Danny.Jyotinagaram@sipnsearch.com ZANESVILLE              0   \n",
       "AMR-14839297        JoanneaBARNOSKY    Joanne.BARNOSKY@geeksquad.com     CALLICOON               0   \n",
       "\n",
       "                                                                                      Feedback_GOOD  \\\n",
       "SITE_ACCOUNT_NUMBER NAME               EMAIL_ADDRESS                     CITY                         \n",
       "AMR-11112345        AceFUTRELL         Ace.FUTRELL@hotmail.com           GERMANTOWN               0   \n",
       "AMR-14837287        RobertFitzpatrick  Robert.Fitzpatrick@hughes.net     WEST BERLIN              1   \n",
       "AMR-14837803        EDWARDVipperman    EDWARD.Vipperman@rossaweb.net     MERRYVILLE               0   \n",
       "AMR-14837821        DannyaJyotinagaram Danny.Jyotinagaram@sipnsearch.com ZANESVILLE               0   \n",
       "AMR-14839297        JoanneaBARNOSKY    Joanne.BARNOSKY@geeksquad.com     CALLICOON                1   \n",
       "\n",
       "                                                                                      Feedback_Not Mentioned  \n",
       "SITE_ACCOUNT_NUMBER NAME               EMAIL_ADDRESS                     CITY                                 \n",
       "AMR-11112345        AceFUTRELL         Ace.FUTRELL@hotmail.com           GERMANTOWN                        1  \n",
       "AMR-14837287        RobertFitzpatrick  Robert.Fitzpatrick@hughes.net     WEST BERLIN                       0  \n",
       "AMR-14837803        EDWARDVipperman    EDWARD.Vipperman@rossaweb.net     MERRYVILLE                        0  \n",
       "AMR-14837821        DannyaJyotinagaram Danny.Jyotinagaram@sipnsearch.com ZANESVILLE                        1  \n",
       "AMR-14839297        JoanneaBARNOSKY    Joanne.BARNOSKY@geeksquad.com     CALLICOON                         0  \n",
       "\n",
       "[5 rows x 196 columns]"
      ]
     },
     "execution_count": 641,
     "metadata": {},
     "output_type": "execute_result"
    }
   ],
   "source": [
    "p1_select.head()"
   ]
  },
  {
   "cell_type": "code",
   "execution_count": null,
   "metadata": {},
   "outputs": [],
   "source": []
  },
  {
   "cell_type": "code",
   "execution_count": 642,
   "metadata": {},
   "outputs": [],
   "source": [
    "# Taking ACCOUNT_STATUS variable as dependent variable"
   ]
  },
  {
   "cell_type": "code",
   "execution_count": 643,
   "metadata": {},
   "outputs": [],
   "source": [
    "p1_select1=pd.concat([p1_select,p1[\"ACCOUNT_STATUS\"]],axis=1)"
   ]
  },
  {
   "cell_type": "code",
   "execution_count": 644,
   "metadata": {},
   "outputs": [],
   "source": [
    "p1_select1[\"ACCOUNT_STATUS\"]=np.where((p1_select1[\"ACCOUNT_STATUS\"]==\"Active\"),1,0)"
   ]
  },
  {
   "cell_type": "code",
   "execution_count": 645,
   "metadata": {},
   "outputs": [
    {
     "data": {
      "text/html": [
       "<div>\n",
       "<style scoped>\n",
       "    .dataframe tbody tr th:only-of-type {\n",
       "        vertical-align: middle;\n",
       "    }\n",
       "\n",
       "    .dataframe tbody tr th {\n",
       "        vertical-align: top;\n",
       "    }\n",
       "\n",
       "    .dataframe thead th {\n",
       "        text-align: right;\n",
       "    }\n",
       "</style>\n",
       "<table border=\"1\" class=\"dataframe\">\n",
       "  <thead>\n",
       "    <tr style=\"text-align: right;\">\n",
       "      <th></th>\n",
       "      <th></th>\n",
       "      <th></th>\n",
       "      <th></th>\n",
       "      <th>GENDER</th>\n",
       "      <th>AGE</th>\n",
       "      <th>INCOME</th>\n",
       "      <th>MARITAL_STATUS</th>\n",
       "      <th>PRESENCE_OF_CHILDREN</th>\n",
       "      <th>FIRST_COMMUNICATION_DATE_Year</th>\n",
       "      <th>FIRST_COMMUNICATION_DATE_Month</th>\n",
       "      <th>FIRST_COMMUNICATION_DATE_Day</th>\n",
       "      <th>UPGRADE_DATE_Year</th>\n",
       "      <th>UPGRADE_DATE_Month</th>\n",
       "      <th>...</th>\n",
       "      <th>Most_Recent_sales_channel_Not Mentioned</th>\n",
       "      <th>Most_Recent_sales_channel_Retail</th>\n",
       "      <th>Most_Recent_sales_channel_Retail</th>\n",
       "      <th>Most_Recent_sales_channel_UNKNOWN</th>\n",
       "      <th>Most_Recent_sales_channel_Used Equipment</th>\n",
       "      <th>Feedback_0</th>\n",
       "      <th>Feedback_BAD</th>\n",
       "      <th>Feedback_GOOD</th>\n",
       "      <th>Feedback_Not Mentioned</th>\n",
       "      <th>ACCOUNT_STATUS</th>\n",
       "    </tr>\n",
       "    <tr>\n",
       "      <th>SITE_ACCOUNT_NUMBER</th>\n",
       "      <th>NAME</th>\n",
       "      <th>EMAIL_ADDRESS</th>\n",
       "      <th>CITY</th>\n",
       "      <th></th>\n",
       "      <th></th>\n",
       "      <th></th>\n",
       "      <th></th>\n",
       "      <th></th>\n",
       "      <th></th>\n",
       "      <th></th>\n",
       "      <th></th>\n",
       "      <th></th>\n",
       "      <th></th>\n",
       "      <th></th>\n",
       "      <th></th>\n",
       "      <th></th>\n",
       "      <th></th>\n",
       "      <th></th>\n",
       "      <th></th>\n",
       "      <th></th>\n",
       "      <th></th>\n",
       "      <th></th>\n",
       "      <th></th>\n",
       "      <th></th>\n",
       "    </tr>\n",
       "  </thead>\n",
       "  <tbody>\n",
       "    <tr>\n",
       "      <th>AMR-11112345</th>\n",
       "      <th>AceFUTRELL</th>\n",
       "      <th>Ace.FUTRELL@hotmail.com</th>\n",
       "      <th>GERMANTOWN</th>\n",
       "      <td>2.0</td>\n",
       "      <td>69</td>\n",
       "      <td>0</td>\n",
       "      <td>1</td>\n",
       "      <td>0</td>\n",
       "      <td>2001.0</td>\n",
       "      <td>11.0</td>\n",
       "      <td>27.0</td>\n",
       "      <td>2003.0</td>\n",
       "      <td>12.0</td>\n",
       "      <td>...</td>\n",
       "      <td>0</td>\n",
       "      <td>0</td>\n",
       "      <td>0</td>\n",
       "      <td>0</td>\n",
       "      <td>0</td>\n",
       "      <td>0</td>\n",
       "      <td>0</td>\n",
       "      <td>0</td>\n",
       "      <td>1</td>\n",
       "      <td>1</td>\n",
       "    </tr>\n",
       "    <tr>\n",
       "      <th>AMR-14837287</th>\n",
       "      <th>RobertFitzpatrick</th>\n",
       "      <th>Robert.Fitzpatrick@hughes.net</th>\n",
       "      <th>WEST BERLIN</th>\n",
       "      <td>2.0</td>\n",
       "      <td>43</td>\n",
       "      <td>4</td>\n",
       "      <td>1</td>\n",
       "      <td>0</td>\n",
       "      <td>2003.0</td>\n",
       "      <td>5.0</td>\n",
       "      <td>2.0</td>\n",
       "      <td>2006.0</td>\n",
       "      <td>8.0</td>\n",
       "      <td>...</td>\n",
       "      <td>0</td>\n",
       "      <td>0</td>\n",
       "      <td>1</td>\n",
       "      <td>0</td>\n",
       "      <td>0</td>\n",
       "      <td>0</td>\n",
       "      <td>0</td>\n",
       "      <td>1</td>\n",
       "      <td>0</td>\n",
       "      <td>1</td>\n",
       "    </tr>\n",
       "    <tr>\n",
       "      <th>AMR-14837803</th>\n",
       "      <th>EDWARDVipperman</th>\n",
       "      <th>EDWARD.Vipperman@rossaweb.net</th>\n",
       "      <th>MERRYVILLE</th>\n",
       "      <td>2.0</td>\n",
       "      <td>58</td>\n",
       "      <td>4</td>\n",
       "      <td>1</td>\n",
       "      <td>0</td>\n",
       "      <td>2001.0</td>\n",
       "      <td>1.0</td>\n",
       "      <td>28.0</td>\n",
       "      <td>2004.0</td>\n",
       "      <td>3.0</td>\n",
       "      <td>...</td>\n",
       "      <td>0</td>\n",
       "      <td>0</td>\n",
       "      <td>0</td>\n",
       "      <td>0</td>\n",
       "      <td>0</td>\n",
       "      <td>0</td>\n",
       "      <td>1</td>\n",
       "      <td>0</td>\n",
       "      <td>0</td>\n",
       "      <td>1</td>\n",
       "    </tr>\n",
       "    <tr>\n",
       "      <th>AMR-14837821</th>\n",
       "      <th>DannyaJyotinagaram</th>\n",
       "      <th>Danny.Jyotinagaram@sipnsearch.com</th>\n",
       "      <th>ZANESVILLE</th>\n",
       "      <td>0.0</td>\n",
       "      <td>22</td>\n",
       "      <td>6</td>\n",
       "      <td>1</td>\n",
       "      <td>1</td>\n",
       "      <td>2001.0</td>\n",
       "      <td>11.0</td>\n",
       "      <td>20.0</td>\n",
       "      <td>2005.0</td>\n",
       "      <td>3.0</td>\n",
       "      <td>...</td>\n",
       "      <td>0</td>\n",
       "      <td>0</td>\n",
       "      <td>0</td>\n",
       "      <td>0</td>\n",
       "      <td>0</td>\n",
       "      <td>0</td>\n",
       "      <td>0</td>\n",
       "      <td>0</td>\n",
       "      <td>1</td>\n",
       "      <td>1</td>\n",
       "    </tr>\n",
       "    <tr>\n",
       "      <th>AMR-14839297</th>\n",
       "      <th>JoanneaBARNOSKY</th>\n",
       "      <th>Joanne.BARNOSKY@geeksquad.com</th>\n",
       "      <th>CALLICOON</th>\n",
       "      <td>1.0</td>\n",
       "      <td>36</td>\n",
       "      <td>7</td>\n",
       "      <td>0</td>\n",
       "      <td>0</td>\n",
       "      <td>2002.0</td>\n",
       "      <td>2.0</td>\n",
       "      <td>27.0</td>\n",
       "      <td>2004.0</td>\n",
       "      <td>6.0</td>\n",
       "      <td>...</td>\n",
       "      <td>0</td>\n",
       "      <td>0</td>\n",
       "      <td>0</td>\n",
       "      <td>0</td>\n",
       "      <td>0</td>\n",
       "      <td>0</td>\n",
       "      <td>0</td>\n",
       "      <td>1</td>\n",
       "      <td>0</td>\n",
       "      <td>1</td>\n",
       "    </tr>\n",
       "  </tbody>\n",
       "</table>\n",
       "<p>5 rows × 197 columns</p>\n",
       "</div>"
      ],
      "text/plain": [
       "                                                                                      GENDER  \\\n",
       "SITE_ACCOUNT_NUMBER NAME               EMAIL_ADDRESS                     CITY                  \n",
       "AMR-11112345        AceFUTRELL         Ace.FUTRELL@hotmail.com           GERMANTOWN      2.0   \n",
       "AMR-14837287        RobertFitzpatrick  Robert.Fitzpatrick@hughes.net     WEST BERLIN     2.0   \n",
       "AMR-14837803        EDWARDVipperman    EDWARD.Vipperman@rossaweb.net     MERRYVILLE      2.0   \n",
       "AMR-14837821        DannyaJyotinagaram Danny.Jyotinagaram@sipnsearch.com ZANESVILLE      0.0   \n",
       "AMR-14839297        JoanneaBARNOSKY    Joanne.BARNOSKY@geeksquad.com     CALLICOON       1.0   \n",
       "\n",
       "                                                                                      AGE  \\\n",
       "SITE_ACCOUNT_NUMBER NAME               EMAIL_ADDRESS                     CITY               \n",
       "AMR-11112345        AceFUTRELL         Ace.FUTRELL@hotmail.com           GERMANTOWN    69   \n",
       "AMR-14837287        RobertFitzpatrick  Robert.Fitzpatrick@hughes.net     WEST BERLIN   43   \n",
       "AMR-14837803        EDWARDVipperman    EDWARD.Vipperman@rossaweb.net     MERRYVILLE    58   \n",
       "AMR-14837821        DannyaJyotinagaram Danny.Jyotinagaram@sipnsearch.com ZANESVILLE    22   \n",
       "AMR-14839297        JoanneaBARNOSKY    Joanne.BARNOSKY@geeksquad.com     CALLICOON     36   \n",
       "\n",
       "                                                                                      INCOME  \\\n",
       "SITE_ACCOUNT_NUMBER NAME               EMAIL_ADDRESS                     CITY                  \n",
       "AMR-11112345        AceFUTRELL         Ace.FUTRELL@hotmail.com           GERMANTOWN        0   \n",
       "AMR-14837287        RobertFitzpatrick  Robert.Fitzpatrick@hughes.net     WEST BERLIN       4   \n",
       "AMR-14837803        EDWARDVipperman    EDWARD.Vipperman@rossaweb.net     MERRYVILLE        4   \n",
       "AMR-14837821        DannyaJyotinagaram Danny.Jyotinagaram@sipnsearch.com ZANESVILLE        6   \n",
       "AMR-14839297        JoanneaBARNOSKY    Joanne.BARNOSKY@geeksquad.com     CALLICOON         7   \n",
       "\n",
       "                                                                                      MARITAL_STATUS  \\\n",
       "SITE_ACCOUNT_NUMBER NAME               EMAIL_ADDRESS                     CITY                          \n",
       "AMR-11112345        AceFUTRELL         Ace.FUTRELL@hotmail.com           GERMANTOWN                1   \n",
       "AMR-14837287        RobertFitzpatrick  Robert.Fitzpatrick@hughes.net     WEST BERLIN               1   \n",
       "AMR-14837803        EDWARDVipperman    EDWARD.Vipperman@rossaweb.net     MERRYVILLE                1   \n",
       "AMR-14837821        DannyaJyotinagaram Danny.Jyotinagaram@sipnsearch.com ZANESVILLE                1   \n",
       "AMR-14839297        JoanneaBARNOSKY    Joanne.BARNOSKY@geeksquad.com     CALLICOON                 0   \n",
       "\n",
       "                                                                                      PRESENCE_OF_CHILDREN  \\\n",
       "SITE_ACCOUNT_NUMBER NAME               EMAIL_ADDRESS                     CITY                                \n",
       "AMR-11112345        AceFUTRELL         Ace.FUTRELL@hotmail.com           GERMANTOWN                      0   \n",
       "AMR-14837287        RobertFitzpatrick  Robert.Fitzpatrick@hughes.net     WEST BERLIN                     0   \n",
       "AMR-14837803        EDWARDVipperman    EDWARD.Vipperman@rossaweb.net     MERRYVILLE                      0   \n",
       "AMR-14837821        DannyaJyotinagaram Danny.Jyotinagaram@sipnsearch.com ZANESVILLE                      1   \n",
       "AMR-14839297        JoanneaBARNOSKY    Joanne.BARNOSKY@geeksquad.com     CALLICOON                       0   \n",
       "\n",
       "                                                                                      FIRST_COMMUNICATION_DATE_Year  \\\n",
       "SITE_ACCOUNT_NUMBER NAME               EMAIL_ADDRESS                     CITY                                         \n",
       "AMR-11112345        AceFUTRELL         Ace.FUTRELL@hotmail.com           GERMANTOWN                          2001.0   \n",
       "AMR-14837287        RobertFitzpatrick  Robert.Fitzpatrick@hughes.net     WEST BERLIN                         2003.0   \n",
       "AMR-14837803        EDWARDVipperman    EDWARD.Vipperman@rossaweb.net     MERRYVILLE                          2001.0   \n",
       "AMR-14837821        DannyaJyotinagaram Danny.Jyotinagaram@sipnsearch.com ZANESVILLE                          2001.0   \n",
       "AMR-14839297        JoanneaBARNOSKY    Joanne.BARNOSKY@geeksquad.com     CALLICOON                           2002.0   \n",
       "\n",
       "                                                                                      FIRST_COMMUNICATION_DATE_Month  \\\n",
       "SITE_ACCOUNT_NUMBER NAME               EMAIL_ADDRESS                     CITY                                          \n",
       "AMR-11112345        AceFUTRELL         Ace.FUTRELL@hotmail.com           GERMANTOWN                             11.0   \n",
       "AMR-14837287        RobertFitzpatrick  Robert.Fitzpatrick@hughes.net     WEST BERLIN                             5.0   \n",
       "AMR-14837803        EDWARDVipperman    EDWARD.Vipperman@rossaweb.net     MERRYVILLE                              1.0   \n",
       "AMR-14837821        DannyaJyotinagaram Danny.Jyotinagaram@sipnsearch.com ZANESVILLE                             11.0   \n",
       "AMR-14839297        JoanneaBARNOSKY    Joanne.BARNOSKY@geeksquad.com     CALLICOON                               2.0   \n",
       "\n",
       "                                                                                      FIRST_COMMUNICATION_DATE_Day  \\\n",
       "SITE_ACCOUNT_NUMBER NAME               EMAIL_ADDRESS                     CITY                                        \n",
       "AMR-11112345        AceFUTRELL         Ace.FUTRELL@hotmail.com           GERMANTOWN                           27.0   \n",
       "AMR-14837287        RobertFitzpatrick  Robert.Fitzpatrick@hughes.net     WEST BERLIN                           2.0   \n",
       "AMR-14837803        EDWARDVipperman    EDWARD.Vipperman@rossaweb.net     MERRYVILLE                           28.0   \n",
       "AMR-14837821        DannyaJyotinagaram Danny.Jyotinagaram@sipnsearch.com ZANESVILLE                           20.0   \n",
       "AMR-14839297        JoanneaBARNOSKY    Joanne.BARNOSKY@geeksquad.com     CALLICOON                            27.0   \n",
       "\n",
       "                                                                                      UPGRADE_DATE_Year  \\\n",
       "SITE_ACCOUNT_NUMBER NAME               EMAIL_ADDRESS                     CITY                             \n",
       "AMR-11112345        AceFUTRELL         Ace.FUTRELL@hotmail.com           GERMANTOWN              2003.0   \n",
       "AMR-14837287        RobertFitzpatrick  Robert.Fitzpatrick@hughes.net     WEST BERLIN             2006.0   \n",
       "AMR-14837803        EDWARDVipperman    EDWARD.Vipperman@rossaweb.net     MERRYVILLE              2004.0   \n",
       "AMR-14837821        DannyaJyotinagaram Danny.Jyotinagaram@sipnsearch.com ZANESVILLE              2005.0   \n",
       "AMR-14839297        JoanneaBARNOSKY    Joanne.BARNOSKY@geeksquad.com     CALLICOON               2004.0   \n",
       "\n",
       "                                                                                      UPGRADE_DATE_Month  \\\n",
       "SITE_ACCOUNT_NUMBER NAME               EMAIL_ADDRESS                     CITY                              \n",
       "AMR-11112345        AceFUTRELL         Ace.FUTRELL@hotmail.com           GERMANTOWN                 12.0   \n",
       "AMR-14837287        RobertFitzpatrick  Robert.Fitzpatrick@hughes.net     WEST BERLIN                 8.0   \n",
       "AMR-14837803        EDWARDVipperman    EDWARD.Vipperman@rossaweb.net     MERRYVILLE                  3.0   \n",
       "AMR-14837821        DannyaJyotinagaram Danny.Jyotinagaram@sipnsearch.com ZANESVILLE                  3.0   \n",
       "AMR-14839297        JoanneaBARNOSKY    Joanne.BARNOSKY@geeksquad.com     CALLICOON                   6.0   \n",
       "\n",
       "                                                                                      ...  \\\n",
       "SITE_ACCOUNT_NUMBER NAME               EMAIL_ADDRESS                     CITY         ...   \n",
       "AMR-11112345        AceFUTRELL         Ace.FUTRELL@hotmail.com           GERMANTOWN   ...   \n",
       "AMR-14837287        RobertFitzpatrick  Robert.Fitzpatrick@hughes.net     WEST BERLIN  ...   \n",
       "AMR-14837803        EDWARDVipperman    EDWARD.Vipperman@rossaweb.net     MERRYVILLE   ...   \n",
       "AMR-14837821        DannyaJyotinagaram Danny.Jyotinagaram@sipnsearch.com ZANESVILLE   ...   \n",
       "AMR-14839297        JoanneaBARNOSKY    Joanne.BARNOSKY@geeksquad.com     CALLICOON    ...   \n",
       "\n",
       "                                                                                      Most_Recent_sales_channel_Not Mentioned  \\\n",
       "SITE_ACCOUNT_NUMBER NAME               EMAIL_ADDRESS                     CITY                                                   \n",
       "AMR-11112345        AceFUTRELL         Ace.FUTRELL@hotmail.com           GERMANTOWN                                         0   \n",
       "AMR-14837287        RobertFitzpatrick  Robert.Fitzpatrick@hughes.net     WEST BERLIN                                        0   \n",
       "AMR-14837803        EDWARDVipperman    EDWARD.Vipperman@rossaweb.net     MERRYVILLE                                         0   \n",
       "AMR-14837821        DannyaJyotinagaram Danny.Jyotinagaram@sipnsearch.com ZANESVILLE                                         0   \n",
       "AMR-14839297        JoanneaBARNOSKY    Joanne.BARNOSKY@geeksquad.com     CALLICOON                                          0   \n",
       "\n",
       "                                                                                      Most_Recent_sales_channel_Retail  \\\n",
       "SITE_ACCOUNT_NUMBER NAME               EMAIL_ADDRESS                     CITY                                            \n",
       "AMR-11112345        AceFUTRELL         Ace.FUTRELL@hotmail.com           GERMANTOWN                                  0   \n",
       "AMR-14837287        RobertFitzpatrick  Robert.Fitzpatrick@hughes.net     WEST BERLIN                                 0   \n",
       "AMR-14837803        EDWARDVipperman    EDWARD.Vipperman@rossaweb.net     MERRYVILLE                                  0   \n",
       "AMR-14837821        DannyaJyotinagaram Danny.Jyotinagaram@sipnsearch.com ZANESVILLE                                  0   \n",
       "AMR-14839297        JoanneaBARNOSKY    Joanne.BARNOSKY@geeksquad.com     CALLICOON                                   0   \n",
       "\n",
       "                                                                                      Most_Recent_sales_channel_Retail         \\\n",
       "SITE_ACCOUNT_NUMBER NAME               EMAIL_ADDRESS                     CITY                                                   \n",
       "AMR-11112345        AceFUTRELL         Ace.FUTRELL@hotmail.com           GERMANTOWN                                         0   \n",
       "AMR-14837287        RobertFitzpatrick  Robert.Fitzpatrick@hughes.net     WEST BERLIN                                        1   \n",
       "AMR-14837803        EDWARDVipperman    EDWARD.Vipperman@rossaweb.net     MERRYVILLE                                         0   \n",
       "AMR-14837821        DannyaJyotinagaram Danny.Jyotinagaram@sipnsearch.com ZANESVILLE                                         0   \n",
       "AMR-14839297        JoanneaBARNOSKY    Joanne.BARNOSKY@geeksquad.com     CALLICOON                                          0   \n",
       "\n",
       "                                                                                      Most_Recent_sales_channel_UNKNOWN  \\\n",
       "SITE_ACCOUNT_NUMBER NAME               EMAIL_ADDRESS                     CITY                                             \n",
       "AMR-11112345        AceFUTRELL         Ace.FUTRELL@hotmail.com           GERMANTOWN                                   0   \n",
       "AMR-14837287        RobertFitzpatrick  Robert.Fitzpatrick@hughes.net     WEST BERLIN                                  0   \n",
       "AMR-14837803        EDWARDVipperman    EDWARD.Vipperman@rossaweb.net     MERRYVILLE                                   0   \n",
       "AMR-14837821        DannyaJyotinagaram Danny.Jyotinagaram@sipnsearch.com ZANESVILLE                                   0   \n",
       "AMR-14839297        JoanneaBARNOSKY    Joanne.BARNOSKY@geeksquad.com     CALLICOON                                    0   \n",
       "\n",
       "                                                                                      Most_Recent_sales_channel_Used Equipment  \\\n",
       "SITE_ACCOUNT_NUMBER NAME               EMAIL_ADDRESS                     CITY                                                    \n",
       "AMR-11112345        AceFUTRELL         Ace.FUTRELL@hotmail.com           GERMANTOWN                                          0   \n",
       "AMR-14837287        RobertFitzpatrick  Robert.Fitzpatrick@hughes.net     WEST BERLIN                                         0   \n",
       "AMR-14837803        EDWARDVipperman    EDWARD.Vipperman@rossaweb.net     MERRYVILLE                                          0   \n",
       "AMR-14837821        DannyaJyotinagaram Danny.Jyotinagaram@sipnsearch.com ZANESVILLE                                          0   \n",
       "AMR-14839297        JoanneaBARNOSKY    Joanne.BARNOSKY@geeksquad.com     CALLICOON                                           0   \n",
       "\n",
       "                                                                                      Feedback_0  \\\n",
       "SITE_ACCOUNT_NUMBER NAME               EMAIL_ADDRESS                     CITY                      \n",
       "AMR-11112345        AceFUTRELL         Ace.FUTRELL@hotmail.com           GERMANTOWN            0   \n",
       "AMR-14837287        RobertFitzpatrick  Robert.Fitzpatrick@hughes.net     WEST BERLIN           0   \n",
       "AMR-14837803        EDWARDVipperman    EDWARD.Vipperman@rossaweb.net     MERRYVILLE            0   \n",
       "AMR-14837821        DannyaJyotinagaram Danny.Jyotinagaram@sipnsearch.com ZANESVILLE            0   \n",
       "AMR-14839297        JoanneaBARNOSKY    Joanne.BARNOSKY@geeksquad.com     CALLICOON             0   \n",
       "\n",
       "                                                                                      Feedback_BAD  \\\n",
       "SITE_ACCOUNT_NUMBER NAME               EMAIL_ADDRESS                     CITY                        \n",
       "AMR-11112345        AceFUTRELL         Ace.FUTRELL@hotmail.com           GERMANTOWN              0   \n",
       "AMR-14837287        RobertFitzpatrick  Robert.Fitzpatrick@hughes.net     WEST BERLIN             0   \n",
       "AMR-14837803        EDWARDVipperman    EDWARD.Vipperman@rossaweb.net     MERRYVILLE              1   \n",
       "AMR-14837821        DannyaJyotinagaram Danny.Jyotinagaram@sipnsearch.com ZANESVILLE              0   \n",
       "AMR-14839297        JoanneaBARNOSKY    Joanne.BARNOSKY@geeksquad.com     CALLICOON               0   \n",
       "\n",
       "                                                                                      Feedback_GOOD  \\\n",
       "SITE_ACCOUNT_NUMBER NAME               EMAIL_ADDRESS                     CITY                         \n",
       "AMR-11112345        AceFUTRELL         Ace.FUTRELL@hotmail.com           GERMANTOWN               0   \n",
       "AMR-14837287        RobertFitzpatrick  Robert.Fitzpatrick@hughes.net     WEST BERLIN              1   \n",
       "AMR-14837803        EDWARDVipperman    EDWARD.Vipperman@rossaweb.net     MERRYVILLE               0   \n",
       "AMR-14837821        DannyaJyotinagaram Danny.Jyotinagaram@sipnsearch.com ZANESVILLE               0   \n",
       "AMR-14839297        JoanneaBARNOSKY    Joanne.BARNOSKY@geeksquad.com     CALLICOON                1   \n",
       "\n",
       "                                                                                      Feedback_Not Mentioned  \\\n",
       "SITE_ACCOUNT_NUMBER NAME               EMAIL_ADDRESS                     CITY                                  \n",
       "AMR-11112345        AceFUTRELL         Ace.FUTRELL@hotmail.com           GERMANTOWN                        1   \n",
       "AMR-14837287        RobertFitzpatrick  Robert.Fitzpatrick@hughes.net     WEST BERLIN                       0   \n",
       "AMR-14837803        EDWARDVipperman    EDWARD.Vipperman@rossaweb.net     MERRYVILLE                        0   \n",
       "AMR-14837821        DannyaJyotinagaram Danny.Jyotinagaram@sipnsearch.com ZANESVILLE                        1   \n",
       "AMR-14839297        JoanneaBARNOSKY    Joanne.BARNOSKY@geeksquad.com     CALLICOON                         0   \n",
       "\n",
       "                                                                                      ACCOUNT_STATUS  \n",
       "SITE_ACCOUNT_NUMBER NAME               EMAIL_ADDRESS                     CITY                         \n",
       "AMR-11112345        AceFUTRELL         Ace.FUTRELL@hotmail.com           GERMANTOWN                1  \n",
       "AMR-14837287        RobertFitzpatrick  Robert.Fitzpatrick@hughes.net     WEST BERLIN               1  \n",
       "AMR-14837803        EDWARDVipperman    EDWARD.Vipperman@rossaweb.net     MERRYVILLE                1  \n",
       "AMR-14837821        DannyaJyotinagaram Danny.Jyotinagaram@sipnsearch.com ZANESVILLE                1  \n",
       "AMR-14839297        JoanneaBARNOSKY    Joanne.BARNOSKY@geeksquad.com     CALLICOON                 1  \n",
       "\n",
       "[5 rows x 197 columns]"
      ]
     },
     "execution_count": 645,
     "metadata": {},
     "output_type": "execute_result"
    }
   ],
   "source": [
    "p1_select1.head()"
   ]
  },
  {
   "cell_type": "code",
   "execution_count": null,
   "metadata": {},
   "outputs": [],
   "source": []
  },
  {
   "cell_type": "code",
   "execution_count": null,
   "metadata": {},
   "outputs": [],
   "source": []
  },
  {
   "cell_type": "code",
   "execution_count": 646,
   "metadata": {},
   "outputs": [],
   "source": [
    "## FACTOR ANALYSIS:"
   ]
  },
  {
   "cell_type": "code",
   "execution_count": 647,
   "metadata": {},
   "outputs": [],
   "source": [
    "factor=FactorAnalysis(20).fit(p1_select1)"
   ]
  },
  {
   "cell_type": "code",
   "execution_count": 648,
   "metadata": {},
   "outputs": [],
   "source": [
    "F_analysis=pd.DataFrame(factor.components_,columns=p1_select1.columns)"
   ]
  },
  {
   "cell_type": "code",
   "execution_count": 649,
   "metadata": {},
   "outputs": [],
   "source": [
    "F_analysis=F_analysis.T"
   ]
  },
  {
   "cell_type": "code",
   "execution_count": 650,
   "metadata": {},
   "outputs": [],
   "source": [
    "F_analysis=F_analysis.add_prefix('Factor_')"
   ]
  },
  {
   "cell_type": "code",
   "execution_count": 651,
   "metadata": {},
   "outputs": [
    {
     "data": {
      "text/html": [
       "<div>\n",
       "<style scoped>\n",
       "    .dataframe tbody tr th:only-of-type {\n",
       "        vertical-align: middle;\n",
       "    }\n",
       "\n",
       "    .dataframe tbody tr th {\n",
       "        vertical-align: top;\n",
       "    }\n",
       "\n",
       "    .dataframe thead th {\n",
       "        text-align: right;\n",
       "    }\n",
       "</style>\n",
       "<table border=\"1\" class=\"dataframe\">\n",
       "  <thead>\n",
       "    <tr style=\"text-align: right;\">\n",
       "      <th></th>\n",
       "      <th>Factor_0</th>\n",
       "      <th>Factor_1</th>\n",
       "      <th>Factor_2</th>\n",
       "      <th>Factor_3</th>\n",
       "      <th>Factor_4</th>\n",
       "      <th>Factor_5</th>\n",
       "      <th>Factor_6</th>\n",
       "      <th>Factor_7</th>\n",
       "      <th>Factor_8</th>\n",
       "      <th>Factor_9</th>\n",
       "      <th>Factor_10</th>\n",
       "      <th>Factor_11</th>\n",
       "      <th>Factor_12</th>\n",
       "      <th>Factor_13</th>\n",
       "      <th>Factor_14</th>\n",
       "      <th>Factor_15</th>\n",
       "      <th>Factor_16</th>\n",
       "      <th>Factor_17</th>\n",
       "      <th>Factor_18</th>\n",
       "      <th>Factor_19</th>\n",
       "    </tr>\n",
       "  </thead>\n",
       "  <tbody>\n",
       "    <tr>\n",
       "      <th>GENDER</th>\n",
       "      <td>-0.204134</td>\n",
       "      <td>0.053953</td>\n",
       "      <td>0.020985</td>\n",
       "      <td>0.101438</td>\n",
       "      <td>0.017544</td>\n",
       "      <td>0.004416</td>\n",
       "      <td>-0.000497</td>\n",
       "      <td>0.006472</td>\n",
       "      <td>-0.001755</td>\n",
       "      <td>-0.011632</td>\n",
       "      <td>1.576808e-03</td>\n",
       "      <td>4.238755e-03</td>\n",
       "      <td>-2.249712e-03</td>\n",
       "      <td>9.732627e-03</td>\n",
       "      <td>-3.856711e-03</td>\n",
       "      <td>3.381058e-03</td>\n",
       "      <td>5.870738e-03</td>\n",
       "      <td>1.997663e-02</td>\n",
       "      <td>9.753167e-03</td>\n",
       "      <td>1.035332e-03</td>\n",
       "    </tr>\n",
       "    <tr>\n",
       "      <th>AGE</th>\n",
       "      <td>-7.100055</td>\n",
       "      <td>1.643508</td>\n",
       "      <td>0.422573</td>\n",
       "      <td>3.603167</td>\n",
       "      <td>0.232697</td>\n",
       "      <td>0.298739</td>\n",
       "      <td>0.081434</td>\n",
       "      <td>0.065355</td>\n",
       "      <td>-0.123334</td>\n",
       "      <td>0.227204</td>\n",
       "      <td>4.454160e-02</td>\n",
       "      <td>1.303494e+01</td>\n",
       "      <td>3.216438e+00</td>\n",
       "      <td>1.325638e-02</td>\n",
       "      <td>2.858149e-02</td>\n",
       "      <td>6.987956e-01</td>\n",
       "      <td>-1.151884e-02</td>\n",
       "      <td>-2.161638e-03</td>\n",
       "      <td>-1.655985e-02</td>\n",
       "      <td>7.027277e-03</td>\n",
       "    </tr>\n",
       "    <tr>\n",
       "      <th>INCOME</th>\n",
       "      <td>-0.684365</td>\n",
       "      <td>0.194100</td>\n",
       "      <td>0.026955</td>\n",
       "      <td>0.377147</td>\n",
       "      <td>0.108974</td>\n",
       "      <td>0.004501</td>\n",
       "      <td>0.039262</td>\n",
       "      <td>-0.045057</td>\n",
       "      <td>0.073619</td>\n",
       "      <td>0.009890</td>\n",
       "      <td>3.685294e-02</td>\n",
       "      <td>1.120488e-01</td>\n",
       "      <td>-6.315035e-02</td>\n",
       "      <td>-8.148467e-02</td>\n",
       "      <td>-2.687183e-02</td>\n",
       "      <td>-1.420199e-02</td>\n",
       "      <td>1.584327e+00</td>\n",
       "      <td>-1.446256e+00</td>\n",
       "      <td>2.515645e+00</td>\n",
       "      <td>-8.065546e-03</td>\n",
       "    </tr>\n",
       "    <tr>\n",
       "      <th>MARITAL_STATUS</th>\n",
       "      <td>-0.109989</td>\n",
       "      <td>0.028014</td>\n",
       "      <td>-0.000673</td>\n",
       "      <td>0.051471</td>\n",
       "      <td>0.008746</td>\n",
       "      <td>-0.003960</td>\n",
       "      <td>0.006473</td>\n",
       "      <td>-0.004590</td>\n",
       "      <td>0.001286</td>\n",
       "      <td>-0.001147</td>\n",
       "      <td>6.513084e-03</td>\n",
       "      <td>1.913557e-02</td>\n",
       "      <td>8.280811e-03</td>\n",
       "      <td>2.788419e-03</td>\n",
       "      <td>1.013339e-02</td>\n",
       "      <td>1.410560e-02</td>\n",
       "      <td>1.430467e-02</td>\n",
       "      <td>-4.890065e-03</td>\n",
       "      <td>4.478200e-03</td>\n",
       "      <td>2.348760e-02</td>\n",
       "    </tr>\n",
       "    <tr>\n",
       "      <th>PRESENCE_OF_CHILDREN</th>\n",
       "      <td>-0.070756</td>\n",
       "      <td>0.017541</td>\n",
       "      <td>0.006585</td>\n",
       "      <td>0.027232</td>\n",
       "      <td>0.005888</td>\n",
       "      <td>0.001810</td>\n",
       "      <td>-0.006492</td>\n",
       "      <td>-0.003881</td>\n",
       "      <td>-0.000252</td>\n",
       "      <td>-0.014433</td>\n",
       "      <td>2.081969e-02</td>\n",
       "      <td>-6.981415e-03</td>\n",
       "      <td>4.347058e-03</td>\n",
       "      <td>-6.551343e-03</td>\n",
       "      <td>-6.883844e-03</td>\n",
       "      <td>-5.796484e-03</td>\n",
       "      <td>4.732403e-03</td>\n",
       "      <td>3.144796e-03</td>\n",
       "      <td>2.206388e-03</td>\n",
       "      <td>8.666332e-03</td>\n",
       "    </tr>\n",
       "    <tr>\n",
       "      <th>...</th>\n",
       "      <td>...</td>\n",
       "      <td>...</td>\n",
       "      <td>...</td>\n",
       "      <td>...</td>\n",
       "      <td>...</td>\n",
       "      <td>...</td>\n",
       "      <td>...</td>\n",
       "      <td>...</td>\n",
       "      <td>...</td>\n",
       "      <td>...</td>\n",
       "      <td>...</td>\n",
       "      <td>...</td>\n",
       "      <td>...</td>\n",
       "      <td>...</td>\n",
       "      <td>...</td>\n",
       "      <td>...</td>\n",
       "      <td>...</td>\n",
       "      <td>...</td>\n",
       "      <td>...</td>\n",
       "      <td>...</td>\n",
       "    </tr>\n",
       "    <tr>\n",
       "      <th>Feedback_0</th>\n",
       "      <td>0.161986</td>\n",
       "      <td>-0.038872</td>\n",
       "      <td>-0.010005</td>\n",
       "      <td>-0.079455</td>\n",
       "      <td>-0.012579</td>\n",
       "      <td>-0.002791</td>\n",
       "      <td>-0.002616</td>\n",
       "      <td>-0.001379</td>\n",
       "      <td>-0.000960</td>\n",
       "      <td>0.000097</td>\n",
       "      <td>-1.251314e-09</td>\n",
       "      <td>4.550246e-11</td>\n",
       "      <td>1.635494e-11</td>\n",
       "      <td>1.165266e-11</td>\n",
       "      <td>6.045378e-12</td>\n",
       "      <td>6.869185e-12</td>\n",
       "      <td>1.755538e-12</td>\n",
       "      <td>1.105240e-12</td>\n",
       "      <td>1.298319e-12</td>\n",
       "      <td>-4.563361e-14</td>\n",
       "    </tr>\n",
       "    <tr>\n",
       "      <th>Feedback_BAD</th>\n",
       "      <td>0.031271</td>\n",
       "      <td>0.371249</td>\n",
       "      <td>-0.075695</td>\n",
       "      <td>0.062561</td>\n",
       "      <td>-0.244197</td>\n",
       "      <td>0.000950</td>\n",
       "      <td>0.000884</td>\n",
       "      <td>0.000440</td>\n",
       "      <td>0.000324</td>\n",
       "      <td>-0.000046</td>\n",
       "      <td>1.615635e-10</td>\n",
       "      <td>-1.851659e-11</td>\n",
       "      <td>-8.100754e-12</td>\n",
       "      <td>-3.509452e-12</td>\n",
       "      <td>-1.014747e-12</td>\n",
       "      <td>-2.852234e-12</td>\n",
       "      <td>-4.938978e-13</td>\n",
       "      <td>-2.280309e-13</td>\n",
       "      <td>-3.135771e-13</td>\n",
       "      <td>3.002788e-14</td>\n",
       "    </tr>\n",
       "    <tr>\n",
       "      <th>Feedback_GOOD</th>\n",
       "      <td>-0.200642</td>\n",
       "      <td>-0.426742</td>\n",
       "      <td>0.115008</td>\n",
       "      <td>0.021436</td>\n",
       "      <td>-0.117234</td>\n",
       "      <td>0.001003</td>\n",
       "      <td>0.000843</td>\n",
       "      <td>0.000449</td>\n",
       "      <td>0.000338</td>\n",
       "      <td>-0.000014</td>\n",
       "      <td>7.907591e-10</td>\n",
       "      <td>-1.711246e-11</td>\n",
       "      <td>-8.800491e-12</td>\n",
       "      <td>-3.541451e-12</td>\n",
       "      <td>-3.005254e-12</td>\n",
       "      <td>-2.670544e-12</td>\n",
       "      <td>-4.966345e-13</td>\n",
       "      <td>-7.259597e-13</td>\n",
       "      <td>-3.663520e-13</td>\n",
       "      <td>7.782380e-15</td>\n",
       "    </tr>\n",
       "    <tr>\n",
       "      <th>Feedback_Not Mentioned</th>\n",
       "      <td>0.007385</td>\n",
       "      <td>0.094365</td>\n",
       "      <td>-0.029308</td>\n",
       "      <td>-0.004542</td>\n",
       "      <td>0.374010</td>\n",
       "      <td>0.000838</td>\n",
       "      <td>0.000889</td>\n",
       "      <td>0.000489</td>\n",
       "      <td>0.000297</td>\n",
       "      <td>-0.000037</td>\n",
       "      <td>2.989913e-10</td>\n",
       "      <td>-9.873412e-12</td>\n",
       "      <td>5.463065e-13</td>\n",
       "      <td>-4.601751e-12</td>\n",
       "      <td>-2.025381e-12</td>\n",
       "      <td>-1.346405e-12</td>\n",
       "      <td>-7.650118e-13</td>\n",
       "      <td>-1.512408e-13</td>\n",
       "      <td>-6.183853e-13</td>\n",
       "      <td>7.825585e-15</td>\n",
       "    </tr>\n",
       "    <tr>\n",
       "      <th>ACCOUNT_STATUS</th>\n",
       "      <td>-0.161679</td>\n",
       "      <td>0.039051</td>\n",
       "      <td>0.010000</td>\n",
       "      <td>0.079661</td>\n",
       "      <td>0.012387</td>\n",
       "      <td>0.002839</td>\n",
       "      <td>0.002640</td>\n",
       "      <td>0.001398</td>\n",
       "      <td>0.000979</td>\n",
       "      <td>-0.000100</td>\n",
       "      <td>3.057145e-05</td>\n",
       "      <td>-1.082095e-03</td>\n",
       "      <td>-1.411584e-04</td>\n",
       "      <td>5.458388e-04</td>\n",
       "      <td>1.636857e-04</td>\n",
       "      <td>3.120989e-04</td>\n",
       "      <td>-2.339312e-04</td>\n",
       "      <td>3.726797e-04</td>\n",
       "      <td>-3.123505e-04</td>\n",
       "      <td>-5.704290e-04</td>\n",
       "    </tr>\n",
       "  </tbody>\n",
       "</table>\n",
       "<p>197 rows × 20 columns</p>\n",
       "</div>"
      ],
      "text/plain": [
       "                        Factor_0  Factor_1  Factor_2  Factor_3  Factor_4  \\\n",
       "GENDER                 -0.204134  0.053953  0.020985  0.101438  0.017544   \n",
       "AGE                    -7.100055  1.643508  0.422573  3.603167  0.232697   \n",
       "INCOME                 -0.684365  0.194100  0.026955  0.377147  0.108974   \n",
       "MARITAL_STATUS         -0.109989  0.028014 -0.000673  0.051471  0.008746   \n",
       "PRESENCE_OF_CHILDREN   -0.070756  0.017541  0.006585  0.027232  0.005888   \n",
       "...                          ...       ...       ...       ...       ...   \n",
       "Feedback_0              0.161986 -0.038872 -0.010005 -0.079455 -0.012579   \n",
       "Feedback_BAD            0.031271  0.371249 -0.075695  0.062561 -0.244197   \n",
       "Feedback_GOOD          -0.200642 -0.426742  0.115008  0.021436 -0.117234   \n",
       "Feedback_Not Mentioned  0.007385  0.094365 -0.029308 -0.004542  0.374010   \n",
       "ACCOUNT_STATUS         -0.161679  0.039051  0.010000  0.079661  0.012387   \n",
       "\n",
       "                        Factor_5  Factor_6  Factor_7  Factor_8  Factor_9  \\\n",
       "GENDER                  0.004416 -0.000497  0.006472 -0.001755 -0.011632   \n",
       "AGE                     0.298739  0.081434  0.065355 -0.123334  0.227204   \n",
       "INCOME                  0.004501  0.039262 -0.045057  0.073619  0.009890   \n",
       "MARITAL_STATUS         -0.003960  0.006473 -0.004590  0.001286 -0.001147   \n",
       "PRESENCE_OF_CHILDREN    0.001810 -0.006492 -0.003881 -0.000252 -0.014433   \n",
       "...                          ...       ...       ...       ...       ...   \n",
       "Feedback_0             -0.002791 -0.002616 -0.001379 -0.000960  0.000097   \n",
       "Feedback_BAD            0.000950  0.000884  0.000440  0.000324 -0.000046   \n",
       "Feedback_GOOD           0.001003  0.000843  0.000449  0.000338 -0.000014   \n",
       "Feedback_Not Mentioned  0.000838  0.000889  0.000489  0.000297 -0.000037   \n",
       "ACCOUNT_STATUS          0.002839  0.002640  0.001398  0.000979 -0.000100   \n",
       "\n",
       "                           Factor_10     Factor_11     Factor_12  \\\n",
       "GENDER                  1.576808e-03  4.238755e-03 -2.249712e-03   \n",
       "AGE                     4.454160e-02  1.303494e+01  3.216438e+00   \n",
       "INCOME                  3.685294e-02  1.120488e-01 -6.315035e-02   \n",
       "MARITAL_STATUS          6.513084e-03  1.913557e-02  8.280811e-03   \n",
       "PRESENCE_OF_CHILDREN    2.081969e-02 -6.981415e-03  4.347058e-03   \n",
       "...                              ...           ...           ...   \n",
       "Feedback_0             -1.251314e-09  4.550246e-11  1.635494e-11   \n",
       "Feedback_BAD            1.615635e-10 -1.851659e-11 -8.100754e-12   \n",
       "Feedback_GOOD           7.907591e-10 -1.711246e-11 -8.800491e-12   \n",
       "Feedback_Not Mentioned  2.989913e-10 -9.873412e-12  5.463065e-13   \n",
       "ACCOUNT_STATUS          3.057145e-05 -1.082095e-03 -1.411584e-04   \n",
       "\n",
       "                           Factor_13     Factor_14     Factor_15  \\\n",
       "GENDER                  9.732627e-03 -3.856711e-03  3.381058e-03   \n",
       "AGE                     1.325638e-02  2.858149e-02  6.987956e-01   \n",
       "INCOME                 -8.148467e-02 -2.687183e-02 -1.420199e-02   \n",
       "MARITAL_STATUS          2.788419e-03  1.013339e-02  1.410560e-02   \n",
       "PRESENCE_OF_CHILDREN   -6.551343e-03 -6.883844e-03 -5.796484e-03   \n",
       "...                              ...           ...           ...   \n",
       "Feedback_0              1.165266e-11  6.045378e-12  6.869185e-12   \n",
       "Feedback_BAD           -3.509452e-12 -1.014747e-12 -2.852234e-12   \n",
       "Feedback_GOOD          -3.541451e-12 -3.005254e-12 -2.670544e-12   \n",
       "Feedback_Not Mentioned -4.601751e-12 -2.025381e-12 -1.346405e-12   \n",
       "ACCOUNT_STATUS          5.458388e-04  1.636857e-04  3.120989e-04   \n",
       "\n",
       "                           Factor_16     Factor_17     Factor_18     Factor_19  \n",
       "GENDER                  5.870738e-03  1.997663e-02  9.753167e-03  1.035332e-03  \n",
       "AGE                    -1.151884e-02 -2.161638e-03 -1.655985e-02  7.027277e-03  \n",
       "INCOME                  1.584327e+00 -1.446256e+00  2.515645e+00 -8.065546e-03  \n",
       "MARITAL_STATUS          1.430467e-02 -4.890065e-03  4.478200e-03  2.348760e-02  \n",
       "PRESENCE_OF_CHILDREN    4.732403e-03  3.144796e-03  2.206388e-03  8.666332e-03  \n",
       "...                              ...           ...           ...           ...  \n",
       "Feedback_0              1.755538e-12  1.105240e-12  1.298319e-12 -4.563361e-14  \n",
       "Feedback_BAD           -4.938978e-13 -2.280309e-13 -3.135771e-13  3.002788e-14  \n",
       "Feedback_GOOD          -4.966345e-13 -7.259597e-13 -3.663520e-13  7.782380e-15  \n",
       "Feedback_Not Mentioned -7.650118e-13 -1.512408e-13 -6.183853e-13  7.825585e-15  \n",
       "ACCOUNT_STATUS         -2.339312e-04  3.726797e-04 -3.123505e-04 -5.704290e-04  \n",
       "\n",
       "[197 rows x 20 columns]"
      ]
     },
     "execution_count": 651,
     "metadata": {},
     "output_type": "execute_result"
    }
   ],
   "source": [
    "F_analysis"
   ]
  },
  {
   "cell_type": "code",
   "execution_count": null,
   "metadata": {},
   "outputs": [],
   "source": []
  },
  {
   "cell_type": "code",
   "execution_count": null,
   "metadata": {},
   "outputs": [],
   "source": []
  },
  {
   "cell_type": "code",
   "execution_count": 652,
   "metadata": {},
   "outputs": [],
   "source": [
    "# KMEANS CLUSTERING :"
   ]
  },
  {
   "cell_type": "code",
   "execution_count": 653,
   "metadata": {},
   "outputs": [],
   "source": [
    "sc=StandardScaler()"
   ]
  },
  {
   "cell_type": "code",
   "execution_count": 654,
   "metadata": {},
   "outputs": [],
   "source": [
    "scale=sc.fit_transform(p1_select1)"
   ]
  },
  {
   "cell_type": "code",
   "execution_count": 655,
   "metadata": {},
   "outputs": [],
   "source": [
    "km=KMeans(n_clusters=20)"
   ]
  },
  {
   "cell_type": "code",
   "execution_count": 656,
   "metadata": {},
   "outputs": [
    {
     "data": {
      "text/plain": [
       "KMeans(algorithm='auto', copy_x=True, init='k-means++', max_iter=300,\n",
       "    n_clusters=20, n_init=10, n_jobs=1, precompute_distances='auto',\n",
       "    random_state=None, tol=0.0001, verbose=0)"
      ]
     },
     "execution_count": 656,
     "metadata": {},
     "output_type": "execute_result"
    }
   ],
   "source": [
    "km.fit(scale)"
   ]
  },
  {
   "cell_type": "code",
   "execution_count": 657,
   "metadata": {},
   "outputs": [
    {
     "data": {
      "text/plain": [
       "17    2853\n",
       "0     1617\n",
       "2     1229\n",
       "11    1229\n",
       "4      623\n",
       "15     468\n",
       "5      372\n",
       "7      356\n",
       "6      233\n",
       "13     211\n",
       "1      194\n",
       "12     144\n",
       "10     136\n",
       "18     108\n",
       "14     105\n",
       "3       85\n",
       "19      13\n",
       "9       12\n",
       "16       9\n",
       "8        1\n",
       "dtype: int64"
      ]
     },
     "execution_count": 657,
     "metadata": {},
     "output_type": "execute_result"
    }
   ],
   "source": [
    "pd.Series(km.labels_).value_counts()"
   ]
  },
  {
   "cell_type": "code",
   "execution_count": 658,
   "metadata": {},
   "outputs": [],
   "source": [
    "pindex=p1_select1.reset_index()"
   ]
  },
  {
   "cell_type": "code",
   "execution_count": 659,
   "metadata": {},
   "outputs": [],
   "source": [
    "clusters=pd.concat([pindex, pd.Series(km.labels_, name='Clusters')], axis=1)"
   ]
  },
  {
   "cell_type": "code",
   "execution_count": 660,
   "metadata": {},
   "outputs": [
    {
     "data": {
      "text/html": [
       "<div>\n",
       "<style scoped>\n",
       "    .dataframe tbody tr th:only-of-type {\n",
       "        vertical-align: middle;\n",
       "    }\n",
       "\n",
       "    .dataframe tbody tr th {\n",
       "        vertical-align: top;\n",
       "    }\n",
       "\n",
       "    .dataframe thead th {\n",
       "        text-align: right;\n",
       "    }\n",
       "</style>\n",
       "<table border=\"1\" class=\"dataframe\">\n",
       "  <thead>\n",
       "    <tr style=\"text-align: right;\">\n",
       "      <th></th>\n",
       "      <th>SITE_ACCOUNT_NUMBER</th>\n",
       "      <th>NAME</th>\n",
       "      <th>EMAIL_ADDRESS</th>\n",
       "      <th>CITY</th>\n",
       "      <th>GENDER</th>\n",
       "      <th>AGE</th>\n",
       "      <th>INCOME</th>\n",
       "      <th>MARITAL_STATUS</th>\n",
       "      <th>PRESENCE_OF_CHILDREN</th>\n",
       "      <th>FIRST_COMMUNICATION_DATE_Year</th>\n",
       "      <th>...</th>\n",
       "      <th>Most_Recent_sales_channel_Retail</th>\n",
       "      <th>Most_Recent_sales_channel_Retail</th>\n",
       "      <th>Most_Recent_sales_channel_UNKNOWN</th>\n",
       "      <th>Most_Recent_sales_channel_Used Equipment</th>\n",
       "      <th>Feedback_0</th>\n",
       "      <th>Feedback_BAD</th>\n",
       "      <th>Feedback_GOOD</th>\n",
       "      <th>Feedback_Not Mentioned</th>\n",
       "      <th>ACCOUNT_STATUS</th>\n",
       "      <th>Clusters</th>\n",
       "    </tr>\n",
       "  </thead>\n",
       "  <tbody>\n",
       "    <tr>\n",
       "      <th>0</th>\n",
       "      <td>AMR-11112345</td>\n",
       "      <td>AceFUTRELL</td>\n",
       "      <td>Ace.FUTRELL@hotmail.com</td>\n",
       "      <td>GERMANTOWN</td>\n",
       "      <td>2.0</td>\n",
       "      <td>69</td>\n",
       "      <td>0</td>\n",
       "      <td>1</td>\n",
       "      <td>0</td>\n",
       "      <td>2001.0</td>\n",
       "      <td>...</td>\n",
       "      <td>0</td>\n",
       "      <td>0</td>\n",
       "      <td>0</td>\n",
       "      <td>0</td>\n",
       "      <td>0</td>\n",
       "      <td>0</td>\n",
       "      <td>0</td>\n",
       "      <td>1</td>\n",
       "      <td>1</td>\n",
       "      <td>17</td>\n",
       "    </tr>\n",
       "    <tr>\n",
       "      <th>1</th>\n",
       "      <td>AMR-14837287</td>\n",
       "      <td>RobertFitzpatrick</td>\n",
       "      <td>Robert.Fitzpatrick@hughes.net</td>\n",
       "      <td>WEST BERLIN</td>\n",
       "      <td>2.0</td>\n",
       "      <td>43</td>\n",
       "      <td>4</td>\n",
       "      <td>1</td>\n",
       "      <td>0</td>\n",
       "      <td>2003.0</td>\n",
       "      <td>...</td>\n",
       "      <td>0</td>\n",
       "      <td>1</td>\n",
       "      <td>0</td>\n",
       "      <td>0</td>\n",
       "      <td>0</td>\n",
       "      <td>0</td>\n",
       "      <td>1</td>\n",
       "      <td>0</td>\n",
       "      <td>1</td>\n",
       "      <td>3</td>\n",
       "    </tr>\n",
       "    <tr>\n",
       "      <th>2</th>\n",
       "      <td>AMR-14837803</td>\n",
       "      <td>EDWARDVipperman</td>\n",
       "      <td>EDWARD.Vipperman@rossaweb.net</td>\n",
       "      <td>MERRYVILLE</td>\n",
       "      <td>2.0</td>\n",
       "      <td>58</td>\n",
       "      <td>4</td>\n",
       "      <td>1</td>\n",
       "      <td>0</td>\n",
       "      <td>2001.0</td>\n",
       "      <td>...</td>\n",
       "      <td>0</td>\n",
       "      <td>0</td>\n",
       "      <td>0</td>\n",
       "      <td>0</td>\n",
       "      <td>0</td>\n",
       "      <td>1</td>\n",
       "      <td>0</td>\n",
       "      <td>0</td>\n",
       "      <td>1</td>\n",
       "      <td>12</td>\n",
       "    </tr>\n",
       "    <tr>\n",
       "      <th>3</th>\n",
       "      <td>AMR-14837821</td>\n",
       "      <td>DannyaJyotinagaram</td>\n",
       "      <td>Danny.Jyotinagaram@sipnsearch.com</td>\n",
       "      <td>ZANESVILLE</td>\n",
       "      <td>0.0</td>\n",
       "      <td>22</td>\n",
       "      <td>6</td>\n",
       "      <td>1</td>\n",
       "      <td>1</td>\n",
       "      <td>2001.0</td>\n",
       "      <td>...</td>\n",
       "      <td>0</td>\n",
       "      <td>0</td>\n",
       "      <td>0</td>\n",
       "      <td>0</td>\n",
       "      <td>0</td>\n",
       "      <td>0</td>\n",
       "      <td>0</td>\n",
       "      <td>1</td>\n",
       "      <td>1</td>\n",
       "      <td>6</td>\n",
       "    </tr>\n",
       "    <tr>\n",
       "      <th>4</th>\n",
       "      <td>AMR-14839297</td>\n",
       "      <td>JoanneaBARNOSKY</td>\n",
       "      <td>Joanne.BARNOSKY@geeksquad.com</td>\n",
       "      <td>CALLICOON</td>\n",
       "      <td>1.0</td>\n",
       "      <td>36</td>\n",
       "      <td>7</td>\n",
       "      <td>0</td>\n",
       "      <td>0</td>\n",
       "      <td>2002.0</td>\n",
       "      <td>...</td>\n",
       "      <td>0</td>\n",
       "      <td>0</td>\n",
       "      <td>0</td>\n",
       "      <td>0</td>\n",
       "      <td>0</td>\n",
       "      <td>0</td>\n",
       "      <td>1</td>\n",
       "      <td>0</td>\n",
       "      <td>1</td>\n",
       "      <td>17</td>\n",
       "    </tr>\n",
       "    <tr>\n",
       "      <th>...</th>\n",
       "      <td>...</td>\n",
       "      <td>...</td>\n",
       "      <td>...</td>\n",
       "      <td>...</td>\n",
       "      <td>...</td>\n",
       "      <td>...</td>\n",
       "      <td>...</td>\n",
       "      <td>...</td>\n",
       "      <td>...</td>\n",
       "      <td>...</td>\n",
       "      <td>...</td>\n",
       "      <td>...</td>\n",
       "      <td>...</td>\n",
       "      <td>...</td>\n",
       "      <td>...</td>\n",
       "      <td>...</td>\n",
       "      <td>...</td>\n",
       "      <td>...</td>\n",
       "      <td>...</td>\n",
       "      <td>...</td>\n",
       "      <td>...</td>\n",
       "    </tr>\n",
       "    <tr>\n",
       "      <th>9993</th>\n",
       "      <td>AMR-49996971</td>\n",
       "      <td>DarnaSHAUERS</td>\n",
       "      <td>Darna.SHAUERS@compuserve.com</td>\n",
       "      <td>PONTOTOC</td>\n",
       "      <td>0.0</td>\n",
       "      <td>32</td>\n",
       "      <td>4</td>\n",
       "      <td>0</td>\n",
       "      <td>2</td>\n",
       "      <td>2001.0</td>\n",
       "      <td>...</td>\n",
       "      <td>0</td>\n",
       "      <td>0</td>\n",
       "      <td>0</td>\n",
       "      <td>0</td>\n",
       "      <td>0</td>\n",
       "      <td>0</td>\n",
       "      <td>1</td>\n",
       "      <td>0</td>\n",
       "      <td>1</td>\n",
       "      <td>1</td>\n",
       "    </tr>\n",
       "    <tr>\n",
       "      <th>9994</th>\n",
       "      <td>AMR-49997196</td>\n",
       "      <td>PhillipWright</td>\n",
       "      <td>Phillip.Wright@gmail.com</td>\n",
       "      <td>CABAZON</td>\n",
       "      <td>1.0</td>\n",
       "      <td>39</td>\n",
       "      <td>4</td>\n",
       "      <td>0</td>\n",
       "      <td>0</td>\n",
       "      <td>2002.0</td>\n",
       "      <td>...</td>\n",
       "      <td>0</td>\n",
       "      <td>0</td>\n",
       "      <td>0</td>\n",
       "      <td>0</td>\n",
       "      <td>0</td>\n",
       "      <td>0</td>\n",
       "      <td>1</td>\n",
       "      <td>0</td>\n",
       "      <td>1</td>\n",
       "      <td>0</td>\n",
       "    </tr>\n",
       "    <tr>\n",
       "      <th>9995</th>\n",
       "      <td>0</td>\n",
       "      <td>0</td>\n",
       "      <td>0</td>\n",
       "      <td>0</td>\n",
       "      <td>0.0</td>\n",
       "      <td>0</td>\n",
       "      <td>0</td>\n",
       "      <td>0</td>\n",
       "      <td>0</td>\n",
       "      <td>1970.0</td>\n",
       "      <td>...</td>\n",
       "      <td>0</td>\n",
       "      <td>0</td>\n",
       "      <td>0</td>\n",
       "      <td>0</td>\n",
       "      <td>1</td>\n",
       "      <td>0</td>\n",
       "      <td>0</td>\n",
       "      <td>0</td>\n",
       "      <td>0</td>\n",
       "      <td>7</td>\n",
       "    </tr>\n",
       "    <tr>\n",
       "      <th>9996</th>\n",
       "      <td>AMR-49998608</td>\n",
       "      <td>EricaRitton</td>\n",
       "      <td>Eric.Ritton@compuserve.com</td>\n",
       "      <td>BOSTON</td>\n",
       "      <td>2.0</td>\n",
       "      <td>33</td>\n",
       "      <td>5</td>\n",
       "      <td>1</td>\n",
       "      <td>0</td>\n",
       "      <td>2002.0</td>\n",
       "      <td>...</td>\n",
       "      <td>0</td>\n",
       "      <td>0</td>\n",
       "      <td>0</td>\n",
       "      <td>0</td>\n",
       "      <td>0</td>\n",
       "      <td>1</td>\n",
       "      <td>0</td>\n",
       "      <td>0</td>\n",
       "      <td>1</td>\n",
       "      <td>4</td>\n",
       "    </tr>\n",
       "    <tr>\n",
       "      <th>9997</th>\n",
       "      <td>AMR-49999972</td>\n",
       "      <td>GUSTAVMajors</td>\n",
       "      <td>GUSTAV.Majors@aol.com</td>\n",
       "      <td>VACAVILLE</td>\n",
       "      <td>1.0</td>\n",
       "      <td>65</td>\n",
       "      <td>0</td>\n",
       "      <td>1</td>\n",
       "      <td>1</td>\n",
       "      <td>2001.0</td>\n",
       "      <td>...</td>\n",
       "      <td>0</td>\n",
       "      <td>0</td>\n",
       "      <td>0</td>\n",
       "      <td>0</td>\n",
       "      <td>0</td>\n",
       "      <td>0</td>\n",
       "      <td>0</td>\n",
       "      <td>1</td>\n",
       "      <td>1</td>\n",
       "      <td>15</td>\n",
       "    </tr>\n",
       "  </tbody>\n",
       "</table>\n",
       "<p>9998 rows × 202 columns</p>\n",
       "</div>"
      ],
      "text/plain": [
       "     SITE_ACCOUNT_NUMBER                NAME  \\\n",
       "0           AMR-11112345          AceFUTRELL   \n",
       "1           AMR-14837287   RobertFitzpatrick   \n",
       "2           AMR-14837803     EDWARDVipperman   \n",
       "3           AMR-14837821  DannyaJyotinagaram   \n",
       "4           AMR-14839297     JoanneaBARNOSKY   \n",
       "...                  ...                 ...   \n",
       "9993        AMR-49996971        DarnaSHAUERS   \n",
       "9994        AMR-49997196       PhillipWright   \n",
       "9995                   0                   0   \n",
       "9996        AMR-49998608         EricaRitton   \n",
       "9997        AMR-49999972        GUSTAVMajors   \n",
       "\n",
       "                          EMAIL_ADDRESS         CITY  GENDER  AGE  INCOME  \\\n",
       "0               Ace.FUTRELL@hotmail.com   GERMANTOWN     2.0   69       0   \n",
       "1         Robert.Fitzpatrick@hughes.net  WEST BERLIN     2.0   43       4   \n",
       "2         EDWARD.Vipperman@rossaweb.net   MERRYVILLE     2.0   58       4   \n",
       "3     Danny.Jyotinagaram@sipnsearch.com   ZANESVILLE     0.0   22       6   \n",
       "4         Joanne.BARNOSKY@geeksquad.com    CALLICOON     1.0   36       7   \n",
       "...                                 ...          ...     ...  ...     ...   \n",
       "9993       Darna.SHAUERS@compuserve.com     PONTOTOC     0.0   32       4   \n",
       "9994           Phillip.Wright@gmail.com      CABAZON     1.0   39       4   \n",
       "9995                                  0            0     0.0    0       0   \n",
       "9996         Eric.Ritton@compuserve.com       BOSTON     2.0   33       5   \n",
       "9997              GUSTAV.Majors@aol.com    VACAVILLE     1.0   65       0   \n",
       "\n",
       "      MARITAL_STATUS  PRESENCE_OF_CHILDREN  FIRST_COMMUNICATION_DATE_Year  \\\n",
       "0                  1                     0                         2001.0   \n",
       "1                  1                     0                         2003.0   \n",
       "2                  1                     0                         2001.0   \n",
       "3                  1                     1                         2001.0   \n",
       "4                  0                     0                         2002.0   \n",
       "...              ...                   ...                            ...   \n",
       "9993               0                     2                         2001.0   \n",
       "9994               0                     0                         2002.0   \n",
       "9995               0                     0                         1970.0   \n",
       "9996               1                     0                         2002.0   \n",
       "9997               1                     1                         2001.0   \n",
       "\n",
       "      ...  Most_Recent_sales_channel_Retail  \\\n",
       "0     ...                                 0   \n",
       "1     ...                                 0   \n",
       "2     ...                                 0   \n",
       "3     ...                                 0   \n",
       "4     ...                                 0   \n",
       "...   ...                               ...   \n",
       "9993  ...                                 0   \n",
       "9994  ...                                 0   \n",
       "9995  ...                                 0   \n",
       "9996  ...                                 0   \n",
       "9997  ...                                 0   \n",
       "\n",
       "      Most_Recent_sales_channel_Retail         \\\n",
       "0                                           0   \n",
       "1                                           1   \n",
       "2                                           0   \n",
       "3                                           0   \n",
       "4                                           0   \n",
       "...                                       ...   \n",
       "9993                                        0   \n",
       "9994                                        0   \n",
       "9995                                        0   \n",
       "9996                                        0   \n",
       "9997                                        0   \n",
       "\n",
       "      Most_Recent_sales_channel_UNKNOWN  \\\n",
       "0                                     0   \n",
       "1                                     0   \n",
       "2                                     0   \n",
       "3                                     0   \n",
       "4                                     0   \n",
       "...                                 ...   \n",
       "9993                                  0   \n",
       "9994                                  0   \n",
       "9995                                  0   \n",
       "9996                                  0   \n",
       "9997                                  0   \n",
       "\n",
       "      Most_Recent_sales_channel_Used Equipment  Feedback_0  Feedback_BAD  \\\n",
       "0                                            0           0             0   \n",
       "1                                            0           0             0   \n",
       "2                                            0           0             1   \n",
       "3                                            0           0             0   \n",
       "4                                            0           0             0   \n",
       "...                                        ...         ...           ...   \n",
       "9993                                         0           0             0   \n",
       "9994                                         0           0             0   \n",
       "9995                                         0           1             0   \n",
       "9996                                         0           0             1   \n",
       "9997                                         0           0             0   \n",
       "\n",
       "      Feedback_GOOD  Feedback_Not Mentioned  ACCOUNT_STATUS  Clusters  \n",
       "0                 0                       1               1        17  \n",
       "1                 1                       0               1         3  \n",
       "2                 0                       0               1        12  \n",
       "3                 0                       1               1         6  \n",
       "4                 1                       0               1        17  \n",
       "...             ...                     ...             ...       ...  \n",
       "9993              1                       0               1         1  \n",
       "9994              1                       0               1         0  \n",
       "9995              0                       0               0         7  \n",
       "9996              0                       0               1         4  \n",
       "9997              0                       1               1        15  \n",
       "\n",
       "[9998 rows x 202 columns]"
      ]
     },
     "execution_count": 660,
     "metadata": {},
     "output_type": "execute_result"
    }
   ],
   "source": [
    "clusters"
   ]
  },
  {
   "cell_type": "code",
   "execution_count": null,
   "metadata": {},
   "outputs": [],
   "source": []
  },
  {
   "cell_type": "code",
   "execution_count": null,
   "metadata": {},
   "outputs": [],
   "source": []
  },
  {
   "cell_type": "code",
   "execution_count": 661,
   "metadata": {},
   "outputs": [],
   "source": [
    "# BUILDING MODELS :"
   ]
  },
  {
   "cell_type": "code",
   "execution_count": 662,
   "metadata": {},
   "outputs": [],
   "source": [
    "train_x, test_x, train_y, test_y = train_test_split(p1_select1[p1_select1.columns[:-1]],\n",
    "                                                  p1_select1['ACCOUNT_STATUS'],\n",
    "                                                  test_size=0.3,\n",
    "                                                  random_state=125)"
   ]
  },
  {
   "cell_type": "code",
   "execution_count": null,
   "metadata": {},
   "outputs": [],
   "source": []
  },
  {
   "cell_type": "code",
   "execution_count": 663,
   "metadata": {},
   "outputs": [],
   "source": [
    "# Logistic Regression--"
   ]
  },
  {
   "cell_type": "code",
   "execution_count": 664,
   "metadata": {},
   "outputs": [],
   "source": [
    "lr=LogisticRegression()"
   ]
  },
  {
   "cell_type": "code",
   "execution_count": 665,
   "metadata": {},
   "outputs": [],
   "source": [
    "xx=lr.fit(train_x, train_y)"
   ]
  },
  {
   "cell_type": "code",
   "execution_count": 666,
   "metadata": {},
   "outputs": [],
   "source": [
    "pre1=lr.predict(test_x)"
   ]
  },
  {
   "cell_type": "code",
   "execution_count": 667,
   "metadata": {},
   "outputs": [],
   "source": [
    "acc1=lr.score(test_x,test_y)"
   ]
  },
  {
   "cell_type": "code",
   "execution_count": 668,
   "metadata": {},
   "outputs": [
    {
     "data": {
      "text/plain": [
       "99.96666666666667"
      ]
     },
     "execution_count": 668,
     "metadata": {},
     "output_type": "execute_result"
    }
   ],
   "source": [
    "acc1*100"
   ]
  },
  {
   "cell_type": "code",
   "execution_count": 669,
   "metadata": {},
   "outputs": [],
   "source": [
    "mae1=metrics.mean_absolute_error(test_y,pre1)"
   ]
  },
  {
   "cell_type": "code",
   "execution_count": 670,
   "metadata": {},
   "outputs": [
    {
     "data": {
      "text/plain": [
       "0.0003333333333333333"
      ]
     },
     "execution_count": 670,
     "metadata": {},
     "output_type": "execute_result"
    }
   ],
   "source": [
    "mae1"
   ]
  },
  {
   "cell_type": "code",
   "execution_count": 671,
   "metadata": {},
   "outputs": [
    {
     "data": {
      "text/plain": [
       "0.018257418583505537"
      ]
     },
     "execution_count": 671,
     "metadata": {},
     "output_type": "execute_result"
    }
   ],
   "source": [
    "rmse1=np.sqrt(metrics.mean_squared_error(test_y,pre1))\n",
    "rmse1"
   ]
  },
  {
   "cell_type": "code",
   "execution_count": 672,
   "metadata": {},
   "outputs": [],
   "source": [
    "## Logistic Regression Model Validation-->\n",
    "#   Accuracy score         - 99.966   \n",
    "#   Mean absolute error    - 0.0003\n",
    "#   Root mean square error - 0.0182"
   ]
  },
  {
   "cell_type": "code",
   "execution_count": null,
   "metadata": {},
   "outputs": [],
   "source": []
  },
  {
   "cell_type": "code",
   "execution_count": 675,
   "metadata": {},
   "outputs": [],
   "source": [
    "# KNN Regressor--"
   ]
  },
  {
   "cell_type": "code",
   "execution_count": 676,
   "metadata": {},
   "outputs": [],
   "source": [
    "knn=KNeighborsRegressor(n_neighbors=10,n_jobs=5)"
   ]
  },
  {
   "cell_type": "code",
   "execution_count": 677,
   "metadata": {},
   "outputs": [],
   "source": [
    "kn_fit=knn.fit(train_x,train_y)"
   ]
  },
  {
   "cell_type": "code",
   "execution_count": 678,
   "metadata": {},
   "outputs": [],
   "source": [
    "pre2=knn.predict(test_x)"
   ]
  },
  {
   "cell_type": "code",
   "execution_count": 679,
   "metadata": {},
   "outputs": [],
   "source": [
    "acc2=knn.score(test_x,test_y)"
   ]
  },
  {
   "cell_type": "code",
   "execution_count": 680,
   "metadata": {},
   "outputs": [
    {
     "data": {
      "text/plain": [
       "98.59702668110663"
      ]
     },
     "execution_count": 680,
     "metadata": {},
     "output_type": "execute_result"
    }
   ],
   "source": [
    "acc2*100"
   ]
  },
  {
   "cell_type": "code",
   "execution_count": 681,
   "metadata": {},
   "outputs": [
    {
     "data": {
      "text/plain": [
       "0.001433333333333333"
      ]
     },
     "execution_count": 681,
     "metadata": {},
     "output_type": "execute_result"
    }
   ],
   "source": [
    "mae2=metrics.mean_absolute_error(test_y,pre2)\n",
    "mae2"
   ]
  },
  {
   "cell_type": "code",
   "execution_count": 682,
   "metadata": {},
   "outputs": [
    {
     "data": {
      "text/plain": [
       "0.02105548226313834"
      ]
     },
     "execution_count": 682,
     "metadata": {},
     "output_type": "execute_result"
    }
   ],
   "source": [
    "rmse2=np.sqrt(metrics.mean_squared_error(test_y,pre2))\n",
    "rmse2"
   ]
  },
  {
   "cell_type": "code",
   "execution_count": 156,
   "metadata": {},
   "outputs": [],
   "source": [
    "## KNN Regressor Model Validation-->\n",
    "#   Accuracy score         - 98.597   \n",
    "#   Mean absolute error    - 0.0014\n",
    "#   Root mean square error - 0.0210"
   ]
  },
  {
   "cell_type": "code",
   "execution_count": null,
   "metadata": {},
   "outputs": [],
   "source": []
  },
  {
   "cell_type": "code",
   "execution_count": 683,
   "metadata": {},
   "outputs": [],
   "source": [
    "# Linear Regression--"
   ]
  },
  {
   "cell_type": "code",
   "execution_count": 684,
   "metadata": {},
   "outputs": [],
   "source": [
    "lm=LinearRegression(normalize=True)"
   ]
  },
  {
   "cell_type": "code",
   "execution_count": 685,
   "metadata": {},
   "outputs": [],
   "source": [
    "lm_fit=lm.fit(train_x,train_y)"
   ]
  },
  {
   "cell_type": "code",
   "execution_count": 686,
   "metadata": {},
   "outputs": [],
   "source": [
    "pre3=lm.predict(test_x)"
   ]
  },
  {
   "cell_type": "code",
   "execution_count": 687,
   "metadata": {},
   "outputs": [],
   "source": [
    "acc3=lm.score(test_x,test_y)"
   ]
  },
  {
   "cell_type": "code",
   "execution_count": 688,
   "metadata": {},
   "outputs": [
    {
     "data": {
      "text/plain": [
       "-3948871209818.5596"
      ]
     },
     "execution_count": 688,
     "metadata": {},
     "output_type": "execute_result"
    }
   ],
   "source": [
    "acc3"
   ]
  },
  {
   "cell_type": "code",
   "execution_count": 689,
   "metadata": {},
   "outputs": [
    {
     "data": {
      "text/plain": [
       "6449.3594942118325"
      ]
     },
     "execution_count": 689,
     "metadata": {},
     "output_type": "execute_result"
    }
   ],
   "source": [
    "mae3=metrics.mean_absolute_error(test_y,pre3)\n",
    "mae3"
   ]
  },
  {
   "cell_type": "code",
   "execution_count": 690,
   "metadata": {},
   "outputs": [
    {
     "data": {
      "text/plain": [
       "353245.7716327643"
      ]
     },
     "execution_count": 690,
     "metadata": {},
     "output_type": "execute_result"
    }
   ],
   "source": [
    "rmse3=np.sqrt(metrics.mean_squared_error(test_y,pre3))\n",
    "rmse3"
   ]
  },
  {
   "cell_type": "code",
   "execution_count": 691,
   "metadata": {},
   "outputs": [],
   "source": [
    "## Linear Regression Model Validation-->\n",
    "#   Accuracy score         - (-)3948871209818.55   \n",
    "#   Mean absolute error    -    6449.35\n",
    "#   Root mean square error -    353245.77"
   ]
  },
  {
   "cell_type": "code",
   "execution_count": null,
   "metadata": {},
   "outputs": [],
   "source": []
  },
  {
   "cell_type": "code",
   "execution_count": 166,
   "metadata": {},
   "outputs": [],
   "source": [
    "# Logistic Regression Model shows the highest accuracy and exhibits least errors, therefore we use this model for finding\n",
    "# the key factors that would contribute to churn"
   ]
  },
  {
   "cell_type": "code",
   "execution_count": 692,
   "metadata": {},
   "outputs": [],
   "source": [
    "lr_col=pd.DataFrame(xx.coef_)"
   ]
  },
  {
   "cell_type": "code",
   "execution_count": 693,
   "metadata": {},
   "outputs": [],
   "source": [
    "lr_col.columns=train_x.columns"
   ]
  },
  {
   "cell_type": "code",
   "execution_count": 694,
   "metadata": {},
   "outputs": [],
   "source": [
    "lr_col_new=lr_col.T"
   ]
  },
  {
   "cell_type": "code",
   "execution_count": 695,
   "metadata": {},
   "outputs": [],
   "source": [
    "lr_col_new.columns=[\"Coefficients\"]"
   ]
  },
  {
   "cell_type": "code",
   "execution_count": 696,
   "metadata": {},
   "outputs": [],
   "source": [
    "lr_features=lr_col_new.sort_values(ascending=False,by=\"Coefficients\")"
   ]
  },
  {
   "cell_type": "code",
   "execution_count": 697,
   "metadata": {},
   "outputs": [],
   "source": [
    "lr_features=lr_features.reset_index()"
   ]
  },
  {
   "cell_type": "code",
   "execution_count": 698,
   "metadata": {},
   "outputs": [],
   "source": [
    "lr_features.columns=[\"Features\",\"Coefficients\"]"
   ]
  },
  {
   "cell_type": "code",
   "execution_count": 699,
   "metadata": {},
   "outputs": [
    {
     "data": {
      "text/html": [
       "<div>\n",
       "<style scoped>\n",
       "    .dataframe tbody tr th:only-of-type {\n",
       "        vertical-align: middle;\n",
       "    }\n",
       "\n",
       "    .dataframe tbody tr th {\n",
       "        vertical-align: top;\n",
       "    }\n",
       "\n",
       "    .dataframe thead th {\n",
       "        text-align: right;\n",
       "    }\n",
       "</style>\n",
       "<table border=\"1\" class=\"dataframe\">\n",
       "  <thead>\n",
       "    <tr style=\"text-align: right;\">\n",
       "      <th></th>\n",
       "      <th>Features</th>\n",
       "      <th>Coefficients</th>\n",
       "    </tr>\n",
       "  </thead>\n",
       "  <tbody>\n",
       "    <tr>\n",
       "      <th>0</th>\n",
       "      <td>GENDER</td>\n",
       "      <td>0.306165</td>\n",
       "    </tr>\n",
       "    <tr>\n",
       "      <th>1</th>\n",
       "      <td>UPGRADE_DATE_Year</td>\n",
       "      <td>0.278791</td>\n",
       "    </tr>\n",
       "    <tr>\n",
       "      <th>2</th>\n",
       "      <td>Company_source_nameHNS Customers</td>\n",
       "      <td>0.244030</td>\n",
       "    </tr>\n",
       "    <tr>\n",
       "      <th>3</th>\n",
       "      <td>Model_HN7000S</td>\n",
       "      <td>0.221771</td>\n",
       "    </tr>\n",
       "    <tr>\n",
       "      <th>4</th>\n",
       "      <td>FIRST_COMMUNICATION_DATE_Month</td>\n",
       "      <td>0.219667</td>\n",
       "    </tr>\n",
       "    <tr>\n",
       "      <th>...</th>\n",
       "      <td>...</td>\n",
       "      <td>...</td>\n",
       "    </tr>\n",
       "    <tr>\n",
       "      <th>199</th>\n",
       "      <td>Most_Recent_sales_channel_0</td>\n",
       "      <td>-0.243083</td>\n",
       "    </tr>\n",
       "    <tr>\n",
       "      <th>200</th>\n",
       "      <td>Direct_Indirect_Channel_0</td>\n",
       "      <td>-0.243083</td>\n",
       "    </tr>\n",
       "    <tr>\n",
       "      <th>201</th>\n",
       "      <td>Company_source_name0</td>\n",
       "      <td>-0.243083</td>\n",
       "    </tr>\n",
       "    <tr>\n",
       "      <th>202</th>\n",
       "      <td>Site_Type_Desc_0</td>\n",
       "      <td>-0.243083</td>\n",
       "    </tr>\n",
       "    <tr>\n",
       "      <th>203</th>\n",
       "      <td>FIRST_COMMUNICATION_DATE_Year</td>\n",
       "      <td>-0.279530</td>\n",
       "    </tr>\n",
       "  </tbody>\n",
       "</table>\n",
       "<p>204 rows × 2 columns</p>\n",
       "</div>"
      ],
      "text/plain": [
       "                             Features  Coefficients\n",
       "0                              GENDER      0.306165\n",
       "1                   UPGRADE_DATE_Year      0.278791\n",
       "2    Company_source_nameHNS Customers      0.244030\n",
       "3                       Model_HN7000S      0.221771\n",
       "4      FIRST_COMMUNICATION_DATE_Month      0.219667\n",
       "..                                ...           ...\n",
       "199       Most_Recent_sales_channel_0     -0.243083\n",
       "200         Direct_Indirect_Channel_0     -0.243083\n",
       "201              Company_source_name0     -0.243083\n",
       "202                  Site_Type_Desc_0     -0.243083\n",
       "203     FIRST_COMMUNICATION_DATE_Year     -0.279530\n",
       "\n",
       "[204 rows x 2 columns]"
      ]
     },
     "execution_count": 699,
     "metadata": {},
     "output_type": "execute_result"
    }
   ],
   "source": [
    "lr_features"
   ]
  },
  {
   "cell_type": "code",
   "execution_count": 700,
   "metadata": {},
   "outputs": [],
   "source": [
    "# Taking top 100 features based on the coefficients"
   ]
  },
  {
   "cell_type": "code",
   "execution_count": 701,
   "metadata": {},
   "outputs": [],
   "source": [
    "rank=lr_features.loc[0:100,['Features']]"
   ]
  },
  {
   "cell_type": "code",
   "execution_count": 702,
   "metadata": {},
   "outputs": [],
   "source": [
    "feature_list=['GENDER', 'UPGRADE_DATE_Year', 'Company_source_nameHNS Customers', 'Model_HN7000S', 'FIRST_COMMUNICATION_DATE_Month',\n",
    " 'UPGRADE_DATE_Month', 'Direct_Indirect_Channel_Indirect', 'Site_Type_Desc_Broadband Remote', 'UPGRADE_DATE_Day',\n",
    " 'FIRST_COMMUNICATION_DATE_Day', 'Feedback_BAD', 'Feedback_GOOD', 'Site_Type_Desc_Spaceway', 'Direct_Indirect_Channel_Direct', 'Service_Plan_Pro',\n",
    " 'Sales_source_TAG', 'Most_Recent_sales_channel_Dealer-Generated Sale', 'PRESENCE_OF_CHILDREN', 'MARITAL_STATUS', 'Service_Plan_Power150',\n",
    " 'SatelliteAM6-HOR-21K', 'Model_HN9000', 'Service_Plan_Basic', 'Sales_source_RS&I', 'Most_Recent_sales_channel_HN7000 Upgrade',\n",
    " 'Satellite0', 'Satellite0', 'SatelliteSM5-VER-1K', 'Service_Plan_Proplus', 'SatelliteSPACEWAY3', 'State_ CO', 'Most_Recent_sales_channel_HN9000 Upgrade',\n",
    " 'Sales_source_Hughes Web Order', 'Model_DW4000', 'Feedback_Not Mentioned', 'SatelliteG17-HOR-6K', 'Sales_source_InfoDish', 'Model_UNK', 'Model_Not Mentioned', 'Service_Plan_Home',\n",
    " 'Model_DW6000', 'State_ OR', 'Most_Recent_sales_channel_DW7000 Upgrade', 'Sales_source_LiveBridge Communications LLC',\n",
    " 'AGE', 'SatelliteSM5-HOR-14K', 'State_ NY', 'State_ IL', 'State_ VA', 'SatelliteNot Mentioned', 'Sales_source_UNKNOWN',\n",
    " 'Sales_source_ACS', 'Most_Recent_sales_channel_DW6000 Upgrade', 'Most_Recent_sales_channel_National Sales',\n",
    " 'Most_Recent_sales_channel_Dial Return Upgrade', 'State_ AZ', 'State_ MI', 'SatelliteAM9-VER-2K ', 'Most_Recent_sales_channel_Retail', 'State_ WA',\n",
    " 'Sales_source_Best Buy', 'INCOME', 'State_ AR', 'Sales_source_Verisign Web Ordering',\n",
    " 'Most_Recent_sales_channel_Retail       ', 'State_ OH', 'SatelliteHZN2-VER-4K',\n",
    " 'Service_Plan_Not Mentioned', 'SatelliteSM5-VER-15K', 'State_ MO', 'Sales_source_PEGASUS BROADBAND COMMUNICATIO',\n",
    " 'Most_Recent_sales_channel_Classic Migration', 'State_ NM', 'Sales_source_ACS Pre-Install', 'State_ TN',\n",
    " 'SatelliteG16-VER-1K', 'State_ NC', 'State_ WV', 'State_ SC', 'State_ PA', 'Most_Recent_sales_channel_UNKNOWN',\n",
    " 'State_ FL', 'State_ WI', 'State_ GA', 'State_ MA', 'State_ AL', 'Sales_source_MiniDish', 'State_ OK', 'State_ IN', 'State_ IA',\n",
    " 'State_ LA', 'Sales_source_ValueElectronics', 'Sales_source_Perfect 10', 'SatelliteAM9-HOR-21K',\n",
    " 'SatelliteAM9-HOR-19K', 'Most_Recent_sales_channel_Business Edition', 'State_ WY', 'SatelliteSM6-HOR-13K', 'State_ MN', 'SatelliteHZN-HOR-19K',\n",
    " 'State_ ID']\n",
    "feature_list.append('ACCOUNT_STATUS')"
   ]
  },
  {
   "cell_type": "code",
   "execution_count": 703,
   "metadata": {},
   "outputs": [],
   "source": [
    "df=p1_select1[feature_list]"
   ]
  },
  {
   "cell_type": "code",
   "execution_count": 704,
   "metadata": {},
   "outputs": [],
   "source": [
    "df.columns=['GENDER', 'UPGRADE_DATE_Year', 'Company_source_nameHNS_Customers','Model_HN7000S', 'FIRST_COMMUNICATION_DATE_Month', 'UPGRADE_DATE_Month',\n",
    "       'Direct_Indirect_Channel_Indirect', 'Site_Type_Desc_Broadband_Remote','UPGRADE_DATE_Day', 'FIRST_COMMUNICATION_DATE_Day', 'Feedback_BAD',\n",
    "       'Feedback_GOOD', 'Site_Type_Desc_Spaceway','Direct_Indirect_Channel_Direct', 'Service_Plan_Pro',\n",
    "       'Sales_source_TAG', 'Most_Recent_sales_channel_Dealer_Generated_Sale','PRESENCE_OF_CHILDREN', 'MARITAL_STATUS', 'Service_Plan_Power150',\n",
    "       'SatelliteAM6_HOR_21K', 'Model_HN9000', 'Service_Plan_Basic','Sales_source_RS_I', 'Most_Recent_sales_channel_HN7000_Upgrade',\n",
    "       'Satellite0', 'Satellite0', 'Satellite0', 'Satellite0','SatelliteSM5_VER_1K', 'Service_Plan_Proplus', 'SatelliteSPACEWAY3',\n",
    "       'State_CO', 'Most_Recent_sales_channel_HN9000_Upgrade','Sales_source_Hughes_Web_Order', 'Model_DW4000',\n",
    "       'Feedback_Not_Mentioned', 'SatelliteG17_HOR_6K','Sales_source_InfoDish', 'Model_UNK', 'Model_Not_Mentioned',\n",
    "       'Service_Plan_Home', 'Model_DW6000', 'State_OR','Most_Recent_sales_channel_DW7000_Upgrade',\n",
    "       'Sales_source_LiveBridge_Communications_LLC', 'AGE','SatelliteSM5_HOR_14K', 'State_NY', 'State_IL', 'State_VA',\n",
    "       'SatelliteNot_Mentioned', 'Sales_source_UNKNOWN','Sales_source_ACS', 'Most_Recent_sales_channel_DW6000_Upgrade',\n",
    " 'Most_Recent_sales_channel_National_Sales', 'Most_Recent_sales_channel_Dial_Return_Upgrade', 'State_AZ', 'State_MI',\n",
    " 'SatelliteAM9_VER_2K', 'Most_Recent_sales_channel_Retail', 'State_WA', 'Sales_source_Best_Buy', 'INCOME', 'State_AR',\n",
    " 'Sales_source_Verisign_Web_Ordering', 'Most_Recent_sales_channel_Retail', 'State_OH', 'SatelliteHZN2_VER_4K',\n",
    " 'Service_Plan_Not_Mentioned', 'SatelliteSM5_VER_15K', 'State_MO', 'Sales_source_PEGASUS_BROADBAND_COMMUNICATIO',\n",
    " 'Most_Recent_sales_channel_Classic_Migration', 'State_NM', 'Sales_source_ACS_Pre_Install', 'State_TN',\n",
    " 'SatelliteG16_VER_1K', 'State_NC', 'State_WV', 'State_SC', 'State_PA', 'Most_Recent_sales_channel_UNKNOWN',\n",
    " 'State_FL', 'State_WI', 'State_GA', 'State_MA', 'State_AL', 'Sales_source_MiniDish', 'State_OK', 'State_IN',\n",
    " 'State_IA', 'State_LA', 'Sales_source_ValueElectronics', 'Sales_source_Perfect_10', 'SatelliteAM9_HOR_21K',\n",
    " 'SatelliteAM9_HOR_19K', 'Most_Recent_sales_channel_Business_Edition', 'State_WY', 'SatelliteSM6_HOR_13K', 'State_MN',\n",
    " 'SatelliteHZN_HOR_19K', 'State_ID','ACCOUNT_STATUS']"
   ]
  },
  {
   "cell_type": "code",
   "execution_count": 705,
   "metadata": {},
   "outputs": [],
   "source": [
    "new_list=['GENDER', 'UPGRADE_DATE_Year', 'Company_source_nameHNS_Customers','Model_HN7000S', 'FIRST_COMMUNICATION_DATE_Month', 'UPGRADE_DATE_Month',\n",
    "       'Direct_Indirect_Channel_Indirect', 'Site_Type_Desc_Broadband_Remote','UPGRADE_DATE_Day', 'FIRST_COMMUNICATION_DATE_Day', 'Feedback_BAD',\n",
    "       'Feedback_GOOD', 'Site_Type_Desc_Spaceway','Direct_Indirect_Channel_Direct', 'Service_Plan_Pro',\n",
    "       'Sales_source_TAG', 'Most_Recent_sales_channel_Dealer_Generated_Sale','PRESENCE_OF_CHILDREN', 'MARITAL_STATUS', 'Service_Plan_Power150',\n",
    "       'SatelliteAM6_HOR_21K', 'Model_HN9000', 'Service_Plan_Basic','Sales_source_RS_I', 'Most_Recent_sales_channel_HN7000_Upgrade',\n",
    "       'Satellite0', 'Satellite0', 'Satellite0', 'Satellite0','SatelliteSM5_VER_1K', 'Service_Plan_Proplus', 'SatelliteSPACEWAY3',\n",
    "       'State_CO', 'Most_Recent_sales_channel_HN9000_Upgrade','Sales_source_Hughes_Web_Order', 'Model_DW4000',\n",
    "       'Feedback_Not_Mentioned', 'SatelliteG17_HOR_6K','Sales_source_InfoDish', 'Model_UNK', 'Model_Not_Mentioned',\n",
    "       'Service_Plan_Home', 'Model_DW6000', 'State_OR','Most_Recent_sales_channel_DW7000_Upgrade',\n",
    "       'Sales_source_LiveBridge_Communications_LLC', 'AGE','SatelliteSM5_HOR_14K', 'State_NY', 'State_IL', 'State_VA',\n",
    "       'SatelliteNot_Mentioned', 'Sales_source_UNKNOWN','Sales_source_ACS', 'Most_Recent_sales_channel_DW6000_Upgrade',\n",
    " 'Most_Recent_sales_channel_National_Sales', 'Most_Recent_sales_channel_Dial_Return_Upgrade', 'State_AZ', 'State_MI',\n",
    " 'SatelliteAM9_VER_2K', 'Most_Recent_sales_channel_Retail', 'State_WA', 'Sales_source_Best_Buy', 'INCOME', 'State_AR',\n",
    " 'Sales_source_Verisign_Web_Ordering', 'Most_Recent_sales_channel_Retail', 'State_OH', 'SatelliteHZN2_VER_4K',\n",
    " 'Service_Plan_Not_Mentioned', 'SatelliteSM5_VER_15K', 'State_MO', 'Sales_source_PEGASUS_BROADBAND_COMMUNICATIO',\n",
    " 'Most_Recent_sales_channel_Classic_Migration', 'State_NM', 'Sales_source_ACS_Pre_Install', 'State_TN',\n",
    " 'SatelliteG16_VER_1K', 'State_NC', 'State_WV', 'State_SC', 'State_PA', 'Most_Recent_sales_channel_UNKNOWN',\n",
    " 'State_FL', 'State_WI', 'State_GA', 'State_MA', 'State_AL', 'Sales_source_MiniDish', 'State_OK', 'State_IN',\n",
    " 'State_IA', 'State_LA', 'Sales_source_ValueElectronics', 'Sales_source_Perfect_10', 'SatelliteAM9_HOR_21K',\n",
    " 'SatelliteAM9_HOR_19K', 'Most_Recent_sales_channel_Business_Edition', 'State_WY', 'SatelliteSM6_HOR_13K', 'State_MN',\n",
    " 'SatelliteHZN_HOR_19K', 'State_ID','ACCOUNT_STATUS']"
   ]
  },
  {
   "cell_type": "code",
   "execution_count": null,
   "metadata": {},
   "outputs": [],
   "source": []
  },
  {
   "cell_type": "code",
   "execution_count": 706,
   "metadata": {},
   "outputs": [],
   "source": [
    "# Dealing with Multi-Collinearity--"
   ]
  },
  {
   "cell_type": "code",
   "execution_count": 707,
   "metadata": {},
   "outputs": [],
   "source": [
    "del new_list[-1]"
   ]
  },
  {
   "cell_type": "code",
   "execution_count": 708,
   "metadata": {},
   "outputs": [],
   "source": [
    "features = \"+\".join(new_list)"
   ]
  },
  {
   "cell_type": "code",
   "execution_count": 709,
   "metadata": {},
   "outputs": [
    {
     "data": {
      "text/plain": [
       "'GENDER+UPGRADE_DATE_Year+Company_source_nameHNS_Customers+Model_HN7000S+FIRST_COMMUNICATION_DATE_Month+UPGRADE_DATE_Month+Direct_Indirect_Channel_Indirect+Site_Type_Desc_Broadband_Remote+UPGRADE_DATE_Day+FIRST_COMMUNICATION_DATE_Day+Feedback_BAD+Feedback_GOOD+Site_Type_Desc_Spaceway+Direct_Indirect_Channel_Direct+Service_Plan_Pro+Sales_source_TAG+Most_Recent_sales_channel_Dealer_Generated_Sale+PRESENCE_OF_CHILDREN+MARITAL_STATUS+Service_Plan_Power150+SatelliteAM6_HOR_21K+Model_HN9000+Service_Plan_Basic+Sales_source_RS_I+Most_Recent_sales_channel_HN7000_Upgrade+Satellite0+Satellite0+Satellite0+Satellite0+SatelliteSM5_VER_1K+Service_Plan_Proplus+SatelliteSPACEWAY3+State_CO+Most_Recent_sales_channel_HN9000_Upgrade+Sales_source_Hughes_Web_Order+Model_DW4000+Feedback_Not_Mentioned+SatelliteG17_HOR_6K+Sales_source_InfoDish+Model_UNK+Model_Not_Mentioned+Service_Plan_Home+Model_DW6000+State_OR+Most_Recent_sales_channel_DW7000_Upgrade+Sales_source_LiveBridge_Communications_LLC+AGE+SatelliteSM5_HOR_14K+State_NY+State_IL+State_VA+SatelliteNot_Mentioned+Sales_source_UNKNOWN+Sales_source_ACS+Most_Recent_sales_channel_DW6000_Upgrade+Most_Recent_sales_channel_National_Sales+Most_Recent_sales_channel_Dial_Return_Upgrade+State_AZ+State_MI+SatelliteAM9_VER_2K+Most_Recent_sales_channel_Retail+State_WA+Sales_source_Best_Buy+INCOME+State_AR+Sales_source_Verisign_Web_Ordering+Most_Recent_sales_channel_Retail+State_OH+SatelliteHZN2_VER_4K+Service_Plan_Not_Mentioned+SatelliteSM5_VER_15K+State_MO+Sales_source_PEGASUS_BROADBAND_COMMUNICATIO+Most_Recent_sales_channel_Classic_Migration+State_NM+Sales_source_ACS_Pre_Install+State_TN+SatelliteG16_VER_1K+State_NC+State_WV+State_SC+State_PA+Most_Recent_sales_channel_UNKNOWN+State_FL+State_WI+State_GA+State_MA+State_AL+Sales_source_MiniDish+State_OK+State_IN+State_IA+State_LA+Sales_source_ValueElectronics+Sales_source_Perfect_10+SatelliteAM9_HOR_21K+SatelliteAM9_HOR_19K+Most_Recent_sales_channel_Business_Edition+State_WY+SatelliteSM6_HOR_13K+State_MN+SatelliteHZN_HOR_19K+State_ID'"
      ]
     },
     "execution_count": 709,
     "metadata": {},
     "output_type": "execute_result"
    }
   ],
   "source": [
    "features"
   ]
  },
  {
   "cell_type": "code",
   "execution_count": 710,
   "metadata": {},
   "outputs": [],
   "source": [
    "y, X = dmatrices('ACCOUNT_STATUS~'+features,df, return_type='dataframe')"
   ]
  },
  {
   "cell_type": "code",
   "execution_count": 711,
   "metadata": {},
   "outputs": [
    {
     "name": "stderr",
     "output_type": "stream",
     "text": [
      "C:\\Users\\kaust\\Anaconda3\\lib\\site-packages\\statsmodels\\regression\\linear_model.py:1685: RuntimeWarning: divide by zero encountered in double_scalars\n",
      "  return 1 - self.ssr/self.centered_tss\n",
      "C:\\Users\\kaust\\Anaconda3\\lib\\site-packages\\statsmodels\\stats\\outliers_influence.py:193: RuntimeWarning: divide by zero encountered in double_scalars\n",
      "  vif = 1. / (1. - r_squared_i)\n"
     ]
    }
   ],
   "source": [
    "vif = pd.DataFrame()\n",
    "vif[\"VIF Factor\"] = [variance_inflation_factor(X.values, i) for i in range(X.shape[1])]\n",
    "vif[\"features\"] = X.columns"
   ]
  },
  {
   "cell_type": "code",
   "execution_count": 712,
   "metadata": {},
   "outputs": [
    {
     "data": {
      "text/html": [
       "<div>\n",
       "<style scoped>\n",
       "    .dataframe tbody tr th:only-of-type {\n",
       "        vertical-align: middle;\n",
       "    }\n",
       "\n",
       "    .dataframe tbody tr th {\n",
       "        vertical-align: top;\n",
       "    }\n",
       "\n",
       "    .dataframe thead th {\n",
       "        text-align: right;\n",
       "    }\n",
       "</style>\n",
       "<table border=\"1\" class=\"dataframe\">\n",
       "  <thead>\n",
       "    <tr style=\"text-align: right;\">\n",
       "      <th></th>\n",
       "      <th>VIF Factor</th>\n",
       "      <th>features</th>\n",
       "    </tr>\n",
       "  </thead>\n",
       "  <tbody>\n",
       "    <tr>\n",
       "      <th>37</th>\n",
       "      <td>inf</td>\n",
       "      <td>Feedback_Not_Mentioned</td>\n",
       "    </tr>\n",
       "    <tr>\n",
       "      <th>29</th>\n",
       "      <td>inf</td>\n",
       "      <td>Satellite0[3]</td>\n",
       "    </tr>\n",
       "    <tr>\n",
       "      <th>26</th>\n",
       "      <td>inf</td>\n",
       "      <td>Satellite0[0]</td>\n",
       "    </tr>\n",
       "    <tr>\n",
       "      <th>27</th>\n",
       "      <td>inf</td>\n",
       "      <td>Satellite0[1]</td>\n",
       "    </tr>\n",
       "    <tr>\n",
       "      <th>28</th>\n",
       "      <td>inf</td>\n",
       "      <td>Satellite0[2]</td>\n",
       "    </tr>\n",
       "    <tr>\n",
       "      <th>...</th>\n",
       "      <td>...</td>\n",
       "      <td>...</td>\n",
       "    </tr>\n",
       "    <tr>\n",
       "      <th>87</th>\n",
       "      <td>1.018769</td>\n",
       "      <td>State_MA</td>\n",
       "    </tr>\n",
       "    <tr>\n",
       "      <th>100</th>\n",
       "      <td>1.015043</td>\n",
       "      <td>SatelliteSM6_HOR_13K</td>\n",
       "    </tr>\n",
       "    <tr>\n",
       "      <th>97</th>\n",
       "      <td>1.013804</td>\n",
       "      <td>SatelliteAM9_HOR_19K</td>\n",
       "    </tr>\n",
       "    <tr>\n",
       "      <th>98</th>\n",
       "      <td>1.012809</td>\n",
       "      <td>Most_Recent_sales_channel_Business_Edition</td>\n",
       "    </tr>\n",
       "    <tr>\n",
       "      <th>0</th>\n",
       "      <td>0.000000</td>\n",
       "      <td>Intercept</td>\n",
       "    </tr>\n",
       "  </tbody>\n",
       "</table>\n",
       "<p>104 rows × 2 columns</p>\n",
       "</div>"
      ],
      "text/plain": [
       "     VIF Factor                                    features\n",
       "37          inf                      Feedback_Not_Mentioned\n",
       "29          inf                               Satellite0[3]\n",
       "26          inf                               Satellite0[0]\n",
       "27          inf                               Satellite0[1]\n",
       "28          inf                               Satellite0[2]\n",
       "..          ...                                         ...\n",
       "87     1.018769                                    State_MA\n",
       "100    1.015043                        SatelliteSM6_HOR_13K\n",
       "97     1.013804                        SatelliteAM9_HOR_19K\n",
       "98     1.012809  Most_Recent_sales_channel_Business_Edition\n",
       "0      0.000000                                   Intercept\n",
       "\n",
       "[104 rows x 2 columns]"
      ]
     },
     "execution_count": 712,
     "metadata": {},
     "output_type": "execute_result"
    }
   ],
   "source": [
    "vif.sort_values(by=['VIF Factor'],ascending=False)"
   ]
  },
  {
   "cell_type": "code",
   "execution_count": 713,
   "metadata": {},
   "outputs": [
    {
     "data": {
      "text/html": [
       "<div>\n",
       "<style scoped>\n",
       "    .dataframe tbody tr th:only-of-type {\n",
       "        vertical-align: middle;\n",
       "    }\n",
       "\n",
       "    .dataframe tbody tr th {\n",
       "        vertical-align: top;\n",
       "    }\n",
       "\n",
       "    .dataframe thead th {\n",
       "        text-align: right;\n",
       "    }\n",
       "</style>\n",
       "<table border=\"1\" class=\"dataframe\">\n",
       "  <thead>\n",
       "    <tr style=\"text-align: right;\">\n",
       "      <th></th>\n",
       "      <th>VIF Factor</th>\n",
       "      <th>features</th>\n",
       "    </tr>\n",
       "  </thead>\n",
       "  <tbody>\n",
       "    <tr>\n",
       "      <th>3</th>\n",
       "      <td>35.616593</td>\n",
       "      <td>Company_source_nameHNS_Customers</td>\n",
       "    </tr>\n",
       "    <tr>\n",
       "      <th>7</th>\n",
       "      <td>37.555551</td>\n",
       "      <td>Direct_Indirect_Channel_Indirect</td>\n",
       "    </tr>\n",
       "    <tr>\n",
       "      <th>8</th>\n",
       "      <td>190.835085</td>\n",
       "      <td>Site_Type_Desc_Broadband_Remote</td>\n",
       "    </tr>\n",
       "    <tr>\n",
       "      <th>11</th>\n",
       "      <td>inf</td>\n",
       "      <td>Feedback_BAD</td>\n",
       "    </tr>\n",
       "    <tr>\n",
       "      <th>12</th>\n",
       "      <td>inf</td>\n",
       "      <td>Feedback_GOOD</td>\n",
       "    </tr>\n",
       "    <tr>\n",
       "      <th>13</th>\n",
       "      <td>171.758709</td>\n",
       "      <td>Site_Type_Desc_Spaceway</td>\n",
       "    </tr>\n",
       "    <tr>\n",
       "      <th>14</th>\n",
       "      <td>34.077543</td>\n",
       "      <td>Direct_Indirect_Channel_Direct</td>\n",
       "    </tr>\n",
       "    <tr>\n",
       "      <th>26</th>\n",
       "      <td>inf</td>\n",
       "      <td>Satellite0[0]</td>\n",
       "    </tr>\n",
       "    <tr>\n",
       "      <th>27</th>\n",
       "      <td>inf</td>\n",
       "      <td>Satellite0[1]</td>\n",
       "    </tr>\n",
       "    <tr>\n",
       "      <th>28</th>\n",
       "      <td>inf</td>\n",
       "      <td>Satellite0[2]</td>\n",
       "    </tr>\n",
       "    <tr>\n",
       "      <th>29</th>\n",
       "      <td>inf</td>\n",
       "      <td>Satellite0[3]</td>\n",
       "    </tr>\n",
       "    <tr>\n",
       "      <th>37</th>\n",
       "      <td>inf</td>\n",
       "      <td>Feedback_Not_Mentioned</td>\n",
       "    </tr>\n",
       "  </tbody>\n",
       "</table>\n",
       "</div>"
      ],
      "text/plain": [
       "    VIF Factor                          features\n",
       "3    35.616593  Company_source_nameHNS_Customers\n",
       "7    37.555551  Direct_Indirect_Channel_Indirect\n",
       "8   190.835085   Site_Type_Desc_Broadband_Remote\n",
       "11         inf                      Feedback_BAD\n",
       "12         inf                     Feedback_GOOD\n",
       "13  171.758709           Site_Type_Desc_Spaceway\n",
       "14   34.077543    Direct_Indirect_Channel_Direct\n",
       "26         inf                     Satellite0[0]\n",
       "27         inf                     Satellite0[1]\n",
       "28         inf                     Satellite0[2]\n",
       "29         inf                     Satellite0[3]\n",
       "37         inf            Feedback_Not_Mentioned"
      ]
     },
     "execution_count": 713,
     "metadata": {},
     "output_type": "execute_result"
    }
   ],
   "source": [
    "vif[vif['VIF Factor']>10]"
   ]
  },
  {
   "cell_type": "code",
   "execution_count": 714,
   "metadata": {},
   "outputs": [],
   "source": [
    "# Taking features with Variable Inflation factor (VIF) more than 10 into consideration"
   ]
  },
  {
   "cell_type": "code",
   "execution_count": 715,
   "metadata": {},
   "outputs": [],
   "source": [
    "# Hence following factors contribute to the customer churn for the active customers-->\n",
    "#  Company_source_name\n",
    "#  Direct_Indirect_channel\n",
    "#  Site_Type_desc\n",
    "#  Feedback\n",
    "#  Satellite"
   ]
  },
  {
   "cell_type": "code",
   "execution_count": null,
   "metadata": {},
   "outputs": [],
   "source": []
  },
  {
   "cell_type": "code",
   "execution_count": 716,
   "metadata": {},
   "outputs": [],
   "source": [
    "# List of least common active customers"
   ]
  },
  {
   "cell_type": "code",
   "execution_count": 717,
   "metadata": {},
   "outputs": [
    {
     "data": {
      "text/html": [
       "<div>\n",
       "<style scoped>\n",
       "    .dataframe tbody tr th:only-of-type {\n",
       "        vertical-align: middle;\n",
       "    }\n",
       "\n",
       "    .dataframe tbody tr th {\n",
       "        vertical-align: top;\n",
       "    }\n",
       "\n",
       "    .dataframe thead th {\n",
       "        text-align: right;\n",
       "    }\n",
       "</style>\n",
       "<table border=\"1\" class=\"dataframe\">\n",
       "  <thead>\n",
       "    <tr style=\"text-align: right;\">\n",
       "      <th></th>\n",
       "      <th>SITE_ACCOUNT_NUMBER</th>\n",
       "      <th>NAME</th>\n",
       "      <th>CITY</th>\n",
       "      <th>Company_source_nameHNS Customers</th>\n",
       "      <th>Direct_Indirect_Channel_Indirect</th>\n",
       "      <th>Site_Type_Desc_Broadband Remote</th>\n",
       "      <th>Feedback_BAD</th>\n",
       "      <th>Feedback_GOOD</th>\n",
       "      <th>Site_Type_Desc_Spaceway</th>\n",
       "      <th>Direct_Indirect_Channel_Direct</th>\n",
       "    </tr>\n",
       "  </thead>\n",
       "  <tbody>\n",
       "    <tr>\n",
       "      <th>484</th>\n",
       "      <td>AMR-16515542</td>\n",
       "      <td>AirevaclifaTompkins</td>\n",
       "      <td>WICKENBURG</td>\n",
       "      <td>1</td>\n",
       "      <td>1</td>\n",
       "      <td>0</td>\n",
       "      <td>1</td>\n",
       "      <td>0</td>\n",
       "      <td>1</td>\n",
       "      <td>0</td>\n",
       "    </tr>\n",
       "    <tr>\n",
       "      <th>853</th>\n",
       "      <td>AMR-17894265</td>\n",
       "      <td>DennisaHIGGINS</td>\n",
       "      <td>WARREN</td>\n",
       "      <td>1</td>\n",
       "      <td>0</td>\n",
       "      <td>1</td>\n",
       "      <td>0</td>\n",
       "      <td>0</td>\n",
       "      <td>0</td>\n",
       "      <td>1</td>\n",
       "    </tr>\n",
       "    <tr>\n",
       "      <th>2059</th>\n",
       "      <td>AMR-22214969</td>\n",
       "      <td>CliffordaBurke</td>\n",
       "      <td>SEAMBOAT SPRINGS</td>\n",
       "      <td>1</td>\n",
       "      <td>0</td>\n",
       "      <td>1</td>\n",
       "      <td>0</td>\n",
       "      <td>1</td>\n",
       "      <td>0</td>\n",
       "      <td>1</td>\n",
       "    </tr>\n",
       "    <tr>\n",
       "      <th>2465</th>\n",
       "      <td>AMR-23693792</td>\n",
       "      <td>BradaBenson</td>\n",
       "      <td>SCOTTSDALE</td>\n",
       "      <td>1</td>\n",
       "      <td>1</td>\n",
       "      <td>1</td>\n",
       "      <td>1</td>\n",
       "      <td>0</td>\n",
       "      <td>0</td>\n",
       "      <td>0</td>\n",
       "    </tr>\n",
       "    <tr>\n",
       "      <th>4169</th>\n",
       "      <td>AMR-29523715</td>\n",
       "      <td>LarryaClark</td>\n",
       "      <td>STACY</td>\n",
       "      <td>1</td>\n",
       "      <td>1</td>\n",
       "      <td>1</td>\n",
       "      <td>1</td>\n",
       "      <td>0</td>\n",
       "      <td>0</td>\n",
       "      <td>0</td>\n",
       "    </tr>\n",
       "    <tr>\n",
       "      <th>4865</th>\n",
       "      <td>AMR-31888071</td>\n",
       "      <td>CYNTHIAaLAUGHING</td>\n",
       "      <td>FREDERICK</td>\n",
       "      <td>1</td>\n",
       "      <td>1</td>\n",
       "      <td>0</td>\n",
       "      <td>0</td>\n",
       "      <td>0</td>\n",
       "      <td>1</td>\n",
       "      <td>0</td>\n",
       "    </tr>\n",
       "    <tr>\n",
       "      <th>6531</th>\n",
       "      <td>AMR-37855083</td>\n",
       "      <td>BrianaRemmell</td>\n",
       "      <td>OAKLAND</td>\n",
       "      <td>1</td>\n",
       "      <td>1</td>\n",
       "      <td>1</td>\n",
       "      <td>0</td>\n",
       "      <td>1</td>\n",
       "      <td>0</td>\n",
       "      <td>0</td>\n",
       "    </tr>\n",
       "    <tr>\n",
       "      <th>7515</th>\n",
       "      <td>AMR-41208400</td>\n",
       "      <td>CliffordCrihfield</td>\n",
       "      <td>ROCKVILLE</td>\n",
       "      <td>1</td>\n",
       "      <td>1</td>\n",
       "      <td>1</td>\n",
       "      <td>0</td>\n",
       "      <td>1</td>\n",
       "      <td>0</td>\n",
       "      <td>0</td>\n",
       "    </tr>\n",
       "    <tr>\n",
       "      <th>8603</th>\n",
       "      <td>AMR-45091794</td>\n",
       "      <td>CliffordMccoy</td>\n",
       "      <td>JACKSON</td>\n",
       "      <td>1</td>\n",
       "      <td>1</td>\n",
       "      <td>0</td>\n",
       "      <td>1</td>\n",
       "      <td>0</td>\n",
       "      <td>1</td>\n",
       "      <td>0</td>\n",
       "    </tr>\n",
       "  </tbody>\n",
       "</table>\n",
       "</div>"
      ],
      "text/plain": [
       "     SITE_ACCOUNT_NUMBER                 NAME              CITY  \\\n",
       "484         AMR-16515542  AirevaclifaTompkins        WICKENBURG   \n",
       "853         AMR-17894265       DennisaHIGGINS            WARREN   \n",
       "2059        AMR-22214969       CliffordaBurke  SEAMBOAT SPRINGS   \n",
       "2465        AMR-23693792          BradaBenson        SCOTTSDALE   \n",
       "4169        AMR-29523715          LarryaClark             STACY   \n",
       "4865        AMR-31888071     CYNTHIAaLAUGHING         FREDERICK   \n",
       "6531        AMR-37855083        BrianaRemmell           OAKLAND   \n",
       "7515        AMR-41208400    CliffordCrihfield         ROCKVILLE   \n",
       "8603        AMR-45091794        CliffordMccoy           JACKSON   \n",
       "\n",
       "      Company_source_nameHNS Customers  Direct_Indirect_Channel_Indirect  \\\n",
       "484                                  1                                 1   \n",
       "853                                  1                                 0   \n",
       "2059                                 1                                 0   \n",
       "2465                                 1                                 1   \n",
       "4169                                 1                                 1   \n",
       "4865                                 1                                 1   \n",
       "6531                                 1                                 1   \n",
       "7515                                 1                                 1   \n",
       "8603                                 1                                 1   \n",
       "\n",
       "      Site_Type_Desc_Broadband Remote  Feedback_BAD  Feedback_GOOD  \\\n",
       "484                                 0             1              0   \n",
       "853                                 1             0              0   \n",
       "2059                                1             0              1   \n",
       "2465                                1             1              0   \n",
       "4169                                1             1              0   \n",
       "4865                                0             0              0   \n",
       "6531                                1             0              1   \n",
       "7515                                1             0              1   \n",
       "8603                                0             1              0   \n",
       "\n",
       "      Site_Type_Desc_Spaceway  Direct_Indirect_Channel_Direct  \n",
       "484                         1                               0  \n",
       "853                         0                               1  \n",
       "2059                        0                               1  \n",
       "2465                        0                               0  \n",
       "4169                        0                               0  \n",
       "4865                        1                               0  \n",
       "6531                        0                               0  \n",
       "7515                        0                               0  \n",
       "8603                        1                               0  "
      ]
     },
     "execution_count": 717,
     "metadata": {},
     "output_type": "execute_result"
    }
   ],
   "source": [
    "clusters[clusters[\"Clusters\"]==16][['SITE_ACCOUNT_NUMBER',\n",
    " 'NAME','CITY',\"Company_source_nameHNS Customers\",\"Direct_Indirect_Channel_Indirect\"\n",
    "                                   ,\"Site_Type_Desc_Broadband Remote\",\"Feedback_BAD\",\"Feedback_GOOD\",\"Site_Type_Desc_Spaceway\",\n",
    "                                   \"Direct_Indirect_Channel_Direct\"]]"
   ]
  },
  {
   "cell_type": "code",
   "execution_count": 195,
   "metadata": {},
   "outputs": [],
   "source": [
    "# List of most common active customers"
   ]
  },
  {
   "cell_type": "code",
   "execution_count": 718,
   "metadata": {},
   "outputs": [
    {
     "data": {
      "text/html": [
       "<div>\n",
       "<style scoped>\n",
       "    .dataframe tbody tr th:only-of-type {\n",
       "        vertical-align: middle;\n",
       "    }\n",
       "\n",
       "    .dataframe tbody tr th {\n",
       "        vertical-align: top;\n",
       "    }\n",
       "\n",
       "    .dataframe thead th {\n",
       "        text-align: right;\n",
       "    }\n",
       "</style>\n",
       "<table border=\"1\" class=\"dataframe\">\n",
       "  <thead>\n",
       "    <tr style=\"text-align: right;\">\n",
       "      <th></th>\n",
       "      <th>SITE_ACCOUNT_NUMBER</th>\n",
       "      <th>NAME</th>\n",
       "      <th>CITY</th>\n",
       "      <th>Company_source_nameHNS Customers</th>\n",
       "      <th>Direct_Indirect_Channel_Indirect</th>\n",
       "      <th>Site_Type_Desc_Broadband Remote</th>\n",
       "      <th>Feedback_BAD</th>\n",
       "      <th>Feedback_GOOD</th>\n",
       "      <th>Site_Type_Desc_Spaceway</th>\n",
       "      <th>Direct_Indirect_Channel_Direct</th>\n",
       "    </tr>\n",
       "  </thead>\n",
       "  <tbody>\n",
       "    <tr>\n",
       "      <th>0</th>\n",
       "      <td>AMR-11112345</td>\n",
       "      <td>AceFUTRELL</td>\n",
       "      <td>GERMANTOWN</td>\n",
       "      <td>1</td>\n",
       "      <td>1</td>\n",
       "      <td>1</td>\n",
       "      <td>0</td>\n",
       "      <td>0</td>\n",
       "      <td>0</td>\n",
       "      <td>0</td>\n",
       "    </tr>\n",
       "    <tr>\n",
       "      <th>4</th>\n",
       "      <td>AMR-14839297</td>\n",
       "      <td>JoanneaBARNOSKY</td>\n",
       "      <td>CALLICOON</td>\n",
       "      <td>1</td>\n",
       "      <td>1</td>\n",
       "      <td>1</td>\n",
       "      <td>0</td>\n",
       "      <td>1</td>\n",
       "      <td>0</td>\n",
       "      <td>0</td>\n",
       "    </tr>\n",
       "    <tr>\n",
       "      <th>5</th>\n",
       "      <td>AMR-14840229</td>\n",
       "      <td>AnneSirkin</td>\n",
       "      <td>FRIENDSWOOD</td>\n",
       "      <td>1</td>\n",
       "      <td>1</td>\n",
       "      <td>1</td>\n",
       "      <td>0</td>\n",
       "      <td>1</td>\n",
       "      <td>0</td>\n",
       "      <td>0</td>\n",
       "    </tr>\n",
       "    <tr>\n",
       "      <th>6</th>\n",
       "      <td>AMR-14841940</td>\n",
       "      <td>ArthurJolly</td>\n",
       "      <td>KEARNEY</td>\n",
       "      <td>1</td>\n",
       "      <td>1</td>\n",
       "      <td>1</td>\n",
       "      <td>0</td>\n",
       "      <td>0</td>\n",
       "      <td>0</td>\n",
       "      <td>0</td>\n",
       "    </tr>\n",
       "    <tr>\n",
       "      <th>7</th>\n",
       "      <td>AMR-14842501</td>\n",
       "      <td>LarryThomas</td>\n",
       "      <td>POTOMAC</td>\n",
       "      <td>1</td>\n",
       "      <td>1</td>\n",
       "      <td>1</td>\n",
       "      <td>0</td>\n",
       "      <td>1</td>\n",
       "      <td>0</td>\n",
       "      <td>0</td>\n",
       "    </tr>\n",
       "    <tr>\n",
       "      <th>...</th>\n",
       "      <td>...</td>\n",
       "      <td>...</td>\n",
       "      <td>...</td>\n",
       "      <td>...</td>\n",
       "      <td>...</td>\n",
       "      <td>...</td>\n",
       "      <td>...</td>\n",
       "      <td>...</td>\n",
       "      <td>...</td>\n",
       "      <td>...</td>\n",
       "    </tr>\n",
       "    <tr>\n",
       "      <th>9976</th>\n",
       "      <td>AMR-49951916</td>\n",
       "      <td>GalenWinks</td>\n",
       "      <td>LOOMIS</td>\n",
       "      <td>1</td>\n",
       "      <td>1</td>\n",
       "      <td>1</td>\n",
       "      <td>0</td>\n",
       "      <td>1</td>\n",
       "      <td>0</td>\n",
       "      <td>0</td>\n",
       "    </tr>\n",
       "    <tr>\n",
       "      <th>9981</th>\n",
       "      <td>AMR-49966797</td>\n",
       "      <td>RhodaaWagner</td>\n",
       "      <td>ASHLAND</td>\n",
       "      <td>1</td>\n",
       "      <td>1</td>\n",
       "      <td>1</td>\n",
       "      <td>0</td>\n",
       "      <td>1</td>\n",
       "      <td>0</td>\n",
       "      <td>0</td>\n",
       "    </tr>\n",
       "    <tr>\n",
       "      <th>9986</th>\n",
       "      <td>AMR-49977839</td>\n",
       "      <td>EdwardDunahue</td>\n",
       "      <td>PRINCESS ANNE</td>\n",
       "      <td>1</td>\n",
       "      <td>1</td>\n",
       "      <td>1</td>\n",
       "      <td>0</td>\n",
       "      <td>1</td>\n",
       "      <td>0</td>\n",
       "      <td>0</td>\n",
       "    </tr>\n",
       "    <tr>\n",
       "      <th>9990</th>\n",
       "      <td>AMR-49994757</td>\n",
       "      <td>EarnestaDearbonne</td>\n",
       "      <td>AUBURN</td>\n",
       "      <td>1</td>\n",
       "      <td>1</td>\n",
       "      <td>1</td>\n",
       "      <td>0</td>\n",
       "      <td>1</td>\n",
       "      <td>0</td>\n",
       "      <td>0</td>\n",
       "    </tr>\n",
       "    <tr>\n",
       "      <th>9991</th>\n",
       "      <td>AMR-49995981</td>\n",
       "      <td>STEVEMcginnis</td>\n",
       "      <td>PETALUMA</td>\n",
       "      <td>1</td>\n",
       "      <td>1</td>\n",
       "      <td>1</td>\n",
       "      <td>0</td>\n",
       "      <td>1</td>\n",
       "      <td>0</td>\n",
       "      <td>0</td>\n",
       "    </tr>\n",
       "  </tbody>\n",
       "</table>\n",
       "<p>2853 rows × 10 columns</p>\n",
       "</div>"
      ],
      "text/plain": [
       "     SITE_ACCOUNT_NUMBER               NAME           CITY  \\\n",
       "0           AMR-11112345         AceFUTRELL     GERMANTOWN   \n",
       "4           AMR-14839297    JoanneaBARNOSKY      CALLICOON   \n",
       "5           AMR-14840229         AnneSirkin    FRIENDSWOOD   \n",
       "6           AMR-14841940        ArthurJolly        KEARNEY   \n",
       "7           AMR-14842501        LarryThomas        POTOMAC   \n",
       "...                  ...                ...            ...   \n",
       "9976        AMR-49951916         GalenWinks         LOOMIS   \n",
       "9981        AMR-49966797       RhodaaWagner        ASHLAND   \n",
       "9986        AMR-49977839      EdwardDunahue  PRINCESS ANNE   \n",
       "9990        AMR-49994757  EarnestaDearbonne         AUBURN   \n",
       "9991        AMR-49995981      STEVEMcginnis       PETALUMA   \n",
       "\n",
       "      Company_source_nameHNS Customers  Direct_Indirect_Channel_Indirect  \\\n",
       "0                                    1                                 1   \n",
       "4                                    1                                 1   \n",
       "5                                    1                                 1   \n",
       "6                                    1                                 1   \n",
       "7                                    1                                 1   \n",
       "...                                ...                               ...   \n",
       "9976                                 1                                 1   \n",
       "9981                                 1                                 1   \n",
       "9986                                 1                                 1   \n",
       "9990                                 1                                 1   \n",
       "9991                                 1                                 1   \n",
       "\n",
       "      Site_Type_Desc_Broadband Remote  Feedback_BAD  Feedback_GOOD  \\\n",
       "0                                   1             0              0   \n",
       "4                                   1             0              1   \n",
       "5                                   1             0              1   \n",
       "6                                   1             0              0   \n",
       "7                                   1             0              1   \n",
       "...                               ...           ...            ...   \n",
       "9976                                1             0              1   \n",
       "9981                                1             0              1   \n",
       "9986                                1             0              1   \n",
       "9990                                1             0              1   \n",
       "9991                                1             0              1   \n",
       "\n",
       "      Site_Type_Desc_Spaceway  Direct_Indirect_Channel_Direct  \n",
       "0                           0                               0  \n",
       "4                           0                               0  \n",
       "5                           0                               0  \n",
       "6                           0                               0  \n",
       "7                           0                               0  \n",
       "...                       ...                             ...  \n",
       "9976                        0                               0  \n",
       "9981                        0                               0  \n",
       "9986                        0                               0  \n",
       "9990                        0                               0  \n",
       "9991                        0                               0  \n",
       "\n",
       "[2853 rows x 10 columns]"
      ]
     },
     "execution_count": 718,
     "metadata": {},
     "output_type": "execute_result"
    }
   ],
   "source": [
    "clusters[clusters[\"Clusters\"]==17][['SITE_ACCOUNT_NUMBER',\n",
    " 'NAME','CITY',\"Company_source_nameHNS Customers\",\"Direct_Indirect_Channel_Indirect\"\n",
    "                                   ,\"Site_Type_Desc_Broadband Remote\",\"Feedback_BAD\",\"Feedback_GOOD\",\"Site_Type_Desc_Spaceway\",\n",
    "                                   \"Direct_Indirect_Channel_Direct\"]]"
   ]
  },
  {
   "cell_type": "code",
   "execution_count": null,
   "metadata": {},
   "outputs": [],
   "source": []
  },
  {
   "cell_type": "code",
   "execution_count": 197,
   "metadata": {},
   "outputs": [],
   "source": [
    "# Having known the key factors that lead to customer churn and the categories of the least and most common active customers \n",
    "# we use this information for fulfilling the purpose of increasing the net cash flow "
   ]
  },
  {
   "cell_type": "code",
   "execution_count": 198,
   "metadata": {},
   "outputs": [],
   "source": [
    "# For retaining the customers as well as reducing the churn rate one can follow the following points for improving the cash \n",
    "# flow --\n",
    "\n",
    "\n",
    "# > Customers left both good and bad feedback regarding the telecom services. The focus needs to be on the converting bad to good \n",
    "#   feeback by listening to the customer complaints and reviews while communicating with them via the Indirect channel and\n",
    "#   thereby improve cash flow.\n",
    "\n",
    "# > Increase pricing for the happy customers to know their extent in order to increase the cash flow while at the same time \n",
    "#   keeping a tab on it.\n",
    "\n",
    "# > Taking a look at their inventories, especially the site type (Remote or Spaceway), telecom industry can better improve their\n",
    "#   cash flow by proper management of services."
   ]
  },
  {
   "cell_type": "code",
   "execution_count": null,
   "metadata": {},
   "outputs": [],
   "source": []
  },
  {
   "cell_type": "code",
   "execution_count": null,
   "metadata": {},
   "outputs": [],
   "source": []
  },
  {
   "cell_type": "code",
   "execution_count": null,
   "metadata": {},
   "outputs": [],
   "source": []
  },
  {
   "cell_type": "code",
   "execution_count": null,
   "metadata": {},
   "outputs": [],
   "source": []
  },
  {
   "cell_type": "code",
   "execution_count": null,
   "metadata": {},
   "outputs": [],
   "source": []
  },
  {
   "cell_type": "code",
   "execution_count": 720,
   "metadata": {},
   "outputs": [],
   "source": [
    "## CHURN CUSTOMERS :--"
   ]
  },
  {
   "cell_type": "code",
   "execution_count": null,
   "metadata": {},
   "outputs": [],
   "source": []
  },
  {
   "cell_type": "code",
   "execution_count": 721,
   "metadata": {},
   "outputs": [],
   "source": [
    "## Percentage of Missing values--"
   ]
  },
  {
   "cell_type": "code",
   "execution_count": 722,
   "metadata": {},
   "outputs": [
    {
     "data": {
      "text/plain": [
       "COMPUTER_OWNER             32.43\n",
       "SALES_CHANNEL              26.02\n",
       "FEEDBACK                   20.28\n",
       "SERVICE_PLAN               14.82\n",
       "PRESENCE_OF_CHILDREN       12.52\n",
       "GENDER                     12.38\n",
       "SATELLITE                  10.13\n",
       "UPGRADE_DATE                8.79\n",
       "DIRECT_INDIRECT_CHANNEL     7.84\n",
       "MODEL                       7.10\n",
       "dtype: float64"
      ]
     },
     "execution_count": 722,
     "metadata": {},
     "output_type": "execute_result"
    }
   ],
   "source": [
    "(p2.isnull().sum()*100/len(p2)).sort_values(ascending=False).head(10)"
   ]
  },
  {
   "cell_type": "code",
   "execution_count": 723,
   "metadata": {},
   "outputs": [],
   "source": [
    "p2=p2.drop([\"COMPUTER_OWNER\",\"SALES_CHANNEL\"],axis=1)"
   ]
  },
  {
   "cell_type": "code",
   "execution_count": 724,
   "metadata": {},
   "outputs": [],
   "source": [
    "# COMPUTER_OWNER and SALES_CHANNEL variables are being dropped as they have more than 25% missing values."
   ]
  },
  {
   "cell_type": "code",
   "execution_count": null,
   "metadata": {},
   "outputs": [],
   "source": []
  },
  {
   "cell_type": "code",
   "execution_count": 343,
   "metadata": {},
   "outputs": [],
   "source": [
    "## NUMERICAL VARIABLES :"
   ]
  },
  {
   "cell_type": "code",
   "execution_count": 725,
   "metadata": {},
   "outputs": [],
   "source": [
    "# Taking Presence of Children, Marital status, Income, Age, Gender, Upgrade date and 1st communication date variables into\n",
    "# account"
   ]
  },
  {
   "cell_type": "code",
   "execution_count": 726,
   "metadata": {},
   "outputs": [],
   "source": [
    "# Missing Value Imputation--"
   ]
  },
  {
   "cell_type": "code",
   "execution_count": 727,
   "metadata": {},
   "outputs": [],
   "source": [
    "# Gender-->"
   ]
  },
  {
   "cell_type": "code",
   "execution_count": 728,
   "metadata": {},
   "outputs": [],
   "source": [
    "p2[\"GENDER\"]=p2[\"GENDER\"].fillna(0)"
   ]
  },
  {
   "cell_type": "code",
   "execution_count": 729,
   "metadata": {},
   "outputs": [
    {
     "data": {
      "text/plain": [
       "0"
      ]
     },
     "execution_count": 729,
     "metadata": {},
     "output_type": "execute_result"
    }
   ],
   "source": [
    "p2[\"GENDER\"].isnull().sum()"
   ]
  },
  {
   "cell_type": "code",
   "execution_count": 730,
   "metadata": {},
   "outputs": [
    {
     "data": {
      "text/plain": [
       "1.0    4982\n",
       "2.0    3780\n",
       "0.0    1238\n",
       "Name: GENDER, dtype: int64"
      ]
     },
     "execution_count": 730,
     "metadata": {},
     "output_type": "execute_result"
    }
   ],
   "source": [
    "p2[\"GENDER\"].value_counts()"
   ]
  },
  {
   "cell_type": "code",
   "execution_count": 731,
   "metadata": {},
   "outputs": [],
   "source": [
    "# Presence of Children-->"
   ]
  },
  {
   "cell_type": "code",
   "execution_count": 732,
   "metadata": {},
   "outputs": [
    {
     "data": {
      "text/plain": [
       "0.0    5420\n",
       "1.0    3328\n",
       "Name: PRESENCE_OF_CHILDREN, dtype: int64"
      ]
     },
     "execution_count": 732,
     "metadata": {},
     "output_type": "execute_result"
    }
   ],
   "source": [
    "p2[\"PRESENCE_OF_CHILDREN\"].value_counts()"
   ]
  },
  {
   "cell_type": "code",
   "execution_count": 733,
   "metadata": {},
   "outputs": [
    {
     "data": {
      "text/plain": [
       "1252"
      ]
     },
     "execution_count": 733,
     "metadata": {},
     "output_type": "execute_result"
    }
   ],
   "source": [
    "p2[\"PRESENCE_OF_CHILDREN\"].isnull().sum()"
   ]
  },
  {
   "cell_type": "code",
   "execution_count": 734,
   "metadata": {},
   "outputs": [],
   "source": [
    "p2[\"PRESENCE_OF_CHILDREN\"]=p2[\"PRESENCE_OF_CHILDREN\"].fillna(2)"
   ]
  },
  {
   "cell_type": "code",
   "execution_count": 735,
   "metadata": {},
   "outputs": [],
   "source": [
    "# Replacing null values with 2 indicates that we can not tell about the presence of children"
   ]
  },
  {
   "cell_type": "code",
   "execution_count": 736,
   "metadata": {},
   "outputs": [
    {
     "data": {
      "text/plain": [
       "0"
      ]
     },
     "execution_count": 736,
     "metadata": {},
     "output_type": "execute_result"
    }
   ],
   "source": [
    "p2[\"PRESENCE_OF_CHILDREN\"].isnull().sum()"
   ]
  },
  {
   "cell_type": "code",
   "execution_count": 737,
   "metadata": {},
   "outputs": [],
   "source": [
    "p2[\"PRESENCE_OF_CHILDREN\"]=p2[\"PRESENCE_OF_CHILDREN\"].astype(int)"
   ]
  },
  {
   "cell_type": "code",
   "execution_count": 738,
   "metadata": {},
   "outputs": [],
   "source": [
    "# Marital Status-->"
   ]
  },
  {
   "cell_type": "code",
   "execution_count": 739,
   "metadata": {},
   "outputs": [
    {
     "data": {
      "text/plain": [
       ".        3341\n",
       "0        3053\n",
       "1        2841\n",
       "2         484\n",
       "#REF!      10\n",
       "Name: MARITAL_STATUS, dtype: int64"
      ]
     },
     "execution_count": 739,
     "metadata": {},
     "output_type": "execute_result"
    }
   ],
   "source": [
    "p2[\"MARITAL_STATUS\"].value_counts()"
   ]
  },
  {
   "cell_type": "code",
   "execution_count": 740,
   "metadata": {},
   "outputs": [],
   "source": [
    "p2.loc[p2.MARITAL_STATUS==\"#REF!\",\"MARITAL_STATUS\"]=3\n",
    "p2.loc[p2.MARITAL_STATUS==\".\",\"MARITAL_STATUS\"]=3"
   ]
  },
  {
   "cell_type": "code",
   "execution_count": 741,
   "metadata": {},
   "outputs": [
    {
     "data": {
      "text/plain": [
       "271"
      ]
     },
     "execution_count": 741,
     "metadata": {},
     "output_type": "execute_result"
    }
   ],
   "source": [
    "p2[\"MARITAL_STATUS\"].isnull().sum()"
   ]
  },
  {
   "cell_type": "code",
   "execution_count": 742,
   "metadata": {},
   "outputs": [],
   "source": [
    "p2[\"MARITAL_STATUS\"]=p2[\"MARITAL_STATUS\"].fillna(3)"
   ]
  },
  {
   "cell_type": "code",
   "execution_count": 743,
   "metadata": {},
   "outputs": [],
   "source": [
    "# Replacing null, . and #REF values with 3 indicates that we can not tell about the marital status of the person"
   ]
  },
  {
   "cell_type": "code",
   "execution_count": 744,
   "metadata": {},
   "outputs": [],
   "source": [
    "p2[\"MARITAL_STATUS\"]=p2[\"MARITAL_STATUS\"].astype(int)"
   ]
  },
  {
   "cell_type": "code",
   "execution_count": 745,
   "metadata": {},
   "outputs": [],
   "source": [
    "# Income-->"
   ]
  },
  {
   "cell_type": "code",
   "execution_count": 746,
   "metadata": {},
   "outputs": [
    {
     "data": {
      "text/plain": [
       "0    2326\n",
       "3    1440\n",
       "5    1175\n",
       "4    1171\n",
       "6    1103\n",
       "A     551\n",
       "7     421\n",
       "2     383\n",
       "8     379\n",
       "D     272\n",
       "9     234\n",
       "1     228\n",
       "C     179\n",
       "B     138\n",
       "Name: INCOME, dtype: int64"
      ]
     },
     "execution_count": 746,
     "metadata": {},
     "output_type": "execute_result"
    }
   ],
   "source": [
    "p2[\"INCOME\"].value_counts()"
   ]
  },
  {
   "cell_type": "code",
   "execution_count": 747,
   "metadata": {},
   "outputs": [
    {
     "data": {
      "text/plain": [
       "0"
      ]
     },
     "execution_count": 747,
     "metadata": {},
     "output_type": "execute_result"
    }
   ],
   "source": [
    "p2[\"INCOME\"].isnull().sum()"
   ]
  },
  {
   "cell_type": "code",
   "execution_count": 748,
   "metadata": {},
   "outputs": [],
   "source": [
    "p2.loc[p2.INCOME==\"A\",\"INCOME\"]=11\n",
    "p2.loc[p2.INCOME==\"B\",\"INCOME\"]=12\n",
    "p2.loc[p2.INCOME==\"C\",\"INCOME\"]=13\n",
    "p2.loc[p2.INCOME==\"D\",\"INCOME\"]=14"
   ]
  },
  {
   "cell_type": "code",
   "execution_count": 749,
   "metadata": {},
   "outputs": [],
   "source": [
    "p2[\"INCOME\"]=p2[\"INCOME\"].astype(int)"
   ]
  },
  {
   "cell_type": "code",
   "execution_count": 750,
   "metadata": {},
   "outputs": [],
   "source": [
    "# Age-->"
   ]
  },
  {
   "cell_type": "code",
   "execution_count": 751,
   "metadata": {},
   "outputs": [
    {
     "data": {
      "text/plain": [
       "53       325\n",
       "49       270\n",
       "56       262\n",
       "54       253\n",
       "65       251\n",
       "        ... \n",
       "83        13\n",
       "84        10\n",
       "89         9\n",
       "78         8\n",
       "#REF!      8\n",
       "Name: AGE, Length: 66, dtype: int64"
      ]
     },
     "execution_count": 751,
     "metadata": {},
     "output_type": "execute_result"
    }
   ],
   "source": [
    "p2[\"AGE\"].value_counts()"
   ]
  },
  {
   "cell_type": "code",
   "execution_count": 752,
   "metadata": {},
   "outputs": [
    {
     "data": {
      "text/plain": [
       "0"
      ]
     },
     "execution_count": 752,
     "metadata": {},
     "output_type": "execute_result"
    }
   ],
   "source": [
    "p2[\"AGE\"].isnull().sum()"
   ]
  },
  {
   "cell_type": "code",
   "execution_count": 753,
   "metadata": {},
   "outputs": [],
   "source": [
    "p2[p2[\"AGE\"]==\".\"]=0\n",
    "p2[p2[\"AGE\"]==\"#REF!\"]=0"
   ]
  },
  {
   "cell_type": "code",
   "execution_count": 754,
   "metadata": {},
   "outputs": [],
   "source": [
    "p2[\"AGE\"]=p2[\"AGE\"].astype(int)"
   ]
  },
  {
   "cell_type": "code",
   "execution_count": 755,
   "metadata": {},
   "outputs": [],
   "source": [
    "# First Communication Date-->"
   ]
  },
  {
   "cell_type": "code",
   "execution_count": 756,
   "metadata": {},
   "outputs": [
    {
     "data": {
      "text/plain": [
       "0"
      ]
     },
     "execution_count": 756,
     "metadata": {},
     "output_type": "execute_result"
    }
   ],
   "source": [
    "p2[\"FIRST_COMMUNICATION_DATE\"].isnull().sum()"
   ]
  },
  {
   "cell_type": "code",
   "execution_count": 757,
   "metadata": {},
   "outputs": [],
   "source": [
    "p2[\"FIRST_COMMUNICATION_DATE\"]=pd.to_datetime(p2[\"FIRST_COMMUNICATION_DATE\"],errors=\"coerce\")"
   ]
  },
  {
   "cell_type": "code",
   "execution_count": 758,
   "metadata": {},
   "outputs": [],
   "source": [
    "p2[\"FIRST_COMMUNICATION_DATE_Year\"]=pd.DatetimeIndex(p2[\"FIRST_COMMUNICATION_DATE\"]).year"
   ]
  },
  {
   "cell_type": "code",
   "execution_count": 759,
   "metadata": {},
   "outputs": [],
   "source": [
    "p2[\"FIRST_COMMUNICATION_DATE_Month\"]=pd.DatetimeIndex(p2[\"FIRST_COMMUNICATION_DATE\"]).month"
   ]
  },
  {
   "cell_type": "code",
   "execution_count": 760,
   "metadata": {},
   "outputs": [],
   "source": [
    "p2[\"FIRST_COMMUNICATION_DATE_Day\"]=pd.DatetimeIndex(p2[\"FIRST_COMMUNICATION_DATE\"]).day"
   ]
  },
  {
   "cell_type": "code",
   "execution_count": 761,
   "metadata": {},
   "outputs": [],
   "source": [
    "p2[\"FIRST_COMMUNICATION_DATE_Year\"]=p2[\"FIRST_COMMUNICATION_DATE_Year\"].fillna(0)"
   ]
  },
  {
   "cell_type": "code",
   "execution_count": 762,
   "metadata": {},
   "outputs": [],
   "source": [
    "p2[\"FIRST_COMMUNICATION_DATE_Month\"]=p2[\"FIRST_COMMUNICATION_DATE_Month\"].fillna(0)"
   ]
  },
  {
   "cell_type": "code",
   "execution_count": 763,
   "metadata": {},
   "outputs": [],
   "source": [
    "p2[\"FIRST_COMMUNICATION_DATE_Day\"]=p2[\"FIRST_COMMUNICATION_DATE_Day\"].fillna(0)"
   ]
  },
  {
   "cell_type": "code",
   "execution_count": 764,
   "metadata": {},
   "outputs": [
    {
     "data": {
      "text/plain": [
       "FIRST_COMMUNICATION_DATE_Year     0\n",
       "FIRST_COMMUNICATION_DATE_Month    0\n",
       "FIRST_COMMUNICATION_DATE_Day      0\n",
       "dtype: int64"
      ]
     },
     "execution_count": 764,
     "metadata": {},
     "output_type": "execute_result"
    }
   ],
   "source": [
    "p2[[\"FIRST_COMMUNICATION_DATE_Year\",\"FIRST_COMMUNICATION_DATE_Month\",\"FIRST_COMMUNICATION_DATE_Day\"]].isnull().sum()"
   ]
  },
  {
   "cell_type": "code",
   "execution_count": 765,
   "metadata": {},
   "outputs": [],
   "source": [
    "# Upgrade Date-->"
   ]
  },
  {
   "cell_type": "code",
   "execution_count": 766,
   "metadata": {},
   "outputs": [
    {
     "data": {
      "text/plain": [
       "879"
      ]
     },
     "execution_count": 766,
     "metadata": {},
     "output_type": "execute_result"
    }
   ],
   "source": [
    "p2[\"UPGRADE_DATE\"].isnull().sum()"
   ]
  },
  {
   "cell_type": "code",
   "execution_count": 767,
   "metadata": {},
   "outputs": [],
   "source": [
    "p2[\"UPGRADE_DATE\"]=pd.to_datetime(p2[\"UPGRADE_DATE\"],errors=\"coerce\")"
   ]
  },
  {
   "cell_type": "code",
   "execution_count": 768,
   "metadata": {},
   "outputs": [],
   "source": [
    "p2[\"UPGRADE_DATE_Year\"]=pd.DatetimeIndex(p2[\"UPGRADE_DATE\"]).year"
   ]
  },
  {
   "cell_type": "code",
   "execution_count": 769,
   "metadata": {},
   "outputs": [],
   "source": [
    "p2[\"UPGRADE_DATE_Month\"]=pd.DatetimeIndex(p2[\"UPGRADE_DATE\"]).month"
   ]
  },
  {
   "cell_type": "code",
   "execution_count": 770,
   "metadata": {},
   "outputs": [],
   "source": [
    "p2[\"UPGRADE_DATE_Day\"]=pd.DatetimeIndex(p2[\"UPGRADE_DATE\"]).day"
   ]
  },
  {
   "cell_type": "code",
   "execution_count": 771,
   "metadata": {},
   "outputs": [],
   "source": [
    "p2[\"UPGRADE_DATE_Year\"]=p2[\"UPGRADE_DATE_Year\"].fillna(0)"
   ]
  },
  {
   "cell_type": "code",
   "execution_count": 772,
   "metadata": {},
   "outputs": [],
   "source": [
    "p2[\"UPGRADE_DATE_Month\"]=p2[\"UPGRADE_DATE_Month\"].fillna(0)"
   ]
  },
  {
   "cell_type": "code",
   "execution_count": 773,
   "metadata": {},
   "outputs": [],
   "source": [
    "p2[\"UPGRADE_DATE_Day\"]=p2[\"UPGRADE_DATE_Day\"].fillna(0)"
   ]
  },
  {
   "cell_type": "code",
   "execution_count": 774,
   "metadata": {},
   "outputs": [
    {
     "data": {
      "text/plain": [
       "UPGRADE_DATE_Year     0\n",
       "UPGRADE_DATE_Month    0\n",
       "UPGRADE_DATE_Day      0\n",
       "dtype: int64"
      ]
     },
     "execution_count": 774,
     "metadata": {},
     "output_type": "execute_result"
    }
   ],
   "source": [
    "p2[[\"UPGRADE_DATE_Year\",\"UPGRADE_DATE_Month\",\"UPGRADE_DATE_Day\"]].isnull().sum()"
   ]
  },
  {
   "cell_type": "code",
   "execution_count": null,
   "metadata": {},
   "outputs": [],
   "source": []
  },
  {
   "cell_type": "code",
   "execution_count": null,
   "metadata": {},
   "outputs": [],
   "source": []
  },
  {
   "cell_type": "code",
   "execution_count": 392,
   "metadata": {},
   "outputs": [],
   "source": [
    "## CATEGORICAL VARIABLES :"
   ]
  },
  {
   "cell_type": "code",
   "execution_count": 775,
   "metadata": {},
   "outputs": [],
   "source": [
    "# Taling Service plan, Most recent sales channel, Direct Indirect channel, sales source, company source name, state,\n",
    "# feedback, site type desc, model and satellite into account"
   ]
  },
  {
   "cell_type": "code",
   "execution_count": 776,
   "metadata": {},
   "outputs": [],
   "source": [
    "# Missing Value Imputation--"
   ]
  },
  {
   "cell_type": "code",
   "execution_count": 777,
   "metadata": {},
   "outputs": [],
   "source": [
    "p2['SERVICE_PLAN']=p2['SERVICE_PLAN'].fillna(\"Not Mentioned\")"
   ]
  },
  {
   "cell_type": "code",
   "execution_count": 778,
   "metadata": {},
   "outputs": [],
   "source": [
    "p2['MODEL']=p2['MODEL'].fillna(\"Not Mentioned\")"
   ]
  },
  {
   "cell_type": "code",
   "execution_count": 779,
   "metadata": {},
   "outputs": [],
   "source": [
    "p2['DIRECT_INDIRECT_CHANNEL']=p2['DIRECT_INDIRECT_CHANNEL'].fillna(\"Not Mentioned\")"
   ]
  },
  {
   "cell_type": "code",
   "execution_count": 780,
   "metadata": {},
   "outputs": [],
   "source": [
    "p2['SALES_SOURCE']=p2['SALES_SOURCE'].fillna(\"Not Mentioned\")"
   ]
  },
  {
   "cell_type": "code",
   "execution_count": 781,
   "metadata": {},
   "outputs": [],
   "source": [
    "p2['COMPANY_SOURCE_NAME']=p2['COMPANY_SOURCE_NAME'].fillna(\"Not Mentioned\")"
   ]
  },
  {
   "cell_type": "code",
   "execution_count": 782,
   "metadata": {},
   "outputs": [],
   "source": [
    "p2['SATELLITE']=p2['SATELLITE'].fillna(\"Not Mentioned\")"
   ]
  },
  {
   "cell_type": "code",
   "execution_count": 783,
   "metadata": {},
   "outputs": [],
   "source": [
    "p2[\"STATE\"]=p2[\"STATE\"].fillna(\"Not Mentioned\")"
   ]
  },
  {
   "cell_type": "code",
   "execution_count": 784,
   "metadata": {},
   "outputs": [],
   "source": [
    "p2[\"SITE_TYPE_DESC\"]=p2[\"SITE_TYPE_DESC\"].fillna(\"Not Mentioned\")"
   ]
  },
  {
   "cell_type": "code",
   "execution_count": 785,
   "metadata": {},
   "outputs": [],
   "source": [
    "p2[\"MOST_RECENT_SALES_CHANNEL\"]=p2[\"MOST_RECENT_SALES_CHANNEL\"].fillna(\"Not Mentioned\")"
   ]
  },
  {
   "cell_type": "code",
   "execution_count": 786,
   "metadata": {},
   "outputs": [],
   "source": [
    "p2['FEEDBACK']=p2['FEEDBACK'].fillna(\"Not Mentioned\")"
   ]
  },
  {
   "cell_type": "code",
   "execution_count": 787,
   "metadata": {},
   "outputs": [
    {
     "data": {
      "text/plain": [
       "SERVICE_PLAN                 0\n",
       "MODEL                        0\n",
       "DIRECT_INDIRECT_CHANNEL      0\n",
       "SALES_SOURCE                 0\n",
       "COMPANY_SOURCE_NAME          0\n",
       "FEEDBACK                     0\n",
       "SATELLITE                    0\n",
       "STATE                        0\n",
       "SITE_TYPE_DESC               0\n",
       "MOST_RECENT_SALES_CHANNEL    0\n",
       "dtype: int64"
      ]
     },
     "execution_count": 787,
     "metadata": {},
     "output_type": "execute_result"
    }
   ],
   "source": [
    "p2[['SERVICE_PLAN', 'MODEL','DIRECT_INDIRECT_CHANNEL', 'SALES_SOURCE', 'COMPANY_SOURCE_NAME','FEEDBACK', \n",
    "    'SATELLITE',\"STATE\",\"SITE_TYPE_DESC\",\"MOST_RECENT_SALES_CHANNEL\"]].isnull().sum()"
   ]
  },
  {
   "cell_type": "code",
   "execution_count": null,
   "metadata": {},
   "outputs": [],
   "source": []
  },
  {
   "cell_type": "code",
   "execution_count": 788,
   "metadata": {},
   "outputs": [],
   "source": [
    "# Dummy creation for categorical variables--"
   ]
  },
  {
   "cell_type": "code",
   "execution_count": 789,
   "metadata": {},
   "outputs": [],
   "source": [
    "cat1=pd.get_dummies(p2['SERVICE_PLAN'])"
   ]
  },
  {
   "cell_type": "code",
   "execution_count": 790,
   "metadata": {},
   "outputs": [],
   "source": [
    "cat1=cat1.add_prefix(\"Service_Plan_\")"
   ]
  },
  {
   "cell_type": "code",
   "execution_count": 791,
   "metadata": {},
   "outputs": [],
   "source": [
    "cat2=pd.get_dummies(p2['MODEL'])"
   ]
  },
  {
   "cell_type": "code",
   "execution_count": 792,
   "metadata": {},
   "outputs": [],
   "source": [
    "cat2=cat2.add_prefix(\"Model_\")"
   ]
  },
  {
   "cell_type": "code",
   "execution_count": 793,
   "metadata": {},
   "outputs": [],
   "source": [
    "cat3=pd.get_dummies(p2['DIRECT_INDIRECT_CHANNEL'])"
   ]
  },
  {
   "cell_type": "code",
   "execution_count": 794,
   "metadata": {},
   "outputs": [],
   "source": [
    "cat3=cat3.add_prefix(\"Direct_Indirect_Channel_\")"
   ]
  },
  {
   "cell_type": "code",
   "execution_count": 795,
   "metadata": {},
   "outputs": [],
   "source": [
    "cat4=pd.get_dummies(p2['SALES_SOURCE'])"
   ]
  },
  {
   "cell_type": "code",
   "execution_count": 796,
   "metadata": {},
   "outputs": [],
   "source": [
    "cat4=cat4.add_prefix(\"Sales_source_\")"
   ]
  },
  {
   "cell_type": "code",
   "execution_count": 797,
   "metadata": {},
   "outputs": [],
   "source": [
    "cat5=pd.get_dummies(p2['COMPANY_SOURCE_NAME'])"
   ]
  },
  {
   "cell_type": "code",
   "execution_count": 798,
   "metadata": {},
   "outputs": [],
   "source": [
    "cat5=cat5.add_prefix(\"Company_source_name\")"
   ]
  },
  {
   "cell_type": "code",
   "execution_count": 799,
   "metadata": {},
   "outputs": [],
   "source": [
    "cat6=pd.get_dummies(p2['SATELLITE'])"
   ]
  },
  {
   "cell_type": "code",
   "execution_count": 800,
   "metadata": {},
   "outputs": [],
   "source": [
    "cat6=cat6.add_prefix(\"Satellite\")"
   ]
  },
  {
   "cell_type": "code",
   "execution_count": 801,
   "metadata": {},
   "outputs": [],
   "source": [
    "cat7=pd.get_dummies(p2['STATE'])"
   ]
  },
  {
   "cell_type": "code",
   "execution_count": 802,
   "metadata": {},
   "outputs": [],
   "source": [
    "cat7=cat7.add_prefix(\"State_\")"
   ]
  },
  {
   "cell_type": "code",
   "execution_count": 803,
   "metadata": {},
   "outputs": [],
   "source": [
    "cat8=pd.get_dummies(p2['SITE_TYPE_DESC'])"
   ]
  },
  {
   "cell_type": "code",
   "execution_count": 804,
   "metadata": {},
   "outputs": [],
   "source": [
    "cat8=cat8.add_prefix(\"Site_Type_Desc_\")"
   ]
  },
  {
   "cell_type": "code",
   "execution_count": 805,
   "metadata": {},
   "outputs": [],
   "source": [
    "cat9=pd.get_dummies(p2['MOST_RECENT_SALES_CHANNEL'])"
   ]
  },
  {
   "cell_type": "code",
   "execution_count": 806,
   "metadata": {},
   "outputs": [],
   "source": [
    "cat9=cat9.add_prefix(\"Most_Recent_sales_channel_\")"
   ]
  },
  {
   "cell_type": "code",
   "execution_count": 807,
   "metadata": {},
   "outputs": [],
   "source": [
    "cat10=pd.get_dummies(p2['FEEDBACK'])"
   ]
  },
  {
   "cell_type": "code",
   "execution_count": 808,
   "metadata": {},
   "outputs": [],
   "source": [
    "cat10=cat10.add_prefix(\"Feedback_\")"
   ]
  },
  {
   "cell_type": "code",
   "execution_count": 809,
   "metadata": {},
   "outputs": [],
   "source": [
    "p2=p2.drop(['SERVICE_PLAN', 'MODEL','DIRECT_INDIRECT_CHANNEL', 'SALES_SOURCE', 'COMPANY_SOURCE_NAME','FEEDBACK', \n",
    "    'SATELLITE',\"STATE\",\"SITE_TYPE_DESC\",\"MOST_RECENT_SALES_CHANNEL\"],axis=1)"
   ]
  },
  {
   "cell_type": "code",
   "execution_count": null,
   "metadata": {},
   "outputs": [],
   "source": []
  },
  {
   "cell_type": "code",
   "execution_count": 429,
   "metadata": {},
   "outputs": [],
   "source": [
    "# Merging dummy categorical variables with the original dataset."
   ]
  },
  {
   "cell_type": "code",
   "execution_count": 810,
   "metadata": {},
   "outputs": [],
   "source": [
    "p2=pd.concat([p2,cat1,cat2,cat3,cat4,cat5,cat6,cat7,cat8,cat9,cat10],axis=1)"
   ]
  },
  {
   "cell_type": "code",
   "execution_count": 811,
   "metadata": {},
   "outputs": [
    {
     "data": {
      "text/html": [
       "<div>\n",
       "<style scoped>\n",
       "    .dataframe tbody tr th:only-of-type {\n",
       "        vertical-align: middle;\n",
       "    }\n",
       "\n",
       "    .dataframe tbody tr th {\n",
       "        vertical-align: top;\n",
       "    }\n",
       "\n",
       "    .dataframe thead th {\n",
       "        text-align: right;\n",
       "    }\n",
       "</style>\n",
       "<table border=\"1\" class=\"dataframe\">\n",
       "  <thead>\n",
       "    <tr style=\"text-align: right;\">\n",
       "      <th></th>\n",
       "      <th>SITE_ACCOUNT_NUMBER</th>\n",
       "      <th>ACCOUNT_STATUS</th>\n",
       "      <th>FIRST_COMMUNICATION_DATE</th>\n",
       "      <th>CHURN_DATE</th>\n",
       "      <th>UPGRADE_DATE</th>\n",
       "      <th>FIRST_NAME</th>\n",
       "      <th>LAST_NAME</th>\n",
       "      <th>ADDRESS</th>\n",
       "      <th>CITY</th>\n",
       "      <th>ZIPCODE</th>\n",
       "      <th>...</th>\n",
       "      <th>Most_Recent_sales_channel_National Sales</th>\n",
       "      <th>Most_Recent_sales_channel_Not Mentioned</th>\n",
       "      <th>Most_Recent_sales_channel_Retail</th>\n",
       "      <th>Most_Recent_sales_channel_Retail - Direct Order</th>\n",
       "      <th>Most_Recent_sales_channel_UNKNOWN</th>\n",
       "      <th>Most_Recent_sales_channel_Used Equipment</th>\n",
       "      <th>Feedback_0</th>\n",
       "      <th>Feedback_BAD</th>\n",
       "      <th>Feedback_GOOD</th>\n",
       "      <th>Feedback_Not Mentioned</th>\n",
       "    </tr>\n",
       "  </thead>\n",
       "  <tbody>\n",
       "    <tr>\n",
       "      <th>0</th>\n",
       "      <td>AMR-53205840</td>\n",
       "      <td>Closed</td>\n",
       "      <td>2002-01-18</td>\n",
       "      <td>4/2/2006</td>\n",
       "      <td>2004-01-03</td>\n",
       "      <td>Rennisa</td>\n",
       "      <td>Branson</td>\n",
       "      <td>826 Nesom Rd.</td>\n",
       "      <td>TRINITY</td>\n",
       "      <td>75862</td>\n",
       "      <td>...</td>\n",
       "      <td>0</td>\n",
       "      <td>0</td>\n",
       "      <td>0</td>\n",
       "      <td>0</td>\n",
       "      <td>0</td>\n",
       "      <td>0</td>\n",
       "      <td>0</td>\n",
       "      <td>1</td>\n",
       "      <td>0</td>\n",
       "      <td>0</td>\n",
       "    </tr>\n",
       "    <tr>\n",
       "      <th>1</th>\n",
       "      <td>AMR-53383136</td>\n",
       "      <td>Closed</td>\n",
       "      <td>2002-01-02</td>\n",
       "      <td>7/9/2006</td>\n",
       "      <td>2004-07-28</td>\n",
       "      <td>Howard</td>\n",
       "      <td>Dachs</td>\n",
       "      <td>25 Valley View Lane</td>\n",
       "      <td>AVA</td>\n",
       "      <td>65608</td>\n",
       "      <td>...</td>\n",
       "      <td>1</td>\n",
       "      <td>0</td>\n",
       "      <td>0</td>\n",
       "      <td>0</td>\n",
       "      <td>0</td>\n",
       "      <td>0</td>\n",
       "      <td>0</td>\n",
       "      <td>1</td>\n",
       "      <td>0</td>\n",
       "      <td>0</td>\n",
       "    </tr>\n",
       "    <tr>\n",
       "      <th>2</th>\n",
       "      <td>AMR-53608585</td>\n",
       "      <td>Closed</td>\n",
       "      <td>2002-01-06</td>\n",
       "      <td>12/30/2008</td>\n",
       "      <td>2005-04-27</td>\n",
       "      <td>Pavel</td>\n",
       "      <td>Groisman</td>\n",
       "      <td>920 rockhold dr</td>\n",
       "      <td>THURMONT</td>\n",
       "      <td>21788</td>\n",
       "      <td>...</td>\n",
       "      <td>0</td>\n",
       "      <td>0</td>\n",
       "      <td>0</td>\n",
       "      <td>0</td>\n",
       "      <td>0</td>\n",
       "      <td>0</td>\n",
       "      <td>0</td>\n",
       "      <td>1</td>\n",
       "      <td>0</td>\n",
       "      <td>0</td>\n",
       "    </tr>\n",
       "    <tr>\n",
       "      <th>3</th>\n",
       "      <td>AMR-53610590</td>\n",
       "      <td>Closed</td>\n",
       "      <td>2002-01-05</td>\n",
       "      <td>8/19/2004</td>\n",
       "      <td>NaT</td>\n",
       "      <td>Stoneysmita</td>\n",
       "      <td>Stoneysmith</td>\n",
       "      <td>2501dune forest</td>\n",
       "      <td>KENEDY</td>\n",
       "      <td>78119</td>\n",
       "      <td>...</td>\n",
       "      <td>0</td>\n",
       "      <td>0</td>\n",
       "      <td>0</td>\n",
       "      <td>0</td>\n",
       "      <td>0</td>\n",
       "      <td>0</td>\n",
       "      <td>0</td>\n",
       "      <td>0</td>\n",
       "      <td>1</td>\n",
       "      <td>0</td>\n",
       "    </tr>\n",
       "    <tr>\n",
       "      <th>4</th>\n",
       "      <td>AMR-53612154</td>\n",
       "      <td>Closed</td>\n",
       "      <td>2002-01-05</td>\n",
       "      <td>8/17/2006</td>\n",
       "      <td>2005-11-12</td>\n",
       "      <td>Bryana</td>\n",
       "      <td>Emilio</td>\n",
       "      <td>RR 1 Box 134-1</td>\n",
       "      <td>LOVELL</td>\n",
       "      <td>4051</td>\n",
       "      <td>...</td>\n",
       "      <td>0</td>\n",
       "      <td>0</td>\n",
       "      <td>0</td>\n",
       "      <td>0</td>\n",
       "      <td>0</td>\n",
       "      <td>0</td>\n",
       "      <td>0</td>\n",
       "      <td>0</td>\n",
       "      <td>0</td>\n",
       "      <td>1</td>\n",
       "    </tr>\n",
       "  </tbody>\n",
       "</table>\n",
       "<p>5 rows × 278 columns</p>\n",
       "</div>"
      ],
      "text/plain": [
       "  SITE_ACCOUNT_NUMBER ACCOUNT_STATUS FIRST_COMMUNICATION_DATE  CHURN_DATE  \\\n",
       "0        AMR-53205840         Closed               2002-01-18    4/2/2006   \n",
       "1        AMR-53383136         Closed               2002-01-02    7/9/2006   \n",
       "2        AMR-53608585         Closed               2002-01-06  12/30/2008   \n",
       "3        AMR-53610590         Closed               2002-01-05   8/19/2004   \n",
       "4        AMR-53612154         Closed               2002-01-05   8/17/2006   \n",
       "\n",
       "  UPGRADE_DATE   FIRST_NAME    LAST_NAME              ADDRESS      CITY  \\\n",
       "0   2004-01-03      Rennisa      Branson        826 Nesom Rd.   TRINITY   \n",
       "1   2004-07-28       Howard        Dachs  25 Valley View Lane       AVA   \n",
       "2   2005-04-27        Pavel     Groisman      920 rockhold dr  THURMONT   \n",
       "3          NaT  Stoneysmita  Stoneysmith      2501dune forest    KENEDY   \n",
       "4   2005-11-12       Bryana       Emilio       RR 1 Box 134-1    LOVELL   \n",
       "\n",
       "  ZIPCODE  ... Most_Recent_sales_channel_National Sales  \\\n",
       "0   75862  ...                                        0   \n",
       "1   65608  ...                                        1   \n",
       "2   21788  ...                                        0   \n",
       "3   78119  ...                                        0   \n",
       "4    4051  ...                                        0   \n",
       "\n",
       "  Most_Recent_sales_channel_Not Mentioned  Most_Recent_sales_channel_Retail  \\\n",
       "0                                       0                                 0   \n",
       "1                                       0                                 0   \n",
       "2                                       0                                 0   \n",
       "3                                       0                                 0   \n",
       "4                                       0                                 0   \n",
       "\n",
       "  Most_Recent_sales_channel_Retail - Direct Order  \\\n",
       "0                                               0   \n",
       "1                                               0   \n",
       "2                                               0   \n",
       "3                                               0   \n",
       "4                                               0   \n",
       "\n",
       "   Most_Recent_sales_channel_UNKNOWN  \\\n",
       "0                                  0   \n",
       "1                                  0   \n",
       "2                                  0   \n",
       "3                                  0   \n",
       "4                                  0   \n",
       "\n",
       "   Most_Recent_sales_channel_Used Equipment  Feedback_0  Feedback_BAD  \\\n",
       "0                                         0           0             1   \n",
       "1                                         0           0             1   \n",
       "2                                         0           0             1   \n",
       "3                                         0           0             0   \n",
       "4                                         0           0             0   \n",
       "\n",
       "   Feedback_GOOD  Feedback_Not Mentioned  \n",
       "0              0                       0  \n",
       "1              0                       0  \n",
       "2              0                       0  \n",
       "3              1                       0  \n",
       "4              0                       1  \n",
       "\n",
       "[5 rows x 278 columns]"
      ]
     },
     "execution_count": 811,
     "metadata": {},
     "output_type": "execute_result"
    }
   ],
   "source": [
    "p2.head()"
   ]
  },
  {
   "cell_type": "code",
   "execution_count": null,
   "metadata": {},
   "outputs": [],
   "source": []
  },
  {
   "cell_type": "code",
   "execution_count": 812,
   "metadata": {},
   "outputs": [],
   "source": [
    "# Multi-Index Creation--"
   ]
  },
  {
   "cell_type": "code",
   "execution_count": 813,
   "metadata": {},
   "outputs": [],
   "source": [
    "p2[\"NAME\"]=p2['FIRST_NAME']+ p2['LAST_NAME']"
   ]
  },
  {
   "cell_type": "code",
   "execution_count": 814,
   "metadata": {},
   "outputs": [],
   "source": [
    "p2=p2.set_index([\"SITE_ACCOUNT_NUMBER\",\"NAME\",\"EMAIL_ADDRESS\",\"CITY\"])"
   ]
  },
  {
   "cell_type": "code",
   "execution_count": 815,
   "metadata": {},
   "outputs": [],
   "source": [
    "p2_select=p2.select_dtypes([\"int32\",\"float\",\"uint8\",\"float64\"])"
   ]
  },
  {
   "cell_type": "code",
   "execution_count": 816,
   "metadata": {},
   "outputs": [
    {
     "data": {
      "text/html": [
       "<div>\n",
       "<style scoped>\n",
       "    .dataframe tbody tr th:only-of-type {\n",
       "        vertical-align: middle;\n",
       "    }\n",
       "\n",
       "    .dataframe tbody tr th {\n",
       "        vertical-align: top;\n",
       "    }\n",
       "\n",
       "    .dataframe thead th {\n",
       "        text-align: right;\n",
       "    }\n",
       "</style>\n",
       "<table border=\"1\" class=\"dataframe\">\n",
       "  <thead>\n",
       "    <tr style=\"text-align: right;\">\n",
       "      <th></th>\n",
       "      <th></th>\n",
       "      <th></th>\n",
       "      <th></th>\n",
       "      <th>GENDER</th>\n",
       "      <th>AGE</th>\n",
       "      <th>INCOME</th>\n",
       "      <th>MARITAL_STATUS</th>\n",
       "      <th>PRESENCE_OF_CHILDREN</th>\n",
       "      <th>UPGRADE_DATE_Year</th>\n",
       "      <th>UPGRADE_DATE_Month</th>\n",
       "      <th>UPGRADE_DATE_Day</th>\n",
       "      <th>Service_Plan_0</th>\n",
       "      <th>Service_Plan_Basic</th>\n",
       "      <th>...</th>\n",
       "      <th>Most_Recent_sales_channel_National Sales</th>\n",
       "      <th>Most_Recent_sales_channel_Not Mentioned</th>\n",
       "      <th>Most_Recent_sales_channel_Retail</th>\n",
       "      <th>Most_Recent_sales_channel_Retail - Direct Order</th>\n",
       "      <th>Most_Recent_sales_channel_UNKNOWN</th>\n",
       "      <th>Most_Recent_sales_channel_Used Equipment</th>\n",
       "      <th>Feedback_0</th>\n",
       "      <th>Feedback_BAD</th>\n",
       "      <th>Feedback_GOOD</th>\n",
       "      <th>Feedback_Not Mentioned</th>\n",
       "    </tr>\n",
       "    <tr>\n",
       "      <th>SITE_ACCOUNT_NUMBER</th>\n",
       "      <th>NAME</th>\n",
       "      <th>EMAIL_ADDRESS</th>\n",
       "      <th>CITY</th>\n",
       "      <th></th>\n",
       "      <th></th>\n",
       "      <th></th>\n",
       "      <th></th>\n",
       "      <th></th>\n",
       "      <th></th>\n",
       "      <th></th>\n",
       "      <th></th>\n",
       "      <th></th>\n",
       "      <th></th>\n",
       "      <th></th>\n",
       "      <th></th>\n",
       "      <th></th>\n",
       "      <th></th>\n",
       "      <th></th>\n",
       "      <th></th>\n",
       "      <th></th>\n",
       "      <th></th>\n",
       "      <th></th>\n",
       "      <th></th>\n",
       "      <th></th>\n",
       "    </tr>\n",
       "  </thead>\n",
       "  <tbody>\n",
       "    <tr>\n",
       "      <th>AMR-53205840</th>\n",
       "      <th>RennisaBranson</th>\n",
       "      <th>rbranson@southerninspection.co</th>\n",
       "      <th>TRINITY</th>\n",
       "      <td>2.0</td>\n",
       "      <td>48</td>\n",
       "      <td>0</td>\n",
       "      <td>3</td>\n",
       "      <td>2</td>\n",
       "      <td>2004.0</td>\n",
       "      <td>1.0</td>\n",
       "      <td>3.0</td>\n",
       "      <td>0</td>\n",
       "      <td>0</td>\n",
       "      <td>...</td>\n",
       "      <td>0</td>\n",
       "      <td>0</td>\n",
       "      <td>0</td>\n",
       "      <td>0</td>\n",
       "      <td>0</td>\n",
       "      <td>0</td>\n",
       "      <td>0</td>\n",
       "      <td>1</td>\n",
       "      <td>0</td>\n",
       "      <td>0</td>\n",
       "    </tr>\n",
       "    <tr>\n",
       "      <th>AMR-53383136</th>\n",
       "      <th>HowardDachs</th>\n",
       "      <th>howvood@hughes.net</th>\n",
       "      <th>AVA</th>\n",
       "      <td>0.0</td>\n",
       "      <td>47</td>\n",
       "      <td>5</td>\n",
       "      <td>0</td>\n",
       "      <td>0</td>\n",
       "      <td>2004.0</td>\n",
       "      <td>7.0</td>\n",
       "      <td>28.0</td>\n",
       "      <td>0</td>\n",
       "      <td>0</td>\n",
       "      <td>...</td>\n",
       "      <td>1</td>\n",
       "      <td>0</td>\n",
       "      <td>0</td>\n",
       "      <td>0</td>\n",
       "      <td>0</td>\n",
       "      <td>0</td>\n",
       "      <td>0</td>\n",
       "      <td>1</td>\n",
       "      <td>0</td>\n",
       "      <td>0</td>\n",
       "    </tr>\n",
       "    <tr>\n",
       "      <th>AMR-53608585</th>\n",
       "      <th>PavelGroisman</th>\n",
       "      <th>pavel.groisman@hughes.net</th>\n",
       "      <th>THURMONT</th>\n",
       "      <td>2.0</td>\n",
       "      <td>61</td>\n",
       "      <td>8</td>\n",
       "      <td>1</td>\n",
       "      <td>0</td>\n",
       "      <td>2005.0</td>\n",
       "      <td>4.0</td>\n",
       "      <td>27.0</td>\n",
       "      <td>0</td>\n",
       "      <td>0</td>\n",
       "      <td>...</td>\n",
       "      <td>0</td>\n",
       "      <td>0</td>\n",
       "      <td>0</td>\n",
       "      <td>0</td>\n",
       "      <td>0</td>\n",
       "      <td>0</td>\n",
       "      <td>0</td>\n",
       "      <td>1</td>\n",
       "      <td>0</td>\n",
       "      <td>0</td>\n",
       "    </tr>\n",
       "    <tr>\n",
       "      <th>AMR-53610590</th>\n",
       "      <th>StoneysmitaStoneysmith</th>\n",
       "      <th>jfary@hughes.net</th>\n",
       "      <th>KENEDY</th>\n",
       "      <td>1.0</td>\n",
       "      <td>64</td>\n",
       "      <td>0</td>\n",
       "      <td>3</td>\n",
       "      <td>2</td>\n",
       "      <td>0.0</td>\n",
       "      <td>0.0</td>\n",
       "      <td>0.0</td>\n",
       "      <td>0</td>\n",
       "      <td>0</td>\n",
       "      <td>...</td>\n",
       "      <td>0</td>\n",
       "      <td>0</td>\n",
       "      <td>0</td>\n",
       "      <td>0</td>\n",
       "      <td>0</td>\n",
       "      <td>0</td>\n",
       "      <td>0</td>\n",
       "      <td>0</td>\n",
       "      <td>1</td>\n",
       "      <td>0</td>\n",
       "    </tr>\n",
       "    <tr>\n",
       "      <th>AMR-53612154</th>\n",
       "      <th>BryanaEmilio</th>\n",
       "      <th>dp_photo@hughes.net</th>\n",
       "      <th>LOVELL</th>\n",
       "      <td>1.0</td>\n",
       "      <td>56</td>\n",
       "      <td>6</td>\n",
       "      <td>0</td>\n",
       "      <td>0</td>\n",
       "      <td>2005.0</td>\n",
       "      <td>11.0</td>\n",
       "      <td>12.0</td>\n",
       "      <td>0</td>\n",
       "      <td>0</td>\n",
       "      <td>...</td>\n",
       "      <td>0</td>\n",
       "      <td>0</td>\n",
       "      <td>0</td>\n",
       "      <td>0</td>\n",
       "      <td>0</td>\n",
       "      <td>0</td>\n",
       "      <td>0</td>\n",
       "      <td>0</td>\n",
       "      <td>0</td>\n",
       "      <td>1</td>\n",
       "    </tr>\n",
       "  </tbody>\n",
       "</table>\n",
       "<p>5 rows × 262 columns</p>\n",
       "</div>"
      ],
      "text/plain": [
       "                                                                                    GENDER  \\\n",
       "SITE_ACCOUNT_NUMBER NAME                   EMAIL_ADDRESS                  CITY               \n",
       "AMR-53205840        RennisaBranson         rbranson@southerninspection.co TRINITY      2.0   \n",
       "AMR-53383136        HowardDachs            howvood@hughes.net             AVA          0.0   \n",
       "AMR-53608585        PavelGroisman          pavel.groisman@hughes.net      THURMONT     2.0   \n",
       "AMR-53610590        StoneysmitaStoneysmith jfary@hughes.net               KENEDY       1.0   \n",
       "AMR-53612154        BryanaEmilio           dp_photo@hughes.net            LOVELL       1.0   \n",
       "\n",
       "                                                                                    AGE  \\\n",
       "SITE_ACCOUNT_NUMBER NAME                   EMAIL_ADDRESS                  CITY            \n",
       "AMR-53205840        RennisaBranson         rbranson@southerninspection.co TRINITY    48   \n",
       "AMR-53383136        HowardDachs            howvood@hughes.net             AVA        47   \n",
       "AMR-53608585        PavelGroisman          pavel.groisman@hughes.net      THURMONT   61   \n",
       "AMR-53610590        StoneysmitaStoneysmith jfary@hughes.net               KENEDY     64   \n",
       "AMR-53612154        BryanaEmilio           dp_photo@hughes.net            LOVELL     56   \n",
       "\n",
       "                                                                                    INCOME  \\\n",
       "SITE_ACCOUNT_NUMBER NAME                   EMAIL_ADDRESS                  CITY               \n",
       "AMR-53205840        RennisaBranson         rbranson@southerninspection.co TRINITY        0   \n",
       "AMR-53383136        HowardDachs            howvood@hughes.net             AVA            5   \n",
       "AMR-53608585        PavelGroisman          pavel.groisman@hughes.net      THURMONT       8   \n",
       "AMR-53610590        StoneysmitaStoneysmith jfary@hughes.net               KENEDY         0   \n",
       "AMR-53612154        BryanaEmilio           dp_photo@hughes.net            LOVELL         6   \n",
       "\n",
       "                                                                                    MARITAL_STATUS  \\\n",
       "SITE_ACCOUNT_NUMBER NAME                   EMAIL_ADDRESS                  CITY                       \n",
       "AMR-53205840        RennisaBranson         rbranson@southerninspection.co TRINITY                3   \n",
       "AMR-53383136        HowardDachs            howvood@hughes.net             AVA                    0   \n",
       "AMR-53608585        PavelGroisman          pavel.groisman@hughes.net      THURMONT               1   \n",
       "AMR-53610590        StoneysmitaStoneysmith jfary@hughes.net               KENEDY                 3   \n",
       "AMR-53612154        BryanaEmilio           dp_photo@hughes.net            LOVELL                 0   \n",
       "\n",
       "                                                                                    PRESENCE_OF_CHILDREN  \\\n",
       "SITE_ACCOUNT_NUMBER NAME                   EMAIL_ADDRESS                  CITY                             \n",
       "AMR-53205840        RennisaBranson         rbranson@southerninspection.co TRINITY                      2   \n",
       "AMR-53383136        HowardDachs            howvood@hughes.net             AVA                          0   \n",
       "AMR-53608585        PavelGroisman          pavel.groisman@hughes.net      THURMONT                     0   \n",
       "AMR-53610590        StoneysmitaStoneysmith jfary@hughes.net               KENEDY                       2   \n",
       "AMR-53612154        BryanaEmilio           dp_photo@hughes.net            LOVELL                       0   \n",
       "\n",
       "                                                                                    UPGRADE_DATE_Year  \\\n",
       "SITE_ACCOUNT_NUMBER NAME                   EMAIL_ADDRESS                  CITY                          \n",
       "AMR-53205840        RennisaBranson         rbranson@southerninspection.co TRINITY              2004.0   \n",
       "AMR-53383136        HowardDachs            howvood@hughes.net             AVA                  2004.0   \n",
       "AMR-53608585        PavelGroisman          pavel.groisman@hughes.net      THURMONT             2005.0   \n",
       "AMR-53610590        StoneysmitaStoneysmith jfary@hughes.net               KENEDY                  0.0   \n",
       "AMR-53612154        BryanaEmilio           dp_photo@hughes.net            LOVELL               2005.0   \n",
       "\n",
       "                                                                                    UPGRADE_DATE_Month  \\\n",
       "SITE_ACCOUNT_NUMBER NAME                   EMAIL_ADDRESS                  CITY                           \n",
       "AMR-53205840        RennisaBranson         rbranson@southerninspection.co TRINITY                  1.0   \n",
       "AMR-53383136        HowardDachs            howvood@hughes.net             AVA                      7.0   \n",
       "AMR-53608585        PavelGroisman          pavel.groisman@hughes.net      THURMONT                 4.0   \n",
       "AMR-53610590        StoneysmitaStoneysmith jfary@hughes.net               KENEDY                   0.0   \n",
       "AMR-53612154        BryanaEmilio           dp_photo@hughes.net            LOVELL                  11.0   \n",
       "\n",
       "                                                                                    UPGRADE_DATE_Day  \\\n",
       "SITE_ACCOUNT_NUMBER NAME                   EMAIL_ADDRESS                  CITY                         \n",
       "AMR-53205840        RennisaBranson         rbranson@southerninspection.co TRINITY                3.0   \n",
       "AMR-53383136        HowardDachs            howvood@hughes.net             AVA                   28.0   \n",
       "AMR-53608585        PavelGroisman          pavel.groisman@hughes.net      THURMONT              27.0   \n",
       "AMR-53610590        StoneysmitaStoneysmith jfary@hughes.net               KENEDY                 0.0   \n",
       "AMR-53612154        BryanaEmilio           dp_photo@hughes.net            LOVELL                12.0   \n",
       "\n",
       "                                                                                    Service_Plan_0  \\\n",
       "SITE_ACCOUNT_NUMBER NAME                   EMAIL_ADDRESS                  CITY                       \n",
       "AMR-53205840        RennisaBranson         rbranson@southerninspection.co TRINITY                0   \n",
       "AMR-53383136        HowardDachs            howvood@hughes.net             AVA                    0   \n",
       "AMR-53608585        PavelGroisman          pavel.groisman@hughes.net      THURMONT               0   \n",
       "AMR-53610590        StoneysmitaStoneysmith jfary@hughes.net               KENEDY                 0   \n",
       "AMR-53612154        BryanaEmilio           dp_photo@hughes.net            LOVELL                 0   \n",
       "\n",
       "                                                                                    Service_Plan_Basic  \\\n",
       "SITE_ACCOUNT_NUMBER NAME                   EMAIL_ADDRESS                  CITY                           \n",
       "AMR-53205840        RennisaBranson         rbranson@southerninspection.co TRINITY                    0   \n",
       "AMR-53383136        HowardDachs            howvood@hughes.net             AVA                        0   \n",
       "AMR-53608585        PavelGroisman          pavel.groisman@hughes.net      THURMONT                   0   \n",
       "AMR-53610590        StoneysmitaStoneysmith jfary@hughes.net               KENEDY                     0   \n",
       "AMR-53612154        BryanaEmilio           dp_photo@hughes.net            LOVELL                     0   \n",
       "\n",
       "                                                                                    ...  \\\n",
       "SITE_ACCOUNT_NUMBER NAME                   EMAIL_ADDRESS                  CITY      ...   \n",
       "AMR-53205840        RennisaBranson         rbranson@southerninspection.co TRINITY   ...   \n",
       "AMR-53383136        HowardDachs            howvood@hughes.net             AVA       ...   \n",
       "AMR-53608585        PavelGroisman          pavel.groisman@hughes.net      THURMONT  ...   \n",
       "AMR-53610590        StoneysmitaStoneysmith jfary@hughes.net               KENEDY    ...   \n",
       "AMR-53612154        BryanaEmilio           dp_photo@hughes.net            LOVELL    ...   \n",
       "\n",
       "                                                                                    Most_Recent_sales_channel_National Sales  \\\n",
       "SITE_ACCOUNT_NUMBER NAME                   EMAIL_ADDRESS                  CITY                                                 \n",
       "AMR-53205840        RennisaBranson         rbranson@southerninspection.co TRINITY                                          0   \n",
       "AMR-53383136        HowardDachs            howvood@hughes.net             AVA                                              1   \n",
       "AMR-53608585        PavelGroisman          pavel.groisman@hughes.net      THURMONT                                         0   \n",
       "AMR-53610590        StoneysmitaStoneysmith jfary@hughes.net               KENEDY                                           0   \n",
       "AMR-53612154        BryanaEmilio           dp_photo@hughes.net            LOVELL                                           0   \n",
       "\n",
       "                                                                                    Most_Recent_sales_channel_Not Mentioned  \\\n",
       "SITE_ACCOUNT_NUMBER NAME                   EMAIL_ADDRESS                  CITY                                                \n",
       "AMR-53205840        RennisaBranson         rbranson@southerninspection.co TRINITY                                         0   \n",
       "AMR-53383136        HowardDachs            howvood@hughes.net             AVA                                             0   \n",
       "AMR-53608585        PavelGroisman          pavel.groisman@hughes.net      THURMONT                                        0   \n",
       "AMR-53610590        StoneysmitaStoneysmith jfary@hughes.net               KENEDY                                          0   \n",
       "AMR-53612154        BryanaEmilio           dp_photo@hughes.net            LOVELL                                          0   \n",
       "\n",
       "                                                                                    Most_Recent_sales_channel_Retail  \\\n",
       "SITE_ACCOUNT_NUMBER NAME                   EMAIL_ADDRESS                  CITY                                         \n",
       "AMR-53205840        RennisaBranson         rbranson@southerninspection.co TRINITY                                  0   \n",
       "AMR-53383136        HowardDachs            howvood@hughes.net             AVA                                      0   \n",
       "AMR-53608585        PavelGroisman          pavel.groisman@hughes.net      THURMONT                                 0   \n",
       "AMR-53610590        StoneysmitaStoneysmith jfary@hughes.net               KENEDY                                   0   \n",
       "AMR-53612154        BryanaEmilio           dp_photo@hughes.net            LOVELL                                   0   \n",
       "\n",
       "                                                                                    Most_Recent_sales_channel_Retail - Direct Order  \\\n",
       "SITE_ACCOUNT_NUMBER NAME                   EMAIL_ADDRESS                  CITY                                                        \n",
       "AMR-53205840        RennisaBranson         rbranson@southerninspection.co TRINITY                                                 0   \n",
       "AMR-53383136        HowardDachs            howvood@hughes.net             AVA                                                     0   \n",
       "AMR-53608585        PavelGroisman          pavel.groisman@hughes.net      THURMONT                                                0   \n",
       "AMR-53610590        StoneysmitaStoneysmith jfary@hughes.net               KENEDY                                                  0   \n",
       "AMR-53612154        BryanaEmilio           dp_photo@hughes.net            LOVELL                                                  0   \n",
       "\n",
       "                                                                                    Most_Recent_sales_channel_UNKNOWN  \\\n",
       "SITE_ACCOUNT_NUMBER NAME                   EMAIL_ADDRESS                  CITY                                          \n",
       "AMR-53205840        RennisaBranson         rbranson@southerninspection.co TRINITY                                   0   \n",
       "AMR-53383136        HowardDachs            howvood@hughes.net             AVA                                       0   \n",
       "AMR-53608585        PavelGroisman          pavel.groisman@hughes.net      THURMONT                                  0   \n",
       "AMR-53610590        StoneysmitaStoneysmith jfary@hughes.net               KENEDY                                    0   \n",
       "AMR-53612154        BryanaEmilio           dp_photo@hughes.net            LOVELL                                    0   \n",
       "\n",
       "                                                                                    Most_Recent_sales_channel_Used Equipment  \\\n",
       "SITE_ACCOUNT_NUMBER NAME                   EMAIL_ADDRESS                  CITY                                                 \n",
       "AMR-53205840        RennisaBranson         rbranson@southerninspection.co TRINITY                                          0   \n",
       "AMR-53383136        HowardDachs            howvood@hughes.net             AVA                                              0   \n",
       "AMR-53608585        PavelGroisman          pavel.groisman@hughes.net      THURMONT                                         0   \n",
       "AMR-53610590        StoneysmitaStoneysmith jfary@hughes.net               KENEDY                                           0   \n",
       "AMR-53612154        BryanaEmilio           dp_photo@hughes.net            LOVELL                                           0   \n",
       "\n",
       "                                                                                    Feedback_0  \\\n",
       "SITE_ACCOUNT_NUMBER NAME                   EMAIL_ADDRESS                  CITY                   \n",
       "AMR-53205840        RennisaBranson         rbranson@southerninspection.co TRINITY            0   \n",
       "AMR-53383136        HowardDachs            howvood@hughes.net             AVA                0   \n",
       "AMR-53608585        PavelGroisman          pavel.groisman@hughes.net      THURMONT           0   \n",
       "AMR-53610590        StoneysmitaStoneysmith jfary@hughes.net               KENEDY             0   \n",
       "AMR-53612154        BryanaEmilio           dp_photo@hughes.net            LOVELL             0   \n",
       "\n",
       "                                                                                    Feedback_BAD  \\\n",
       "SITE_ACCOUNT_NUMBER NAME                   EMAIL_ADDRESS                  CITY                     \n",
       "AMR-53205840        RennisaBranson         rbranson@southerninspection.co TRINITY              1   \n",
       "AMR-53383136        HowardDachs            howvood@hughes.net             AVA                  1   \n",
       "AMR-53608585        PavelGroisman          pavel.groisman@hughes.net      THURMONT             1   \n",
       "AMR-53610590        StoneysmitaStoneysmith jfary@hughes.net               KENEDY               0   \n",
       "AMR-53612154        BryanaEmilio           dp_photo@hughes.net            LOVELL               0   \n",
       "\n",
       "                                                                                    Feedback_GOOD  \\\n",
       "SITE_ACCOUNT_NUMBER NAME                   EMAIL_ADDRESS                  CITY                      \n",
       "AMR-53205840        RennisaBranson         rbranson@southerninspection.co TRINITY               0   \n",
       "AMR-53383136        HowardDachs            howvood@hughes.net             AVA                   0   \n",
       "AMR-53608585        PavelGroisman          pavel.groisman@hughes.net      THURMONT              0   \n",
       "AMR-53610590        StoneysmitaStoneysmith jfary@hughes.net               KENEDY                1   \n",
       "AMR-53612154        BryanaEmilio           dp_photo@hughes.net            LOVELL                0   \n",
       "\n",
       "                                                                                    Feedback_Not Mentioned  \n",
       "SITE_ACCOUNT_NUMBER NAME                   EMAIL_ADDRESS                  CITY                              \n",
       "AMR-53205840        RennisaBranson         rbranson@southerninspection.co TRINITY                        0  \n",
       "AMR-53383136        HowardDachs            howvood@hughes.net             AVA                            0  \n",
       "AMR-53608585        PavelGroisman          pavel.groisman@hughes.net      THURMONT                       0  \n",
       "AMR-53610590        StoneysmitaStoneysmith jfary@hughes.net               KENEDY                         0  \n",
       "AMR-53612154        BryanaEmilio           dp_photo@hughes.net            LOVELL                         1  \n",
       "\n",
       "[5 rows x 262 columns]"
      ]
     },
     "execution_count": 816,
     "metadata": {},
     "output_type": "execute_result"
    }
   ],
   "source": [
    "p2_select.head()"
   ]
  },
  {
   "cell_type": "code",
   "execution_count": null,
   "metadata": {},
   "outputs": [],
   "source": []
  },
  {
   "cell_type": "code",
   "execution_count": 817,
   "metadata": {},
   "outputs": [],
   "source": [
    "# Taking Account Status as a dependent variable "
   ]
  },
  {
   "cell_type": "code",
   "execution_count": 818,
   "metadata": {},
   "outputs": [],
   "source": [
    "p2_select2=pd.concat([p2_select,p2[\"ACCOUNT_STATUS\"]],axis=1)"
   ]
  },
  {
   "cell_type": "code",
   "execution_count": 819,
   "metadata": {},
   "outputs": [],
   "source": [
    "p2_select2[\"ACCOUNT_STATUS\"]=np.where((p2_select2[\"ACCOUNT_STATUS\"]==\"Closed\"),1,0)"
   ]
  },
  {
   "cell_type": "code",
   "execution_count": 820,
   "metadata": {},
   "outputs": [
    {
     "data": {
      "text/html": [
       "<div>\n",
       "<style scoped>\n",
       "    .dataframe tbody tr th:only-of-type {\n",
       "        vertical-align: middle;\n",
       "    }\n",
       "\n",
       "    .dataframe tbody tr th {\n",
       "        vertical-align: top;\n",
       "    }\n",
       "\n",
       "    .dataframe thead th {\n",
       "        text-align: right;\n",
       "    }\n",
       "</style>\n",
       "<table border=\"1\" class=\"dataframe\">\n",
       "  <thead>\n",
       "    <tr style=\"text-align: right;\">\n",
       "      <th></th>\n",
       "      <th></th>\n",
       "      <th></th>\n",
       "      <th></th>\n",
       "      <th>GENDER</th>\n",
       "      <th>AGE</th>\n",
       "      <th>INCOME</th>\n",
       "      <th>MARITAL_STATUS</th>\n",
       "      <th>PRESENCE_OF_CHILDREN</th>\n",
       "      <th>UPGRADE_DATE_Year</th>\n",
       "      <th>UPGRADE_DATE_Month</th>\n",
       "      <th>UPGRADE_DATE_Day</th>\n",
       "      <th>Service_Plan_0</th>\n",
       "      <th>Service_Plan_Basic</th>\n",
       "      <th>...</th>\n",
       "      <th>Most_Recent_sales_channel_Not Mentioned</th>\n",
       "      <th>Most_Recent_sales_channel_Retail</th>\n",
       "      <th>Most_Recent_sales_channel_Retail - Direct Order</th>\n",
       "      <th>Most_Recent_sales_channel_UNKNOWN</th>\n",
       "      <th>Most_Recent_sales_channel_Used Equipment</th>\n",
       "      <th>Feedback_0</th>\n",
       "      <th>Feedback_BAD</th>\n",
       "      <th>Feedback_GOOD</th>\n",
       "      <th>Feedback_Not Mentioned</th>\n",
       "      <th>ACCOUNT_STATUS</th>\n",
       "    </tr>\n",
       "    <tr>\n",
       "      <th>SITE_ACCOUNT_NUMBER</th>\n",
       "      <th>NAME</th>\n",
       "      <th>EMAIL_ADDRESS</th>\n",
       "      <th>CITY</th>\n",
       "      <th></th>\n",
       "      <th></th>\n",
       "      <th></th>\n",
       "      <th></th>\n",
       "      <th></th>\n",
       "      <th></th>\n",
       "      <th></th>\n",
       "      <th></th>\n",
       "      <th></th>\n",
       "      <th></th>\n",
       "      <th></th>\n",
       "      <th></th>\n",
       "      <th></th>\n",
       "      <th></th>\n",
       "      <th></th>\n",
       "      <th></th>\n",
       "      <th></th>\n",
       "      <th></th>\n",
       "      <th></th>\n",
       "      <th></th>\n",
       "      <th></th>\n",
       "    </tr>\n",
       "  </thead>\n",
       "  <tbody>\n",
       "    <tr>\n",
       "      <th>AMR-53205840</th>\n",
       "      <th>RennisaBranson</th>\n",
       "      <th>rbranson@southerninspection.co</th>\n",
       "      <th>TRINITY</th>\n",
       "      <td>2.0</td>\n",
       "      <td>48</td>\n",
       "      <td>0</td>\n",
       "      <td>3</td>\n",
       "      <td>2</td>\n",
       "      <td>2004.0</td>\n",
       "      <td>1.0</td>\n",
       "      <td>3.0</td>\n",
       "      <td>0</td>\n",
       "      <td>0</td>\n",
       "      <td>...</td>\n",
       "      <td>0</td>\n",
       "      <td>0</td>\n",
       "      <td>0</td>\n",
       "      <td>0</td>\n",
       "      <td>0</td>\n",
       "      <td>0</td>\n",
       "      <td>1</td>\n",
       "      <td>0</td>\n",
       "      <td>0</td>\n",
       "      <td>1</td>\n",
       "    </tr>\n",
       "    <tr>\n",
       "      <th>AMR-53383136</th>\n",
       "      <th>HowardDachs</th>\n",
       "      <th>howvood@hughes.net</th>\n",
       "      <th>AVA</th>\n",
       "      <td>0.0</td>\n",
       "      <td>47</td>\n",
       "      <td>5</td>\n",
       "      <td>0</td>\n",
       "      <td>0</td>\n",
       "      <td>2004.0</td>\n",
       "      <td>7.0</td>\n",
       "      <td>28.0</td>\n",
       "      <td>0</td>\n",
       "      <td>0</td>\n",
       "      <td>...</td>\n",
       "      <td>0</td>\n",
       "      <td>0</td>\n",
       "      <td>0</td>\n",
       "      <td>0</td>\n",
       "      <td>0</td>\n",
       "      <td>0</td>\n",
       "      <td>1</td>\n",
       "      <td>0</td>\n",
       "      <td>0</td>\n",
       "      <td>1</td>\n",
       "    </tr>\n",
       "    <tr>\n",
       "      <th>AMR-53608585</th>\n",
       "      <th>PavelGroisman</th>\n",
       "      <th>pavel.groisman@hughes.net</th>\n",
       "      <th>THURMONT</th>\n",
       "      <td>2.0</td>\n",
       "      <td>61</td>\n",
       "      <td>8</td>\n",
       "      <td>1</td>\n",
       "      <td>0</td>\n",
       "      <td>2005.0</td>\n",
       "      <td>4.0</td>\n",
       "      <td>27.0</td>\n",
       "      <td>0</td>\n",
       "      <td>0</td>\n",
       "      <td>...</td>\n",
       "      <td>0</td>\n",
       "      <td>0</td>\n",
       "      <td>0</td>\n",
       "      <td>0</td>\n",
       "      <td>0</td>\n",
       "      <td>0</td>\n",
       "      <td>1</td>\n",
       "      <td>0</td>\n",
       "      <td>0</td>\n",
       "      <td>1</td>\n",
       "    </tr>\n",
       "    <tr>\n",
       "      <th>AMR-53610590</th>\n",
       "      <th>StoneysmitaStoneysmith</th>\n",
       "      <th>jfary@hughes.net</th>\n",
       "      <th>KENEDY</th>\n",
       "      <td>1.0</td>\n",
       "      <td>64</td>\n",
       "      <td>0</td>\n",
       "      <td>3</td>\n",
       "      <td>2</td>\n",
       "      <td>0.0</td>\n",
       "      <td>0.0</td>\n",
       "      <td>0.0</td>\n",
       "      <td>0</td>\n",
       "      <td>0</td>\n",
       "      <td>...</td>\n",
       "      <td>0</td>\n",
       "      <td>0</td>\n",
       "      <td>0</td>\n",
       "      <td>0</td>\n",
       "      <td>0</td>\n",
       "      <td>0</td>\n",
       "      <td>0</td>\n",
       "      <td>1</td>\n",
       "      <td>0</td>\n",
       "      <td>1</td>\n",
       "    </tr>\n",
       "    <tr>\n",
       "      <th>AMR-53612154</th>\n",
       "      <th>BryanaEmilio</th>\n",
       "      <th>dp_photo@hughes.net</th>\n",
       "      <th>LOVELL</th>\n",
       "      <td>1.0</td>\n",
       "      <td>56</td>\n",
       "      <td>6</td>\n",
       "      <td>0</td>\n",
       "      <td>0</td>\n",
       "      <td>2005.0</td>\n",
       "      <td>11.0</td>\n",
       "      <td>12.0</td>\n",
       "      <td>0</td>\n",
       "      <td>0</td>\n",
       "      <td>...</td>\n",
       "      <td>0</td>\n",
       "      <td>0</td>\n",
       "      <td>0</td>\n",
       "      <td>0</td>\n",
       "      <td>0</td>\n",
       "      <td>0</td>\n",
       "      <td>0</td>\n",
       "      <td>0</td>\n",
       "      <td>1</td>\n",
       "      <td>1</td>\n",
       "    </tr>\n",
       "  </tbody>\n",
       "</table>\n",
       "<p>5 rows × 263 columns</p>\n",
       "</div>"
      ],
      "text/plain": [
       "                                                                                    GENDER  \\\n",
       "SITE_ACCOUNT_NUMBER NAME                   EMAIL_ADDRESS                  CITY               \n",
       "AMR-53205840        RennisaBranson         rbranson@southerninspection.co TRINITY      2.0   \n",
       "AMR-53383136        HowardDachs            howvood@hughes.net             AVA          0.0   \n",
       "AMR-53608585        PavelGroisman          pavel.groisman@hughes.net      THURMONT     2.0   \n",
       "AMR-53610590        StoneysmitaStoneysmith jfary@hughes.net               KENEDY       1.0   \n",
       "AMR-53612154        BryanaEmilio           dp_photo@hughes.net            LOVELL       1.0   \n",
       "\n",
       "                                                                                    AGE  \\\n",
       "SITE_ACCOUNT_NUMBER NAME                   EMAIL_ADDRESS                  CITY            \n",
       "AMR-53205840        RennisaBranson         rbranson@southerninspection.co TRINITY    48   \n",
       "AMR-53383136        HowardDachs            howvood@hughes.net             AVA        47   \n",
       "AMR-53608585        PavelGroisman          pavel.groisman@hughes.net      THURMONT   61   \n",
       "AMR-53610590        StoneysmitaStoneysmith jfary@hughes.net               KENEDY     64   \n",
       "AMR-53612154        BryanaEmilio           dp_photo@hughes.net            LOVELL     56   \n",
       "\n",
       "                                                                                    INCOME  \\\n",
       "SITE_ACCOUNT_NUMBER NAME                   EMAIL_ADDRESS                  CITY               \n",
       "AMR-53205840        RennisaBranson         rbranson@southerninspection.co TRINITY        0   \n",
       "AMR-53383136        HowardDachs            howvood@hughes.net             AVA            5   \n",
       "AMR-53608585        PavelGroisman          pavel.groisman@hughes.net      THURMONT       8   \n",
       "AMR-53610590        StoneysmitaStoneysmith jfary@hughes.net               KENEDY         0   \n",
       "AMR-53612154        BryanaEmilio           dp_photo@hughes.net            LOVELL         6   \n",
       "\n",
       "                                                                                    MARITAL_STATUS  \\\n",
       "SITE_ACCOUNT_NUMBER NAME                   EMAIL_ADDRESS                  CITY                       \n",
       "AMR-53205840        RennisaBranson         rbranson@southerninspection.co TRINITY                3   \n",
       "AMR-53383136        HowardDachs            howvood@hughes.net             AVA                    0   \n",
       "AMR-53608585        PavelGroisman          pavel.groisman@hughes.net      THURMONT               1   \n",
       "AMR-53610590        StoneysmitaStoneysmith jfary@hughes.net               KENEDY                 3   \n",
       "AMR-53612154        BryanaEmilio           dp_photo@hughes.net            LOVELL                 0   \n",
       "\n",
       "                                                                                    PRESENCE_OF_CHILDREN  \\\n",
       "SITE_ACCOUNT_NUMBER NAME                   EMAIL_ADDRESS                  CITY                             \n",
       "AMR-53205840        RennisaBranson         rbranson@southerninspection.co TRINITY                      2   \n",
       "AMR-53383136        HowardDachs            howvood@hughes.net             AVA                          0   \n",
       "AMR-53608585        PavelGroisman          pavel.groisman@hughes.net      THURMONT                     0   \n",
       "AMR-53610590        StoneysmitaStoneysmith jfary@hughes.net               KENEDY                       2   \n",
       "AMR-53612154        BryanaEmilio           dp_photo@hughes.net            LOVELL                       0   \n",
       "\n",
       "                                                                                    UPGRADE_DATE_Year  \\\n",
       "SITE_ACCOUNT_NUMBER NAME                   EMAIL_ADDRESS                  CITY                          \n",
       "AMR-53205840        RennisaBranson         rbranson@southerninspection.co TRINITY              2004.0   \n",
       "AMR-53383136        HowardDachs            howvood@hughes.net             AVA                  2004.0   \n",
       "AMR-53608585        PavelGroisman          pavel.groisman@hughes.net      THURMONT             2005.0   \n",
       "AMR-53610590        StoneysmitaStoneysmith jfary@hughes.net               KENEDY                  0.0   \n",
       "AMR-53612154        BryanaEmilio           dp_photo@hughes.net            LOVELL               2005.0   \n",
       "\n",
       "                                                                                    UPGRADE_DATE_Month  \\\n",
       "SITE_ACCOUNT_NUMBER NAME                   EMAIL_ADDRESS                  CITY                           \n",
       "AMR-53205840        RennisaBranson         rbranson@southerninspection.co TRINITY                  1.0   \n",
       "AMR-53383136        HowardDachs            howvood@hughes.net             AVA                      7.0   \n",
       "AMR-53608585        PavelGroisman          pavel.groisman@hughes.net      THURMONT                 4.0   \n",
       "AMR-53610590        StoneysmitaStoneysmith jfary@hughes.net               KENEDY                   0.0   \n",
       "AMR-53612154        BryanaEmilio           dp_photo@hughes.net            LOVELL                  11.0   \n",
       "\n",
       "                                                                                    UPGRADE_DATE_Day  \\\n",
       "SITE_ACCOUNT_NUMBER NAME                   EMAIL_ADDRESS                  CITY                         \n",
       "AMR-53205840        RennisaBranson         rbranson@southerninspection.co TRINITY                3.0   \n",
       "AMR-53383136        HowardDachs            howvood@hughes.net             AVA                   28.0   \n",
       "AMR-53608585        PavelGroisman          pavel.groisman@hughes.net      THURMONT              27.0   \n",
       "AMR-53610590        StoneysmitaStoneysmith jfary@hughes.net               KENEDY                 0.0   \n",
       "AMR-53612154        BryanaEmilio           dp_photo@hughes.net            LOVELL                12.0   \n",
       "\n",
       "                                                                                    Service_Plan_0  \\\n",
       "SITE_ACCOUNT_NUMBER NAME                   EMAIL_ADDRESS                  CITY                       \n",
       "AMR-53205840        RennisaBranson         rbranson@southerninspection.co TRINITY                0   \n",
       "AMR-53383136        HowardDachs            howvood@hughes.net             AVA                    0   \n",
       "AMR-53608585        PavelGroisman          pavel.groisman@hughes.net      THURMONT               0   \n",
       "AMR-53610590        StoneysmitaStoneysmith jfary@hughes.net               KENEDY                 0   \n",
       "AMR-53612154        BryanaEmilio           dp_photo@hughes.net            LOVELL                 0   \n",
       "\n",
       "                                                                                    Service_Plan_Basic  \\\n",
       "SITE_ACCOUNT_NUMBER NAME                   EMAIL_ADDRESS                  CITY                           \n",
       "AMR-53205840        RennisaBranson         rbranson@southerninspection.co TRINITY                    0   \n",
       "AMR-53383136        HowardDachs            howvood@hughes.net             AVA                        0   \n",
       "AMR-53608585        PavelGroisman          pavel.groisman@hughes.net      THURMONT                   0   \n",
       "AMR-53610590        StoneysmitaStoneysmith jfary@hughes.net               KENEDY                     0   \n",
       "AMR-53612154        BryanaEmilio           dp_photo@hughes.net            LOVELL                     0   \n",
       "\n",
       "                                                                                    ...  \\\n",
       "SITE_ACCOUNT_NUMBER NAME                   EMAIL_ADDRESS                  CITY      ...   \n",
       "AMR-53205840        RennisaBranson         rbranson@southerninspection.co TRINITY   ...   \n",
       "AMR-53383136        HowardDachs            howvood@hughes.net             AVA       ...   \n",
       "AMR-53608585        PavelGroisman          pavel.groisman@hughes.net      THURMONT  ...   \n",
       "AMR-53610590        StoneysmitaStoneysmith jfary@hughes.net               KENEDY    ...   \n",
       "AMR-53612154        BryanaEmilio           dp_photo@hughes.net            LOVELL    ...   \n",
       "\n",
       "                                                                                    Most_Recent_sales_channel_Not Mentioned  \\\n",
       "SITE_ACCOUNT_NUMBER NAME                   EMAIL_ADDRESS                  CITY                                                \n",
       "AMR-53205840        RennisaBranson         rbranson@southerninspection.co TRINITY                                         0   \n",
       "AMR-53383136        HowardDachs            howvood@hughes.net             AVA                                             0   \n",
       "AMR-53608585        PavelGroisman          pavel.groisman@hughes.net      THURMONT                                        0   \n",
       "AMR-53610590        StoneysmitaStoneysmith jfary@hughes.net               KENEDY                                          0   \n",
       "AMR-53612154        BryanaEmilio           dp_photo@hughes.net            LOVELL                                          0   \n",
       "\n",
       "                                                                                    Most_Recent_sales_channel_Retail  \\\n",
       "SITE_ACCOUNT_NUMBER NAME                   EMAIL_ADDRESS                  CITY                                         \n",
       "AMR-53205840        RennisaBranson         rbranson@southerninspection.co TRINITY                                  0   \n",
       "AMR-53383136        HowardDachs            howvood@hughes.net             AVA                                      0   \n",
       "AMR-53608585        PavelGroisman          pavel.groisman@hughes.net      THURMONT                                 0   \n",
       "AMR-53610590        StoneysmitaStoneysmith jfary@hughes.net               KENEDY                                   0   \n",
       "AMR-53612154        BryanaEmilio           dp_photo@hughes.net            LOVELL                                   0   \n",
       "\n",
       "                                                                                    Most_Recent_sales_channel_Retail - Direct Order  \\\n",
       "SITE_ACCOUNT_NUMBER NAME                   EMAIL_ADDRESS                  CITY                                                        \n",
       "AMR-53205840        RennisaBranson         rbranson@southerninspection.co TRINITY                                                 0   \n",
       "AMR-53383136        HowardDachs            howvood@hughes.net             AVA                                                     0   \n",
       "AMR-53608585        PavelGroisman          pavel.groisman@hughes.net      THURMONT                                                0   \n",
       "AMR-53610590        StoneysmitaStoneysmith jfary@hughes.net               KENEDY                                                  0   \n",
       "AMR-53612154        BryanaEmilio           dp_photo@hughes.net            LOVELL                                                  0   \n",
       "\n",
       "                                                                                    Most_Recent_sales_channel_UNKNOWN  \\\n",
       "SITE_ACCOUNT_NUMBER NAME                   EMAIL_ADDRESS                  CITY                                          \n",
       "AMR-53205840        RennisaBranson         rbranson@southerninspection.co TRINITY                                   0   \n",
       "AMR-53383136        HowardDachs            howvood@hughes.net             AVA                                       0   \n",
       "AMR-53608585        PavelGroisman          pavel.groisman@hughes.net      THURMONT                                  0   \n",
       "AMR-53610590        StoneysmitaStoneysmith jfary@hughes.net               KENEDY                                    0   \n",
       "AMR-53612154        BryanaEmilio           dp_photo@hughes.net            LOVELL                                    0   \n",
       "\n",
       "                                                                                    Most_Recent_sales_channel_Used Equipment  \\\n",
       "SITE_ACCOUNT_NUMBER NAME                   EMAIL_ADDRESS                  CITY                                                 \n",
       "AMR-53205840        RennisaBranson         rbranson@southerninspection.co TRINITY                                          0   \n",
       "AMR-53383136        HowardDachs            howvood@hughes.net             AVA                                              0   \n",
       "AMR-53608585        PavelGroisman          pavel.groisman@hughes.net      THURMONT                                         0   \n",
       "AMR-53610590        StoneysmitaStoneysmith jfary@hughes.net               KENEDY                                           0   \n",
       "AMR-53612154        BryanaEmilio           dp_photo@hughes.net            LOVELL                                           0   \n",
       "\n",
       "                                                                                    Feedback_0  \\\n",
       "SITE_ACCOUNT_NUMBER NAME                   EMAIL_ADDRESS                  CITY                   \n",
       "AMR-53205840        RennisaBranson         rbranson@southerninspection.co TRINITY            0   \n",
       "AMR-53383136        HowardDachs            howvood@hughes.net             AVA                0   \n",
       "AMR-53608585        PavelGroisman          pavel.groisman@hughes.net      THURMONT           0   \n",
       "AMR-53610590        StoneysmitaStoneysmith jfary@hughes.net               KENEDY             0   \n",
       "AMR-53612154        BryanaEmilio           dp_photo@hughes.net            LOVELL             0   \n",
       "\n",
       "                                                                                    Feedback_BAD  \\\n",
       "SITE_ACCOUNT_NUMBER NAME                   EMAIL_ADDRESS                  CITY                     \n",
       "AMR-53205840        RennisaBranson         rbranson@southerninspection.co TRINITY              1   \n",
       "AMR-53383136        HowardDachs            howvood@hughes.net             AVA                  1   \n",
       "AMR-53608585        PavelGroisman          pavel.groisman@hughes.net      THURMONT             1   \n",
       "AMR-53610590        StoneysmitaStoneysmith jfary@hughes.net               KENEDY               0   \n",
       "AMR-53612154        BryanaEmilio           dp_photo@hughes.net            LOVELL               0   \n",
       "\n",
       "                                                                                    Feedback_GOOD  \\\n",
       "SITE_ACCOUNT_NUMBER NAME                   EMAIL_ADDRESS                  CITY                      \n",
       "AMR-53205840        RennisaBranson         rbranson@southerninspection.co TRINITY               0   \n",
       "AMR-53383136        HowardDachs            howvood@hughes.net             AVA                   0   \n",
       "AMR-53608585        PavelGroisman          pavel.groisman@hughes.net      THURMONT              0   \n",
       "AMR-53610590        StoneysmitaStoneysmith jfary@hughes.net               KENEDY                1   \n",
       "AMR-53612154        BryanaEmilio           dp_photo@hughes.net            LOVELL                0   \n",
       "\n",
       "                                                                                    Feedback_Not Mentioned  \\\n",
       "SITE_ACCOUNT_NUMBER NAME                   EMAIL_ADDRESS                  CITY                               \n",
       "AMR-53205840        RennisaBranson         rbranson@southerninspection.co TRINITY                        0   \n",
       "AMR-53383136        HowardDachs            howvood@hughes.net             AVA                            0   \n",
       "AMR-53608585        PavelGroisman          pavel.groisman@hughes.net      THURMONT                       0   \n",
       "AMR-53610590        StoneysmitaStoneysmith jfary@hughes.net               KENEDY                         0   \n",
       "AMR-53612154        BryanaEmilio           dp_photo@hughes.net            LOVELL                         1   \n",
       "\n",
       "                                                                                    ACCOUNT_STATUS  \n",
       "SITE_ACCOUNT_NUMBER NAME                   EMAIL_ADDRESS                  CITY                      \n",
       "AMR-53205840        RennisaBranson         rbranson@southerninspection.co TRINITY                1  \n",
       "AMR-53383136        HowardDachs            howvood@hughes.net             AVA                    1  \n",
       "AMR-53608585        PavelGroisman          pavel.groisman@hughes.net      THURMONT               1  \n",
       "AMR-53610590        StoneysmitaStoneysmith jfary@hughes.net               KENEDY                 1  \n",
       "AMR-53612154        BryanaEmilio           dp_photo@hughes.net            LOVELL                 1  \n",
       "\n",
       "[5 rows x 263 columns]"
      ]
     },
     "execution_count": 820,
     "metadata": {},
     "output_type": "execute_result"
    }
   ],
   "source": [
    "p2_select2.head()"
   ]
  },
  {
   "cell_type": "code",
   "execution_count": null,
   "metadata": {},
   "outputs": [],
   "source": []
  },
  {
   "cell_type": "code",
   "execution_count": null,
   "metadata": {},
   "outputs": [],
   "source": []
  },
  {
   "cell_type": "code",
   "execution_count": 821,
   "metadata": {},
   "outputs": [],
   "source": [
    "## FACTOR ANALYSIS:"
   ]
  },
  {
   "cell_type": "code",
   "execution_count": 822,
   "metadata": {},
   "outputs": [],
   "source": [
    "factor=FactorAnalysis(20).fit(p2_select2)"
   ]
  },
  {
   "cell_type": "code",
   "execution_count": 823,
   "metadata": {},
   "outputs": [],
   "source": [
    "F_analysis=pd.DataFrame(factor.components_,columns=p2_select2.columns)"
   ]
  },
  {
   "cell_type": "code",
   "execution_count": 824,
   "metadata": {},
   "outputs": [],
   "source": [
    "F_analysis=F_analysis.T"
   ]
  },
  {
   "cell_type": "code",
   "execution_count": 825,
   "metadata": {},
   "outputs": [],
   "source": [
    "F_analysis=F_analysis.add_prefix('Factor_')"
   ]
  },
  {
   "cell_type": "code",
   "execution_count": 826,
   "metadata": {},
   "outputs": [
    {
     "data": {
      "text/html": [
       "<div>\n",
       "<style scoped>\n",
       "    .dataframe tbody tr th:only-of-type {\n",
       "        vertical-align: middle;\n",
       "    }\n",
       "\n",
       "    .dataframe tbody tr th {\n",
       "        vertical-align: top;\n",
       "    }\n",
       "\n",
       "    .dataframe thead th {\n",
       "        text-align: right;\n",
       "    }\n",
       "</style>\n",
       "<table border=\"1\" class=\"dataframe\">\n",
       "  <thead>\n",
       "    <tr style=\"text-align: right;\">\n",
       "      <th></th>\n",
       "      <th>Factor_0</th>\n",
       "      <th>Factor_1</th>\n",
       "      <th>Factor_2</th>\n",
       "      <th>Factor_3</th>\n",
       "      <th>Factor_4</th>\n",
       "      <th>Factor_5</th>\n",
       "      <th>Factor_6</th>\n",
       "      <th>Factor_7</th>\n",
       "      <th>Factor_8</th>\n",
       "      <th>Factor_9</th>\n",
       "      <th>Factor_10</th>\n",
       "      <th>Factor_11</th>\n",
       "      <th>Factor_12</th>\n",
       "      <th>Factor_13</th>\n",
       "      <th>Factor_14</th>\n",
       "      <th>Factor_15</th>\n",
       "      <th>Factor_16</th>\n",
       "      <th>Factor_17</th>\n",
       "      <th>Factor_18</th>\n",
       "      <th>Factor_19</th>\n",
       "    </tr>\n",
       "  </thead>\n",
       "  <tbody>\n",
       "    <tr>\n",
       "      <th>GENDER</th>\n",
       "      <td>0.002511</td>\n",
       "      <td>-0.005440</td>\n",
       "      <td>-0.003701</td>\n",
       "      <td>-0.004213</td>\n",
       "      <td>-0.000505</td>\n",
       "      <td>-0.024412</td>\n",
       "      <td>-0.026831</td>\n",
       "      <td>-0.003594</td>\n",
       "      <td>4.702070e-04</td>\n",
       "      <td>7.508137e-03</td>\n",
       "      <td>-4.694310e-03</td>\n",
       "      <td>3.678891e-03</td>\n",
       "      <td>5.127418e-03</td>\n",
       "      <td>5.867032e-03</td>\n",
       "      <td>-1.511856e-03</td>\n",
       "      <td>3.092042e-03</td>\n",
       "      <td>-4.232932e-03</td>\n",
       "      <td>1.403770e-03</td>\n",
       "      <td>-1.046709e-03</td>\n",
       "      <td>9.070750e-03</td>\n",
       "    </tr>\n",
       "    <tr>\n",
       "      <th>AGE</th>\n",
       "      <td>0.386581</td>\n",
       "      <td>-0.201969</td>\n",
       "      <td>0.212319</td>\n",
       "      <td>0.021773</td>\n",
       "      <td>-0.149026</td>\n",
       "      <td>-1.074755</td>\n",
       "      <td>-0.900771</td>\n",
       "      <td>0.029564</td>\n",
       "      <td>-6.018394e-02</td>\n",
       "      <td>1.422005e+01</td>\n",
       "      <td>1.164292e-01</td>\n",
       "      <td>-3.615279e-02</td>\n",
       "      <td>-4.253710e-02</td>\n",
       "      <td>-1.087665e-02</td>\n",
       "      <td>-3.362784e-02</td>\n",
       "      <td>-5.871838e-03</td>\n",
       "      <td>-7.398304e-04</td>\n",
       "      <td>-5.426530e-03</td>\n",
       "      <td>9.499618e-04</td>\n",
       "      <td>2.162656e-03</td>\n",
       "    </tr>\n",
       "    <tr>\n",
       "      <th>INCOME</th>\n",
       "      <td>1.454574</td>\n",
       "      <td>-0.216736</td>\n",
       "      <td>0.727086</td>\n",
       "      <td>-0.174551</td>\n",
       "      <td>-0.071098</td>\n",
       "      <td>-0.217207</td>\n",
       "      <td>0.053701</td>\n",
       "      <td>-0.008604</td>\n",
       "      <td>-3.148364e-01</td>\n",
       "      <td>2.832902e-04</td>\n",
       "      <td>-1.058500e-02</td>\n",
       "      <td>2.975726e-02</td>\n",
       "      <td>3.255184e-02</td>\n",
       "      <td>-4.448758e-02</td>\n",
       "      <td>-1.399757e-02</td>\n",
       "      <td>3.894319e-02</td>\n",
       "      <td>3.126981e+00</td>\n",
       "      <td>-3.877696e-01</td>\n",
       "      <td>-1.809335e-01</td>\n",
       "      <td>-1.042607e-01</td>\n",
       "    </tr>\n",
       "    <tr>\n",
       "      <th>MARITAL_STATUS</th>\n",
       "      <td>-0.007640</td>\n",
       "      <td>0.020059</td>\n",
       "      <td>0.001687</td>\n",
       "      <td>-0.008950</td>\n",
       "      <td>0.012362</td>\n",
       "      <td>-0.033139</td>\n",
       "      <td>-0.022031</td>\n",
       "      <td>0.026359</td>\n",
       "      <td>3.109898e-03</td>\n",
       "      <td>-8.004726e-03</td>\n",
       "      <td>-5.262138e-03</td>\n",
       "      <td>-9.155494e-03</td>\n",
       "      <td>-1.021172e-02</td>\n",
       "      <td>4.946810e-03</td>\n",
       "      <td>1.440725e-02</td>\n",
       "      <td>1.136365e-02</td>\n",
       "      <td>-6.332171e-02</td>\n",
       "      <td>6.263329e-03</td>\n",
       "      <td>9.242749e-04</td>\n",
       "      <td>-3.253464e-03</td>\n",
       "    </tr>\n",
       "    <tr>\n",
       "      <th>PRESENCE_OF_CHILDREN</th>\n",
       "      <td>-0.035055</td>\n",
       "      <td>0.009315</td>\n",
       "      <td>-0.070153</td>\n",
       "      <td>0.013624</td>\n",
       "      <td>0.012282</td>\n",
       "      <td>-0.006314</td>\n",
       "      <td>-0.018894</td>\n",
       "      <td>0.000363</td>\n",
       "      <td>9.188282e-02</td>\n",
       "      <td>-5.462319e-03</td>\n",
       "      <td>-2.799869e-03</td>\n",
       "      <td>-1.573512e-03</td>\n",
       "      <td>-1.757269e-03</td>\n",
       "      <td>4.287098e-03</td>\n",
       "      <td>1.115204e-03</td>\n",
       "      <td>7.068232e-03</td>\n",
       "      <td>-3.100559e-01</td>\n",
       "      <td>4.301336e-02</td>\n",
       "      <td>1.357627e-02</td>\n",
       "      <td>2.316408e-02</td>\n",
       "    </tr>\n",
       "    <tr>\n",
       "      <th>...</th>\n",
       "      <td>...</td>\n",
       "      <td>...</td>\n",
       "      <td>...</td>\n",
       "      <td>...</td>\n",
       "      <td>...</td>\n",
       "      <td>...</td>\n",
       "      <td>...</td>\n",
       "      <td>...</td>\n",
       "      <td>...</td>\n",
       "      <td>...</td>\n",
       "      <td>...</td>\n",
       "      <td>...</td>\n",
       "      <td>...</td>\n",
       "      <td>...</td>\n",
       "      <td>...</td>\n",
       "      <td>...</td>\n",
       "      <td>...</td>\n",
       "      <td>...</td>\n",
       "      <td>...</td>\n",
       "      <td>...</td>\n",
       "    </tr>\n",
       "    <tr>\n",
       "      <th>Feedback_0</th>\n",
       "      <td>0.000257</td>\n",
       "      <td>0.000375</td>\n",
       "      <td>-0.000051</td>\n",
       "      <td>0.000224</td>\n",
       "      <td>0.000786</td>\n",
       "      <td>0.021638</td>\n",
       "      <td>0.017958</td>\n",
       "      <td>-0.002793</td>\n",
       "      <td>2.024235e-09</td>\n",
       "      <td>5.883999e-11</td>\n",
       "      <td>7.998122e-13</td>\n",
       "      <td>6.514291e-12</td>\n",
       "      <td>-8.051301e-12</td>\n",
       "      <td>-8.520128e-13</td>\n",
       "      <td>1.265650e-12</td>\n",
       "      <td>-2.702925e-12</td>\n",
       "      <td>9.440396e-13</td>\n",
       "      <td>8.024856e-13</td>\n",
       "      <td>-1.156870e-12</td>\n",
       "      <td>3.031007e-13</td>\n",
       "    </tr>\n",
       "    <tr>\n",
       "      <th>Feedback_BAD</th>\n",
       "      <td>-0.228757</td>\n",
       "      <td>-0.102545</td>\n",
       "      <td>0.424779</td>\n",
       "      <td>-0.081128</td>\n",
       "      <td>-0.005087</td>\n",
       "      <td>-0.007172</td>\n",
       "      <td>-0.005857</td>\n",
       "      <td>0.000913</td>\n",
       "      <td>1.011335e-08</td>\n",
       "      <td>-2.111356e-11</td>\n",
       "      <td>-2.438797e-12</td>\n",
       "      <td>-1.167518e-12</td>\n",
       "      <td>1.813641e-12</td>\n",
       "      <td>-3.009964e-13</td>\n",
       "      <td>-5.566642e-13</td>\n",
       "      <td>1.817199e-13</td>\n",
       "      <td>-1.254114e-12</td>\n",
       "      <td>2.542409e-13</td>\n",
       "      <td>6.237479e-13</td>\n",
       "      <td>-1.849408e-12</td>\n",
       "    </tr>\n",
       "    <tr>\n",
       "      <th>Feedback_GOOD</th>\n",
       "      <td>0.225725</td>\n",
       "      <td>0.062561</td>\n",
       "      <td>-0.264726</td>\n",
       "      <td>-0.285614</td>\n",
       "      <td>0.001385</td>\n",
       "      <td>-0.007131</td>\n",
       "      <td>-0.006032</td>\n",
       "      <td>0.000936</td>\n",
       "      <td>-1.166414e-08</td>\n",
       "      <td>-1.896688e-11</td>\n",
       "      <td>-6.291714e-15</td>\n",
       "      <td>-5.225805e-12</td>\n",
       "      <td>3.397339e-12</td>\n",
       "      <td>1.015484e-12</td>\n",
       "      <td>-8.354738e-13</td>\n",
       "      <td>6.201759e-13</td>\n",
       "      <td>-1.162843e-12</td>\n",
       "      <td>7.079787e-14</td>\n",
       "      <td>7.078673e-13</td>\n",
       "      <td>1.387212e-13</td>\n",
       "    </tr>\n",
       "    <tr>\n",
       "      <th>Feedback_Not Mentioned</th>\n",
       "      <td>0.002776</td>\n",
       "      <td>0.039609</td>\n",
       "      <td>-0.160002</td>\n",
       "      <td>0.366518</td>\n",
       "      <td>0.002917</td>\n",
       "      <td>-0.007335</td>\n",
       "      <td>-0.006068</td>\n",
       "      <td>0.000945</td>\n",
       "      <td>-4.734478e-10</td>\n",
       "      <td>-1.875955e-11</td>\n",
       "      <td>1.645270e-12</td>\n",
       "      <td>-1.209665e-13</td>\n",
       "      <td>2.840322e-12</td>\n",
       "      <td>1.375327e-13</td>\n",
       "      <td>1.264888e-13</td>\n",
       "      <td>1.901025e-12</td>\n",
       "      <td>1.472917e-12</td>\n",
       "      <td>-1.127524e-12</td>\n",
       "      <td>-1.747427e-13</td>\n",
       "      <td>1.407590e-12</td>\n",
       "    </tr>\n",
       "    <tr>\n",
       "      <th>ACCOUNT_STATUS</th>\n",
       "      <td>-0.000575</td>\n",
       "      <td>-0.000521</td>\n",
       "      <td>0.000038</td>\n",
       "      <td>0.000072</td>\n",
       "      <td>-0.000689</td>\n",
       "      <td>-0.021526</td>\n",
       "      <td>-0.018020</td>\n",
       "      <td>0.002835</td>\n",
       "      <td>4.597657e-04</td>\n",
       "      <td>5.514135e-04</td>\n",
       "      <td>-3.489767e-04</td>\n",
       "      <td>7.910810e-05</td>\n",
       "      <td>-2.405443e-05</td>\n",
       "      <td>4.061068e-05</td>\n",
       "      <td>6.876907e-04</td>\n",
       "      <td>3.838336e-05</td>\n",
       "      <td>-1.866884e-04</td>\n",
       "      <td>1.989411e-04</td>\n",
       "      <td>-1.031166e-04</td>\n",
       "      <td>4.298742e-04</td>\n",
       "    </tr>\n",
       "  </tbody>\n",
       "</table>\n",
       "<p>263 rows × 20 columns</p>\n",
       "</div>"
      ],
      "text/plain": [
       "                        Factor_0  Factor_1  Factor_2  Factor_3  Factor_4  \\\n",
       "GENDER                  0.002511 -0.005440 -0.003701 -0.004213 -0.000505   \n",
       "AGE                     0.386581 -0.201969  0.212319  0.021773 -0.149026   \n",
       "INCOME                  1.454574 -0.216736  0.727086 -0.174551 -0.071098   \n",
       "MARITAL_STATUS         -0.007640  0.020059  0.001687 -0.008950  0.012362   \n",
       "PRESENCE_OF_CHILDREN   -0.035055  0.009315 -0.070153  0.013624  0.012282   \n",
       "...                          ...       ...       ...       ...       ...   \n",
       "Feedback_0              0.000257  0.000375 -0.000051  0.000224  0.000786   \n",
       "Feedback_BAD           -0.228757 -0.102545  0.424779 -0.081128 -0.005087   \n",
       "Feedback_GOOD           0.225725  0.062561 -0.264726 -0.285614  0.001385   \n",
       "Feedback_Not Mentioned  0.002776  0.039609 -0.160002  0.366518  0.002917   \n",
       "ACCOUNT_STATUS         -0.000575 -0.000521  0.000038  0.000072 -0.000689   \n",
       "\n",
       "                        Factor_5  Factor_6  Factor_7      Factor_8  \\\n",
       "GENDER                 -0.024412 -0.026831 -0.003594  4.702070e-04   \n",
       "AGE                    -1.074755 -0.900771  0.029564 -6.018394e-02   \n",
       "INCOME                 -0.217207  0.053701 -0.008604 -3.148364e-01   \n",
       "MARITAL_STATUS         -0.033139 -0.022031  0.026359  3.109898e-03   \n",
       "PRESENCE_OF_CHILDREN   -0.006314 -0.018894  0.000363  9.188282e-02   \n",
       "...                          ...       ...       ...           ...   \n",
       "Feedback_0              0.021638  0.017958 -0.002793  2.024235e-09   \n",
       "Feedback_BAD           -0.007172 -0.005857  0.000913  1.011335e-08   \n",
       "Feedback_GOOD          -0.007131 -0.006032  0.000936 -1.166414e-08   \n",
       "Feedback_Not Mentioned -0.007335 -0.006068  0.000945 -4.734478e-10   \n",
       "ACCOUNT_STATUS         -0.021526 -0.018020  0.002835  4.597657e-04   \n",
       "\n",
       "                            Factor_9     Factor_10     Factor_11  \\\n",
       "GENDER                  7.508137e-03 -4.694310e-03  3.678891e-03   \n",
       "AGE                     1.422005e+01  1.164292e-01 -3.615279e-02   \n",
       "INCOME                  2.832902e-04 -1.058500e-02  2.975726e-02   \n",
       "MARITAL_STATUS         -8.004726e-03 -5.262138e-03 -9.155494e-03   \n",
       "PRESENCE_OF_CHILDREN   -5.462319e-03 -2.799869e-03 -1.573512e-03   \n",
       "...                              ...           ...           ...   \n",
       "Feedback_0              5.883999e-11  7.998122e-13  6.514291e-12   \n",
       "Feedback_BAD           -2.111356e-11 -2.438797e-12 -1.167518e-12   \n",
       "Feedback_GOOD          -1.896688e-11 -6.291714e-15 -5.225805e-12   \n",
       "Feedback_Not Mentioned -1.875955e-11  1.645270e-12 -1.209665e-13   \n",
       "ACCOUNT_STATUS          5.514135e-04 -3.489767e-04  7.910810e-05   \n",
       "\n",
       "                           Factor_12     Factor_13     Factor_14  \\\n",
       "GENDER                  5.127418e-03  5.867032e-03 -1.511856e-03   \n",
       "AGE                    -4.253710e-02 -1.087665e-02 -3.362784e-02   \n",
       "INCOME                  3.255184e-02 -4.448758e-02 -1.399757e-02   \n",
       "MARITAL_STATUS         -1.021172e-02  4.946810e-03  1.440725e-02   \n",
       "PRESENCE_OF_CHILDREN   -1.757269e-03  4.287098e-03  1.115204e-03   \n",
       "...                              ...           ...           ...   \n",
       "Feedback_0             -8.051301e-12 -8.520128e-13  1.265650e-12   \n",
       "Feedback_BAD            1.813641e-12 -3.009964e-13 -5.566642e-13   \n",
       "Feedback_GOOD           3.397339e-12  1.015484e-12 -8.354738e-13   \n",
       "Feedback_Not Mentioned  2.840322e-12  1.375327e-13  1.264888e-13   \n",
       "ACCOUNT_STATUS         -2.405443e-05  4.061068e-05  6.876907e-04   \n",
       "\n",
       "                           Factor_15     Factor_16     Factor_17  \\\n",
       "GENDER                  3.092042e-03 -4.232932e-03  1.403770e-03   \n",
       "AGE                    -5.871838e-03 -7.398304e-04 -5.426530e-03   \n",
       "INCOME                  3.894319e-02  3.126981e+00 -3.877696e-01   \n",
       "MARITAL_STATUS          1.136365e-02 -6.332171e-02  6.263329e-03   \n",
       "PRESENCE_OF_CHILDREN    7.068232e-03 -3.100559e-01  4.301336e-02   \n",
       "...                              ...           ...           ...   \n",
       "Feedback_0             -2.702925e-12  9.440396e-13  8.024856e-13   \n",
       "Feedback_BAD            1.817199e-13 -1.254114e-12  2.542409e-13   \n",
       "Feedback_GOOD           6.201759e-13 -1.162843e-12  7.079787e-14   \n",
       "Feedback_Not Mentioned  1.901025e-12  1.472917e-12 -1.127524e-12   \n",
       "ACCOUNT_STATUS          3.838336e-05 -1.866884e-04  1.989411e-04   \n",
       "\n",
       "                           Factor_18     Factor_19  \n",
       "GENDER                 -1.046709e-03  9.070750e-03  \n",
       "AGE                     9.499618e-04  2.162656e-03  \n",
       "INCOME                 -1.809335e-01 -1.042607e-01  \n",
       "MARITAL_STATUS          9.242749e-04 -3.253464e-03  \n",
       "PRESENCE_OF_CHILDREN    1.357627e-02  2.316408e-02  \n",
       "...                              ...           ...  \n",
       "Feedback_0             -1.156870e-12  3.031007e-13  \n",
       "Feedback_BAD            6.237479e-13 -1.849408e-12  \n",
       "Feedback_GOOD           7.078673e-13  1.387212e-13  \n",
       "Feedback_Not Mentioned -1.747427e-13  1.407590e-12  \n",
       "ACCOUNT_STATUS         -1.031166e-04  4.298742e-04  \n",
       "\n",
       "[263 rows x 20 columns]"
      ]
     },
     "execution_count": 826,
     "metadata": {},
     "output_type": "execute_result"
    }
   ],
   "source": [
    "F_analysis"
   ]
  },
  {
   "cell_type": "code",
   "execution_count": null,
   "metadata": {},
   "outputs": [],
   "source": []
  },
  {
   "cell_type": "code",
   "execution_count": null,
   "metadata": {},
   "outputs": [],
   "source": []
  },
  {
   "cell_type": "code",
   "execution_count": 827,
   "metadata": {},
   "outputs": [],
   "source": [
    "# KMEANS CLUSTERING :"
   ]
  },
  {
   "cell_type": "code",
   "execution_count": 828,
   "metadata": {},
   "outputs": [],
   "source": [
    "sc=StandardScaler()"
   ]
  },
  {
   "cell_type": "code",
   "execution_count": 829,
   "metadata": {},
   "outputs": [],
   "source": [
    "scale=sc.fit_transform(p2_select2)"
   ]
  },
  {
   "cell_type": "code",
   "execution_count": 830,
   "metadata": {},
   "outputs": [],
   "source": [
    "km=KMeans(n_clusters=20)"
   ]
  },
  {
   "cell_type": "code",
   "execution_count": 831,
   "metadata": {},
   "outputs": [
    {
     "data": {
      "text/plain": [
       "KMeans(algorithm='auto', copy_x=True, init='k-means++', max_iter=300,\n",
       "    n_clusters=20, n_init=10, n_jobs=1, precompute_distances='auto',\n",
       "    random_state=None, tol=0.0001, verbose=0)"
      ]
     },
     "execution_count": 831,
     "metadata": {},
     "output_type": "execute_result"
    }
   ],
   "source": [
    "km.fit(scale)"
   ]
  },
  {
   "cell_type": "code",
   "execution_count": 832,
   "metadata": {},
   "outputs": [
    {
     "data": {
      "text/plain": [
       "8     2038\n",
       "2     1505\n",
       "1     1294\n",
       "14    1115\n",
       "3      937\n",
       "4      928\n",
       "13     569\n",
       "5      515\n",
       "16     488\n",
       "0      377\n",
       "15     118\n",
       "10      23\n",
       "7       22\n",
       "12      16\n",
       "6       13\n",
       "9       11\n",
       "18       9\n",
       "11       8\n",
       "17       7\n",
       "19       7\n",
       "dtype: int64"
      ]
     },
     "execution_count": 832,
     "metadata": {},
     "output_type": "execute_result"
    }
   ],
   "source": [
    "pd.Series(km.labels_).value_counts()"
   ]
  },
  {
   "cell_type": "code",
   "execution_count": 833,
   "metadata": {},
   "outputs": [],
   "source": [
    "pindex=p2_select2.reset_index()"
   ]
  },
  {
   "cell_type": "code",
   "execution_count": 834,
   "metadata": {},
   "outputs": [],
   "source": [
    "clusters=pd.concat([pindex, pd.Series(km.labels_, name='Clusters')], axis=1)"
   ]
  },
  {
   "cell_type": "code",
   "execution_count": 835,
   "metadata": {},
   "outputs": [
    {
     "data": {
      "text/html": [
       "<div>\n",
       "<style scoped>\n",
       "    .dataframe tbody tr th:only-of-type {\n",
       "        vertical-align: middle;\n",
       "    }\n",
       "\n",
       "    .dataframe tbody tr th {\n",
       "        vertical-align: top;\n",
       "    }\n",
       "\n",
       "    .dataframe thead th {\n",
       "        text-align: right;\n",
       "    }\n",
       "</style>\n",
       "<table border=\"1\" class=\"dataframe\">\n",
       "  <thead>\n",
       "    <tr style=\"text-align: right;\">\n",
       "      <th></th>\n",
       "      <th>SITE_ACCOUNT_NUMBER</th>\n",
       "      <th>NAME</th>\n",
       "      <th>EMAIL_ADDRESS</th>\n",
       "      <th>CITY</th>\n",
       "      <th>GENDER</th>\n",
       "      <th>AGE</th>\n",
       "      <th>INCOME</th>\n",
       "      <th>MARITAL_STATUS</th>\n",
       "      <th>PRESENCE_OF_CHILDREN</th>\n",
       "      <th>UPGRADE_DATE_Year</th>\n",
       "      <th>...</th>\n",
       "      <th>Most_Recent_sales_channel_Retail</th>\n",
       "      <th>Most_Recent_sales_channel_Retail - Direct Order</th>\n",
       "      <th>Most_Recent_sales_channel_UNKNOWN</th>\n",
       "      <th>Most_Recent_sales_channel_Used Equipment</th>\n",
       "      <th>Feedback_0</th>\n",
       "      <th>Feedback_BAD</th>\n",
       "      <th>Feedback_GOOD</th>\n",
       "      <th>Feedback_Not Mentioned</th>\n",
       "      <th>ACCOUNT_STATUS</th>\n",
       "      <th>Clusters</th>\n",
       "    </tr>\n",
       "  </thead>\n",
       "  <tbody>\n",
       "    <tr>\n",
       "      <th>0</th>\n",
       "      <td>AMR-53205840</td>\n",
       "      <td>RennisaBranson</td>\n",
       "      <td>rbranson@southerninspection.co</td>\n",
       "      <td>TRINITY</td>\n",
       "      <td>2.0</td>\n",
       "      <td>48</td>\n",
       "      <td>0</td>\n",
       "      <td>3</td>\n",
       "      <td>2</td>\n",
       "      <td>2004.0</td>\n",
       "      <td>...</td>\n",
       "      <td>0</td>\n",
       "      <td>0</td>\n",
       "      <td>0</td>\n",
       "      <td>0</td>\n",
       "      <td>0</td>\n",
       "      <td>1</td>\n",
       "      <td>0</td>\n",
       "      <td>0</td>\n",
       "      <td>1</td>\n",
       "      <td>8</td>\n",
       "    </tr>\n",
       "    <tr>\n",
       "      <th>1</th>\n",
       "      <td>AMR-53383136</td>\n",
       "      <td>HowardDachs</td>\n",
       "      <td>howvood@hughes.net</td>\n",
       "      <td>AVA</td>\n",
       "      <td>0.0</td>\n",
       "      <td>47</td>\n",
       "      <td>5</td>\n",
       "      <td>0</td>\n",
       "      <td>0</td>\n",
       "      <td>2004.0</td>\n",
       "      <td>...</td>\n",
       "      <td>0</td>\n",
       "      <td>0</td>\n",
       "      <td>0</td>\n",
       "      <td>0</td>\n",
       "      <td>0</td>\n",
       "      <td>1</td>\n",
       "      <td>0</td>\n",
       "      <td>0</td>\n",
       "      <td>1</td>\n",
       "      <td>6</td>\n",
       "    </tr>\n",
       "    <tr>\n",
       "      <th>2</th>\n",
       "      <td>AMR-53608585</td>\n",
       "      <td>PavelGroisman</td>\n",
       "      <td>pavel.groisman@hughes.net</td>\n",
       "      <td>THURMONT</td>\n",
       "      <td>2.0</td>\n",
       "      <td>61</td>\n",
       "      <td>8</td>\n",
       "      <td>1</td>\n",
       "      <td>0</td>\n",
       "      <td>2005.0</td>\n",
       "      <td>...</td>\n",
       "      <td>0</td>\n",
       "      <td>0</td>\n",
       "      <td>0</td>\n",
       "      <td>0</td>\n",
       "      <td>0</td>\n",
       "      <td>1</td>\n",
       "      <td>0</td>\n",
       "      <td>0</td>\n",
       "      <td>1</td>\n",
       "      <td>8</td>\n",
       "    </tr>\n",
       "    <tr>\n",
       "      <th>3</th>\n",
       "      <td>AMR-53610590</td>\n",
       "      <td>StoneysmitaStoneysmith</td>\n",
       "      <td>jfary@hughes.net</td>\n",
       "      <td>KENEDY</td>\n",
       "      <td>1.0</td>\n",
       "      <td>64</td>\n",
       "      <td>0</td>\n",
       "      <td>3</td>\n",
       "      <td>2</td>\n",
       "      <td>0.0</td>\n",
       "      <td>...</td>\n",
       "      <td>0</td>\n",
       "      <td>0</td>\n",
       "      <td>0</td>\n",
       "      <td>0</td>\n",
       "      <td>0</td>\n",
       "      <td>0</td>\n",
       "      <td>1</td>\n",
       "      <td>0</td>\n",
       "      <td>1</td>\n",
       "      <td>8</td>\n",
       "    </tr>\n",
       "    <tr>\n",
       "      <th>4</th>\n",
       "      <td>AMR-53612154</td>\n",
       "      <td>BryanaEmilio</td>\n",
       "      <td>dp_photo@hughes.net</td>\n",
       "      <td>LOVELL</td>\n",
       "      <td>1.0</td>\n",
       "      <td>56</td>\n",
       "      <td>6</td>\n",
       "      <td>0</td>\n",
       "      <td>0</td>\n",
       "      <td>2005.0</td>\n",
       "      <td>...</td>\n",
       "      <td>0</td>\n",
       "      <td>0</td>\n",
       "      <td>0</td>\n",
       "      <td>0</td>\n",
       "      <td>0</td>\n",
       "      <td>0</td>\n",
       "      <td>0</td>\n",
       "      <td>1</td>\n",
       "      <td>1</td>\n",
       "      <td>8</td>\n",
       "    </tr>\n",
       "    <tr>\n",
       "      <th>...</th>\n",
       "      <td>...</td>\n",
       "      <td>...</td>\n",
       "      <td>...</td>\n",
       "      <td>...</td>\n",
       "      <td>...</td>\n",
       "      <td>...</td>\n",
       "      <td>...</td>\n",
       "      <td>...</td>\n",
       "      <td>...</td>\n",
       "      <td>...</td>\n",
       "      <td>...</td>\n",
       "      <td>...</td>\n",
       "      <td>...</td>\n",
       "      <td>...</td>\n",
       "      <td>...</td>\n",
       "      <td>...</td>\n",
       "      <td>...</td>\n",
       "      <td>...</td>\n",
       "      <td>...</td>\n",
       "      <td>...</td>\n",
       "      <td>...</td>\n",
       "    </tr>\n",
       "    <tr>\n",
       "      <th>9995</th>\n",
       "      <td>Q-94945717</td>\n",
       "      <td>KevinABBE</td>\n",
       "      <td>KevinABBE700@crusin.com</td>\n",
       "      <td>MERRYVILLE</td>\n",
       "      <td>2.0</td>\n",
       "      <td>49</td>\n",
       "      <td>3</td>\n",
       "      <td>3</td>\n",
       "      <td>1</td>\n",
       "      <td>2010.0</td>\n",
       "      <td>...</td>\n",
       "      <td>0</td>\n",
       "      <td>0</td>\n",
       "      <td>0</td>\n",
       "      <td>0</td>\n",
       "      <td>0</td>\n",
       "      <td>0</td>\n",
       "      <td>1</td>\n",
       "      <td>0</td>\n",
       "      <td>1</td>\n",
       "      <td>5</td>\n",
       "    </tr>\n",
       "    <tr>\n",
       "      <th>9996</th>\n",
       "      <td>Q-94977539</td>\n",
       "      <td>Song BirdRamirez</td>\n",
       "      <td>Song BirdRamirez547@hotmail.com</td>\n",
       "      <td>MT PLEASANT</td>\n",
       "      <td>2.0</td>\n",
       "      <td>38</td>\n",
       "      <td>2</td>\n",
       "      <td>1</td>\n",
       "      <td>1</td>\n",
       "      <td>2010.0</td>\n",
       "      <td>...</td>\n",
       "      <td>0</td>\n",
       "      <td>0</td>\n",
       "      <td>0</td>\n",
       "      <td>0</td>\n",
       "      <td>0</td>\n",
       "      <td>0</td>\n",
       "      <td>0</td>\n",
       "      <td>1</td>\n",
       "      <td>1</td>\n",
       "      <td>1</td>\n",
       "    </tr>\n",
       "    <tr>\n",
       "      <th>9997</th>\n",
       "      <td>T000078824</td>\n",
       "      <td>RoyBlaha</td>\n",
       "      <td>impulsee@pacbell.net</td>\n",
       "      <td>ETTA</td>\n",
       "      <td>2.0</td>\n",
       "      <td>67</td>\n",
       "      <td>8</td>\n",
       "      <td>0</td>\n",
       "      <td>0</td>\n",
       "      <td>0.0</td>\n",
       "      <td>...</td>\n",
       "      <td>0</td>\n",
       "      <td>0</td>\n",
       "      <td>0</td>\n",
       "      <td>0</td>\n",
       "      <td>0</td>\n",
       "      <td>1</td>\n",
       "      <td>0</td>\n",
       "      <td>0</td>\n",
       "      <td>1</td>\n",
       "      <td>8</td>\n",
       "    </tr>\n",
       "    <tr>\n",
       "      <th>9998</th>\n",
       "      <td>T000079618</td>\n",
       "      <td>ToddaThompson</td>\n",
       "      <td>crm8rem@hns.com</td>\n",
       "      <td>WILLOW PARK</td>\n",
       "      <td>1.0</td>\n",
       "      <td>63</td>\n",
       "      <td>0</td>\n",
       "      <td>3</td>\n",
       "      <td>2</td>\n",
       "      <td>2004.0</td>\n",
       "      <td>...</td>\n",
       "      <td>0</td>\n",
       "      <td>0</td>\n",
       "      <td>0</td>\n",
       "      <td>0</td>\n",
       "      <td>0</td>\n",
       "      <td>1</td>\n",
       "      <td>0</td>\n",
       "      <td>0</td>\n",
       "      <td>1</td>\n",
       "      <td>13</td>\n",
       "    </tr>\n",
       "    <tr>\n",
       "      <th>9999</th>\n",
       "      <td>T000080092</td>\n",
       "      <td>RussellaYamazaki</td>\n",
       "      <td>astronstar@hotmail.com</td>\n",
       "      <td>ROSEBURG</td>\n",
       "      <td>1.0</td>\n",
       "      <td>43</td>\n",
       "      <td>0</td>\n",
       "      <td>3</td>\n",
       "      <td>2</td>\n",
       "      <td>2006.0</td>\n",
       "      <td>...</td>\n",
       "      <td>0</td>\n",
       "      <td>0</td>\n",
       "      <td>0</td>\n",
       "      <td>0</td>\n",
       "      <td>0</td>\n",
       "      <td>1</td>\n",
       "      <td>0</td>\n",
       "      <td>0</td>\n",
       "      <td>1</td>\n",
       "      <td>8</td>\n",
       "    </tr>\n",
       "  </tbody>\n",
       "</table>\n",
       "<p>10000 rows × 268 columns</p>\n",
       "</div>"
      ],
      "text/plain": [
       "     SITE_ACCOUNT_NUMBER                    NAME  \\\n",
       "0           AMR-53205840          RennisaBranson   \n",
       "1           AMR-53383136             HowardDachs   \n",
       "2           AMR-53608585           PavelGroisman   \n",
       "3           AMR-53610590  StoneysmitaStoneysmith   \n",
       "4           AMR-53612154            BryanaEmilio   \n",
       "...                  ...                     ...   \n",
       "9995          Q-94945717               KevinABBE   \n",
       "9996          Q-94977539        Song BirdRamirez   \n",
       "9997          T000078824                RoyBlaha   \n",
       "9998          T000079618           ToddaThompson   \n",
       "9999          T000080092        RussellaYamazaki   \n",
       "\n",
       "                        EMAIL_ADDRESS         CITY  GENDER  AGE  INCOME  \\\n",
       "0      rbranson@southerninspection.co      TRINITY     2.0   48       0   \n",
       "1                  howvood@hughes.net          AVA     0.0   47       5   \n",
       "2           pavel.groisman@hughes.net     THURMONT     2.0   61       8   \n",
       "3                    jfary@hughes.net       KENEDY     1.0   64       0   \n",
       "4                 dp_photo@hughes.net       LOVELL     1.0   56       6   \n",
       "...                               ...          ...     ...  ...     ...   \n",
       "9995          KevinABBE700@crusin.com   MERRYVILLE     2.0   49       3   \n",
       "9996  Song BirdRamirez547@hotmail.com  MT PLEASANT     2.0   38       2   \n",
       "9997             impulsee@pacbell.net         ETTA     2.0   67       8   \n",
       "9998                  crm8rem@hns.com  WILLOW PARK     1.0   63       0   \n",
       "9999           astronstar@hotmail.com     ROSEBURG     1.0   43       0   \n",
       "\n",
       "      MARITAL_STATUS  PRESENCE_OF_CHILDREN  UPGRADE_DATE_Year  ...  \\\n",
       "0                  3                     2             2004.0  ...   \n",
       "1                  0                     0             2004.0  ...   \n",
       "2                  1                     0             2005.0  ...   \n",
       "3                  3                     2                0.0  ...   \n",
       "4                  0                     0             2005.0  ...   \n",
       "...              ...                   ...                ...  ...   \n",
       "9995               3                     1             2010.0  ...   \n",
       "9996               1                     1             2010.0  ...   \n",
       "9997               0                     0                0.0  ...   \n",
       "9998               3                     2             2004.0  ...   \n",
       "9999               3                     2             2006.0  ...   \n",
       "\n",
       "      Most_Recent_sales_channel_Retail  \\\n",
       "0                                    0   \n",
       "1                                    0   \n",
       "2                                    0   \n",
       "3                                    0   \n",
       "4                                    0   \n",
       "...                                ...   \n",
       "9995                                 0   \n",
       "9996                                 0   \n",
       "9997                                 0   \n",
       "9998                                 0   \n",
       "9999                                 0   \n",
       "\n",
       "      Most_Recent_sales_channel_Retail - Direct Order  \\\n",
       "0                                                   0   \n",
       "1                                                   0   \n",
       "2                                                   0   \n",
       "3                                                   0   \n",
       "4                                                   0   \n",
       "...                                               ...   \n",
       "9995                                                0   \n",
       "9996                                                0   \n",
       "9997                                                0   \n",
       "9998                                                0   \n",
       "9999                                                0   \n",
       "\n",
       "      Most_Recent_sales_channel_UNKNOWN  \\\n",
       "0                                     0   \n",
       "1                                     0   \n",
       "2                                     0   \n",
       "3                                     0   \n",
       "4                                     0   \n",
       "...                                 ...   \n",
       "9995                                  0   \n",
       "9996                                  0   \n",
       "9997                                  0   \n",
       "9998                                  0   \n",
       "9999                                  0   \n",
       "\n",
       "      Most_Recent_sales_channel_Used Equipment  Feedback_0  Feedback_BAD  \\\n",
       "0                                            0           0             1   \n",
       "1                                            0           0             1   \n",
       "2                                            0           0             1   \n",
       "3                                            0           0             0   \n",
       "4                                            0           0             0   \n",
       "...                                        ...         ...           ...   \n",
       "9995                                         0           0             0   \n",
       "9996                                         0           0             0   \n",
       "9997                                         0           0             1   \n",
       "9998                                         0           0             1   \n",
       "9999                                         0           0             1   \n",
       "\n",
       "      Feedback_GOOD  Feedback_Not Mentioned  ACCOUNT_STATUS  Clusters  \n",
       "0                 0                       0               1         8  \n",
       "1                 0                       0               1         6  \n",
       "2                 0                       0               1         8  \n",
       "3                 1                       0               1         8  \n",
       "4                 0                       1               1         8  \n",
       "...             ...                     ...             ...       ...  \n",
       "9995              1                       0               1         5  \n",
       "9996              0                       1               1         1  \n",
       "9997              0                       0               1         8  \n",
       "9998              0                       0               1        13  \n",
       "9999              0                       0               1         8  \n",
       "\n",
       "[10000 rows x 268 columns]"
      ]
     },
     "execution_count": 835,
     "metadata": {},
     "output_type": "execute_result"
    }
   ],
   "source": [
    "clusters"
   ]
  },
  {
   "cell_type": "code",
   "execution_count": null,
   "metadata": {},
   "outputs": [],
   "source": []
  },
  {
   "cell_type": "code",
   "execution_count": null,
   "metadata": {},
   "outputs": [],
   "source": []
  },
  {
   "cell_type": "code",
   "execution_count": 836,
   "metadata": {},
   "outputs": [],
   "source": [
    "# BUILDING MODELS :"
   ]
  },
  {
   "cell_type": "code",
   "execution_count": 837,
   "metadata": {},
   "outputs": [],
   "source": [
    "train_x, test_x, train_y, test_y = train_test_split(p2_select2[p2_select2.columns[:-1]],\n",
    "                                                  p2_select2['ACCOUNT_STATUS'],\n",
    "                                                  test_size=0.3,\n",
    "                                                  random_state=125)"
   ]
  },
  {
   "cell_type": "code",
   "execution_count": null,
   "metadata": {},
   "outputs": [],
   "source": []
  },
  {
   "cell_type": "code",
   "execution_count": 838,
   "metadata": {},
   "outputs": [],
   "source": [
    "# Logistic Regression--"
   ]
  },
  {
   "cell_type": "code",
   "execution_count": 839,
   "metadata": {},
   "outputs": [],
   "source": [
    "lr=LogisticRegression()"
   ]
  },
  {
   "cell_type": "code",
   "execution_count": 840,
   "metadata": {},
   "outputs": [],
   "source": [
    "xx=lr.fit(train_x, train_y)"
   ]
  },
  {
   "cell_type": "code",
   "execution_count": 841,
   "metadata": {},
   "outputs": [],
   "source": [
    "pre1=lr.predict(test_x)"
   ]
  },
  {
   "cell_type": "code",
   "execution_count": 842,
   "metadata": {},
   "outputs": [],
   "source": [
    "acc1=lr.score(test_x,test_y)"
   ]
  },
  {
   "cell_type": "code",
   "execution_count": 843,
   "metadata": {},
   "outputs": [
    {
     "data": {
      "text/plain": [
       "99.73333333333333"
      ]
     },
     "execution_count": 843,
     "metadata": {},
     "output_type": "execute_result"
    }
   ],
   "source": [
    "acc1*100"
   ]
  },
  {
   "cell_type": "code",
   "execution_count": 844,
   "metadata": {},
   "outputs": [
    {
     "data": {
      "text/plain": [
       "0.0026666666666666666"
      ]
     },
     "execution_count": 844,
     "metadata": {},
     "output_type": "execute_result"
    }
   ],
   "source": [
    "mae1=metrics.mean_absolute_error(test_y,pre1)\n",
    "mae1"
   ]
  },
  {
   "cell_type": "code",
   "execution_count": 845,
   "metadata": {},
   "outputs": [
    {
     "data": {
      "text/plain": [
       "0.051639777949432225"
      ]
     },
     "execution_count": 845,
     "metadata": {},
     "output_type": "execute_result"
    }
   ],
   "source": [
    "rmse1=np.sqrt(metrics.mean_squared_error(test_y,pre1))\n",
    "rmse1"
   ]
  },
  {
   "cell_type": "code",
   "execution_count": 846,
   "metadata": {},
   "outputs": [],
   "source": [
    "## Logistic Regression Model Validation-->\n",
    "#   Accuracy score         - 99.733   \n",
    "#   Mean absolute error    - 0.0026\n",
    "#   Root mean square error - 0.0516"
   ]
  },
  {
   "cell_type": "code",
   "execution_count": null,
   "metadata": {},
   "outputs": [],
   "source": []
  },
  {
   "cell_type": "code",
   "execution_count": 847,
   "metadata": {},
   "outputs": [],
   "source": [
    "# KNN Regressor--"
   ]
  },
  {
   "cell_type": "code",
   "execution_count": 848,
   "metadata": {},
   "outputs": [],
   "source": [
    "knn=KNeighborsRegressor(n_neighbors=10,n_jobs=5)"
   ]
  },
  {
   "cell_type": "code",
   "execution_count": 849,
   "metadata": {},
   "outputs": [],
   "source": [
    "kn_fit=knn.fit(train_x,train_y)"
   ]
  },
  {
   "cell_type": "code",
   "execution_count": 850,
   "metadata": {},
   "outputs": [],
   "source": [
    "pre2=knn.predict(test_x)"
   ]
  },
  {
   "cell_type": "code",
   "execution_count": 851,
   "metadata": {},
   "outputs": [],
   "source": [
    "acc2=knn.score(test_x,test_y)"
   ]
  },
  {
   "cell_type": "code",
   "execution_count": 852,
   "metadata": {},
   "outputs": [
    {
     "data": {
      "text/plain": [
       "12.809364548494962"
      ]
     },
     "execution_count": 852,
     "metadata": {},
     "output_type": "execute_result"
    }
   ],
   "source": [
    "acc2*100"
   ]
  },
  {
   "cell_type": "code",
   "execution_count": 853,
   "metadata": {},
   "outputs": [
    {
     "data": {
      "text/plain": [
       "0.0041"
      ]
     },
     "execution_count": 853,
     "metadata": {},
     "output_type": "execute_result"
    }
   ],
   "source": [
    "mae2=metrics.mean_absolute_error(test_y,pre2)\n",
    "mae2"
   ]
  },
  {
   "cell_type": "code",
   "execution_count": 854,
   "metadata": {},
   "outputs": [
    {
     "data": {
      "text/plain": [
       "0.05382068994974578"
      ]
     },
     "execution_count": 854,
     "metadata": {},
     "output_type": "execute_result"
    }
   ],
   "source": [
    "rmse2=np.sqrt(metrics.mean_squared_error(test_y,pre2))\n",
    "rmse2"
   ]
  },
  {
   "cell_type": "code",
   "execution_count": null,
   "metadata": {},
   "outputs": [],
   "source": [
    "## KNN Regressor Model Validation-->\n",
    "#   Accuracy score         - 12.809   \n",
    "#   Mean absolute error    - 0.0041\n",
    "#   Root mean square error - 0.0538"
   ]
  },
  {
   "cell_type": "code",
   "execution_count": null,
   "metadata": {},
   "outputs": [],
   "source": []
  },
  {
   "cell_type": "code",
   "execution_count": 855,
   "metadata": {},
   "outputs": [],
   "source": [
    "# Linear Regression--"
   ]
  },
  {
   "cell_type": "code",
   "execution_count": 856,
   "metadata": {},
   "outputs": [],
   "source": [
    "lm=LinearRegression(normalize=True)"
   ]
  },
  {
   "cell_type": "code",
   "execution_count": 857,
   "metadata": {},
   "outputs": [],
   "source": [
    "lm_fit=lm.fit(train_x,train_y)"
   ]
  },
  {
   "cell_type": "code",
   "execution_count": 858,
   "metadata": {},
   "outputs": [],
   "source": [
    "pre3=lm.predict(test_x)"
   ]
  },
  {
   "cell_type": "code",
   "execution_count": 859,
   "metadata": {},
   "outputs": [],
   "source": [
    "acc3=lm.score(test_x,test_y)"
   ]
  },
  {
   "cell_type": "code",
   "execution_count": 860,
   "metadata": {},
   "outputs": [
    {
     "data": {
      "text/plain": [
       "15.781068114133955"
      ]
     },
     "execution_count": 860,
     "metadata": {},
     "output_type": "execute_result"
    }
   ],
   "source": [
    "acc3*100"
   ]
  },
  {
   "cell_type": "code",
   "execution_count": 861,
   "metadata": {},
   "outputs": [
    {
     "data": {
      "text/plain": [
       "0.0064510498046875"
      ]
     },
     "execution_count": 861,
     "metadata": {},
     "output_type": "execute_result"
    }
   ],
   "source": [
    "mae3=metrics.mean_absolute_error(test_y,pre3)\n",
    "mae3"
   ]
  },
  {
   "cell_type": "code",
   "execution_count": 862,
   "metadata": {},
   "outputs": [
    {
     "data": {
      "text/plain": [
       "0.05289555813516327"
      ]
     },
     "execution_count": 862,
     "metadata": {},
     "output_type": "execute_result"
    }
   ],
   "source": [
    "rmse3=np.sqrt(metrics.mean_squared_error(test_y,pre3))\n",
    "rmse3"
   ]
  },
  {
   "cell_type": "code",
   "execution_count": 479,
   "metadata": {},
   "outputs": [],
   "source": [
    "## Linear Regression Model Validation-->\n",
    "#   Accuracy score         - 15.781   \n",
    "#   Mean absolute error    - 0.0064\n",
    "#   Root mean square error - 0.0528"
   ]
  },
  {
   "cell_type": "code",
   "execution_count": null,
   "metadata": {},
   "outputs": [],
   "source": []
  },
  {
   "cell_type": "code",
   "execution_count": null,
   "metadata": {},
   "outputs": [],
   "source": [
    "# Logistic Regression model has the highest accuracy and shows least errors, therefore we choose this model\n",
    "# finding the key factors that would contribute to churn"
   ]
  },
  {
   "cell_type": "code",
   "execution_count": 863,
   "metadata": {},
   "outputs": [],
   "source": [
    "lr_col=pd.DataFrame(xx.coef_)"
   ]
  },
  {
   "cell_type": "code",
   "execution_count": 864,
   "metadata": {},
   "outputs": [],
   "source": [
    "lr_col.columns=train_x.columns"
   ]
  },
  {
   "cell_type": "code",
   "execution_count": 865,
   "metadata": {},
   "outputs": [],
   "source": [
    "lr_col_new=lr_col.T"
   ]
  },
  {
   "cell_type": "code",
   "execution_count": 866,
   "metadata": {},
   "outputs": [],
   "source": [
    "lr_col_new.columns=[\"Coefficients\"]"
   ]
  },
  {
   "cell_type": "code",
   "execution_count": 867,
   "metadata": {},
   "outputs": [],
   "source": [
    "lr_features=lr_col_new.sort_values(ascending=False,by=\"Coefficients\")"
   ]
  },
  {
   "cell_type": "code",
   "execution_count": 868,
   "metadata": {},
   "outputs": [],
   "source": [
    "lr_features=lr_features.reset_index()"
   ]
  },
  {
   "cell_type": "code",
   "execution_count": 869,
   "metadata": {},
   "outputs": [],
   "source": [
    "lr_features.columns=[\"Features\",\"Coefficients\"]"
   ]
  },
  {
   "cell_type": "code",
   "execution_count": 870,
   "metadata": {},
   "outputs": [
    {
     "data": {
      "text/html": [
       "<div>\n",
       "<style scoped>\n",
       "    .dataframe tbody tr th:only-of-type {\n",
       "        vertical-align: middle;\n",
       "    }\n",
       "\n",
       "    .dataframe tbody tr th {\n",
       "        vertical-align: top;\n",
       "    }\n",
       "\n",
       "    .dataframe thead th {\n",
       "        text-align: right;\n",
       "    }\n",
       "</style>\n",
       "<table border=\"1\" class=\"dataframe\">\n",
       "  <thead>\n",
       "    <tr style=\"text-align: right;\">\n",
       "      <th></th>\n",
       "      <th>Features</th>\n",
       "      <th>Coefficients</th>\n",
       "    </tr>\n",
       "  </thead>\n",
       "  <tbody>\n",
       "    <tr>\n",
       "      <th>0</th>\n",
       "      <td>Most_Recent_sales_channel_Direct</td>\n",
       "      <td>0.978274</td>\n",
       "    </tr>\n",
       "    <tr>\n",
       "      <th>1</th>\n",
       "      <td>PRESENCE_OF_CHILDREN</td>\n",
       "      <td>0.962105</td>\n",
       "    </tr>\n",
       "    <tr>\n",
       "      <th>2</th>\n",
       "      <td>Model_HN7000S</td>\n",
       "      <td>0.671657</td>\n",
       "    </tr>\n",
       "    <tr>\n",
       "      <th>3</th>\n",
       "      <td>Company_source_nameHNS Customers</td>\n",
       "      <td>0.588303</td>\n",
       "    </tr>\n",
       "    <tr>\n",
       "      <th>4</th>\n",
       "      <td>Most_Recent_sales_channel_Hughes Sales Agents</td>\n",
       "      <td>0.539112</td>\n",
       "    </tr>\n",
       "    <tr>\n",
       "      <th>...</th>\n",
       "      <td>...</td>\n",
       "      <td>...</td>\n",
       "    </tr>\n",
       "    <tr>\n",
       "      <th>259</th>\n",
       "      <td>Sales_source_Independent Installations LLC (RS...</td>\n",
       "      <td>-0.821502</td>\n",
       "    </tr>\n",
       "    <tr>\n",
       "      <th>260</th>\n",
       "      <td>State_ NJ</td>\n",
       "      <td>-0.872325</td>\n",
       "    </tr>\n",
       "    <tr>\n",
       "      <th>261</th>\n",
       "      <td>State_ DE</td>\n",
       "      <td>-0.896056</td>\n",
       "    </tr>\n",
       "    <tr>\n",
       "      <th>262</th>\n",
       "      <td>Sales_source_American Satellite (SA)</td>\n",
       "      <td>-0.949676</td>\n",
       "    </tr>\n",
       "    <tr>\n",
       "      <th>263</th>\n",
       "      <td>Sales_source_DS Technologies (DOW)</td>\n",
       "      <td>-0.956715</td>\n",
       "    </tr>\n",
       "  </tbody>\n",
       "</table>\n",
       "<p>264 rows × 2 columns</p>\n",
       "</div>"
      ],
      "text/plain": [
       "                                              Features  Coefficients\n",
       "0                     Most_Recent_sales_channel_Direct      0.978274\n",
       "1                                 PRESENCE_OF_CHILDREN      0.962105\n",
       "2                                        Model_HN7000S      0.671657\n",
       "3                     Company_source_nameHNS Customers      0.588303\n",
       "4        Most_Recent_sales_channel_Hughes Sales Agents      0.539112\n",
       "..                                                 ...           ...\n",
       "259  Sales_source_Independent Installations LLC (RS...     -0.821502\n",
       "260                                          State_ NJ     -0.872325\n",
       "261                                          State_ DE     -0.896056\n",
       "262               Sales_source_American Satellite (SA)     -0.949676\n",
       "263                 Sales_source_DS Technologies (DOW)     -0.956715\n",
       "\n",
       "[264 rows x 2 columns]"
      ]
     },
     "execution_count": 870,
     "metadata": {},
     "output_type": "execute_result"
    }
   ],
   "source": [
    "lr_features"
   ]
  },
  {
   "cell_type": "code",
   "execution_count": 871,
   "metadata": {},
   "outputs": [],
   "source": [
    "# Taking top 100 features based on their coefficients"
   ]
  },
  {
   "cell_type": "code",
   "execution_count": 872,
   "metadata": {},
   "outputs": [],
   "source": [
    "rank=lr_features.loc[0:100,['Features']]"
   ]
  },
  {
   "cell_type": "code",
   "execution_count": 873,
   "metadata": {},
   "outputs": [],
   "source": [
    "feature_list=['Most_Recent_sales_channel_Direct', 'PRESENCE_OF_CHILDREN', 'Model_HN7000S', 'Company_source_nameHNS Customers',\n",
    " 'Most_Recent_sales_channel_Hughes Sales Agents', 'SatelliteNot Mentioned', 'State_ CA', 'Feedback_BAD',\n",
    " 'State_ TX', 'Site_Type_Desc_Spaceway', 'Sales_source_Red Ventures LLC (SA)', 'Service_Plan_Home', 'Direct_Indirect_Channel_Not Mentioned',\n",
    " 'Sales_source_Communication Solutions LLC (CC)', 'Most_Recent_sales_channel_Used Equipment',\n",
    " 'Service_Plan_Proplus', 'State_ NY', 'Service_Plan_Power15', 'Sales_source_Hughes Web Order',\n",
    " 'SatelliteHZN-HOR-8K', 'Sales_source_I-Dish.com LLC (SA)', 'State_ CO', 'Model_DW4000', 'Service_Plan_Basic_Ltd',\n",
    " 'SatelliteG28-HOR-16K', 'Sales_source_ACS', 'Service_Plan_Professional', 'Service_Plan_Professional Plus',\n",
    " 'Direct_Indirect_Channel_Indirect', 'Sales_source_DialAmerica Marketing Inc (CC)', 'SatelliteHZN-VER-23K', 'Sales_source_Not Mentioned',\n",
    " 'SatelliteG26-HOR-14K', 'State_ AR', 'SatelliteAM6-HOR-21K', 'Service_Plan_Pro', 'State_ MI', 'Sales_source_NationWide Satellite (SA)',\n",
    " 'State_ MO', 'State_ AZ', 'SatelliteAM9-HOR-17K', 'SatelliteSM5-VER-7K', 'State_ MS', 'Site_Type_Desc_Broadband Remote',\n",
    " 'SatelliteAMC-VER-5K', 'State_ OR', 'Most_Recent_sales_channel_HN7000 Upgrade', 'State_ PA', 'State_ OK', 'Feedback_GOOD',\n",
    " 'Model_HN9000', 'State_ AL', 'State_ MT', 'State_ NC', 'State_ NM', 'Sales_source_ACS Pre-Install', 'State_ GA', 'GENDER',\n",
    " 'State_ IA', 'Sales_source_Elite Satellite and Home Theater Inc (S', 'Most_Recent_sales_channel_DW6000 Upgrade',\n",
    " 'State_ FL', 'State_ LA', 'State_ OH', 'Most_Recent_sales_channel_National Sales', 'AGE', 'State_ TN', 'Sales_source_Best Buy',\n",
    " 'State_ KS', 'State_ KY', 'Most_Recent_sales_channel_DPC Classic upgrade', 'Company_source_name#REF!',\n",
    " 'Sales_source_Electronic Express (SA)', 'Most_Recent_sales_channel_Retail', 'Model_DW7000', 'Most_Recent_sales_channel_Distributor Sales Age',\n",
    " 'State_ IN', 'Sales_source_Perfect 10', 'State_ WI', 'UPGRADE_DATE_Day', 'State_ MN', 'Sales_source_MyNet LLC (SA)',\n",
    " 'UPGRADE_DATE_Month', 'Sales_source_AmericanSat', 'Sales_source_Buy Telco', 'Sales_source_EBN Financial dba Dish Systems (SA)',\n",
    " 'Sales_source_RS&I', 'State_ NV', 'Sales_source_Blacksheep Classic Airplane CO dba Blac', 'Sales_source_Geosearch Logging Inc (RSI578404)',\n",
    " 'Sales_source_GoDish.com Ltd LLP (SA)', 'State_ NH', 'State_ VT', 'State_ MA', 'Sales_source_Professional Broadband Solutions (P10)', 'State_ WV',\n",
    " 'Sales_source_Qcorps Residential Inc dba WhiteFence (', 'Feedback_Not Mentioned', 'Site_Type_Desc_Not Mentioned', 'State_ ID',\n",
    " 'Most_Recent_sales_channel_DW7000 Upgrade']\n",
    "feature_list.append('ACCOUNT_STATUS')"
   ]
  },
  {
   "cell_type": "code",
   "execution_count": 874,
   "metadata": {},
   "outputs": [],
   "source": [
    "df=p2_select2[feature_list]"
   ]
  },
  {
   "cell_type": "code",
   "execution_count": 875,
   "metadata": {},
   "outputs": [],
   "source": [
    "df.columns=['Most_Recent_sales_channel_Direct', 'PRESENCE_OF_CHILDREN', 'Model_HN7000S', 'Company_source_nameHNS_Customers',\n",
    " 'Most_Recent_sales_channel_Hughes_Sales_Agents', 'SatelliteNot_Mentioned', 'State_CA', 'Feedback_BAD',\n",
    " 'State_TX', 'Site_Type_Desc_Spaceway', 'Sales_source_Red_Ventures_LLC_SA', 'Service_Plan_Home', 'Direct_Indirect_Channel_Not_Mentioned',\n",
    " 'Sales_source_Communication_Solutions_LLC_CC', 'Most_Recent_sales_channel_Used_Equipment', 'Service_Plan_Proplus', 'State_NY',\n",
    " 'Service_Plan_Power15', 'Sales_source_Hughes_Web_Order', 'SatelliteHZN_HOR_8K', 'Sales_source_I_Dish_LLCSA',\n",
    " 'State_CO', 'Model_DW4000', 'Service_Plan_Basic_Ltd', 'SatelliteG28_HOR_16K', 'Sales_source_ACS', 'Service_Plan_Professional', 'Service_Plan_Professional_Plus',\n",
    " 'Direct_Indirect_Channel_Indirect', 'Sales_source_DialAmerica_Marketing_Inc_CC', 'SatelliteHZN_VER_23K',\n",
    " 'Sales_source_Not_Mentioned', 'SatelliteG26_HOR_14K', 'State_AR', 'SatelliteAM6_HOR_21K', 'Service_Plan_Pro',\n",
    " 'State_MI', 'Sales_source_NationWide_Satellite_SA', 'State_MO', 'State_AZ', 'SatelliteAM9_HOR_17K', 'SatelliteSM5_VER_7K', 'State_MS',\n",
    " 'Site_Type_Desc_Broadband_Remote', 'SatelliteAMC_VER_5K', 'State_OR', 'Most_Recent_sales_channel_HN7000_Upgrade',\n",
    " 'State_PA', 'State_OK', 'Feedback_GOOD', 'Model_HN9000', 'State_AL', 'State_MT', 'State_NC', 'State_NM',\n",
    " 'Sales_source_ACS_Pre_Install', 'State_GA', 'GENDER', 'State_IA', 'Sales_source_Elite_Satellite_and_Home_Theater_Inc',\n",
    " 'Most_Recent_sales_channel_DW6000_Upgrade', 'State_FL', 'State_LA', 'State_OH', 'Most_Recent_sales_channel_National_Sales',\n",
    " 'AGE', 'State_TN', 'Sales_source_Best_Buy', 'State_KS', 'State_KY', 'Most_Recent_sales_channel_DPC_Classic_upgrade',\n",
    " 'Company_source_nameREF', 'Sales_source_Electronic_Express_SA', 'Most_Recent_sales_channel_Retail', 'Model_DW7000',\n",
    " 'Most_Recent_sales_channel_Distributor_Sales_Age', 'State_IN', 'Sales_source_Perfect_10', 'State_WI',\n",
    " 'UPGRADE_DATE_Day', 'State_MN', 'Sales_source_MyNet_LLC_SA', 'UPGRADE_DATE_Month', 'Sales_source_AmericanSat',\n",
    " 'Sales_source_Buy_Telco', 'Sales_source_EBN_Financial_dba_Dish_Systems_SA', 'Sales_source_RSandI', 'State_NV',\n",
    " 'Sales_source_Blacksheep_Classic_Airplane_CO_dba_Blac', 'Sales_source_Geosearch_Logging_Inc_RSI578404', 'Sales_source_GoDish_Ltd_LLP_SA', 'State_NH',\n",
    " 'State_VT', 'State_MA', 'Sales_source_Professional_Broadband_Solutions_P10', 'State_WV',\n",
    " 'Sales_source_Qcorps_Residential_Inc_dba_WhiteFence', 'Feedback_Not_Mentioned', 'Site_Type_Desc_Not_Mentioned',\n",
    " 'State_ID', 'Most_Recent_sales_channel_DW7000_Upgrade','ACCOUNT_STATUS']"
   ]
  },
  {
   "cell_type": "code",
   "execution_count": 876,
   "metadata": {},
   "outputs": [],
   "source": [
    "new_list=['Most_Recent_sales_channel_Direct', 'PRESENCE_OF_CHILDREN', 'Model_HN7000S', 'Company_source_nameHNS_Customers',\n",
    " 'Most_Recent_sales_channel_Hughes_Sales_Agents', 'SatelliteNot_Mentioned', 'State_CA', 'Feedback_BAD',\n",
    " 'State_TX', 'Site_Type_Desc_Spaceway', 'Sales_source_Red_Ventures_LLC_SA', 'Service_Plan_Home', 'Direct_Indirect_Channel_Not_Mentioned',\n",
    " 'Sales_source_Communication_Solutions_LLC_CC', 'Most_Recent_sales_channel_Used_Equipment', 'Service_Plan_Proplus', 'State_NY',\n",
    " 'Service_Plan_Power15', 'Sales_source_Hughes_Web_Order', 'SatelliteHZN_HOR_8K', 'Sales_source_I_Dish_LLCSA',\n",
    " 'State_CO', 'Model_DW4000', 'Service_Plan_Basic_Ltd', 'SatelliteG28_HOR_16K', 'Sales_source_ACS', 'Service_Plan_Professional', 'Service_Plan_Professional_Plus',\n",
    " 'Direct_Indirect_Channel_Indirect', 'Sales_source_DialAmerica_Marketing_Inc_CC', 'SatelliteHZN_VER_23K',\n",
    " 'Sales_source_Not_Mentioned', 'SatelliteG26_HOR_14K', 'State_AR', 'SatelliteAM6_HOR_21K', 'Service_Plan_Pro',\n",
    " 'State_MI', 'Sales_source_NationWide_Satellite_SA', 'State_MO', 'State_AZ', 'SatelliteAM9_HOR_17K', 'SatelliteSM5_VER_7K', 'State_MS',\n",
    " 'Site_Type_Desc_Broadband_Remote', 'SatelliteAMC_VER_5K', 'State_OR', 'Most_Recent_sales_channel_HN7000_Upgrade',\n",
    " 'State_PA', 'State_OK', 'Feedback_GOOD', 'Model_HN9000', 'State_AL', 'State_MT', 'State_NC', 'State_NM',\n",
    " 'Sales_source_ACS_Pre_Install', 'State_GA', 'GENDER', 'State_IA', 'Sales_source_Elite_Satellite_and_Home_Theater_Inc',\n",
    " 'Most_Recent_sales_channel_DW6000_Upgrade', 'State_FL', 'State_LA', 'State_OH', 'Most_Recent_sales_channel_National_Sales',\n",
    " 'AGE', 'State_TN', 'Sales_source_Best_Buy', 'State_KS', 'State_KY', 'Most_Recent_sales_channel_DPC_Classic_upgrade',\n",
    " 'Company_source_nameREF', 'Sales_source_Electronic_Express_SA', 'Most_Recent_sales_channel_Retail', 'Model_DW7000',\n",
    " 'Most_Recent_sales_channel_Distributor_Sales_Age', 'State_IN', 'Sales_source_Perfect_10', 'State_WI',\n",
    " 'UPGRADE_DATE_Day', 'State_MN', 'Sales_source_MyNet_LLC_SA', 'UPGRADE_DATE_Month', 'Sales_source_AmericanSat',\n",
    " 'Sales_source_Buy_Telco', 'Sales_source_EBN_Financial_dba_Dish_Systems_SA', 'Sales_source_RSandI', 'State_NV',\n",
    " 'Sales_source_Blacksheep_Classic_Airplane_CO_dba_Blac', 'Sales_source_Geosearch_Logging_Inc_RSI578404', 'Sales_source_GoDish_Ltd_LLP_SA', 'State_NH',\n",
    " 'State_VT', 'State_MA', 'Sales_source_Professional_Broadband_Solutions_P10', 'State_WV',\n",
    " 'Sales_source_Qcorps_Residential_Inc_dba_WhiteFence', 'Feedback_Not_Mentioned', 'Site_Type_Desc_Not_Mentioned',\n",
    " 'State_ID', 'Most_Recent_sales_channel_DW7000_Upgrade','ACCOUNT_STATUS']"
   ]
  },
  {
   "cell_type": "code",
   "execution_count": null,
   "metadata": {},
   "outputs": [],
   "source": []
  },
  {
   "cell_type": "code",
   "execution_count": 877,
   "metadata": {},
   "outputs": [],
   "source": [
    "# Dealing with Multi-Collinearity--"
   ]
  },
  {
   "cell_type": "code",
   "execution_count": 878,
   "metadata": {},
   "outputs": [],
   "source": [
    "del new_list[-1]"
   ]
  },
  {
   "cell_type": "code",
   "execution_count": 879,
   "metadata": {},
   "outputs": [],
   "source": [
    "features = \"+\".join(new_list)"
   ]
  },
  {
   "cell_type": "code",
   "execution_count": 880,
   "metadata": {},
   "outputs": [],
   "source": [
    "y, X = dmatrices('ACCOUNT_STATUS~'+features,df, return_type='dataframe')"
   ]
  },
  {
   "cell_type": "code",
   "execution_count": 881,
   "metadata": {},
   "outputs": [
    {
     "name": "stderr",
     "output_type": "stream",
     "text": [
      "C:\\Users\\kaust\\Anaconda3\\lib\\site-packages\\statsmodels\\stats\\outliers_influence.py:193: RuntimeWarning: divide by zero encountered in double_scalars\n",
      "  vif = 1. / (1. - r_squared_i)\n"
     ]
    }
   ],
   "source": [
    "vif = pd.DataFrame()\n",
    "vif[\"VIF Factor\"] = [variance_inflation_factor(X.values, i) for i in range(X.shape[1])]\n",
    "vif[\"features\"] = X.columns"
   ]
  },
  {
   "cell_type": "code",
   "execution_count": 882,
   "metadata": {},
   "outputs": [
    {
     "data": {
      "text/html": [
       "<div>\n",
       "<style scoped>\n",
       "    .dataframe tbody tr th:only-of-type {\n",
       "        vertical-align: middle;\n",
       "    }\n",
       "\n",
       "    .dataframe tbody tr th {\n",
       "        vertical-align: top;\n",
       "    }\n",
       "\n",
       "    .dataframe thead th {\n",
       "        text-align: right;\n",
       "    }\n",
       "</style>\n",
       "<table border=\"1\" class=\"dataframe\">\n",
       "  <thead>\n",
       "    <tr style=\"text-align: right;\">\n",
       "      <th></th>\n",
       "      <th>VIF Factor</th>\n",
       "      <th>features</th>\n",
       "    </tr>\n",
       "  </thead>\n",
       "  <tbody>\n",
       "    <tr>\n",
       "      <th>44</th>\n",
       "      <td>inf</td>\n",
       "      <td>Site_Type_Desc_Broadband_Remote</td>\n",
       "    </tr>\n",
       "    <tr>\n",
       "      <th>99</th>\n",
       "      <td>inf</td>\n",
       "      <td>Site_Type_Desc_Not_Mentioned</td>\n",
       "    </tr>\n",
       "    <tr>\n",
       "      <th>98</th>\n",
       "      <td>inf</td>\n",
       "      <td>Feedback_Not_Mentioned</td>\n",
       "    </tr>\n",
       "    <tr>\n",
       "      <th>4</th>\n",
       "      <td>inf</td>\n",
       "      <td>Company_source_nameHNS_Customers</td>\n",
       "    </tr>\n",
       "    <tr>\n",
       "      <th>72</th>\n",
       "      <td>inf</td>\n",
       "      <td>Company_source_nameREF</td>\n",
       "    </tr>\n",
       "    <tr>\n",
       "      <th>...</th>\n",
       "      <td>...</td>\n",
       "      <td>...</td>\n",
       "    </tr>\n",
       "    <tr>\n",
       "      <th>82</th>\n",
       "      <td>1.020467</td>\n",
       "      <td>Sales_source_MyNet_LLC_SA</td>\n",
       "    </tr>\n",
       "    <tr>\n",
       "      <th>89</th>\n",
       "      <td>1.018768</td>\n",
       "      <td>Sales_source_Blacksheep_Classic_Airplane_CO_db...</td>\n",
       "    </tr>\n",
       "    <tr>\n",
       "      <th>95</th>\n",
       "      <td>1.014561</td>\n",
       "      <td>Sales_source_Professional_Broadband_Solutions_P10</td>\n",
       "    </tr>\n",
       "    <tr>\n",
       "      <th>58</th>\n",
       "      <td>1.010003</td>\n",
       "      <td>GENDER</td>\n",
       "    </tr>\n",
       "    <tr>\n",
       "      <th>90</th>\n",
       "      <td>1.008694</td>\n",
       "      <td>Sales_source_Geosearch_Logging_Inc_RSI578404</td>\n",
       "    </tr>\n",
       "  </tbody>\n",
       "</table>\n",
       "<p>102 rows × 2 columns</p>\n",
       "</div>"
      ],
      "text/plain": [
       "    VIF Factor                                           features\n",
       "44         inf                    Site_Type_Desc_Broadband_Remote\n",
       "99         inf                       Site_Type_Desc_Not_Mentioned\n",
       "98         inf                             Feedback_Not_Mentioned\n",
       "4          inf                   Company_source_nameHNS_Customers\n",
       "72         inf                             Company_source_nameREF\n",
       "..         ...                                                ...\n",
       "82    1.020467                          Sales_source_MyNet_LLC_SA\n",
       "89    1.018768  Sales_source_Blacksheep_Classic_Airplane_CO_db...\n",
       "95    1.014561  Sales_source_Professional_Broadband_Solutions_P10\n",
       "58    1.010003                                             GENDER\n",
       "90    1.008694       Sales_source_Geosearch_Logging_Inc_RSI578404\n",
       "\n",
       "[102 rows x 2 columns]"
      ]
     },
     "execution_count": 882,
     "metadata": {},
     "output_type": "execute_result"
    }
   ],
   "source": [
    "vif.sort_values(by=['VIF Factor'],ascending=False)"
   ]
  },
  {
   "cell_type": "code",
   "execution_count": 883,
   "metadata": {},
   "outputs": [
    {
     "data": {
      "text/html": [
       "<div>\n",
       "<style scoped>\n",
       "    .dataframe tbody tr th:only-of-type {\n",
       "        vertical-align: middle;\n",
       "    }\n",
       "\n",
       "    .dataframe tbody tr th {\n",
       "        vertical-align: top;\n",
       "    }\n",
       "\n",
       "    .dataframe thead th {\n",
       "        text-align: right;\n",
       "    }\n",
       "</style>\n",
       "<table border=\"1\" class=\"dataframe\">\n",
       "  <thead>\n",
       "    <tr style=\"text-align: right;\">\n",
       "      <th></th>\n",
       "      <th>VIF Factor</th>\n",
       "      <th>features</th>\n",
       "    </tr>\n",
       "  </thead>\n",
       "  <tbody>\n",
       "    <tr>\n",
       "      <th>0</th>\n",
       "      <td>1250.076775</td>\n",
       "      <td>Intercept</td>\n",
       "    </tr>\n",
       "    <tr>\n",
       "      <th>4</th>\n",
       "      <td>inf</td>\n",
       "      <td>Company_source_nameHNS_Customers</td>\n",
       "    </tr>\n",
       "    <tr>\n",
       "      <th>8</th>\n",
       "      <td>inf</td>\n",
       "      <td>Feedback_BAD</td>\n",
       "    </tr>\n",
       "    <tr>\n",
       "      <th>10</th>\n",
       "      <td>inf</td>\n",
       "      <td>Site_Type_Desc_Spaceway</td>\n",
       "    </tr>\n",
       "    <tr>\n",
       "      <th>44</th>\n",
       "      <td>inf</td>\n",
       "      <td>Site_Type_Desc_Broadband_Remote</td>\n",
       "    </tr>\n",
       "    <tr>\n",
       "      <th>50</th>\n",
       "      <td>inf</td>\n",
       "      <td>Feedback_GOOD</td>\n",
       "    </tr>\n",
       "    <tr>\n",
       "      <th>72</th>\n",
       "      <td>inf</td>\n",
       "      <td>Company_source_nameREF</td>\n",
       "    </tr>\n",
       "    <tr>\n",
       "      <th>98</th>\n",
       "      <td>inf</td>\n",
       "      <td>Feedback_Not_Mentioned</td>\n",
       "    </tr>\n",
       "    <tr>\n",
       "      <th>99</th>\n",
       "      <td>inf</td>\n",
       "      <td>Site_Type_Desc_Not_Mentioned</td>\n",
       "    </tr>\n",
       "  </tbody>\n",
       "</table>\n",
       "</div>"
      ],
      "text/plain": [
       "     VIF Factor                          features\n",
       "0   1250.076775                         Intercept\n",
       "4           inf  Company_source_nameHNS_Customers\n",
       "8           inf                      Feedback_BAD\n",
       "10          inf           Site_Type_Desc_Spaceway\n",
       "44          inf   Site_Type_Desc_Broadband_Remote\n",
       "50          inf                     Feedback_GOOD\n",
       "72          inf            Company_source_nameREF\n",
       "98          inf            Feedback_Not_Mentioned\n",
       "99          inf      Site_Type_Desc_Not_Mentioned"
      ]
     },
     "execution_count": 883,
     "metadata": {},
     "output_type": "execute_result"
    }
   ],
   "source": [
    "vif[vif['VIF Factor']>10]"
   ]
  },
  {
   "cell_type": "code",
   "execution_count": null,
   "metadata": {},
   "outputs": [],
   "source": [
    "# Hence following factors can contribute to the customer churn for the churn customers-->\n",
    "#  Company_source_name\n",
    "#  Site_Type_desc\n",
    "#  Feedback"
   ]
  },
  {
   "cell_type": "code",
   "execution_count": null,
   "metadata": {},
   "outputs": [],
   "source": []
  },
  {
   "cell_type": "code",
   "execution_count": null,
   "metadata": {},
   "outputs": [],
   "source": [
    "# List of least common churn customers--"
   ]
  },
  {
   "cell_type": "code",
   "execution_count": 884,
   "metadata": {},
   "outputs": [
    {
     "data": {
      "text/html": [
       "<div>\n",
       "<style scoped>\n",
       "    .dataframe tbody tr th:only-of-type {\n",
       "        vertical-align: middle;\n",
       "    }\n",
       "\n",
       "    .dataframe tbody tr th {\n",
       "        vertical-align: top;\n",
       "    }\n",
       "\n",
       "    .dataframe thead th {\n",
       "        text-align: right;\n",
       "    }\n",
       "</style>\n",
       "<table border=\"1\" class=\"dataframe\">\n",
       "  <thead>\n",
       "    <tr style=\"text-align: right;\">\n",
       "      <th></th>\n",
       "      <th>SITE_ACCOUNT_NUMBER</th>\n",
       "      <th>NAME</th>\n",
       "      <th>CITY</th>\n",
       "      <th>Company_source_nameHNS Customers</th>\n",
       "      <th>Site_Type_Desc_Broadband Remote</th>\n",
       "      <th>Feedback_BAD</th>\n",
       "      <th>Feedback_GOOD</th>\n",
       "      <th>Site_Type_Desc_Spaceway</th>\n",
       "    </tr>\n",
       "  </thead>\n",
       "  <tbody>\n",
       "    <tr>\n",
       "      <th>504</th>\n",
       "      <td>AMR-90268537</td>\n",
       "      <td>ingridPritchett</td>\n",
       "      <td>TILLATOBA</td>\n",
       "      <td>1</td>\n",
       "      <td>0</td>\n",
       "      <td>1</td>\n",
       "      <td>0</td>\n",
       "      <td>1</td>\n",
       "    </tr>\n",
       "    <tr>\n",
       "      <th>5559</th>\n",
       "      <td>AMR-93937356</td>\n",
       "      <td>Richardfoster</td>\n",
       "      <td>MEDINA</td>\n",
       "      <td>1</td>\n",
       "      <td>0</td>\n",
       "      <td>1</td>\n",
       "      <td>0</td>\n",
       "      <td>1</td>\n",
       "    </tr>\n",
       "    <tr>\n",
       "      <th>5750</th>\n",
       "      <td>AMR-94092148</td>\n",
       "      <td>FREDDYaHatcher</td>\n",
       "      <td>ROCKVILLE</td>\n",
       "      <td>1</td>\n",
       "      <td>0</td>\n",
       "      <td>0</td>\n",
       "      <td>0</td>\n",
       "      <td>1</td>\n",
       "    </tr>\n",
       "    <tr>\n",
       "      <th>7017</th>\n",
       "      <td>DSS6787734</td>\n",
       "      <td>CraigMorrow</td>\n",
       "      <td>MONTICELLO</td>\n",
       "      <td>1</td>\n",
       "      <td>1</td>\n",
       "      <td>0</td>\n",
       "      <td>1</td>\n",
       "      <td>0</td>\n",
       "    </tr>\n",
       "    <tr>\n",
       "      <th>7857</th>\n",
       "      <td>DSS-92039517</td>\n",
       "      <td>larryBerger</td>\n",
       "      <td>GRAND LEDGE</td>\n",
       "      <td>1</td>\n",
       "      <td>1</td>\n",
       "      <td>0</td>\n",
       "      <td>1</td>\n",
       "      <td>0</td>\n",
       "    </tr>\n",
       "    <tr>\n",
       "      <th>9412</th>\n",
       "      <td>Q-90693570</td>\n",
       "      <td>kathyaTomashowski</td>\n",
       "      <td>BENSON</td>\n",
       "      <td>1</td>\n",
       "      <td>0</td>\n",
       "      <td>0</td>\n",
       "      <td>1</td>\n",
       "      <td>1</td>\n",
       "    </tr>\n",
       "    <tr>\n",
       "      <th>9949</th>\n",
       "      <td>Q-94721564</td>\n",
       "      <td>JOEaCOUSINS</td>\n",
       "      <td>EDGAR</td>\n",
       "      <td>1</td>\n",
       "      <td>0</td>\n",
       "      <td>0</td>\n",
       "      <td>0</td>\n",
       "      <td>1</td>\n",
       "    </tr>\n",
       "  </tbody>\n",
       "</table>\n",
       "</div>"
      ],
      "text/plain": [
       "     SITE_ACCOUNT_NUMBER               NAME         CITY  \\\n",
       "504         AMR-90268537    ingridPritchett    TILLATOBA   \n",
       "5559        AMR-93937356      Richardfoster       MEDINA   \n",
       "5750        AMR-94092148     FREDDYaHatcher    ROCKVILLE   \n",
       "7017          DSS6787734        CraigMorrow   MONTICELLO   \n",
       "7857        DSS-92039517        larryBerger  GRAND LEDGE   \n",
       "9412          Q-90693570  kathyaTomashowski       BENSON   \n",
       "9949          Q-94721564        JOEaCOUSINS        EDGAR   \n",
       "\n",
       "      Company_source_nameHNS Customers  Site_Type_Desc_Broadband Remote  \\\n",
       "504                                  1                                0   \n",
       "5559                                 1                                0   \n",
       "5750                                 1                                0   \n",
       "7017                                 1                                1   \n",
       "7857                                 1                                1   \n",
       "9412                                 1                                0   \n",
       "9949                                 1                                0   \n",
       "\n",
       "      Feedback_BAD  Feedback_GOOD  Site_Type_Desc_Spaceway  \n",
       "504              1              0                        1  \n",
       "5559             1              0                        1  \n",
       "5750             0              0                        1  \n",
       "7017             0              1                        0  \n",
       "7857             0              1                        0  \n",
       "9412             0              1                        1  \n",
       "9949             0              0                        1  "
      ]
     },
     "execution_count": 884,
     "metadata": {},
     "output_type": "execute_result"
    }
   ],
   "source": [
    "clusters[clusters[\"Clusters\"]==19][['SITE_ACCOUNT_NUMBER',\n",
    " 'NAME','CITY',\"Company_source_nameHNS Customers\"\n",
    "                                   ,\"Site_Type_Desc_Broadband Remote\",\"Feedback_BAD\",\"Feedback_GOOD\",\"Site_Type_Desc_Spaceway\"]]"
   ]
  },
  {
   "cell_type": "code",
   "execution_count": null,
   "metadata": {},
   "outputs": [],
   "source": [
    "# List of most common churn customers--"
   ]
  },
  {
   "cell_type": "code",
   "execution_count": 885,
   "metadata": {},
   "outputs": [
    {
     "data": {
      "text/html": [
       "<div>\n",
       "<style scoped>\n",
       "    .dataframe tbody tr th:only-of-type {\n",
       "        vertical-align: middle;\n",
       "    }\n",
       "\n",
       "    .dataframe tbody tr th {\n",
       "        vertical-align: top;\n",
       "    }\n",
       "\n",
       "    .dataframe thead th {\n",
       "        text-align: right;\n",
       "    }\n",
       "</style>\n",
       "<table border=\"1\" class=\"dataframe\">\n",
       "  <thead>\n",
       "    <tr style=\"text-align: right;\">\n",
       "      <th></th>\n",
       "      <th>SITE_ACCOUNT_NUMBER</th>\n",
       "      <th>NAME</th>\n",
       "      <th>CITY</th>\n",
       "      <th>Company_source_nameHNS Customers</th>\n",
       "      <th>Site_Type_Desc_Broadband Remote</th>\n",
       "      <th>Feedback_BAD</th>\n",
       "      <th>Feedback_GOOD</th>\n",
       "      <th>Site_Type_Desc_Spaceway</th>\n",
       "    </tr>\n",
       "  </thead>\n",
       "  <tbody>\n",
       "    <tr>\n",
       "      <th>0</th>\n",
       "      <td>AMR-53205840</td>\n",
       "      <td>RennisaBranson</td>\n",
       "      <td>TRINITY</td>\n",
       "      <td>1</td>\n",
       "      <td>1</td>\n",
       "      <td>1</td>\n",
       "      <td>0</td>\n",
       "      <td>0</td>\n",
       "    </tr>\n",
       "    <tr>\n",
       "      <th>2</th>\n",
       "      <td>AMR-53608585</td>\n",
       "      <td>PavelGroisman</td>\n",
       "      <td>THURMONT</td>\n",
       "      <td>1</td>\n",
       "      <td>1</td>\n",
       "      <td>1</td>\n",
       "      <td>0</td>\n",
       "      <td>0</td>\n",
       "    </tr>\n",
       "    <tr>\n",
       "      <th>3</th>\n",
       "      <td>AMR-53610590</td>\n",
       "      <td>StoneysmitaStoneysmith</td>\n",
       "      <td>KENEDY</td>\n",
       "      <td>1</td>\n",
       "      <td>1</td>\n",
       "      <td>0</td>\n",
       "      <td>1</td>\n",
       "      <td>0</td>\n",
       "    </tr>\n",
       "    <tr>\n",
       "      <th>4</th>\n",
       "      <td>AMR-53612154</td>\n",
       "      <td>BryanaEmilio</td>\n",
       "      <td>LOVELL</td>\n",
       "      <td>1</td>\n",
       "      <td>1</td>\n",
       "      <td>0</td>\n",
       "      <td>0</td>\n",
       "      <td>0</td>\n",
       "    </tr>\n",
       "    <tr>\n",
       "      <th>5</th>\n",
       "      <td>AMR-53662403</td>\n",
       "      <td>RogerKey</td>\n",
       "      <td>WATSONVILLE</td>\n",
       "      <td>1</td>\n",
       "      <td>1</td>\n",
       "      <td>1</td>\n",
       "      <td>0</td>\n",
       "      <td>0</td>\n",
       "    </tr>\n",
       "    <tr>\n",
       "      <th>...</th>\n",
       "      <td>...</td>\n",
       "      <td>...</td>\n",
       "      <td>...</td>\n",
       "      <td>...</td>\n",
       "      <td>...</td>\n",
       "      <td>...</td>\n",
       "      <td>...</td>\n",
       "      <td>...</td>\n",
       "    </tr>\n",
       "    <tr>\n",
       "      <th>9964</th>\n",
       "      <td>Q-94787709</td>\n",
       "      <td>Domenickhill</td>\n",
       "      <td>MOUNT AIRY</td>\n",
       "      <td>1</td>\n",
       "      <td>1</td>\n",
       "      <td>0</td>\n",
       "      <td>0</td>\n",
       "      <td>0</td>\n",
       "    </tr>\n",
       "    <tr>\n",
       "      <th>9974</th>\n",
       "      <td>Q-94849221</td>\n",
       "      <td>anitaForrest</td>\n",
       "      <td>VACAVILLE</td>\n",
       "      <td>1</td>\n",
       "      <td>1</td>\n",
       "      <td>0</td>\n",
       "      <td>1</td>\n",
       "      <td>0</td>\n",
       "    </tr>\n",
       "    <tr>\n",
       "      <th>9993</th>\n",
       "      <td>Q-94940213</td>\n",
       "      <td>dawnaRobbins</td>\n",
       "      <td>EL CERRITO</td>\n",
       "      <td>1</td>\n",
       "      <td>1</td>\n",
       "      <td>1</td>\n",
       "      <td>0</td>\n",
       "      <td>0</td>\n",
       "    </tr>\n",
       "    <tr>\n",
       "      <th>9997</th>\n",
       "      <td>T000078824</td>\n",
       "      <td>RoyBlaha</td>\n",
       "      <td>ETTA</td>\n",
       "      <td>1</td>\n",
       "      <td>1</td>\n",
       "      <td>1</td>\n",
       "      <td>0</td>\n",
       "      <td>0</td>\n",
       "    </tr>\n",
       "    <tr>\n",
       "      <th>9999</th>\n",
       "      <td>T000080092</td>\n",
       "      <td>RussellaYamazaki</td>\n",
       "      <td>ROSEBURG</td>\n",
       "      <td>1</td>\n",
       "      <td>1</td>\n",
       "      <td>1</td>\n",
       "      <td>0</td>\n",
       "      <td>0</td>\n",
       "    </tr>\n",
       "  </tbody>\n",
       "</table>\n",
       "<p>2038 rows × 8 columns</p>\n",
       "</div>"
      ],
      "text/plain": [
       "     SITE_ACCOUNT_NUMBER                    NAME         CITY  \\\n",
       "0           AMR-53205840          RennisaBranson      TRINITY   \n",
       "2           AMR-53608585           PavelGroisman     THURMONT   \n",
       "3           AMR-53610590  StoneysmitaStoneysmith       KENEDY   \n",
       "4           AMR-53612154            BryanaEmilio       LOVELL   \n",
       "5           AMR-53662403                RogerKey  WATSONVILLE   \n",
       "...                  ...                     ...          ...   \n",
       "9964          Q-94787709            Domenickhill   MOUNT AIRY   \n",
       "9974          Q-94849221            anitaForrest    VACAVILLE   \n",
       "9993          Q-94940213            dawnaRobbins   EL CERRITO   \n",
       "9997          T000078824                RoyBlaha         ETTA   \n",
       "9999          T000080092        RussellaYamazaki     ROSEBURG   \n",
       "\n",
       "      Company_source_nameHNS Customers  Site_Type_Desc_Broadband Remote  \\\n",
       "0                                    1                                1   \n",
       "2                                    1                                1   \n",
       "3                                    1                                1   \n",
       "4                                    1                                1   \n",
       "5                                    1                                1   \n",
       "...                                ...                              ...   \n",
       "9964                                 1                                1   \n",
       "9974                                 1                                1   \n",
       "9993                                 1                                1   \n",
       "9997                                 1                                1   \n",
       "9999                                 1                                1   \n",
       "\n",
       "      Feedback_BAD  Feedback_GOOD  Site_Type_Desc_Spaceway  \n",
       "0                1              0                        0  \n",
       "2                1              0                        0  \n",
       "3                0              1                        0  \n",
       "4                0              0                        0  \n",
       "5                1              0                        0  \n",
       "...            ...            ...                      ...  \n",
       "9964             0              0                        0  \n",
       "9974             0              1                        0  \n",
       "9993             1              0                        0  \n",
       "9997             1              0                        0  \n",
       "9999             1              0                        0  \n",
       "\n",
       "[2038 rows x 8 columns]"
      ]
     },
     "execution_count": 885,
     "metadata": {},
     "output_type": "execute_result"
    }
   ],
   "source": [
    "clusters[clusters[\"Clusters\"]==8][['SITE_ACCOUNT_NUMBER',\n",
    " 'NAME','CITY',\"Company_source_nameHNS Customers\"\n",
    "                                   ,\"Site_Type_Desc_Broadband Remote\",\"Feedback_BAD\",\"Feedback_GOOD\",\"Site_Type_Desc_Spaceway\"]]"
   ]
  },
  {
   "cell_type": "code",
   "execution_count": null,
   "metadata": {},
   "outputs": [],
   "source": []
  },
  {
   "cell_type": "code",
   "execution_count": null,
   "metadata": {},
   "outputs": [],
   "source": [
    "# Having known the key factors that lead to customer churn and the categories of the least and most common churn customers \n",
    "# we use this information for fulfilling the purpose of increasing the net cash flow "
   ]
  },
  {
   "cell_type": "code",
   "execution_count": null,
   "metadata": {},
   "outputs": [],
   "source": [
    "# For retaining the customers as well as reducing the churn rate one can follow the following points for improving the cash \n",
    "# flow --\n",
    "\n",
    "\n",
    "# > Customers had left both good and bad feedback regarding the telecom services. However, mainly bad reviews are being given out \n",
    "#   by most of them. Therefore the focus needs to be on the invoice communication with the customer to know about their complaints \n",
    "#   and needs in order to retain them and improve the cash flow\n",
    "\n",
    "# > Improving the marketing straetegies by providing discount offers to the customers can help in retaining them while also at \n",
    "#   the same time improve cash flow.\n",
    "\n",
    "# > Taking a look at their inventories, especially the site type (Remote or Spaceway), telecom industry can better improve their\n",
    "#   cash flow by proper management of services."
   ]
  },
  {
   "cell_type": "code",
   "execution_count": null,
   "metadata": {},
   "outputs": [],
   "source": []
  },
  {
   "cell_type": "code",
   "execution_count": null,
   "metadata": {},
   "outputs": [],
   "source": []
  }
 ],
 "metadata": {
  "kernelspec": {
   "display_name": "Python 3",
   "language": "python",
   "name": "python3"
  },
  "language_info": {
   "codemirror_mode": {
    "name": "ipython",
    "version": 3
   },
   "file_extension": ".py",
   "mimetype": "text/x-python",
   "name": "python",
   "nbconvert_exporter": "python",
   "pygments_lexer": "ipython3",
   "version": "3.6.4"
  }
 },
 "nbformat": 4,
 "nbformat_minor": 2
}
