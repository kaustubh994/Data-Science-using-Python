{
 "cells": [
  {
   "cell_type": "code",
   "execution_count": 852,
   "metadata": {},
   "outputs": [],
   "source": [
    "import pandas as pd\n",
    "import numpy as np\n",
    "from sklearn.preprocessing import StandardScaler\n",
    "from sklearn.svm import SVC\n",
    "from sklearn.ensemble import RandomForestClassifier as RF\n",
    "from sklearn.neighbors import KNeighborsClassifier as KNN\n",
    "from sklearn.metrics import confusion_matrix\n",
    "from sklearn.decomposition import PCA\n",
    "from sklearn.linear_model import LogisticRegression\n",
    "from sklearn.metrics import accuracy_score"
   ]
  },
  {
   "cell_type": "code",
   "execution_count": null,
   "metadata": {},
   "outputs": [],
   "source": []
  },
  {
   "cell_type": "code",
   "execution_count": 853,
   "metadata": {},
   "outputs": [],
   "source": [
    "## Reading the data :--"
   ]
  },
  {
   "cell_type": "code",
   "execution_count": 854,
   "metadata": {},
   "outputs": [
    {
     "data": {
      "text/html": [
       "<div>\n",
       "<style scoped>\n",
       "    .dataframe tbody tr th:only-of-type {\n",
       "        vertical-align: middle;\n",
       "    }\n",
       "\n",
       "    .dataframe tbody tr th {\n",
       "        vertical-align: top;\n",
       "    }\n",
       "\n",
       "    .dataframe thead th {\n",
       "        text-align: right;\n",
       "    }\n",
       "</style>\n",
       "<table border=\"1\" class=\"dataframe\">\n",
       "  <thead>\n",
       "    <tr style=\"text-align: right;\">\n",
       "      <th></th>\n",
       "      <th>ComplaintID</th>\n",
       "      <th>CustomerID</th>\n",
       "      <th>ProductID</th>\n",
       "      <th>ComplaintDate</th>\n",
       "      <th>ComplaintType</th>\n",
       "      <th>SolutionType</th>\n",
       "      <th>FeedbackType</th>\n",
       "    </tr>\n",
       "  </thead>\n",
       "  <tbody>\n",
       "    <tr>\n",
       "      <th>0</th>\n",
       "      <td>181932</td>\n",
       "      <td>3464</td>\n",
       "      <td>8.0</td>\n",
       "      <td>14/10/2010</td>\n",
       "      <td>7</td>\n",
       "      <td>2.0</td>\n",
       "      <td>NaN</td>\n",
       "    </tr>\n",
       "    <tr>\n",
       "      <th>1</th>\n",
       "      <td>168698</td>\n",
       "      <td>3464</td>\n",
       "      <td>8.0</td>\n",
       "      <td>19/07/2010</td>\n",
       "      <td>1</td>\n",
       "      <td>2.0</td>\n",
       "      <td>3.0</td>\n",
       "    </tr>\n",
       "    <tr>\n",
       "      <th>2</th>\n",
       "      <td>163694</td>\n",
       "      <td>4107</td>\n",
       "      <td>8.0</td>\n",
       "      <td>11/06/2010</td>\n",
       "      <td>1</td>\n",
       "      <td>2.0</td>\n",
       "      <td>3.0</td>\n",
       "    </tr>\n",
       "    <tr>\n",
       "      <th>3</th>\n",
       "      <td>111664</td>\n",
       "      <td>4870</td>\n",
       "      <td>8.0</td>\n",
       "      <td>25/04/2009</td>\n",
       "      <td>1</td>\n",
       "      <td>3.0</td>\n",
       "      <td>3.0</td>\n",
       "    </tr>\n",
       "    <tr>\n",
       "      <th>4</th>\n",
       "      <td>139482</td>\n",
       "      <td>4870</td>\n",
       "      <td>8.0</td>\n",
       "      <td>05/12/2009</td>\n",
       "      <td>1</td>\n",
       "      <td>3.0</td>\n",
       "      <td>3.0</td>\n",
       "    </tr>\n",
       "  </tbody>\n",
       "</table>\n",
       "</div>"
      ],
      "text/plain": [
       "   ComplaintID  CustomerID  ProductID ComplaintDate  ComplaintType  \\\n",
       "0       181932        3464        8.0    14/10/2010              7   \n",
       "1       168698        3464        8.0    19/07/2010              1   \n",
       "2       163694        4107        8.0    11/06/2010              1   \n",
       "3       111664        4870        8.0    25/04/2009              1   \n",
       "4       139482        4870        8.0    05/12/2009              1   \n",
       "\n",
       "   SolutionType  FeedbackType  \n",
       "0           2.0           NaN  \n",
       "1           2.0           3.0  \n",
       "2           2.0           3.0  \n",
       "3           3.0           3.0  \n",
       "4           3.0           3.0  "
      ]
     },
     "execution_count": 854,
     "metadata": {},
     "output_type": "execute_result"
    }
   ],
   "source": [
    "c1=pd.read_csv(\"C:\\\\Users\\kaust\\\\Desktop\\\\NPC case study\\\\complaints.txt\",sep=\";\") \n",
    "c1.head()"
   ]
  },
  {
   "cell_type": "code",
   "execution_count": 855,
   "metadata": {},
   "outputs": [
    {
     "data": {
      "text/html": [
       "<div>\n",
       "<style scoped>\n",
       "    .dataframe tbody tr th:only-of-type {\n",
       "        vertical-align: middle;\n",
       "    }\n",
       "\n",
       "    .dataframe tbody tr th {\n",
       "        vertical-align: top;\n",
       "    }\n",
       "\n",
       "    .dataframe thead th {\n",
       "        text-align: right;\n",
       "    }\n",
       "</style>\n",
       "<table border=\"1\" class=\"dataframe\">\n",
       "  <thead>\n",
       "    <tr style=\"text-align: right;\">\n",
       "      <th></th>\n",
       "      <th>SubscriptionID</th>\n",
       "      <th>ActionType</th>\n",
       "      <th>ProcessingDate</th>\n",
       "      <th>CreditSource</th>\n",
       "      <th>Amount</th>\n",
       "      <th>NbrNewspapers</th>\n",
       "    </tr>\n",
       "  </thead>\n",
       "  <tbody>\n",
       "    <tr>\n",
       "      <th>0</th>\n",
       "      <td>1002057</td>\n",
       "      <td>EN</td>\n",
       "      <td>18/05/2009</td>\n",
       "      <td>COM</td>\n",
       "      <td>1.0400</td>\n",
       "      <td>1.0</td>\n",
       "    </tr>\n",
       "    <tr>\n",
       "      <th>1</th>\n",
       "      <td>1002089</td>\n",
       "      <td>EN</td>\n",
       "      <td>06/10/2010</td>\n",
       "      <td>COM</td>\n",
       "      <td>0.8783</td>\n",
       "      <td>1.0</td>\n",
       "    </tr>\n",
       "    <tr>\n",
       "      <th>2</th>\n",
       "      <td>1002089</td>\n",
       "      <td>EN</td>\n",
       "      <td>22/12/2010</td>\n",
       "      <td>COM</td>\n",
       "      <td>0.8783</td>\n",
       "      <td>1.0</td>\n",
       "    </tr>\n",
       "    <tr>\n",
       "      <th>3</th>\n",
       "      <td>1002089</td>\n",
       "      <td>EN</td>\n",
       "      <td>23/12/2010</td>\n",
       "      <td>COM</td>\n",
       "      <td>0.8783</td>\n",
       "      <td>1.0</td>\n",
       "    </tr>\n",
       "    <tr>\n",
       "      <th>4</th>\n",
       "      <td>1002089</td>\n",
       "      <td>EN</td>\n",
       "      <td>24/12/2010</td>\n",
       "      <td>COM</td>\n",
       "      <td>0.8783</td>\n",
       "      <td>1.0</td>\n",
       "    </tr>\n",
       "  </tbody>\n",
       "</table>\n",
       "</div>"
      ],
      "text/plain": [
       "   SubscriptionID ActionType ProcessingDate CreditSource  Amount  \\\n",
       "0         1002057         EN     18/05/2009          COM  1.0400   \n",
       "1         1002089         EN     06/10/2010          COM  0.8783   \n",
       "2         1002089         EN     22/12/2010          COM  0.8783   \n",
       "3         1002089         EN     23/12/2010          COM  0.8783   \n",
       "4         1002089         EN     24/12/2010          COM  0.8783   \n",
       "\n",
       "   NbrNewspapers  \n",
       "0            1.0  \n",
       "1            1.0  \n",
       "2            1.0  \n",
       "3            1.0  \n",
       "4            1.0  "
      ]
     },
     "execution_count": 855,
     "metadata": {},
     "output_type": "execute_result"
    }
   ],
   "source": [
    "c2=pd.read_csv(\"C:\\\\Users\\kaust\\\\Desktop\\\\NPC case study\\\\credit.txt\",sep=\";\")\n",
    "c2.head()"
   ]
  },
  {
   "cell_type": "code",
   "execution_count": 856,
   "metadata": {},
   "outputs": [
    {
     "data": {
      "text/html": [
       "<div>\n",
       "<style scoped>\n",
       "    .dataframe tbody tr th:only-of-type {\n",
       "        vertical-align: middle;\n",
       "    }\n",
       "\n",
       "    .dataframe tbody tr th {\n",
       "        vertical-align: top;\n",
       "    }\n",
       "\n",
       "    .dataframe thead th {\n",
       "        text-align: right;\n",
       "    }\n",
       "</style>\n",
       "<table border=\"1\" class=\"dataframe\">\n",
       "  <thead>\n",
       "    <tr style=\"text-align: right;\">\n",
       "      <th></th>\n",
       "      <th>CustomerID</th>\n",
       "      <th>Gender</th>\n",
       "      <th>DOB</th>\n",
       "      <th>District</th>\n",
       "      <th>ZIP</th>\n",
       "      <th>StreeID</th>\n",
       "    </tr>\n",
       "  </thead>\n",
       "  <tbody>\n",
       "    <tr>\n",
       "      <th>0</th>\n",
       "      <td>908289</td>\n",
       "      <td>F</td>\n",
       "      <td>24/01/1957</td>\n",
       "      <td>5</td>\n",
       "      <td>3660</td>\n",
       "      <td>42555</td>\n",
       "    </tr>\n",
       "    <tr>\n",
       "      <th>1</th>\n",
       "      <td>55837</td>\n",
       "      <td>M</td>\n",
       "      <td>31/01/1948</td>\n",
       "      <td>1</td>\n",
       "      <td>2620</td>\n",
       "      <td>24910</td>\n",
       "    </tr>\n",
       "    <tr>\n",
       "      <th>2</th>\n",
       "      <td>493436</td>\n",
       "      <td>M</td>\n",
       "      <td>11/07/1977</td>\n",
       "      <td>5</td>\n",
       "      <td>3570</td>\n",
       "      <td>39586</td>\n",
       "    </tr>\n",
       "    <tr>\n",
       "      <th>3</th>\n",
       "      <td>913684</td>\n",
       "      <td>F</td>\n",
       "      <td>01/01/1900</td>\n",
       "      <td>5</td>\n",
       "      <td>3500</td>\n",
       "      <td>37484</td>\n",
       "    </tr>\n",
       "    <tr>\n",
       "      <th>4</th>\n",
       "      <td>36632</td>\n",
       "      <td>M</td>\n",
       "      <td>18/08/1952</td>\n",
       "      <td>5</td>\n",
       "      <td>3910</td>\n",
       "      <td>46296</td>\n",
       "    </tr>\n",
       "  </tbody>\n",
       "</table>\n",
       "</div>"
      ],
      "text/plain": [
       "   CustomerID Gender         DOB  District   ZIP  StreeID\n",
       "0      908289      F  24/01/1957         5  3660    42555\n",
       "1       55837      M  31/01/1948         1  2620    24910\n",
       "2      493436      M  11/07/1977         5  3570    39586\n",
       "3      913684      F  01/01/1900         5  3500    37484\n",
       "4       36632      M  18/08/1952         5  3910    46296"
      ]
     },
     "execution_count": 856,
     "metadata": {},
     "output_type": "execute_result"
    }
   ],
   "source": [
    "c3=pd.read_csv(\"C:\\\\Users\\kaust\\\\Desktop\\\\NPC case study\\\\customers.txt\",sep=\";\")\n",
    "c3.head()"
   ]
  },
  {
   "cell_type": "code",
   "execution_count": 857,
   "metadata": {},
   "outputs": [
    {
     "data": {
      "text/html": [
       "<div>\n",
       "<style scoped>\n",
       "    .dataframe tbody tr th:only-of-type {\n",
       "        vertical-align: middle;\n",
       "    }\n",
       "\n",
       "    .dataframe tbody tr th {\n",
       "        vertical-align: top;\n",
       "    }\n",
       "\n",
       "    .dataframe thead th {\n",
       "        text-align: right;\n",
       "    }\n",
       "</style>\n",
       "<table border=\"1\" class=\"dataframe\">\n",
       "  <thead>\n",
       "    <tr style=\"text-align: right;\">\n",
       "      <th></th>\n",
       "      <th>SubscriptionID</th>\n",
       "      <th>DeliveryType</th>\n",
       "      <th>DeliveryClass</th>\n",
       "      <th>DeliveryContext</th>\n",
       "      <th>StartDate</th>\n",
       "      <th>EndDate</th>\n",
       "    </tr>\n",
       "  </thead>\n",
       "  <tbody>\n",
       "    <tr>\n",
       "      <th>0</th>\n",
       "      <td>1000024</td>\n",
       "      <td>MD</td>\n",
       "      <td>NOR</td>\n",
       "      <td>NaN</td>\n",
       "      <td>18/01/2010</td>\n",
       "      <td>17/04/2010</td>\n",
       "    </tr>\n",
       "    <tr>\n",
       "      <th>1</th>\n",
       "      <td>1000082</td>\n",
       "      <td>MD</td>\n",
       "      <td>ABN</td>\n",
       "      <td>NaN</td>\n",
       "      <td>12/02/2010</td>\n",
       "      <td>13/02/2010</td>\n",
       "    </tr>\n",
       "    <tr>\n",
       "      <th>2</th>\n",
       "      <td>1000082</td>\n",
       "      <td>MD</td>\n",
       "      <td>NOR</td>\n",
       "      <td>NaN</td>\n",
       "      <td>15/01/2010</td>\n",
       "      <td>11/02/2010</td>\n",
       "    </tr>\n",
       "    <tr>\n",
       "      <th>3</th>\n",
       "      <td>1000082</td>\n",
       "      <td>MD</td>\n",
       "      <td>NOR</td>\n",
       "      <td>NaN</td>\n",
       "      <td>14/02/2010</td>\n",
       "      <td>12/03/2010</td>\n",
       "    </tr>\n",
       "    <tr>\n",
       "      <th>4</th>\n",
       "      <td>1000082</td>\n",
       "      <td>MD</td>\n",
       "      <td>ABN</td>\n",
       "      <td>NaN</td>\n",
       "      <td>14/01/2010</td>\n",
       "      <td>14/01/2010</td>\n",
       "    </tr>\n",
       "  </tbody>\n",
       "</table>\n",
       "</div>"
      ],
      "text/plain": [
       "   SubscriptionID DeliveryType DeliveryClass DeliveryContext   StartDate  \\\n",
       "0         1000024           MD           NOR             NaN  18/01/2010   \n",
       "1         1000082           MD           ABN             NaN  12/02/2010   \n",
       "2         1000082           MD           NOR             NaN  15/01/2010   \n",
       "3         1000082           MD           NOR             NaN  14/02/2010   \n",
       "4         1000082           MD           ABN             NaN  14/01/2010   \n",
       "\n",
       "      EndDate  \n",
       "0  17/04/2010  \n",
       "1  13/02/2010  \n",
       "2  11/02/2010  \n",
       "3  12/03/2010  \n",
       "4  14/01/2010  "
      ]
     },
     "execution_count": 857,
     "metadata": {},
     "output_type": "execute_result"
    }
   ],
   "source": [
    "c4=pd.read_csv(\"C:\\\\Users\\kaust\\\\Desktop\\\\NPC case study\\\\delivery.txt\",sep=\";\")\n",
    "c4.head()"
   ]
  },
  {
   "cell_type": "code",
   "execution_count": 858,
   "metadata": {},
   "outputs": [
    {
     "data": {
      "text/html": [
       "<div>\n",
       "<style scoped>\n",
       "    .dataframe tbody tr th:only-of-type {\n",
       "        vertical-align: middle;\n",
       "    }\n",
       "\n",
       "    .dataframe tbody tr th {\n",
       "        vertical-align: top;\n",
       "    }\n",
       "\n",
       "    .dataframe thead th {\n",
       "        text-align: right;\n",
       "    }\n",
       "</style>\n",
       "<table border=\"1\" class=\"dataframe\">\n",
       "  <thead>\n",
       "    <tr style=\"text-align: right;\">\n",
       "      <th></th>\n",
       "      <th>FormulaID</th>\n",
       "      <th>FormulaCode</th>\n",
       "      <th>FormulaType</th>\n",
       "      <th>Duration</th>\n",
       "    </tr>\n",
       "  </thead>\n",
       "  <tbody>\n",
       "    <tr>\n",
       "      <th>0</th>\n",
       "      <td>10011</td>\n",
       "      <td>2051</td>\n",
       "      <td>CAM</td>\n",
       "      <td>12</td>\n",
       "    </tr>\n",
       "    <tr>\n",
       "      <th>1</th>\n",
       "      <td>10013</td>\n",
       "      <td>2051</td>\n",
       "      <td>CAM</td>\n",
       "      <td>12</td>\n",
       "    </tr>\n",
       "    <tr>\n",
       "      <th>2</th>\n",
       "      <td>10014</td>\n",
       "      <td>2051</td>\n",
       "      <td>CAM</td>\n",
       "      <td>6</td>\n",
       "    </tr>\n",
       "    <tr>\n",
       "      <th>3</th>\n",
       "      <td>10017</td>\n",
       "      <td>3</td>\n",
       "      <td>CAM</td>\n",
       "      <td>3</td>\n",
       "    </tr>\n",
       "    <tr>\n",
       "      <th>4</th>\n",
       "      <td>10019</td>\n",
       "      <td>71</td>\n",
       "      <td>CAM</td>\n",
       "      <td>3</td>\n",
       "    </tr>\n",
       "  </tbody>\n",
       "</table>\n",
       "</div>"
      ],
      "text/plain": [
       "   FormulaID  FormulaCode FormulaType  Duration\n",
       "0      10011         2051         CAM        12\n",
       "1      10013         2051         CAM        12\n",
       "2      10014         2051         CAM         6\n",
       "3      10017            3         CAM         3\n",
       "4      10019           71         CAM         3"
      ]
     },
     "execution_count": 858,
     "metadata": {},
     "output_type": "execute_result"
    }
   ],
   "source": [
    "c5=pd.read_csv(\"C:\\\\Users\\kaust\\\\Desktop\\\\NPC case study\\\\formula.txt\",sep=\";\")\n",
    "c5.head()"
   ]
  },
  {
   "cell_type": "code",
   "execution_count": 859,
   "metadata": {},
   "outputs": [
    {
     "data": {
      "text/html": [
       "<div>\n",
       "<style scoped>\n",
       "    .dataframe tbody tr th:only-of-type {\n",
       "        vertical-align: middle;\n",
       "    }\n",
       "\n",
       "    .dataframe tbody tr th {\n",
       "        vertical-align: top;\n",
       "    }\n",
       "\n",
       "    .dataframe thead th {\n",
       "        text-align: right;\n",
       "    }\n",
       "</style>\n",
       "<table border=\"1\" class=\"dataframe\">\n",
       "  <thead>\n",
       "    <tr style=\"text-align: right;\">\n",
       "      <th></th>\n",
       "      <th>SubscriptionID</th>\n",
       "      <th>CustomerID</th>\n",
       "      <th>ProductID</th>\n",
       "      <th>Pattern</th>\n",
       "      <th>StartDate</th>\n",
       "      <th>EndDate</th>\n",
       "      <th>NbrNewspapers</th>\n",
       "      <th>NbrStart</th>\n",
       "      <th>RenewalDate</th>\n",
       "      <th>PaymentType</th>\n",
       "      <th>...</th>\n",
       "      <th>PaymentDate</th>\n",
       "      <th>FormulaID</th>\n",
       "      <th>GrossFormulaPrice</th>\n",
       "      <th>NetFormulaPrice</th>\n",
       "      <th>NetNewspaperPrice</th>\n",
       "      <th>ProductDiscount</th>\n",
       "      <th>FormulaDiscount</th>\n",
       "      <th>TotalDiscount</th>\n",
       "      <th>TotalPrice</th>\n",
       "      <th>TotalCredit</th>\n",
       "    </tr>\n",
       "  </thead>\n",
       "  <tbody>\n",
       "    <tr>\n",
       "      <th>0</th>\n",
       "      <td>1000024</td>\n",
       "      <td>1150045</td>\n",
       "      <td>8</td>\n",
       "      <td>1111110</td>\n",
       "      <td>18/01/2010</td>\n",
       "      <td>17/04/2010</td>\n",
       "      <td>76</td>\n",
       "      <td>25</td>\n",
       "      <td>17/3/2010</td>\n",
       "      <td>BT</td>\n",
       "      <td>...</td>\n",
       "      <td>27/01/2010</td>\n",
       "      <td>8552</td>\n",
       "      <td>79</td>\n",
       "      <td>79</td>\n",
       "      <td>1.039.474</td>\n",
       "      <td>0</td>\n",
       "      <td>0</td>\n",
       "      <td>0</td>\n",
       "      <td>79.0</td>\n",
       "      <td>0</td>\n",
       "    </tr>\n",
       "    <tr>\n",
       "      <th>1</th>\n",
       "      <td>1000082</td>\n",
       "      <td>1150046</td>\n",
       "      <td>8</td>\n",
       "      <td>1111110</td>\n",
       "      <td>14/01/2010</td>\n",
       "      <td>12/3/2010</td>\n",
       "      <td>50</td>\n",
       "      <td>25</td>\n",
       "      <td>3/3/2010</td>\n",
       "      <td>BT</td>\n",
       "      <td>...</td>\n",
       "      <td>11/2/2010</td>\n",
       "      <td>10017</td>\n",
       "      <td>519.737</td>\n",
       "      <td>29.6</td>\n",
       "      <td>0.592</td>\n",
       "      <td>0</td>\n",
       "      <td>223.737</td>\n",
       "      <td>223.737</td>\n",
       "      <td>29.6</td>\n",
       "      <td>0</td>\n",
       "    </tr>\n",
       "    <tr>\n",
       "      <th>2</th>\n",
       "      <td>100012</td>\n",
       "      <td>89085</td>\n",
       "      <td>8</td>\n",
       "      <td>1111110</td>\n",
       "      <td>1/1/2008</td>\n",
       "      <td>30/12/2008</td>\n",
       "      <td>304</td>\n",
       "      <td>10</td>\n",
       "      <td>21/11/2008</td>\n",
       "      <td>BT</td>\n",
       "      <td>...</td>\n",
       "      <td>12/12/2007</td>\n",
       "      <td>875</td>\n",
       "      <td>249</td>\n",
       "      <td>249</td>\n",
       "      <td>0.811842</td>\n",
       "      <td>0</td>\n",
       "      <td>0</td>\n",
       "      <td>0</td>\n",
       "      <td>246.8</td>\n",
       "      <td>-2.2</td>\n",
       "    </tr>\n",
       "    <tr>\n",
       "      <th>3</th>\n",
       "      <td>100013</td>\n",
       "      <td>89085</td>\n",
       "      <td>8</td>\n",
       "      <td>1111110</td>\n",
       "      <td>2/1/2007</td>\n",
       "      <td>31/12/2007</td>\n",
       "      <td>304</td>\n",
       "      <td>25</td>\n",
       "      <td>12/1/2007</td>\n",
       "      <td>BT</td>\n",
       "      <td>...</td>\n",
       "      <td>28/12/2006</td>\n",
       "      <td>874</td>\n",
       "      <td>235</td>\n",
       "      <td>235</td>\n",
       "      <td>0.773026</td>\n",
       "      <td>0</td>\n",
       "      <td>0</td>\n",
       "      <td>0</td>\n",
       "      <td>235.0</td>\n",
       "      <td>0</td>\n",
       "    </tr>\n",
       "    <tr>\n",
       "      <th>4</th>\n",
       "      <td>100016</td>\n",
       "      <td>89087</td>\n",
       "      <td>8</td>\n",
       "      <td>1111110</td>\n",
       "      <td>1/1/2008</td>\n",
       "      <td>30/12/2008</td>\n",
       "      <td>304</td>\n",
       "      <td>10</td>\n",
       "      <td>21/11/2008</td>\n",
       "      <td>BT</td>\n",
       "      <td>...</td>\n",
       "      <td>12/12/2007</td>\n",
       "      <td>875</td>\n",
       "      <td>249</td>\n",
       "      <td>249</td>\n",
       "      <td>0.811842</td>\n",
       "      <td>0</td>\n",
       "      <td>0</td>\n",
       "      <td>0</td>\n",
       "      <td>246.8</td>\n",
       "      <td>-2.2</td>\n",
       "    </tr>\n",
       "    <tr>\n",
       "      <th>...</th>\n",
       "      <td>...</td>\n",
       "      <td>...</td>\n",
       "      <td>...</td>\n",
       "      <td>...</td>\n",
       "      <td>...</td>\n",
       "      <td>...</td>\n",
       "      <td>...</td>\n",
       "      <td>...</td>\n",
       "      <td>...</td>\n",
       "      <td>...</td>\n",
       "      <td>...</td>\n",
       "      <td>...</td>\n",
       "      <td>...</td>\n",
       "      <td>...</td>\n",
       "      <td>...</td>\n",
       "      <td>...</td>\n",
       "      <td>...</td>\n",
       "      <td>...</td>\n",
       "      <td>...</td>\n",
       "      <td>...</td>\n",
       "      <td>...</td>\n",
       "    </tr>\n",
       "    <tr>\n",
       "      <th>15454</th>\n",
       "      <td>999767</td>\n",
       "      <td>1149767</td>\n",
       "      <td>8</td>\n",
       "      <td>1111110</td>\n",
       "      <td>18/01/2010</td>\n",
       "      <td>16/04/2010</td>\n",
       "      <td>76</td>\n",
       "      <td>25</td>\n",
       "      <td>17/3/2010</td>\n",
       "      <td>BT</td>\n",
       "      <td>...</td>\n",
       "      <td>26/01/2010</td>\n",
       "      <td>8552</td>\n",
       "      <td>79</td>\n",
       "      <td>79</td>\n",
       "      <td>1.039.474</td>\n",
       "      <td>0</td>\n",
       "      <td>0</td>\n",
       "      <td>0</td>\n",
       "      <td>79.0</td>\n",
       "      <td>0</td>\n",
       "    </tr>\n",
       "    <tr>\n",
       "      <th>15455</th>\n",
       "      <td>999805</td>\n",
       "      <td>1115400</td>\n",
       "      <td>3</td>\n",
       "      <td>1111110</td>\n",
       "      <td>12/2/2010</td>\n",
       "      <td>14/05/2010</td>\n",
       "      <td>76</td>\n",
       "      <td>10</td>\n",
       "      <td>14/4/2010</td>\n",
       "      <td>BT</td>\n",
       "      <td>...</td>\n",
       "      <td>22/01/2010</td>\n",
       "      <td>8788</td>\n",
       "      <td>79</td>\n",
       "      <td>79</td>\n",
       "      <td>1.039.474</td>\n",
       "      <td>0</td>\n",
       "      <td>0</td>\n",
       "      <td>0</td>\n",
       "      <td>79.0</td>\n",
       "      <td>0</td>\n",
       "    </tr>\n",
       "    <tr>\n",
       "      <th>15456</th>\n",
       "      <td>999816</td>\n",
       "      <td>799724</td>\n",
       "      <td>8</td>\n",
       "      <td>1111110</td>\n",
       "      <td>14/01/2010</td>\n",
       "      <td>13/03/2010</td>\n",
       "      <td>50</td>\n",
       "      <td>25</td>\n",
       "      <td>3/5/2010</td>\n",
       "      <td>BT</td>\n",
       "      <td>...</td>\n",
       "      <td>3/2/2010</td>\n",
       "      <td>10017</td>\n",
       "      <td>519.737</td>\n",
       "      <td>29.6</td>\n",
       "      <td>0.592</td>\n",
       "      <td>0</td>\n",
       "      <td>223.737</td>\n",
       "      <td>223.737</td>\n",
       "      <td>29.6</td>\n",
       "      <td>0</td>\n",
       "    </tr>\n",
       "    <tr>\n",
       "      <th>15457</th>\n",
       "      <td>999832</td>\n",
       "      <td>23367</td>\n",
       "      <td>6</td>\n",
       "      <td>1111110</td>\n",
       "      <td>12/2/2010</td>\n",
       "      <td>14/05/2010</td>\n",
       "      <td>76</td>\n",
       "      <td>10</td>\n",
       "      <td>14/4/2010</td>\n",
       "      <td>BT</td>\n",
       "      <td>...</td>\n",
       "      <td>2/2/2010</td>\n",
       "      <td>8907</td>\n",
       "      <td>79</td>\n",
       "      <td>79</td>\n",
       "      <td>1.039.474</td>\n",
       "      <td>0</td>\n",
       "      <td>0</td>\n",
       "      <td>0</td>\n",
       "      <td>79.0</td>\n",
       "      <td>0</td>\n",
       "    </tr>\n",
       "    <tr>\n",
       "      <th>15458</th>\n",
       "      <td>999837</td>\n",
       "      <td>788976</td>\n",
       "      <td>8</td>\n",
       "      <td>1111110</td>\n",
       "      <td>14/01/2010</td>\n",
       "      <td>12/3/2010</td>\n",
       "      <td>50</td>\n",
       "      <td>25</td>\n",
       "      <td>3/3/2010</td>\n",
       "      <td>BT</td>\n",
       "      <td>...</td>\n",
       "      <td>5/2/2010</td>\n",
       "      <td>10017</td>\n",
       "      <td>519.737</td>\n",
       "      <td>29.6</td>\n",
       "      <td>0.592</td>\n",
       "      <td>0</td>\n",
       "      <td>223.737</td>\n",
       "      <td>223.737</td>\n",
       "      <td>29.6</td>\n",
       "      <td>0</td>\n",
       "    </tr>\n",
       "  </tbody>\n",
       "</table>\n",
       "<p>15459 rows × 21 columns</p>\n",
       "</div>"
      ],
      "text/plain": [
       "       SubscriptionID  CustomerID  ProductID  Pattern   StartDate     EndDate  \\\n",
       "0             1000024     1150045          8  1111110  18/01/2010  17/04/2010   \n",
       "1             1000082     1150046          8  1111110  14/01/2010   12/3/2010   \n",
       "2              100012       89085          8  1111110    1/1/2008  30/12/2008   \n",
       "3              100013       89085          8  1111110    2/1/2007  31/12/2007   \n",
       "4              100016       89087          8  1111110    1/1/2008  30/12/2008   \n",
       "...               ...         ...        ...      ...         ...         ...   \n",
       "15454          999767     1149767          8  1111110  18/01/2010  16/04/2010   \n",
       "15455          999805     1115400          3  1111110   12/2/2010  14/05/2010   \n",
       "15456          999816      799724          8  1111110  14/01/2010  13/03/2010   \n",
       "15457          999832       23367          6  1111110   12/2/2010  14/05/2010   \n",
       "15458          999837      788976          8  1111110  14/01/2010   12/3/2010   \n",
       "\n",
       "       NbrNewspapers NbrStart RenewalDate PaymentType  ... PaymentDate  \\\n",
       "0                 76       25   17/3/2010          BT  ...  27/01/2010   \n",
       "1                 50       25    3/3/2010          BT  ...   11/2/2010   \n",
       "2                304       10  21/11/2008          BT  ...  12/12/2007   \n",
       "3                304       25   12/1/2007          BT  ...  28/12/2006   \n",
       "4                304       10  21/11/2008          BT  ...  12/12/2007   \n",
       "...              ...      ...         ...         ...  ...         ...   \n",
       "15454             76       25   17/3/2010          BT  ...  26/01/2010   \n",
       "15455             76       10   14/4/2010          BT  ...  22/01/2010   \n",
       "15456             50       25    3/5/2010          BT  ...    3/2/2010   \n",
       "15457             76       10   14/4/2010          BT  ...    2/2/2010   \n",
       "15458             50       25    3/3/2010          BT  ...    5/2/2010   \n",
       "\n",
       "      FormulaID GrossFormulaPrice NetFormulaPrice NetNewspaperPrice  \\\n",
       "0          8552                79              79         1.039.474   \n",
       "1         10017           519.737            29.6             0.592   \n",
       "2           875               249             249          0.811842   \n",
       "3           874               235             235          0.773026   \n",
       "4           875               249             249          0.811842   \n",
       "...         ...               ...             ...               ...   \n",
       "15454      8552                79              79         1.039.474   \n",
       "15455      8788                79              79         1.039.474   \n",
       "15456     10017           519.737            29.6             0.592   \n",
       "15457      8907                79              79         1.039.474   \n",
       "15458     10017           519.737            29.6             0.592   \n",
       "\n",
       "      ProductDiscount FormulaDiscount TotalDiscount TotalPrice  TotalCredit  \n",
       "0                   0               0             0       79.0            0  \n",
       "1                   0         223.737       223.737       29.6            0  \n",
       "2                   0               0             0      246.8         -2.2  \n",
       "3                   0               0             0      235.0            0  \n",
       "4                   0               0             0      246.8         -2.2  \n",
       "...               ...             ...           ...        ...          ...  \n",
       "15454               0               0             0       79.0            0  \n",
       "15455               0               0             0       79.0            0  \n",
       "15456               0         223.737       223.737       29.6            0  \n",
       "15457               0               0             0       79.0            0  \n",
       "15458               0         223.737       223.737       29.6            0  \n",
       "\n",
       "[15459 rows x 21 columns]"
      ]
     },
     "execution_count": 859,
     "metadata": {},
     "output_type": "execute_result"
    }
   ],
   "source": [
    "c6=pd.read_csv(\"C:\\\\Users\\\\kaust\\\\Desktop\\\\NPC case study\\\\subscription.csv\")\n",
    "c6"
   ]
  },
  {
   "cell_type": "code",
   "execution_count": null,
   "metadata": {},
   "outputs": [],
   "source": []
  },
  {
   "cell_type": "code",
   "execution_count": null,
   "metadata": {},
   "outputs": [],
   "source": []
  },
  {
   "cell_type": "code",
   "execution_count": 860,
   "metadata": {},
   "outputs": [],
   "source": [
    "## Cleaning the data and changing datatype :--"
   ]
  },
  {
   "cell_type": "code",
   "execution_count": 861,
   "metadata": {},
   "outputs": [],
   "source": [
    "c1[\"ComplaintDate\"]=c1[\"ComplaintDate\"].astype('datetime64[ns]')"
   ]
  },
  {
   "cell_type": "code",
   "execution_count": 862,
   "metadata": {},
   "outputs": [
    {
     "data": {
      "text/plain": [
       "ComplaintID               int64\n",
       "CustomerID                int64\n",
       "ProductID               float64\n",
       "ComplaintDate    datetime64[ns]\n",
       "ComplaintType             int64\n",
       "SolutionType            float64\n",
       "FeedbackType            float64\n",
       "dtype: object"
      ]
     },
     "execution_count": 862,
     "metadata": {},
     "output_type": "execute_result"
    }
   ],
   "source": [
    "c1.dtypes"
   ]
  },
  {
   "cell_type": "code",
   "execution_count": 863,
   "metadata": {},
   "outputs": [],
   "source": [
    "c2[\"ProcessingDate\"]=c2[\"ProcessingDate\"].astype('datetime64[ns]')"
   ]
  },
  {
   "cell_type": "code",
   "execution_count": 864,
   "metadata": {},
   "outputs": [
    {
     "data": {
      "text/plain": [
       "SubscriptionID             int64\n",
       "ActionType                object\n",
       "ProcessingDate    datetime64[ns]\n",
       "CreditSource              object\n",
       "Amount                   float64\n",
       "NbrNewspapers            float64\n",
       "dtype: object"
      ]
     },
     "execution_count": 864,
     "metadata": {},
     "output_type": "execute_result"
    }
   ],
   "source": [
    "c2.dtypes"
   ]
  },
  {
   "cell_type": "code",
   "execution_count": 865,
   "metadata": {},
   "outputs": [],
   "source": [
    "c3[\"DOB\"]=c3[\"DOB\"].astype('datetime64[ns]')"
   ]
  },
  {
   "cell_type": "code",
   "execution_count": 866,
   "metadata": {},
   "outputs": [
    {
     "data": {
      "text/plain": [
       "CustomerID             int64\n",
       "Gender                object\n",
       "DOB           datetime64[ns]\n",
       "District               int64\n",
       "ZIP                    int64\n",
       "StreeID                int64\n",
       "dtype: object"
      ]
     },
     "execution_count": 866,
     "metadata": {},
     "output_type": "execute_result"
    }
   ],
   "source": [
    "c3.dtypes"
   ]
  },
  {
   "cell_type": "code",
   "execution_count": 867,
   "metadata": {},
   "outputs": [],
   "source": [
    "c4[\"StartDate\"]=c4[\"StartDate\"].astype('datetime64[ns]')\n",
    "c4[\"EndDate\"]=c4[\"EndDate\"].astype('datetime64[ns]')"
   ]
  },
  {
   "cell_type": "code",
   "execution_count": 868,
   "metadata": {},
   "outputs": [
    {
     "data": {
      "text/plain": [
       "SubscriptionID              int64\n",
       "DeliveryType               object\n",
       "DeliveryClass              object\n",
       "DeliveryContext            object\n",
       "StartDate          datetime64[ns]\n",
       "EndDate            datetime64[ns]\n",
       "dtype: object"
      ]
     },
     "execution_count": 868,
     "metadata": {},
     "output_type": "execute_result"
    }
   ],
   "source": [
    "c4.dtypes"
   ]
  },
  {
   "cell_type": "code",
   "execution_count": 869,
   "metadata": {},
   "outputs": [
    {
     "data": {
      "text/plain": [
       "FormulaID       int64\n",
       "FormulaCode     int64\n",
       "FormulaType    object\n",
       "Duration        int64\n",
       "dtype: object"
      ]
     },
     "execution_count": 869,
     "metadata": {},
     "output_type": "execute_result"
    }
   ],
   "source": [
    "c5.dtypes"
   ]
  },
  {
   "cell_type": "code",
   "execution_count": 870,
   "metadata": {},
   "outputs": [],
   "source": [
    "c6[\"StartDate\"]=c6[\"StartDate\"].astype('datetime64[ns]')\n",
    "c6[\"EndDate\"]=c6[\"EndDate\"].astype('datetime64[ns]')"
   ]
  },
  {
   "cell_type": "code",
   "execution_count": 871,
   "metadata": {},
   "outputs": [
    {
     "name": "stderr",
     "output_type": "stream",
     "text": [
      "C:\\Users\\kaust\\Anaconda3\\lib\\site-packages\\ipykernel_launcher.py:1: SettingWithCopyWarning: \n",
      "A value is trying to be set on a copy of a slice from a DataFrame\n",
      "\n",
      "See the caveats in the documentation: https://pandas.pydata.org/pandas-docs/stable/user_guide/indexing.html#returning-a-view-versus-a-copy\n",
      "  \"\"\"Entry point for launching an IPython kernel.\n"
     ]
    }
   ],
   "source": [
    "c6[\"RenewalDate\"][c6[\"RenewalDate\"]==\" / /\"]=\" \""
   ]
  },
  {
   "cell_type": "code",
   "execution_count": 872,
   "metadata": {},
   "outputs": [],
   "source": [
    "c6[\"RenewalDate\"]=pd.to_datetime(c6[\"RenewalDate\"],format='%d/%m/%Y',errors=\"coerce\")"
   ]
  },
  {
   "cell_type": "code",
   "execution_count": 873,
   "metadata": {},
   "outputs": [],
   "source": [
    "c6[\"PaymentDate\"]=pd.to_datetime(c6[\"PaymentDate\"],format='%d/%m/%Y',errors=\"coerce\")"
   ]
  },
  {
   "cell_type": "code",
   "execution_count": 874,
   "metadata": {},
   "outputs": [],
   "source": [
    "c6[\"NbrStart\"]=pd.to_numeric(c6[\"NbrStart\"],errors=\"coerce\")"
   ]
  },
  {
   "cell_type": "code",
   "execution_count": 875,
   "metadata": {},
   "outputs": [],
   "source": [
    "c6[\"FormulaID\"]=pd.to_numeric(c6[\"FormulaID\"],errors=\"coerce\")"
   ]
  },
  {
   "cell_type": "code",
   "execution_count": 876,
   "metadata": {},
   "outputs": [],
   "source": [
    "c6[\"GrossFormulaPrice\"]=pd.to_numeric(c6[\"GrossFormulaPrice\"],errors=\"coerce\")"
   ]
  },
  {
   "cell_type": "code",
   "execution_count": 877,
   "metadata": {},
   "outputs": [],
   "source": [
    "c6[\"NetFormulaPrice\"]=pd.to_numeric(c6[\"NetFormulaPrice\"],errors=\"coerce\")"
   ]
  },
  {
   "cell_type": "code",
   "execution_count": 878,
   "metadata": {},
   "outputs": [],
   "source": [
    "c6[\"NetNewspaperPrice\"]=pd.to_numeric(c6[\"NetNewspaperPrice\"],errors=\"coerce\")"
   ]
  },
  {
   "cell_type": "code",
   "execution_count": 879,
   "metadata": {},
   "outputs": [],
   "source": [
    "c6[\"ProductDiscount\"]=pd.to_numeric(c6[\"ProductDiscount\"],errors=\"coerce\")"
   ]
  },
  {
   "cell_type": "code",
   "execution_count": 880,
   "metadata": {},
   "outputs": [],
   "source": [
    "c6[\"FormulaDiscount\"]=pd.to_numeric(c6[\"FormulaDiscount\"],errors=\"coerce\")"
   ]
  },
  {
   "cell_type": "code",
   "execution_count": 881,
   "metadata": {},
   "outputs": [],
   "source": [
    "c6[\"TotalDiscount\"]=pd.to_numeric(c6[\"TotalDiscount\"],errors=\"coerce\")"
   ]
  },
  {
   "cell_type": "code",
   "execution_count": 882,
   "metadata": {},
   "outputs": [],
   "source": [
    "c6[\"TotalCredit\"]=pd.to_numeric(c6[\"TotalCredit\"],errors=\"coerce\")"
   ]
  },
  {
   "cell_type": "code",
   "execution_count": 883,
   "metadata": {},
   "outputs": [
    {
     "data": {
      "text/plain": [
       "SubscriptionID                int64\n",
       "CustomerID                    int64\n",
       "ProductID                     int64\n",
       "Pattern                       int64\n",
       "StartDate            datetime64[ns]\n",
       "EndDate              datetime64[ns]\n",
       "NbrNewspapers                 int64\n",
       "NbrStart                    float64\n",
       "RenewalDate          datetime64[ns]\n",
       "PaymentType                  object\n",
       "PaymentStatus                object\n",
       "PaymentDate          datetime64[ns]\n",
       "FormulaID                   float64\n",
       "GrossFormulaPrice           float64\n",
       "NetFormulaPrice             float64\n",
       "NetNewspaperPrice           float64\n",
       "ProductDiscount             float64\n",
       "FormulaDiscount             float64\n",
       "TotalDiscount               float64\n",
       "TotalPrice                  float64\n",
       "TotalCredit                 float64\n",
       "dtype: object"
      ]
     },
     "execution_count": 883,
     "metadata": {},
     "output_type": "execute_result"
    }
   ],
   "source": [
    "c6.dtypes"
   ]
  },
  {
   "cell_type": "code",
   "execution_count": 884,
   "metadata": {},
   "outputs": [
    {
     "name": "stderr",
     "output_type": "stream",
     "text": [
      "C:\\Users\\kaust\\Anaconda3\\lib\\site-packages\\ipykernel_launcher.py:1: SettingWithCopyWarning: \n",
      "A value is trying to be set on a copy of a slice from a DataFrame\n",
      "\n",
      "See the caveats in the documentation: https://pandas.pydata.org/pandas-docs/stable/user_guide/indexing.html#returning-a-view-versus-a-copy\n",
      "  \"\"\"Entry point for launching an IPython kernel.\n"
     ]
    }
   ],
   "source": [
    "c6[\"PaymentStatus\"][c6[\"PaymentStatus\"]==\"Not\"]=\"NotPaid\""
   ]
  },
  {
   "cell_type": "code",
   "execution_count": 885,
   "metadata": {},
   "outputs": [
    {
     "name": "stderr",
     "output_type": "stream",
     "text": [
      "C:\\Users\\kaust\\Anaconda3\\lib\\site-packages\\ipykernel_launcher.py:1: SettingWithCopyWarning: \n",
      "A value is trying to be set on a copy of a slice from a DataFrame\n",
      "\n",
      "See the caveats in the documentation: https://pandas.pydata.org/pandas-docs/stable/user_guide/indexing.html#returning-a-view-versus-a-copy\n",
      "  \"\"\"Entry point for launching an IPython kernel.\n"
     ]
    }
   ],
   "source": [
    "c6[\"PaymentStatus\"][c6[\"PaymentStatus\"]==\"tPaid\"]=\"NotPaid\""
   ]
  },
  {
   "cell_type": "code",
   "execution_count": 886,
   "metadata": {},
   "outputs": [
    {
     "data": {
      "text/plain": [
       "Paid       14626\n",
       "NotPaid      833\n",
       "Name: PaymentStatus, dtype: int64"
      ]
     },
     "execution_count": 886,
     "metadata": {},
     "output_type": "execute_result"
    }
   ],
   "source": [
    "c6[\"PaymentStatus\"].value_counts()"
   ]
  },
  {
   "cell_type": "code",
   "execution_count": 887,
   "metadata": {},
   "outputs": [
    {
     "name": "stderr",
     "output_type": "stream",
     "text": [
      "C:\\Users\\kaust\\Anaconda3\\lib\\site-packages\\ipykernel_launcher.py:1: SettingWithCopyWarning: \n",
      "A value is trying to be set on a copy of a slice from a DataFrame\n",
      "\n",
      "See the caveats in the documentation: https://pandas.pydata.org/pandas-docs/stable/user_guide/indexing.html#returning-a-view-versus-a-copy\n",
      "  \"\"\"Entry point for launching an IPython kernel.\n"
     ]
    }
   ],
   "source": [
    "c6[\"PaymentType\"][c6[\"PaymentType\"]==\"No\"]=\"Cannot_tell\""
   ]
  },
  {
   "cell_type": "code",
   "execution_count": 888,
   "metadata": {},
   "outputs": [
    {
     "data": {
      "text/plain": [
       "BT             13194\n",
       "DD              2259\n",
       "Cannot_tell        6\n",
       "Name: PaymentType, dtype: int64"
      ]
     },
     "execution_count": 888,
     "metadata": {},
     "output_type": "execute_result"
    }
   ],
   "source": [
    "c6[\"PaymentType\"].value_counts()"
   ]
  },
  {
   "cell_type": "code",
   "execution_count": null,
   "metadata": {},
   "outputs": [],
   "source": []
  },
  {
   "cell_type": "code",
   "execution_count": null,
   "metadata": {},
   "outputs": [],
   "source": []
  },
  {
   "cell_type": "code",
   "execution_count": 889,
   "metadata": {},
   "outputs": [],
   "source": [
    "## Merging the data :--"
   ]
  },
  {
   "cell_type": "code",
   "execution_count": 890,
   "metadata": {},
   "outputs": [],
   "source": [
    "complaint=c6.merge(c1,how='left')"
   ]
  },
  {
   "cell_type": "code",
   "execution_count": 891,
   "metadata": {},
   "outputs": [],
   "source": [
    "delivery=complaint.merge(c4,how=\"left\")"
   ]
  },
  {
   "cell_type": "code",
   "execution_count": 892,
   "metadata": {},
   "outputs": [
    {
     "name": "stderr",
     "output_type": "stream",
     "text": [
      "C:\\Users\\kaust\\Anaconda3\\lib\\site-packages\\pandas\\core\\reshape\\merge.py:1097: UserWarning: You are merging on int and float columns where the float values are not equal to their int representation\n",
      "  UserWarning,\n"
     ]
    }
   ],
   "source": [
    "formula=delivery.merge(c5,how=\"left\")"
   ]
  },
  {
   "cell_type": "code",
   "execution_count": 893,
   "metadata": {},
   "outputs": [],
   "source": [
    "customers=formula.merge(c3,how=\"left\")"
   ]
  },
  {
   "cell_type": "code",
   "execution_count": 894,
   "metadata": {},
   "outputs": [],
   "source": [
    "final=customers.merge(c2,how=\"left\")"
   ]
  },
  {
   "cell_type": "code",
   "execution_count": 895,
   "metadata": {},
   "outputs": [
    {
     "data": {
      "text/html": [
       "<div>\n",
       "<style scoped>\n",
       "    .dataframe tbody tr th:only-of-type {\n",
       "        vertical-align: middle;\n",
       "    }\n",
       "\n",
       "    .dataframe tbody tr th {\n",
       "        vertical-align: top;\n",
       "    }\n",
       "\n",
       "    .dataframe thead th {\n",
       "        text-align: right;\n",
       "    }\n",
       "</style>\n",
       "<table border=\"1\" class=\"dataframe\">\n",
       "  <thead>\n",
       "    <tr style=\"text-align: right;\">\n",
       "      <th></th>\n",
       "      <th>SubscriptionID</th>\n",
       "      <th>CustomerID</th>\n",
       "      <th>ProductID</th>\n",
       "      <th>Pattern</th>\n",
       "      <th>StartDate</th>\n",
       "      <th>EndDate</th>\n",
       "      <th>NbrNewspapers</th>\n",
       "      <th>NbrStart</th>\n",
       "      <th>RenewalDate</th>\n",
       "      <th>PaymentType</th>\n",
       "      <th>...</th>\n",
       "      <th>Duration</th>\n",
       "      <th>Gender</th>\n",
       "      <th>DOB</th>\n",
       "      <th>District</th>\n",
       "      <th>ZIP</th>\n",
       "      <th>StreeID</th>\n",
       "      <th>ActionType</th>\n",
       "      <th>ProcessingDate</th>\n",
       "      <th>CreditSource</th>\n",
       "      <th>Amount</th>\n",
       "    </tr>\n",
       "  </thead>\n",
       "  <tbody>\n",
       "    <tr>\n",
       "      <th>0</th>\n",
       "      <td>1000024</td>\n",
       "      <td>1150045</td>\n",
       "      <td>8</td>\n",
       "      <td>1111110</td>\n",
       "      <td>2010-01-18</td>\n",
       "      <td>2010-04-17</td>\n",
       "      <td>76</td>\n",
       "      <td>25.0</td>\n",
       "      <td>2010-03-17</td>\n",
       "      <td>BT</td>\n",
       "      <td>...</td>\n",
       "      <td>3.0</td>\n",
       "      <td>M</td>\n",
       "      <td>1900-01-01</td>\n",
       "      <td>5</td>\n",
       "      <td>3600</td>\n",
       "      <td>40517</td>\n",
       "      <td>NaN</td>\n",
       "      <td>NaT</td>\n",
       "      <td>NaN</td>\n",
       "      <td>NaN</td>\n",
       "    </tr>\n",
       "    <tr>\n",
       "      <th>1</th>\n",
       "      <td>1000024</td>\n",
       "      <td>1150045</td>\n",
       "      <td>8</td>\n",
       "      <td>1111110</td>\n",
       "      <td>2010-01-18</td>\n",
       "      <td>2010-04-17</td>\n",
       "      <td>76</td>\n",
       "      <td>25.0</td>\n",
       "      <td>2010-03-17</td>\n",
       "      <td>BT</td>\n",
       "      <td>...</td>\n",
       "      <td>3.0</td>\n",
       "      <td>M</td>\n",
       "      <td>1900-01-01</td>\n",
       "      <td>5</td>\n",
       "      <td>3600</td>\n",
       "      <td>40517</td>\n",
       "      <td>NaN</td>\n",
       "      <td>NaT</td>\n",
       "      <td>NaN</td>\n",
       "      <td>NaN</td>\n",
       "    </tr>\n",
       "    <tr>\n",
       "      <th>2</th>\n",
       "      <td>1000024</td>\n",
       "      <td>1150045</td>\n",
       "      <td>8</td>\n",
       "      <td>1111110</td>\n",
       "      <td>2010-01-18</td>\n",
       "      <td>2010-04-17</td>\n",
       "      <td>76</td>\n",
       "      <td>25.0</td>\n",
       "      <td>2010-03-17</td>\n",
       "      <td>BT</td>\n",
       "      <td>...</td>\n",
       "      <td>3.0</td>\n",
       "      <td>M</td>\n",
       "      <td>1900-01-01</td>\n",
       "      <td>5</td>\n",
       "      <td>3600</td>\n",
       "      <td>40517</td>\n",
       "      <td>NaN</td>\n",
       "      <td>NaT</td>\n",
       "      <td>NaN</td>\n",
       "      <td>NaN</td>\n",
       "    </tr>\n",
       "    <tr>\n",
       "      <th>3</th>\n",
       "      <td>1000082</td>\n",
       "      <td>1150046</td>\n",
       "      <td>8</td>\n",
       "      <td>1111110</td>\n",
       "      <td>2010-01-14</td>\n",
       "      <td>2010-12-03</td>\n",
       "      <td>50</td>\n",
       "      <td>25.0</td>\n",
       "      <td>2010-03-03</td>\n",
       "      <td>BT</td>\n",
       "      <td>...</td>\n",
       "      <td>3.0</td>\n",
       "      <td>F</td>\n",
       "      <td>1900-01-01</td>\n",
       "      <td>5</td>\n",
       "      <td>3570</td>\n",
       "      <td>39650</td>\n",
       "      <td>NaN</td>\n",
       "      <td>NaT</td>\n",
       "      <td>NaN</td>\n",
       "      <td>NaN</td>\n",
       "    </tr>\n",
       "    <tr>\n",
       "      <th>4</th>\n",
       "      <td>100012</td>\n",
       "      <td>89085</td>\n",
       "      <td>8</td>\n",
       "      <td>1111110</td>\n",
       "      <td>2008-01-01</td>\n",
       "      <td>2008-12-30</td>\n",
       "      <td>304</td>\n",
       "      <td>10.0</td>\n",
       "      <td>2008-11-21</td>\n",
       "      <td>BT</td>\n",
       "      <td>...</td>\n",
       "      <td>12.0</td>\n",
       "      <td>M</td>\n",
       "      <td>1936-09-07</td>\n",
       "      <td>5</td>\n",
       "      <td>3600</td>\n",
       "      <td>40799</td>\n",
       "      <td>NaN</td>\n",
       "      <td>NaT</td>\n",
       "      <td>NaN</td>\n",
       "      <td>NaN</td>\n",
       "    </tr>\n",
       "    <tr>\n",
       "      <th>...</th>\n",
       "      <td>...</td>\n",
       "      <td>...</td>\n",
       "      <td>...</td>\n",
       "      <td>...</td>\n",
       "      <td>...</td>\n",
       "      <td>...</td>\n",
       "      <td>...</td>\n",
       "      <td>...</td>\n",
       "      <td>...</td>\n",
       "      <td>...</td>\n",
       "      <td>...</td>\n",
       "      <td>...</td>\n",
       "      <td>...</td>\n",
       "      <td>...</td>\n",
       "      <td>...</td>\n",
       "      <td>...</td>\n",
       "      <td>...</td>\n",
       "      <td>...</td>\n",
       "      <td>...</td>\n",
       "      <td>...</td>\n",
       "      <td>...</td>\n",
       "    </tr>\n",
       "    <tr>\n",
       "      <th>31082</th>\n",
       "      <td>999767</td>\n",
       "      <td>1149767</td>\n",
       "      <td>8</td>\n",
       "      <td>1111110</td>\n",
       "      <td>2010-01-18</td>\n",
       "      <td>2010-04-16</td>\n",
       "      <td>76</td>\n",
       "      <td>25.0</td>\n",
       "      <td>2010-03-17</td>\n",
       "      <td>BT</td>\n",
       "      <td>...</td>\n",
       "      <td>3.0</td>\n",
       "      <td>M</td>\n",
       "      <td>1959-09-21</td>\n",
       "      <td>1</td>\n",
       "      <td>2660</td>\n",
       "      <td>25745</td>\n",
       "      <td>NaN</td>\n",
       "      <td>NaT</td>\n",
       "      <td>NaN</td>\n",
       "      <td>NaN</td>\n",
       "    </tr>\n",
       "    <tr>\n",
       "      <th>31083</th>\n",
       "      <td>999805</td>\n",
       "      <td>1115400</td>\n",
       "      <td>3</td>\n",
       "      <td>1111110</td>\n",
       "      <td>2010-12-02</td>\n",
       "      <td>2010-05-14</td>\n",
       "      <td>76</td>\n",
       "      <td>10.0</td>\n",
       "      <td>2010-04-14</td>\n",
       "      <td>BT</td>\n",
       "      <td>...</td>\n",
       "      <td>3.0</td>\n",
       "      <td>M</td>\n",
       "      <td>1958-08-15</td>\n",
       "      <td>1</td>\n",
       "      <td>2547</td>\n",
       "      <td>23415</td>\n",
       "      <td>NaN</td>\n",
       "      <td>NaT</td>\n",
       "      <td>NaN</td>\n",
       "      <td>NaN</td>\n",
       "    </tr>\n",
       "    <tr>\n",
       "      <th>31084</th>\n",
       "      <td>999816</td>\n",
       "      <td>799724</td>\n",
       "      <td>8</td>\n",
       "      <td>1111110</td>\n",
       "      <td>2010-01-14</td>\n",
       "      <td>2010-03-13</td>\n",
       "      <td>50</td>\n",
       "      <td>25.0</td>\n",
       "      <td>2010-05-03</td>\n",
       "      <td>BT</td>\n",
       "      <td>...</td>\n",
       "      <td>3.0</td>\n",
       "      <td>M</td>\n",
       "      <td>1900-01-01</td>\n",
       "      <td>5</td>\n",
       "      <td>3530</td>\n",
       "      <td>38403</td>\n",
       "      <td>NaN</td>\n",
       "      <td>NaT</td>\n",
       "      <td>NaN</td>\n",
       "      <td>NaN</td>\n",
       "    </tr>\n",
       "    <tr>\n",
       "      <th>31085</th>\n",
       "      <td>999832</td>\n",
       "      <td>23367</td>\n",
       "      <td>6</td>\n",
       "      <td>1111110</td>\n",
       "      <td>2010-12-02</td>\n",
       "      <td>2010-05-14</td>\n",
       "      <td>76</td>\n",
       "      <td>10.0</td>\n",
       "      <td>2010-04-14</td>\n",
       "      <td>BT</td>\n",
       "      <td>...</td>\n",
       "      <td>3.0</td>\n",
       "      <td>F</td>\n",
       "      <td>1900-01-01</td>\n",
       "      <td>1</td>\n",
       "      <td>2460</td>\n",
       "      <td>21573</td>\n",
       "      <td>NaN</td>\n",
       "      <td>NaT</td>\n",
       "      <td>NaN</td>\n",
       "      <td>NaN</td>\n",
       "    </tr>\n",
       "    <tr>\n",
       "      <th>31086</th>\n",
       "      <td>999837</td>\n",
       "      <td>788976</td>\n",
       "      <td>8</td>\n",
       "      <td>1111110</td>\n",
       "      <td>2010-01-14</td>\n",
       "      <td>2010-12-03</td>\n",
       "      <td>50</td>\n",
       "      <td>25.0</td>\n",
       "      <td>2010-03-03</td>\n",
       "      <td>BT</td>\n",
       "      <td>...</td>\n",
       "      <td>3.0</td>\n",
       "      <td>F</td>\n",
       "      <td>1900-01-01</td>\n",
       "      <td>5</td>\n",
       "      <td>3732</td>\n",
       "      <td>44254</td>\n",
       "      <td>NaN</td>\n",
       "      <td>NaT</td>\n",
       "      <td>NaN</td>\n",
       "      <td>NaN</td>\n",
       "    </tr>\n",
       "  </tbody>\n",
       "</table>\n",
       "<p>31087 rows × 41 columns</p>\n",
       "</div>"
      ],
      "text/plain": [
       "       SubscriptionID  CustomerID  ProductID  Pattern  StartDate    EndDate  \\\n",
       "0             1000024     1150045          8  1111110 2010-01-18 2010-04-17   \n",
       "1             1000024     1150045          8  1111110 2010-01-18 2010-04-17   \n",
       "2             1000024     1150045          8  1111110 2010-01-18 2010-04-17   \n",
       "3             1000082     1150046          8  1111110 2010-01-14 2010-12-03   \n",
       "4              100012       89085          8  1111110 2008-01-01 2008-12-30   \n",
       "...               ...         ...        ...      ...        ...        ...   \n",
       "31082          999767     1149767          8  1111110 2010-01-18 2010-04-16   \n",
       "31083          999805     1115400          3  1111110 2010-12-02 2010-05-14   \n",
       "31084          999816      799724          8  1111110 2010-01-14 2010-03-13   \n",
       "31085          999832       23367          6  1111110 2010-12-02 2010-05-14   \n",
       "31086          999837      788976          8  1111110 2010-01-14 2010-12-03   \n",
       "\n",
       "       NbrNewspapers  NbrStart RenewalDate PaymentType  ... Duration Gender  \\\n",
       "0                 76      25.0  2010-03-17          BT  ...      3.0      M   \n",
       "1                 76      25.0  2010-03-17          BT  ...      3.0      M   \n",
       "2                 76      25.0  2010-03-17          BT  ...      3.0      M   \n",
       "3                 50      25.0  2010-03-03          BT  ...      3.0      F   \n",
       "4                304      10.0  2008-11-21          BT  ...     12.0      M   \n",
       "...              ...       ...         ...         ...  ...      ...    ...   \n",
       "31082             76      25.0  2010-03-17          BT  ...      3.0      M   \n",
       "31083             76      10.0  2010-04-14          BT  ...      3.0      M   \n",
       "31084             50      25.0  2010-05-03          BT  ...      3.0      M   \n",
       "31085             76      10.0  2010-04-14          BT  ...      3.0      F   \n",
       "31086             50      25.0  2010-03-03          BT  ...      3.0      F   \n",
       "\n",
       "             DOB  District   ZIP  StreeID  ActionType  ProcessingDate  \\\n",
       "0     1900-01-01         5  3600    40517         NaN             NaT   \n",
       "1     1900-01-01         5  3600    40517         NaN             NaT   \n",
       "2     1900-01-01         5  3600    40517         NaN             NaT   \n",
       "3     1900-01-01         5  3570    39650         NaN             NaT   \n",
       "4     1936-09-07         5  3600    40799         NaN             NaT   \n",
       "...          ...       ...   ...      ...         ...             ...   \n",
       "31082 1959-09-21         1  2660    25745         NaN             NaT   \n",
       "31083 1958-08-15         1  2547    23415         NaN             NaT   \n",
       "31084 1900-01-01         5  3530    38403         NaN             NaT   \n",
       "31085 1900-01-01         1  2460    21573         NaN             NaT   \n",
       "31086 1900-01-01         5  3732    44254         NaN             NaT   \n",
       "\n",
       "       CreditSource  Amount  \n",
       "0               NaN     NaN  \n",
       "1               NaN     NaN  \n",
       "2               NaN     NaN  \n",
       "3               NaN     NaN  \n",
       "4               NaN     NaN  \n",
       "...             ...     ...  \n",
       "31082           NaN     NaN  \n",
       "31083           NaN     NaN  \n",
       "31084           NaN     NaN  \n",
       "31085           NaN     NaN  \n",
       "31086           NaN     NaN  \n",
       "\n",
       "[31087 rows x 41 columns]"
      ]
     },
     "execution_count": 895,
     "metadata": {},
     "output_type": "execute_result"
    }
   ],
   "source": [
    "final"
   ]
  },
  {
   "cell_type": "code",
   "execution_count": null,
   "metadata": {},
   "outputs": [],
   "source": []
  },
  {
   "cell_type": "code",
   "execution_count": null,
   "metadata": {},
   "outputs": [],
   "source": []
  },
  {
   "cell_type": "code",
   "execution_count": 896,
   "metadata": {},
   "outputs": [],
   "source": [
    "## Setting data into different time windows :--\n",
    "##   Start of dependent window = 1 January 2011\n",
    "##   End of dependent window = 31 December 2011\n",
    "##   End of independent window = 1 December 2010"
   ]
  },
  {
   "cell_type": "code",
   "execution_count": 897,
   "metadata": {},
   "outputs": [],
   "source": [
    "start_dw=np.datetime64('2011-01-01')"
   ]
  },
  {
   "cell_type": "code",
   "execution_count": 898,
   "metadata": {},
   "outputs": [],
   "source": [
    "end_dw=np.datetime64('2011-12-31')"
   ]
  },
  {
   "cell_type": "code",
   "execution_count": 899,
   "metadata": {},
   "outputs": [],
   "source": [
    "end_iw=np.datetime64('2010-12-01')"
   ]
  },
  {
   "cell_type": "code",
   "execution_count": 900,
   "metadata": {},
   "outputs": [],
   "source": [
    "basetable=final[ (final['StartDate']<end_iw) & ((final['EndDate']<start_dw)) ]"
   ]
  },
  {
   "cell_type": "code",
   "execution_count": 901,
   "metadata": {},
   "outputs": [
    {
     "data": {
      "text/html": [
       "<div>\n",
       "<style scoped>\n",
       "    .dataframe tbody tr th:only-of-type {\n",
       "        vertical-align: middle;\n",
       "    }\n",
       "\n",
       "    .dataframe tbody tr th {\n",
       "        vertical-align: top;\n",
       "    }\n",
       "\n",
       "    .dataframe thead th {\n",
       "        text-align: right;\n",
       "    }\n",
       "</style>\n",
       "<table border=\"1\" class=\"dataframe\">\n",
       "  <thead>\n",
       "    <tr style=\"text-align: right;\">\n",
       "      <th></th>\n",
       "      <th>SubscriptionID</th>\n",
       "      <th>CustomerID</th>\n",
       "      <th>ProductID</th>\n",
       "      <th>Pattern</th>\n",
       "      <th>StartDate</th>\n",
       "      <th>EndDate</th>\n",
       "      <th>NbrNewspapers</th>\n",
       "      <th>NbrStart</th>\n",
       "      <th>RenewalDate</th>\n",
       "      <th>PaymentType</th>\n",
       "      <th>...</th>\n",
       "      <th>Duration</th>\n",
       "      <th>Gender</th>\n",
       "      <th>DOB</th>\n",
       "      <th>District</th>\n",
       "      <th>ZIP</th>\n",
       "      <th>StreeID</th>\n",
       "      <th>ActionType</th>\n",
       "      <th>ProcessingDate</th>\n",
       "      <th>CreditSource</th>\n",
       "      <th>Amount</th>\n",
       "    </tr>\n",
       "  </thead>\n",
       "  <tbody>\n",
       "    <tr>\n",
       "      <th>0</th>\n",
       "      <td>1000024</td>\n",
       "      <td>1150045</td>\n",
       "      <td>8</td>\n",
       "      <td>1111110</td>\n",
       "      <td>2010-01-18</td>\n",
       "      <td>2010-04-17</td>\n",
       "      <td>76</td>\n",
       "      <td>25.0</td>\n",
       "      <td>2010-03-17</td>\n",
       "      <td>BT</td>\n",
       "      <td>...</td>\n",
       "      <td>3.0</td>\n",
       "      <td>M</td>\n",
       "      <td>1900-01-01</td>\n",
       "      <td>5</td>\n",
       "      <td>3600</td>\n",
       "      <td>40517</td>\n",
       "      <td>NaN</td>\n",
       "      <td>NaT</td>\n",
       "      <td>NaN</td>\n",
       "      <td>NaN</td>\n",
       "    </tr>\n",
       "    <tr>\n",
       "      <th>1</th>\n",
       "      <td>1000024</td>\n",
       "      <td>1150045</td>\n",
       "      <td>8</td>\n",
       "      <td>1111110</td>\n",
       "      <td>2010-01-18</td>\n",
       "      <td>2010-04-17</td>\n",
       "      <td>76</td>\n",
       "      <td>25.0</td>\n",
       "      <td>2010-03-17</td>\n",
       "      <td>BT</td>\n",
       "      <td>...</td>\n",
       "      <td>3.0</td>\n",
       "      <td>M</td>\n",
       "      <td>1900-01-01</td>\n",
       "      <td>5</td>\n",
       "      <td>3600</td>\n",
       "      <td>40517</td>\n",
       "      <td>NaN</td>\n",
       "      <td>NaT</td>\n",
       "      <td>NaN</td>\n",
       "      <td>NaN</td>\n",
       "    </tr>\n",
       "    <tr>\n",
       "      <th>2</th>\n",
       "      <td>1000024</td>\n",
       "      <td>1150045</td>\n",
       "      <td>8</td>\n",
       "      <td>1111110</td>\n",
       "      <td>2010-01-18</td>\n",
       "      <td>2010-04-17</td>\n",
       "      <td>76</td>\n",
       "      <td>25.0</td>\n",
       "      <td>2010-03-17</td>\n",
       "      <td>BT</td>\n",
       "      <td>...</td>\n",
       "      <td>3.0</td>\n",
       "      <td>M</td>\n",
       "      <td>1900-01-01</td>\n",
       "      <td>5</td>\n",
       "      <td>3600</td>\n",
       "      <td>40517</td>\n",
       "      <td>NaN</td>\n",
       "      <td>NaT</td>\n",
       "      <td>NaN</td>\n",
       "      <td>NaN</td>\n",
       "    </tr>\n",
       "    <tr>\n",
       "      <th>3</th>\n",
       "      <td>1000082</td>\n",
       "      <td>1150046</td>\n",
       "      <td>8</td>\n",
       "      <td>1111110</td>\n",
       "      <td>2010-01-14</td>\n",
       "      <td>2010-12-03</td>\n",
       "      <td>50</td>\n",
       "      <td>25.0</td>\n",
       "      <td>2010-03-03</td>\n",
       "      <td>BT</td>\n",
       "      <td>...</td>\n",
       "      <td>3.0</td>\n",
       "      <td>F</td>\n",
       "      <td>1900-01-01</td>\n",
       "      <td>5</td>\n",
       "      <td>3570</td>\n",
       "      <td>39650</td>\n",
       "      <td>NaN</td>\n",
       "      <td>NaT</td>\n",
       "      <td>NaN</td>\n",
       "      <td>NaN</td>\n",
       "    </tr>\n",
       "    <tr>\n",
       "      <th>4</th>\n",
       "      <td>100012</td>\n",
       "      <td>89085</td>\n",
       "      <td>8</td>\n",
       "      <td>1111110</td>\n",
       "      <td>2008-01-01</td>\n",
       "      <td>2008-12-30</td>\n",
       "      <td>304</td>\n",
       "      <td>10.0</td>\n",
       "      <td>2008-11-21</td>\n",
       "      <td>BT</td>\n",
       "      <td>...</td>\n",
       "      <td>12.0</td>\n",
       "      <td>M</td>\n",
       "      <td>1936-09-07</td>\n",
       "      <td>5</td>\n",
       "      <td>3600</td>\n",
       "      <td>40799</td>\n",
       "      <td>NaN</td>\n",
       "      <td>NaT</td>\n",
       "      <td>NaN</td>\n",
       "      <td>NaN</td>\n",
       "    </tr>\n",
       "    <tr>\n",
       "      <th>...</th>\n",
       "      <td>...</td>\n",
       "      <td>...</td>\n",
       "      <td>...</td>\n",
       "      <td>...</td>\n",
       "      <td>...</td>\n",
       "      <td>...</td>\n",
       "      <td>...</td>\n",
       "      <td>...</td>\n",
       "      <td>...</td>\n",
       "      <td>...</td>\n",
       "      <td>...</td>\n",
       "      <td>...</td>\n",
       "      <td>...</td>\n",
       "      <td>...</td>\n",
       "      <td>...</td>\n",
       "      <td>...</td>\n",
       "      <td>...</td>\n",
       "      <td>...</td>\n",
       "      <td>...</td>\n",
       "      <td>...</td>\n",
       "      <td>...</td>\n",
       "    </tr>\n",
       "    <tr>\n",
       "      <th>31073</th>\n",
       "      <td>99929</td>\n",
       "      <td>89035</td>\n",
       "      <td>8</td>\n",
       "      <td>1111110</td>\n",
       "      <td>2007-02-01</td>\n",
       "      <td>2007-12-31</td>\n",
       "      <td>304</td>\n",
       "      <td>25.0</td>\n",
       "      <td>2007-01-12</td>\n",
       "      <td>BT</td>\n",
       "      <td>...</td>\n",
       "      <td>12.0</td>\n",
       "      <td>M</td>\n",
       "      <td>1949-10-06</td>\n",
       "      <td>5</td>\n",
       "      <td>3600</td>\n",
       "      <td>40785</td>\n",
       "      <td>NaN</td>\n",
       "      <td>NaT</td>\n",
       "      <td>NaN</td>\n",
       "      <td>NaN</td>\n",
       "    </tr>\n",
       "    <tr>\n",
       "      <th>31080</th>\n",
       "      <td>999529</td>\n",
       "      <td>457926</td>\n",
       "      <td>1</td>\n",
       "      <td>1111110</td>\n",
       "      <td>2010-01-14</td>\n",
       "      <td>2010-06-02</td>\n",
       "      <td>164</td>\n",
       "      <td>25.0</td>\n",
       "      <td>2010-04-02</td>\n",
       "      <td>BT</td>\n",
       "      <td>...</td>\n",
       "      <td>6.0</td>\n",
       "      <td>M</td>\n",
       "      <td>1955-07-06</td>\n",
       "      <td>1</td>\n",
       "      <td>2100</td>\n",
       "      <td>14497</td>\n",
       "      <td>NaN</td>\n",
       "      <td>NaT</td>\n",
       "      <td>NaN</td>\n",
       "      <td>NaN</td>\n",
       "    </tr>\n",
       "    <tr>\n",
       "      <th>31082</th>\n",
       "      <td>999767</td>\n",
       "      <td>1149767</td>\n",
       "      <td>8</td>\n",
       "      <td>1111110</td>\n",
       "      <td>2010-01-18</td>\n",
       "      <td>2010-04-16</td>\n",
       "      <td>76</td>\n",
       "      <td>25.0</td>\n",
       "      <td>2010-03-17</td>\n",
       "      <td>BT</td>\n",
       "      <td>...</td>\n",
       "      <td>3.0</td>\n",
       "      <td>M</td>\n",
       "      <td>1959-09-21</td>\n",
       "      <td>1</td>\n",
       "      <td>2660</td>\n",
       "      <td>25745</td>\n",
       "      <td>NaN</td>\n",
       "      <td>NaT</td>\n",
       "      <td>NaN</td>\n",
       "      <td>NaN</td>\n",
       "    </tr>\n",
       "    <tr>\n",
       "      <th>31084</th>\n",
       "      <td>999816</td>\n",
       "      <td>799724</td>\n",
       "      <td>8</td>\n",
       "      <td>1111110</td>\n",
       "      <td>2010-01-14</td>\n",
       "      <td>2010-03-13</td>\n",
       "      <td>50</td>\n",
       "      <td>25.0</td>\n",
       "      <td>2010-05-03</td>\n",
       "      <td>BT</td>\n",
       "      <td>...</td>\n",
       "      <td>3.0</td>\n",
       "      <td>M</td>\n",
       "      <td>1900-01-01</td>\n",
       "      <td>5</td>\n",
       "      <td>3530</td>\n",
       "      <td>38403</td>\n",
       "      <td>NaN</td>\n",
       "      <td>NaT</td>\n",
       "      <td>NaN</td>\n",
       "      <td>NaN</td>\n",
       "    </tr>\n",
       "    <tr>\n",
       "      <th>31086</th>\n",
       "      <td>999837</td>\n",
       "      <td>788976</td>\n",
       "      <td>8</td>\n",
       "      <td>1111110</td>\n",
       "      <td>2010-01-14</td>\n",
       "      <td>2010-12-03</td>\n",
       "      <td>50</td>\n",
       "      <td>25.0</td>\n",
       "      <td>2010-03-03</td>\n",
       "      <td>BT</td>\n",
       "      <td>...</td>\n",
       "      <td>3.0</td>\n",
       "      <td>F</td>\n",
       "      <td>1900-01-01</td>\n",
       "      <td>5</td>\n",
       "      <td>3732</td>\n",
       "      <td>44254</td>\n",
       "      <td>NaN</td>\n",
       "      <td>NaT</td>\n",
       "      <td>NaN</td>\n",
       "      <td>NaN</td>\n",
       "    </tr>\n",
       "  </tbody>\n",
       "</table>\n",
       "<p>25410 rows × 41 columns</p>\n",
       "</div>"
      ],
      "text/plain": [
       "       SubscriptionID  CustomerID  ProductID  Pattern  StartDate    EndDate  \\\n",
       "0             1000024     1150045          8  1111110 2010-01-18 2010-04-17   \n",
       "1             1000024     1150045          8  1111110 2010-01-18 2010-04-17   \n",
       "2             1000024     1150045          8  1111110 2010-01-18 2010-04-17   \n",
       "3             1000082     1150046          8  1111110 2010-01-14 2010-12-03   \n",
       "4              100012       89085          8  1111110 2008-01-01 2008-12-30   \n",
       "...               ...         ...        ...      ...        ...        ...   \n",
       "31073           99929       89035          8  1111110 2007-02-01 2007-12-31   \n",
       "31080          999529      457926          1  1111110 2010-01-14 2010-06-02   \n",
       "31082          999767     1149767          8  1111110 2010-01-18 2010-04-16   \n",
       "31084          999816      799724          8  1111110 2010-01-14 2010-03-13   \n",
       "31086          999837      788976          8  1111110 2010-01-14 2010-12-03   \n",
       "\n",
       "       NbrNewspapers  NbrStart RenewalDate PaymentType  ... Duration Gender  \\\n",
       "0                 76      25.0  2010-03-17          BT  ...      3.0      M   \n",
       "1                 76      25.0  2010-03-17          BT  ...      3.0      M   \n",
       "2                 76      25.0  2010-03-17          BT  ...      3.0      M   \n",
       "3                 50      25.0  2010-03-03          BT  ...      3.0      F   \n",
       "4                304      10.0  2008-11-21          BT  ...     12.0      M   \n",
       "...              ...       ...         ...         ...  ...      ...    ...   \n",
       "31073            304      25.0  2007-01-12          BT  ...     12.0      M   \n",
       "31080            164      25.0  2010-04-02          BT  ...      6.0      M   \n",
       "31082             76      25.0  2010-03-17          BT  ...      3.0      M   \n",
       "31084             50      25.0  2010-05-03          BT  ...      3.0      M   \n",
       "31086             50      25.0  2010-03-03          BT  ...      3.0      F   \n",
       "\n",
       "             DOB  District   ZIP  StreeID  ActionType  ProcessingDate  \\\n",
       "0     1900-01-01         5  3600    40517         NaN             NaT   \n",
       "1     1900-01-01         5  3600    40517         NaN             NaT   \n",
       "2     1900-01-01         5  3600    40517         NaN             NaT   \n",
       "3     1900-01-01         5  3570    39650         NaN             NaT   \n",
       "4     1936-09-07         5  3600    40799         NaN             NaT   \n",
       "...          ...       ...   ...      ...         ...             ...   \n",
       "31073 1949-10-06         5  3600    40785         NaN             NaT   \n",
       "31080 1955-07-06         1  2100    14497         NaN             NaT   \n",
       "31082 1959-09-21         1  2660    25745         NaN             NaT   \n",
       "31084 1900-01-01         5  3530    38403         NaN             NaT   \n",
       "31086 1900-01-01         5  3732    44254         NaN             NaT   \n",
       "\n",
       "       CreditSource  Amount  \n",
       "0               NaN     NaN  \n",
       "1               NaN     NaN  \n",
       "2               NaN     NaN  \n",
       "3               NaN     NaN  \n",
       "4               NaN     NaN  \n",
       "...             ...     ...  \n",
       "31073           NaN     NaN  \n",
       "31080           NaN     NaN  \n",
       "31082           NaN     NaN  \n",
       "31084           NaN     NaN  \n",
       "31086           NaN     NaN  \n",
       "\n",
       "[25410 rows x 41 columns]"
      ]
     },
     "execution_count": 901,
     "metadata": {},
     "output_type": "execute_result"
    }
   ],
   "source": [
    "basetable"
   ]
  },
  {
   "cell_type": "code",
   "execution_count": 902,
   "metadata": {},
   "outputs": [
    {
     "data": {
      "text/plain": [
       "Amount             100.000000\n",
       "ProcessingDate     100.000000\n",
       "ActionType         100.000000\n",
       "CreditSource       100.000000\n",
       "DeliveryContext     84.533648\n",
       "FeedbackType        66.218024\n",
       "SolutionType        42.955529\n",
       "DeliveryType        33.974813\n",
       "DeliveryClass       33.974813\n",
       "ComplaintID         26.029122\n",
       "ComplaintDate       26.029122\n",
       "ComplaintType       26.029122\n",
       "FormulaCode         18.598977\n",
       "FormulaType         18.598977\n",
       "Duration            18.598977\n",
       "dtype: float64"
      ]
     },
     "execution_count": 902,
     "metadata": {},
     "output_type": "execute_result"
    }
   ],
   "source": [
    "((basetable.isnull().sum()/len(basetable))*100).sort_values(ascending=False).head(15)"
   ]
  },
  {
   "cell_type": "code",
   "execution_count": 903,
   "metadata": {},
   "outputs": [],
   "source": [
    "# Here, we will drop the variables that have more than 25 percent of the missing values."
   ]
  },
  {
   "cell_type": "code",
   "execution_count": 904,
   "metadata": {},
   "outputs": [],
   "source": [
    "basetable=basetable.drop([\"Amount\",\"ActionType\",\"CreditSource\",\"ProcessingDate\",\"DeliveryContext\",\"FeedbackType\",\n",
    "                          \"SolutionType\",\"DeliveryClass\",\"DeliveryType\",\"ComplaintType\",\n",
    "                          \"ComplaintDate\",\"ComplaintID\"],axis=1)"
   ]
  },
  {
   "cell_type": "code",
   "execution_count": 905,
   "metadata": {},
   "outputs": [
    {
     "data": {
      "text/html": [
       "<div>\n",
       "<style scoped>\n",
       "    .dataframe tbody tr th:only-of-type {\n",
       "        vertical-align: middle;\n",
       "    }\n",
       "\n",
       "    .dataframe tbody tr th {\n",
       "        vertical-align: top;\n",
       "    }\n",
       "\n",
       "    .dataframe thead th {\n",
       "        text-align: right;\n",
       "    }\n",
       "</style>\n",
       "<table border=\"1\" class=\"dataframe\">\n",
       "  <thead>\n",
       "    <tr style=\"text-align: right;\">\n",
       "      <th></th>\n",
       "      <th>SubscriptionID</th>\n",
       "      <th>CustomerID</th>\n",
       "      <th>ProductID</th>\n",
       "      <th>Pattern</th>\n",
       "      <th>StartDate</th>\n",
       "      <th>EndDate</th>\n",
       "      <th>NbrNewspapers</th>\n",
       "      <th>NbrStart</th>\n",
       "      <th>RenewalDate</th>\n",
       "      <th>PaymentType</th>\n",
       "      <th>...</th>\n",
       "      <th>TotalPrice</th>\n",
       "      <th>TotalCredit</th>\n",
       "      <th>FormulaCode</th>\n",
       "      <th>FormulaType</th>\n",
       "      <th>Duration</th>\n",
       "      <th>Gender</th>\n",
       "      <th>DOB</th>\n",
       "      <th>District</th>\n",
       "      <th>ZIP</th>\n",
       "      <th>StreeID</th>\n",
       "    </tr>\n",
       "  </thead>\n",
       "  <tbody>\n",
       "    <tr>\n",
       "      <th>0</th>\n",
       "      <td>1000024</td>\n",
       "      <td>1150045</td>\n",
       "      <td>8</td>\n",
       "      <td>1111110</td>\n",
       "      <td>2010-01-18</td>\n",
       "      <td>2010-04-17</td>\n",
       "      <td>76</td>\n",
       "      <td>25.0</td>\n",
       "      <td>2010-03-17</td>\n",
       "      <td>BT</td>\n",
       "      <td>...</td>\n",
       "      <td>79.0</td>\n",
       "      <td>0.0</td>\n",
       "      <td>2.0</td>\n",
       "      <td>REG</td>\n",
       "      <td>3.0</td>\n",
       "      <td>M</td>\n",
       "      <td>1900-01-01</td>\n",
       "      <td>5</td>\n",
       "      <td>3600</td>\n",
       "      <td>40517</td>\n",
       "    </tr>\n",
       "    <tr>\n",
       "      <th>1</th>\n",
       "      <td>1000024</td>\n",
       "      <td>1150045</td>\n",
       "      <td>8</td>\n",
       "      <td>1111110</td>\n",
       "      <td>2010-01-18</td>\n",
       "      <td>2010-04-17</td>\n",
       "      <td>76</td>\n",
       "      <td>25.0</td>\n",
       "      <td>2010-03-17</td>\n",
       "      <td>BT</td>\n",
       "      <td>...</td>\n",
       "      <td>79.0</td>\n",
       "      <td>0.0</td>\n",
       "      <td>2.0</td>\n",
       "      <td>REG</td>\n",
       "      <td>3.0</td>\n",
       "      <td>M</td>\n",
       "      <td>1900-01-01</td>\n",
       "      <td>5</td>\n",
       "      <td>3600</td>\n",
       "      <td>40517</td>\n",
       "    </tr>\n",
       "    <tr>\n",
       "      <th>2</th>\n",
       "      <td>1000024</td>\n",
       "      <td>1150045</td>\n",
       "      <td>8</td>\n",
       "      <td>1111110</td>\n",
       "      <td>2010-01-18</td>\n",
       "      <td>2010-04-17</td>\n",
       "      <td>76</td>\n",
       "      <td>25.0</td>\n",
       "      <td>2010-03-17</td>\n",
       "      <td>BT</td>\n",
       "      <td>...</td>\n",
       "      <td>79.0</td>\n",
       "      <td>0.0</td>\n",
       "      <td>2.0</td>\n",
       "      <td>REG</td>\n",
       "      <td>3.0</td>\n",
       "      <td>M</td>\n",
       "      <td>1900-01-01</td>\n",
       "      <td>5</td>\n",
       "      <td>3600</td>\n",
       "      <td>40517</td>\n",
       "    </tr>\n",
       "    <tr>\n",
       "      <th>3</th>\n",
       "      <td>1000082</td>\n",
       "      <td>1150046</td>\n",
       "      <td>8</td>\n",
       "      <td>1111110</td>\n",
       "      <td>2010-01-14</td>\n",
       "      <td>2010-12-03</td>\n",
       "      <td>50</td>\n",
       "      <td>25.0</td>\n",
       "      <td>2010-03-03</td>\n",
       "      <td>BT</td>\n",
       "      <td>...</td>\n",
       "      <td>29.6</td>\n",
       "      <td>0.0</td>\n",
       "      <td>3.0</td>\n",
       "      <td>CAM</td>\n",
       "      <td>3.0</td>\n",
       "      <td>F</td>\n",
       "      <td>1900-01-01</td>\n",
       "      <td>5</td>\n",
       "      <td>3570</td>\n",
       "      <td>39650</td>\n",
       "    </tr>\n",
       "    <tr>\n",
       "      <th>4</th>\n",
       "      <td>100012</td>\n",
       "      <td>89085</td>\n",
       "      <td>8</td>\n",
       "      <td>1111110</td>\n",
       "      <td>2008-01-01</td>\n",
       "      <td>2008-12-30</td>\n",
       "      <td>304</td>\n",
       "      <td>10.0</td>\n",
       "      <td>2008-11-21</td>\n",
       "      <td>BT</td>\n",
       "      <td>...</td>\n",
       "      <td>246.8</td>\n",
       "      <td>-2.2</td>\n",
       "      <td>18.0</td>\n",
       "      <td>REG</td>\n",
       "      <td>12.0</td>\n",
       "      <td>M</td>\n",
       "      <td>1936-09-07</td>\n",
       "      <td>5</td>\n",
       "      <td>3600</td>\n",
       "      <td>40799</td>\n",
       "    </tr>\n",
       "  </tbody>\n",
       "</table>\n",
       "<p>5 rows × 29 columns</p>\n",
       "</div>"
      ],
      "text/plain": [
       "   SubscriptionID  CustomerID  ProductID  Pattern  StartDate    EndDate  \\\n",
       "0         1000024     1150045          8  1111110 2010-01-18 2010-04-17   \n",
       "1         1000024     1150045          8  1111110 2010-01-18 2010-04-17   \n",
       "2         1000024     1150045          8  1111110 2010-01-18 2010-04-17   \n",
       "3         1000082     1150046          8  1111110 2010-01-14 2010-12-03   \n",
       "4          100012       89085          8  1111110 2008-01-01 2008-12-30   \n",
       "\n",
       "   NbrNewspapers  NbrStart RenewalDate PaymentType  ... TotalPrice  \\\n",
       "0             76      25.0  2010-03-17          BT  ...       79.0   \n",
       "1             76      25.0  2010-03-17          BT  ...       79.0   \n",
       "2             76      25.0  2010-03-17          BT  ...       79.0   \n",
       "3             50      25.0  2010-03-03          BT  ...       29.6   \n",
       "4            304      10.0  2008-11-21          BT  ...      246.8   \n",
       "\n",
       "  TotalCredit  FormulaCode  FormulaType  Duration  Gender        DOB  \\\n",
       "0         0.0          2.0          REG       3.0       M 1900-01-01   \n",
       "1         0.0          2.0          REG       3.0       M 1900-01-01   \n",
       "2         0.0          2.0          REG       3.0       M 1900-01-01   \n",
       "3         0.0          3.0          CAM       3.0       F 1900-01-01   \n",
       "4        -2.2         18.0          REG      12.0       M 1936-09-07   \n",
       "\n",
       "   District   ZIP  StreeID  \n",
       "0         5  3600    40517  \n",
       "1         5  3600    40517  \n",
       "2         5  3600    40517  \n",
       "3         5  3570    39650  \n",
       "4         5  3600    40799  \n",
       "\n",
       "[5 rows x 29 columns]"
      ]
     },
     "execution_count": 905,
     "metadata": {},
     "output_type": "execute_result"
    }
   ],
   "source": [
    "basetable.head()"
   ]
  },
  {
   "cell_type": "code",
   "execution_count": 906,
   "metadata": {},
   "outputs": [],
   "source": [
    "basetable[\"Start_Year\"]=pd.DatetimeIndex(basetable['StartDate']).year"
   ]
  },
  {
   "cell_type": "code",
   "execution_count": 608,
   "metadata": {},
   "outputs": [],
   "source": []
  },
  {
   "cell_type": "code",
   "execution_count": null,
   "metadata": {},
   "outputs": [],
   "source": []
  },
  {
   "cell_type": "code",
   "execution_count": 907,
   "metadata": {},
   "outputs": [],
   "source": [
    "## Creating Dependent variable :--"
   ]
  },
  {
   "cell_type": "code",
   "execution_count": 908,
   "metadata": {},
   "outputs": [],
   "source": [
    "basetable['Churn'] =np.where(basetable['RenewalDate'].isnull(), 0, 1)"
   ]
  },
  {
   "cell_type": "code",
   "execution_count": null,
   "metadata": {},
   "outputs": [],
   "source": [
    "# Here, we created a new variable Churn using the Renewal date for finding out whether the customers have renewed their \n",
    "# subscriptions or not."
   ]
  },
  {
   "cell_type": "code",
   "execution_count": null,
   "metadata": {},
   "outputs": [],
   "source": []
  },
  {
   "cell_type": "code",
   "execution_count": null,
   "metadata": {},
   "outputs": [],
   "source": []
  },
  {
   "cell_type": "code",
   "execution_count": 610,
   "metadata": {},
   "outputs": [],
   "source": [
    "## Numerical Variables :--"
   ]
  },
  {
   "cell_type": "code",
   "execution_count": 909,
   "metadata": {},
   "outputs": [],
   "source": [
    "# Missing value Treatment--"
   ]
  },
  {
   "cell_type": "code",
   "execution_count": 910,
   "metadata": {},
   "outputs": [],
   "source": [
    "basetable['GrossFormulaPrice']=basetable['GrossFormulaPrice'].fillna(0)"
   ]
  },
  {
   "cell_type": "code",
   "execution_count": 911,
   "metadata": {},
   "outputs": [],
   "source": [
    "basetable['NetNewspaperPrice']=basetable['NetNewspaperPrice'].fillna(0)"
   ]
  },
  {
   "cell_type": "code",
   "execution_count": 912,
   "metadata": {},
   "outputs": [],
   "source": [
    "basetable['ProductDiscount']=basetable['ProductDiscount'].fillna(0)"
   ]
  },
  {
   "cell_type": "code",
   "execution_count": 913,
   "metadata": {},
   "outputs": [],
   "source": [
    "basetable['FormulaDiscount']=basetable['FormulaDiscount'].fillna(0)"
   ]
  },
  {
   "cell_type": "code",
   "execution_count": 914,
   "metadata": {},
   "outputs": [],
   "source": [
    "basetable['TotalDiscount']=basetable['TotalDiscount'].fillna(0)"
   ]
  },
  {
   "cell_type": "code",
   "execution_count": 915,
   "metadata": {},
   "outputs": [],
   "source": [
    "basetable['TotalCredit']=basetable['TotalCredit'].fillna(0)"
   ]
  },
  {
   "cell_type": "code",
   "execution_count": 916,
   "metadata": {},
   "outputs": [],
   "source": [
    "basetable['NbrStart']=basetable['NbrStart'].fillna(0)"
   ]
  },
  {
   "cell_type": "code",
   "execution_count": 917,
   "metadata": {},
   "outputs": [],
   "source": [
    "basetable['FormulaID']=basetable['FormulaID'].fillna(0)"
   ]
  },
  {
   "cell_type": "code",
   "execution_count": 918,
   "metadata": {},
   "outputs": [],
   "source": [
    "basetable['NetFormulaPrice']=basetable['NetFormulaPrice'].fillna(0)"
   ]
  },
  {
   "cell_type": "code",
   "execution_count": 919,
   "metadata": {},
   "outputs": [],
   "source": [
    "basetable['TotalPrice']=basetable['TotalPrice'].fillna(0)"
   ]
  },
  {
   "cell_type": "code",
   "execution_count": 920,
   "metadata": {},
   "outputs": [],
   "source": [
    "basetable['FormulaCode']=basetable['FormulaCode'].fillna(0)"
   ]
  },
  {
   "cell_type": "code",
   "execution_count": 921,
   "metadata": {},
   "outputs": [],
   "source": [
    "basetable['Duration']=basetable['Duration'].fillna(0)"
   ]
  },
  {
   "cell_type": "code",
   "execution_count": 922,
   "metadata": {},
   "outputs": [
    {
     "data": {
      "text/plain": [
       "SubscriptionID          0\n",
       "CustomerID              0\n",
       "ProductID               0\n",
       "Pattern                 0\n",
       "StartDate               0\n",
       "EndDate                 0\n",
       "NbrNewspapers           0\n",
       "NbrStart                0\n",
       "RenewalDate          1000\n",
       "PaymentType             0\n",
       "PaymentStatus           0\n",
       "PaymentDate          1279\n",
       "FormulaID               0\n",
       "GrossFormulaPrice       0\n",
       "NetFormulaPrice         0\n",
       "NetNewspaperPrice       0\n",
       "ProductDiscount         0\n",
       "FormulaDiscount         0\n",
       "TotalDiscount           0\n",
       "TotalPrice              0\n",
       "TotalCredit             0\n",
       "FormulaCode             0\n",
       "FormulaType          4726\n",
       "Duration                0\n",
       "Gender                837\n",
       "DOB                     0\n",
       "District                0\n",
       "ZIP                     0\n",
       "StreeID                 0\n",
       "Start_Year              0\n",
       "Churn                   0\n",
       "dtype: int64"
      ]
     },
     "execution_count": 922,
     "metadata": {},
     "output_type": "execute_result"
    }
   ],
   "source": [
    "basetable.isnull().sum()"
   ]
  },
  {
   "cell_type": "code",
   "execution_count": null,
   "metadata": {},
   "outputs": [],
   "source": []
  },
  {
   "cell_type": "code",
   "execution_count": null,
   "metadata": {},
   "outputs": [],
   "source": []
  },
  {
   "cell_type": "code",
   "execution_count": 923,
   "metadata": {},
   "outputs": [],
   "source": [
    "## Categorical Variables :--"
   ]
  },
  {
   "cell_type": "code",
   "execution_count": null,
   "metadata": {},
   "outputs": [],
   "source": [
    "# Missing Value Treatment--"
   ]
  },
  {
   "cell_type": "code",
   "execution_count": 924,
   "metadata": {},
   "outputs": [],
   "source": [
    "basetable['Gender']=basetable['Gender'].fillna(\"Cannot Tell\")"
   ]
  },
  {
   "cell_type": "code",
   "execution_count": 925,
   "metadata": {},
   "outputs": [],
   "source": [
    "basetable['FormulaType']=basetable['FormulaType'].fillna(\"Cannot Tell\")"
   ]
  },
  {
   "cell_type": "code",
   "execution_count": null,
   "metadata": {},
   "outputs": [],
   "source": []
  },
  {
   "cell_type": "code",
   "execution_count": 926,
   "metadata": {},
   "outputs": [],
   "source": [
    "# Dummy creation--"
   ]
  },
  {
   "cell_type": "code",
   "execution_count": 927,
   "metadata": {},
   "outputs": [],
   "source": [
    "gender=pd.get_dummies(basetable['Gender']).add_prefix(\"Gender_\")"
   ]
  },
  {
   "cell_type": "code",
   "execution_count": 928,
   "metadata": {},
   "outputs": [],
   "source": [
    "payment_type=pd.get_dummies(basetable['PaymentType']).add_prefix(\"PaymentType_\")"
   ]
  },
  {
   "cell_type": "code",
   "execution_count": 929,
   "metadata": {},
   "outputs": [],
   "source": [
    "payment_status=pd.get_dummies(basetable['PaymentStatus']).add_prefix(\"PaymentStatus_\")"
   ]
  },
  {
   "cell_type": "code",
   "execution_count": 930,
   "metadata": {},
   "outputs": [],
   "source": [
    "formula_type=pd.get_dummies(basetable['FormulaType']).add_prefix(\"FormulaType_\")"
   ]
  },
  {
   "cell_type": "code",
   "execution_count": null,
   "metadata": {},
   "outputs": [],
   "source": []
  },
  {
   "cell_type": "code",
   "execution_count": null,
   "metadata": {},
   "outputs": [],
   "source": []
  },
  {
   "cell_type": "code",
   "execution_count": 931,
   "metadata": {},
   "outputs": [],
   "source": [
    "## Finalising BaseTable :--"
   ]
  },
  {
   "cell_type": "code",
   "execution_count": 932,
   "metadata": {},
   "outputs": [],
   "source": [
    "basetable_new=pd.concat([basetable,gender,payment_type,payment_status,formula_type],axis=1)"
   ]
  },
  {
   "cell_type": "code",
   "execution_count": 934,
   "metadata": {},
   "outputs": [],
   "source": [
    "basetable_final=basetable_new.select_dtypes([\"int64\",\"float64\",\"int32\",\"uint8\"])"
   ]
  },
  {
   "cell_type": "code",
   "execution_count": 935,
   "metadata": {},
   "outputs": [
    {
     "data": {
      "text/plain": [
       "SubscriptionID               int64\n",
       "CustomerID                   int64\n",
       "ProductID                    int64\n",
       "Pattern                      int64\n",
       "NbrNewspapers                int64\n",
       "NbrStart                   float64\n",
       "FormulaID                  float64\n",
       "GrossFormulaPrice          float64\n",
       "NetFormulaPrice            float64\n",
       "NetNewspaperPrice          float64\n",
       "ProductDiscount            float64\n",
       "FormulaDiscount            float64\n",
       "TotalDiscount              float64\n",
       "TotalPrice                 float64\n",
       "TotalCredit                float64\n",
       "FormulaCode                float64\n",
       "Duration                   float64\n",
       "District                     int64\n",
       "ZIP                          int64\n",
       "StreeID                      int64\n",
       "Start_Year                   int64\n",
       "Churn                        int32\n",
       "Gender_Cannot Tell           uint8\n",
       "Gender_F                     uint8\n",
       "Gender_M                     uint8\n",
       "PaymentType_BT               uint8\n",
       "PaymentType_Cannot_tell      uint8\n",
       "PaymentType_DD               uint8\n",
       "PaymentStatus_NotPaid        uint8\n",
       "PaymentStatus_Paid           uint8\n",
       "FormulaType_CAM              uint8\n",
       "FormulaType_Cannot Tell      uint8\n",
       "FormulaType_REG              uint8\n",
       "dtype: object"
      ]
     },
     "execution_count": 935,
     "metadata": {},
     "output_type": "execute_result"
    }
   ],
   "source": [
    "basetable_final.dtypes"
   ]
  },
  {
   "cell_type": "code",
   "execution_count": null,
   "metadata": {},
   "outputs": [],
   "source": []
  },
  {
   "cell_type": "code",
   "execution_count": 936,
   "metadata": {},
   "outputs": [],
   "source": [
    "# Creating Multi-Index --"
   ]
  },
  {
   "cell_type": "code",
   "execution_count": 937,
   "metadata": {},
   "outputs": [],
   "source": [
    "basetable_final=basetable_final.set_index([\"SubscriptionID\",\"CustomerID\",\"ProductID\"])"
   ]
  },
  {
   "cell_type": "code",
   "execution_count": 1003,
   "metadata": {},
   "outputs": [
    {
     "data": {
      "text/html": [
       "<div>\n",
       "<style scoped>\n",
       "    .dataframe tbody tr th:only-of-type {\n",
       "        vertical-align: middle;\n",
       "    }\n",
       "\n",
       "    .dataframe tbody tr th {\n",
       "        vertical-align: top;\n",
       "    }\n",
       "\n",
       "    .dataframe thead th {\n",
       "        text-align: right;\n",
       "    }\n",
       "</style>\n",
       "<table border=\"1\" class=\"dataframe\">\n",
       "  <thead>\n",
       "    <tr style=\"text-align: right;\">\n",
       "      <th></th>\n",
       "      <th></th>\n",
       "      <th></th>\n",
       "      <th>Pattern</th>\n",
       "      <th>NbrNewspapers</th>\n",
       "      <th>NbrStart</th>\n",
       "      <th>FormulaID</th>\n",
       "      <th>GrossFormulaPrice</th>\n",
       "      <th>NetFormulaPrice</th>\n",
       "      <th>NetNewspaperPrice</th>\n",
       "      <th>ProductDiscount</th>\n",
       "      <th>FormulaDiscount</th>\n",
       "      <th>TotalDiscount</th>\n",
       "      <th>...</th>\n",
       "      <th>Gender_F</th>\n",
       "      <th>Gender_M</th>\n",
       "      <th>PaymentType_BT</th>\n",
       "      <th>PaymentType_Cannot_tell</th>\n",
       "      <th>PaymentType_DD</th>\n",
       "      <th>PaymentStatus_NotPaid</th>\n",
       "      <th>PaymentStatus_Paid</th>\n",
       "      <th>FormulaType_CAM</th>\n",
       "      <th>FormulaType_Cannot Tell</th>\n",
       "      <th>FormulaType_REG</th>\n",
       "    </tr>\n",
       "    <tr>\n",
       "      <th>SubscriptionID</th>\n",
       "      <th>CustomerID</th>\n",
       "      <th>ProductID</th>\n",
       "      <th></th>\n",
       "      <th></th>\n",
       "      <th></th>\n",
       "      <th></th>\n",
       "      <th></th>\n",
       "      <th></th>\n",
       "      <th></th>\n",
       "      <th></th>\n",
       "      <th></th>\n",
       "      <th></th>\n",
       "      <th></th>\n",
       "      <th></th>\n",
       "      <th></th>\n",
       "      <th></th>\n",
       "      <th></th>\n",
       "      <th></th>\n",
       "      <th></th>\n",
       "      <th></th>\n",
       "      <th></th>\n",
       "      <th></th>\n",
       "      <th></th>\n",
       "    </tr>\n",
       "  </thead>\n",
       "  <tbody>\n",
       "    <tr>\n",
       "      <th rowspan=\"3\" valign=\"top\">1000024</th>\n",
       "      <th rowspan=\"3\" valign=\"top\">1150045</th>\n",
       "      <th>8</th>\n",
       "      <td>1111110</td>\n",
       "      <td>76</td>\n",
       "      <td>25.0</td>\n",
       "      <td>8552.0</td>\n",
       "      <td>79.000</td>\n",
       "      <td>79.0</td>\n",
       "      <td>0.000000</td>\n",
       "      <td>0.0</td>\n",
       "      <td>0.000</td>\n",
       "      <td>0.000</td>\n",
       "      <td>...</td>\n",
       "      <td>0</td>\n",
       "      <td>1</td>\n",
       "      <td>1</td>\n",
       "      <td>0</td>\n",
       "      <td>0</td>\n",
       "      <td>0</td>\n",
       "      <td>1</td>\n",
       "      <td>0</td>\n",
       "      <td>0</td>\n",
       "      <td>1</td>\n",
       "    </tr>\n",
       "    <tr>\n",
       "      <th>8</th>\n",
       "      <td>1111110</td>\n",
       "      <td>76</td>\n",
       "      <td>25.0</td>\n",
       "      <td>8552.0</td>\n",
       "      <td>79.000</td>\n",
       "      <td>79.0</td>\n",
       "      <td>0.000000</td>\n",
       "      <td>0.0</td>\n",
       "      <td>0.000</td>\n",
       "      <td>0.000</td>\n",
       "      <td>...</td>\n",
       "      <td>0</td>\n",
       "      <td>1</td>\n",
       "      <td>1</td>\n",
       "      <td>0</td>\n",
       "      <td>0</td>\n",
       "      <td>0</td>\n",
       "      <td>1</td>\n",
       "      <td>0</td>\n",
       "      <td>0</td>\n",
       "      <td>1</td>\n",
       "    </tr>\n",
       "    <tr>\n",
       "      <th>8</th>\n",
       "      <td>1111110</td>\n",
       "      <td>76</td>\n",
       "      <td>25.0</td>\n",
       "      <td>8552.0</td>\n",
       "      <td>79.000</td>\n",
       "      <td>79.0</td>\n",
       "      <td>0.000000</td>\n",
       "      <td>0.0</td>\n",
       "      <td>0.000</td>\n",
       "      <td>0.000</td>\n",
       "      <td>...</td>\n",
       "      <td>0</td>\n",
       "      <td>1</td>\n",
       "      <td>1</td>\n",
       "      <td>0</td>\n",
       "      <td>0</td>\n",
       "      <td>0</td>\n",
       "      <td>1</td>\n",
       "      <td>0</td>\n",
       "      <td>0</td>\n",
       "      <td>1</td>\n",
       "    </tr>\n",
       "    <tr>\n",
       "      <th>1000082</th>\n",
       "      <th>1150046</th>\n",
       "      <th>8</th>\n",
       "      <td>1111110</td>\n",
       "      <td>50</td>\n",
       "      <td>25.0</td>\n",
       "      <td>10017.0</td>\n",
       "      <td>519.737</td>\n",
       "      <td>29.6</td>\n",
       "      <td>0.592000</td>\n",
       "      <td>0.0</td>\n",
       "      <td>223.737</td>\n",
       "      <td>223.737</td>\n",
       "      <td>...</td>\n",
       "      <td>1</td>\n",
       "      <td>0</td>\n",
       "      <td>1</td>\n",
       "      <td>0</td>\n",
       "      <td>0</td>\n",
       "      <td>0</td>\n",
       "      <td>1</td>\n",
       "      <td>1</td>\n",
       "      <td>0</td>\n",
       "      <td>0</td>\n",
       "    </tr>\n",
       "    <tr>\n",
       "      <th>100012</th>\n",
       "      <th>89085</th>\n",
       "      <th>8</th>\n",
       "      <td>1111110</td>\n",
       "      <td>304</td>\n",
       "      <td>10.0</td>\n",
       "      <td>875.0</td>\n",
       "      <td>249.000</td>\n",
       "      <td>249.0</td>\n",
       "      <td>0.811842</td>\n",
       "      <td>0.0</td>\n",
       "      <td>0.000</td>\n",
       "      <td>0.000</td>\n",
       "      <td>...</td>\n",
       "      <td>0</td>\n",
       "      <td>1</td>\n",
       "      <td>1</td>\n",
       "      <td>0</td>\n",
       "      <td>0</td>\n",
       "      <td>0</td>\n",
       "      <td>1</td>\n",
       "      <td>0</td>\n",
       "      <td>0</td>\n",
       "      <td>1</td>\n",
       "    </tr>\n",
       "  </tbody>\n",
       "</table>\n",
       "<p>5 rows × 30 columns</p>\n",
       "</div>"
      ],
      "text/plain": [
       "                                     Pattern  NbrNewspapers  NbrStart  \\\n",
       "SubscriptionID CustomerID ProductID                                     \n",
       "1000024        1150045    8          1111110             76      25.0   \n",
       "                          8          1111110             76      25.0   \n",
       "                          8          1111110             76      25.0   \n",
       "1000082        1150046    8          1111110             50      25.0   \n",
       "100012         89085      8          1111110            304      10.0   \n",
       "\n",
       "                                     FormulaID  GrossFormulaPrice  \\\n",
       "SubscriptionID CustomerID ProductID                                 \n",
       "1000024        1150045    8             8552.0             79.000   \n",
       "                          8             8552.0             79.000   \n",
       "                          8             8552.0             79.000   \n",
       "1000082        1150046    8            10017.0            519.737   \n",
       "100012         89085      8              875.0            249.000   \n",
       "\n",
       "                                     NetFormulaPrice  NetNewspaperPrice  \\\n",
       "SubscriptionID CustomerID ProductID                                       \n",
       "1000024        1150045    8                     79.0           0.000000   \n",
       "                          8                     79.0           0.000000   \n",
       "                          8                     79.0           0.000000   \n",
       "1000082        1150046    8                     29.6           0.592000   \n",
       "100012         89085      8                    249.0           0.811842   \n",
       "\n",
       "                                     ProductDiscount  FormulaDiscount  \\\n",
       "SubscriptionID CustomerID ProductID                                     \n",
       "1000024        1150045    8                      0.0            0.000   \n",
       "                          8                      0.0            0.000   \n",
       "                          8                      0.0            0.000   \n",
       "1000082        1150046    8                      0.0          223.737   \n",
       "100012         89085      8                      0.0            0.000   \n",
       "\n",
       "                                     TotalDiscount  ...  Gender_F  Gender_M  \\\n",
       "SubscriptionID CustomerID ProductID                 ...                       \n",
       "1000024        1150045    8                  0.000  ...         0         1   \n",
       "                          8                  0.000  ...         0         1   \n",
       "                          8                  0.000  ...         0         1   \n",
       "1000082        1150046    8                223.737  ...         1         0   \n",
       "100012         89085      8                  0.000  ...         0         1   \n",
       "\n",
       "                                     PaymentType_BT  PaymentType_Cannot_tell  \\\n",
       "SubscriptionID CustomerID ProductID                                            \n",
       "1000024        1150045    8                       1                        0   \n",
       "                          8                       1                        0   \n",
       "                          8                       1                        0   \n",
       "1000082        1150046    8                       1                        0   \n",
       "100012         89085      8                       1                        0   \n",
       "\n",
       "                                     PaymentType_DD  PaymentStatus_NotPaid  \\\n",
       "SubscriptionID CustomerID ProductID                                          \n",
       "1000024        1150045    8                       0                      0   \n",
       "                          8                       0                      0   \n",
       "                          8                       0                      0   \n",
       "1000082        1150046    8                       0                      0   \n",
       "100012         89085      8                       0                      0   \n",
       "\n",
       "                                     PaymentStatus_Paid  FormulaType_CAM  \\\n",
       "SubscriptionID CustomerID ProductID                                        \n",
       "1000024        1150045    8                           1                0   \n",
       "                          8                           1                0   \n",
       "                          8                           1                0   \n",
       "1000082        1150046    8                           1                1   \n",
       "100012         89085      8                           1                0   \n",
       "\n",
       "                                     FormulaType_Cannot Tell  FormulaType_REG  \n",
       "SubscriptionID CustomerID ProductID                                            \n",
       "1000024        1150045    8                                0                1  \n",
       "                          8                                0                1  \n",
       "                          8                                0                1  \n",
       "1000082        1150046    8                                0                0  \n",
       "100012         89085      8                                0                1  \n",
       "\n",
       "[5 rows x 30 columns]"
      ]
     },
     "execution_count": 1003,
     "metadata": {},
     "output_type": "execute_result"
    }
   ],
   "source": [
    "basetable_final.head()"
   ]
  },
  {
   "cell_type": "code",
   "execution_count": null,
   "metadata": {},
   "outputs": [],
   "source": []
  },
  {
   "cell_type": "code",
   "execution_count": null,
   "metadata": {},
   "outputs": [],
   "source": []
  },
  {
   "cell_type": "code",
   "execution_count": 938,
   "metadata": {},
   "outputs": [],
   "source": [
    "## Standardizing the data :--"
   ]
  },
  {
   "cell_type": "code",
   "execution_count": 943,
   "metadata": {},
   "outputs": [],
   "source": [
    "sc=StandardScaler()"
   ]
  },
  {
   "cell_type": "code",
   "execution_count": 944,
   "metadata": {},
   "outputs": [],
   "source": [
    "b_scale=sc.fit_transform(basetable_final)"
   ]
  },
  {
   "cell_type": "code",
   "execution_count": 945,
   "metadata": {},
   "outputs": [],
   "source": [
    "var_ratio={}\n",
    "bc = PCA(n_components=15)\n",
    "b_pca=bc.fit(b_scale)\n",
    "var_ratio[\"\"]=sum(b_pca.explained_variance_ratio_)"
   ]
  },
  {
   "cell_type": "code",
   "execution_count": 946,
   "metadata": {},
   "outputs": [
    {
     "data": {
      "text/plain": [
       "{'': 0.9358675003617007}"
      ]
     },
     "execution_count": 946,
     "metadata": {},
     "output_type": "execute_result"
    }
   ],
   "source": [
    "var_ratio"
   ]
  },
  {
   "cell_type": "code",
   "execution_count": null,
   "metadata": {},
   "outputs": [],
   "source": [
    "# Here 15 components are representing 93 percent of data"
   ]
  },
  {
   "cell_type": "code",
   "execution_count": null,
   "metadata": {},
   "outputs": [],
   "source": []
  },
  {
   "cell_type": "code",
   "execution_count": null,
   "metadata": {},
   "outputs": [],
   "source": []
  },
  {
   "cell_type": "code",
   "execution_count": 947,
   "metadata": {},
   "outputs": [],
   "source": [
    "## Building Models :--"
   ]
  },
  {
   "cell_type": "code",
   "execution_count": 948,
   "metadata": {},
   "outputs": [
    {
     "data": {
      "text/plain": [
       "2006"
      ]
     },
     "execution_count": 948,
     "metadata": {},
     "output_type": "execute_result"
    }
   ],
   "source": [
    "basetable_final[\"Start_Year\"].min()"
   ]
  },
  {
   "cell_type": "code",
   "execution_count": 949,
   "metadata": {},
   "outputs": [
    {
     "data": {
      "text/plain": [
       "2010"
      ]
     },
     "execution_count": 949,
     "metadata": {},
     "output_type": "execute_result"
    }
   ],
   "source": [
    "basetable_final[\"Start_Year\"].max()"
   ]
  },
  {
   "cell_type": "code",
   "execution_count": 950,
   "metadata": {},
   "outputs": [],
   "source": [
    "train=basetable_final[basetable_final[\"Start_Year\"]<2009]"
   ]
  },
  {
   "cell_type": "code",
   "execution_count": 951,
   "metadata": {},
   "outputs": [],
   "source": [
    "validation=basetable_final[basetable_final[\"Start_Year\"]==2009]"
   ]
  },
  {
   "cell_type": "code",
   "execution_count": 952,
   "metadata": {},
   "outputs": [],
   "source": [
    "test=basetable_final[basetable_final[\"Start_Year\"]>2009]"
   ]
  },
  {
   "cell_type": "code",
   "execution_count": 953,
   "metadata": {},
   "outputs": [],
   "source": [
    "x_train = train.drop(['Churn'], axis=1)"
   ]
  },
  {
   "cell_type": "code",
   "execution_count": 954,
   "metadata": {},
   "outputs": [],
   "source": [
    "y_train = train[\"Churn\"]"
   ]
  },
  {
   "cell_type": "code",
   "execution_count": 955,
   "metadata": {},
   "outputs": [],
   "source": [
    "x_validation = validation.drop(['Churn'], axis=1)"
   ]
  },
  {
   "cell_type": "code",
   "execution_count": 956,
   "metadata": {},
   "outputs": [],
   "source": [
    "y_validation = validation[\"Churn\"]"
   ]
  },
  {
   "cell_type": "code",
   "execution_count": 957,
   "metadata": {},
   "outputs": [],
   "source": [
    "x_test = test.drop(['Churn'], axis=1)"
   ]
  },
  {
   "cell_type": "code",
   "execution_count": 958,
   "metadata": {},
   "outputs": [],
   "source": [
    "y_test = test[\"Churn\"]"
   ]
  },
  {
   "cell_type": "code",
   "execution_count": null,
   "metadata": {},
   "outputs": [],
   "source": []
  },
  {
   "cell_type": "code",
   "execution_count": 959,
   "metadata": {},
   "outputs": [],
   "source": [
    "# Logistic Regression--"
   ]
  },
  {
   "cell_type": "code",
   "execution_count": 960,
   "metadata": {},
   "outputs": [],
   "source": [
    "lr=LogisticRegression()"
   ]
  },
  {
   "cell_type": "code",
   "execution_count": 961,
   "metadata": {},
   "outputs": [
    {
     "data": {
      "text/plain": [
       "LogisticRegression(C=1.0, class_weight=None, dual=False, fit_intercept=True,\n",
       "          intercept_scaling=1, max_iter=100, multi_class='ovr', n_jobs=1,\n",
       "          penalty='l2', random_state=None, solver='liblinear', tol=0.0001,\n",
       "          verbose=0, warm_start=False)"
      ]
     },
     "execution_count": 961,
     "metadata": {},
     "output_type": "execute_result"
    }
   ],
   "source": [
    "lr.fit(x_train, y_train)"
   ]
  },
  {
   "cell_type": "code",
   "execution_count": 962,
   "metadata": {},
   "outputs": [
    {
     "data": {
      "text/plain": [
       "99.15726518961533"
      ]
     },
     "execution_count": 962,
     "metadata": {},
     "output_type": "execute_result"
    }
   ],
   "source": [
    "lr_train=accuracy_score(lr.predict(x_train), y_train)*100\n",
    "lr_train"
   ]
  },
  {
   "cell_type": "code",
   "execution_count": 963,
   "metadata": {},
   "outputs": [
    {
     "data": {
      "text/plain": [
       "96.48943918426802"
      ]
     },
     "execution_count": 963,
     "metadata": {},
     "output_type": "execute_result"
    }
   ],
   "source": [
    "lr_validation=accuracy_score(lr.predict(x_validation), y_validation)*100\n",
    "lr_validation"
   ]
  },
  {
   "cell_type": "code",
   "execution_count": 964,
   "metadata": {},
   "outputs": [
    {
     "data": {
      "text/plain": [
       "95.40589924301749"
      ]
     },
     "execution_count": 964,
     "metadata": {},
     "output_type": "execute_result"
    }
   ],
   "source": [
    "lr_test=accuracy_score(lr.predict(x_test), y_test)*100\n",
    "lr_test"
   ]
  },
  {
   "cell_type": "code",
   "execution_count": null,
   "metadata": {},
   "outputs": [],
   "source": []
  },
  {
   "cell_type": "code",
   "execution_count": 965,
   "metadata": {},
   "outputs": [],
   "source": [
    "# Support Vector Machine (SVM)--"
   ]
  },
  {
   "cell_type": "code",
   "execution_count": 966,
   "metadata": {},
   "outputs": [],
   "source": [
    "svm=SVC()"
   ]
  },
  {
   "cell_type": "code",
   "execution_count": 967,
   "metadata": {},
   "outputs": [
    {
     "data": {
      "text/plain": [
       "SVC(C=1.0, cache_size=200, class_weight=None, coef0=0.0,\n",
       "  decision_function_shape='ovr', degree=3, gamma='auto', kernel='rbf',\n",
       "  max_iter=-1, probability=False, random_state=None, shrinking=True,\n",
       "  tol=0.001, verbose=False)"
      ]
     },
     "execution_count": 967,
     "metadata": {},
     "output_type": "execute_result"
    }
   ],
   "source": [
    "svm.fit(x_train, y_train)"
   ]
  },
  {
   "cell_type": "code",
   "execution_count": 968,
   "metadata": {},
   "outputs": [
    {
     "data": {
      "text/plain": [
       "100.0"
      ]
     },
     "execution_count": 968,
     "metadata": {},
     "output_type": "execute_result"
    }
   ],
   "source": [
    "svm_train=accuracy_score(svm.predict(x_train), y_train)*100\n",
    "svm_train"
   ]
  },
  {
   "cell_type": "code",
   "execution_count": 969,
   "metadata": {},
   "outputs": [
    {
     "data": {
      "text/plain": [
       "96.27093954843409"
      ]
     },
     "execution_count": 969,
     "metadata": {},
     "output_type": "execute_result"
    }
   ],
   "source": [
    "svm_validation=accuracy_score(svm.predict(x_validation), y_validation)*100\n",
    "svm_validation"
   ]
  },
  {
   "cell_type": "code",
   "execution_count": 970,
   "metadata": {},
   "outputs": [
    {
     "data": {
      "text/plain": [
       "89.35003915426782"
      ]
     },
     "execution_count": 970,
     "metadata": {},
     "output_type": "execute_result"
    }
   ],
   "source": [
    "svm_test=accuracy_score(svm.predict(x_test), y_test)*100\n",
    "svm_test"
   ]
  },
  {
   "cell_type": "code",
   "execution_count": null,
   "metadata": {},
   "outputs": [],
   "source": []
  },
  {
   "cell_type": "code",
   "execution_count": 971,
   "metadata": {},
   "outputs": [],
   "source": [
    "# K-nearest Neighbours (KNN)--"
   ]
  },
  {
   "cell_type": "code",
   "execution_count": 972,
   "metadata": {},
   "outputs": [],
   "source": [
    "knn=KNN(n_neighbors=5)"
   ]
  },
  {
   "cell_type": "code",
   "execution_count": 973,
   "metadata": {},
   "outputs": [
    {
     "data": {
      "text/plain": [
       "KNeighborsClassifier(algorithm='auto', leaf_size=30, metric='minkowski',\n",
       "           metric_params=None, n_jobs=1, n_neighbors=5, p=2,\n",
       "           weights='uniform')"
      ]
     },
     "execution_count": 973,
     "metadata": {},
     "output_type": "execute_result"
    }
   ],
   "source": [
    "knn.fit(x_train,y_train)"
   ]
  },
  {
   "cell_type": "code",
   "execution_count": 974,
   "metadata": {},
   "outputs": [
    {
     "data": {
      "text/plain": [
       "99.32037515291559"
      ]
     },
     "execution_count": 974,
     "metadata": {},
     "output_type": "execute_result"
    }
   ],
   "source": [
    "knn_train=accuracy_score(knn.predict(x_train), y_train)*100\n",
    "knn_train"
   ]
  },
  {
   "cell_type": "code",
   "execution_count": 975,
   "metadata": {},
   "outputs": [
    {
     "data": {
      "text/plain": [
       "96.30007283321194"
      ]
     },
     "execution_count": 975,
     "metadata": {},
     "output_type": "execute_result"
    }
   ],
   "source": [
    "knn_validation=accuracy_score(knn.predict(x_validation), y_validation)*100\n",
    "knn_validation"
   ]
  },
  {
   "cell_type": "code",
   "execution_count": 976,
   "metadata": {},
   "outputs": [
    {
     "data": {
      "text/plain": [
       "89.35003915426782"
      ]
     },
     "execution_count": 976,
     "metadata": {},
     "output_type": "execute_result"
    }
   ],
   "source": [
    "knn_test=accuracy_score(knn.predict(x_test), y_test)*100\n",
    "knn_test"
   ]
  },
  {
   "cell_type": "code",
   "execution_count": null,
   "metadata": {},
   "outputs": [],
   "source": []
  },
  {
   "cell_type": "code",
   "execution_count": 977,
   "metadata": {},
   "outputs": [],
   "source": [
    "# Random Forest Regressor--"
   ]
  },
  {
   "cell_type": "code",
   "execution_count": 978,
   "metadata": {},
   "outputs": [],
   "source": [
    "rf=RF()"
   ]
  },
  {
   "cell_type": "code",
   "execution_count": 979,
   "metadata": {},
   "outputs": [
    {
     "data": {
      "text/plain": [
       "RandomForestClassifier(bootstrap=True, class_weight=None, criterion='gini',\n",
       "            max_depth=None, max_features='auto', max_leaf_nodes=None,\n",
       "            min_impurity_decrease=0.0, min_impurity_split=None,\n",
       "            min_samples_leaf=1, min_samples_split=2,\n",
       "            min_weight_fraction_leaf=0.0, n_estimators=10, n_jobs=1,\n",
       "            oob_score=False, random_state=None, verbose=0,\n",
       "            warm_start=False)"
      ]
     },
     "execution_count": 979,
     "metadata": {},
     "output_type": "execute_result"
    }
   ],
   "source": [
    "rf.fit(x_train,y_train)"
   ]
  },
  {
   "cell_type": "code",
   "execution_count": 980,
   "metadata": {},
   "outputs": [
    {
     "data": {
      "text/plain": [
       "99.98640750305832"
      ]
     },
     "execution_count": 980,
     "metadata": {},
     "output_type": "execute_result"
    }
   ],
   "source": [
    "rf_train=accuracy_score(rf.predict(x_train),y_train)*100\n",
    "rf_train"
   ]
  },
  {
   "cell_type": "code",
   "execution_count": 981,
   "metadata": {},
   "outputs": [
    {
     "data": {
      "text/plain": [
       "99.12600145666424"
      ]
     },
     "execution_count": 981,
     "metadata": {},
     "output_type": "execute_result"
    }
   ],
   "source": [
    "rf_validation=accuracy_score(rf.predict(x_validation), y_validation)*100\n",
    "rf_validation"
   ]
  },
  {
   "cell_type": "code",
   "execution_count": 982,
   "metadata": {},
   "outputs": [
    {
     "data": {
      "text/plain": [
       "96.71104150352389"
      ]
     },
     "execution_count": 982,
     "metadata": {},
     "output_type": "execute_result"
    }
   ],
   "source": [
    "rf_test=accuracy_score(rf.predict(x_test),y_test)*100\n",
    "rf_test"
   ]
  },
  {
   "cell_type": "code",
   "execution_count": null,
   "metadata": {},
   "outputs": [],
   "source": []
  },
  {
   "cell_type": "code",
   "execution_count": 983,
   "metadata": {},
   "outputs": [],
   "source": [
    "## Here we used Logistic regression, SVM, KNN and Random Forest Regressor models for analysis on the data. Based on their \n",
    "## Validation and Test accuracy scores we would use Logistic Regression model for prediction"
   ]
  },
  {
   "cell_type": "code",
   "execution_count": 996,
   "metadata": {},
   "outputs": [],
   "source": [
    "y_predict=lr.predict(x_test)"
   ]
  },
  {
   "cell_type": "code",
   "execution_count": 997,
   "metadata": {},
   "outputs": [],
   "source": [
    "y_prob=lr.predict_proba(x_test)"
   ]
  },
  {
   "cell_type": "code",
   "execution_count": 998,
   "metadata": {},
   "outputs": [],
   "source": [
    "y_prob=pd.DataFrame(y_prob)"
   ]
  },
  {
   "cell_type": "code",
   "execution_count": 999,
   "metadata": {},
   "outputs": [],
   "source": [
    "y_prob=list(y_prob[1])"
   ]
  },
  {
   "cell_type": "code",
   "execution_count": 1000,
   "metadata": {},
   "outputs": [],
   "source": [
    "final_new = pd.DataFrame({\"Churn\": y_predict,\"Churn Probability\":y_prob,\"Start year\": test[\"Start_Year\"]})"
   ]
  },
  {
   "cell_type": "code",
   "execution_count": 1001,
   "metadata": {},
   "outputs": [
    {
     "data": {
      "text/html": [
       "<div>\n",
       "<style scoped>\n",
       "    .dataframe tbody tr th:only-of-type {\n",
       "        vertical-align: middle;\n",
       "    }\n",
       "\n",
       "    .dataframe tbody tr th {\n",
       "        vertical-align: top;\n",
       "    }\n",
       "\n",
       "    .dataframe thead th {\n",
       "        text-align: right;\n",
       "    }\n",
       "</style>\n",
       "<table border=\"1\" class=\"dataframe\">\n",
       "  <thead>\n",
       "    <tr style=\"text-align: right;\">\n",
       "      <th></th>\n",
       "      <th></th>\n",
       "      <th></th>\n",
       "      <th>Churn</th>\n",
       "      <th>Churn Probability</th>\n",
       "      <th>Start year</th>\n",
       "    </tr>\n",
       "    <tr>\n",
       "      <th>SubscriptionID</th>\n",
       "      <th>CustomerID</th>\n",
       "      <th>ProductID</th>\n",
       "      <th></th>\n",
       "      <th></th>\n",
       "      <th></th>\n",
       "    </tr>\n",
       "  </thead>\n",
       "  <tbody>\n",
       "    <tr>\n",
       "      <th rowspan=\"3\" valign=\"top\">1000024</th>\n",
       "      <th rowspan=\"3\" valign=\"top\">1150045</th>\n",
       "      <th>8</th>\n",
       "      <td>1</td>\n",
       "      <td>9.963042e-01</td>\n",
       "      <td>2010</td>\n",
       "    </tr>\n",
       "    <tr>\n",
       "      <th>8</th>\n",
       "      <td>1</td>\n",
       "      <td>9.963042e-01</td>\n",
       "      <td>2010</td>\n",
       "    </tr>\n",
       "    <tr>\n",
       "      <th>8</th>\n",
       "      <td>1</td>\n",
       "      <td>9.963042e-01</td>\n",
       "      <td>2010</td>\n",
       "    </tr>\n",
       "    <tr>\n",
       "      <th>1000082</th>\n",
       "      <th>1150046</th>\n",
       "      <th>8</th>\n",
       "      <td>1</td>\n",
       "      <td>1.000000e+00</td>\n",
       "      <td>2010</td>\n",
       "    </tr>\n",
       "    <tr>\n",
       "      <th>1000566</th>\n",
       "      <th>309653</th>\n",
       "      <th>2</th>\n",
       "      <td>0</td>\n",
       "      <td>7.942676e-07</td>\n",
       "      <td>2010</td>\n",
       "    </tr>\n",
       "    <tr>\n",
       "      <th>...</th>\n",
       "      <th>...</th>\n",
       "      <th>...</th>\n",
       "      <td>...</td>\n",
       "      <td>...</td>\n",
       "      <td>...</td>\n",
       "    </tr>\n",
       "    <tr>\n",
       "      <th>999050</th>\n",
       "      <th>1149771</th>\n",
       "      <th>3</th>\n",
       "      <td>1</td>\n",
       "      <td>8.790751e-01</td>\n",
       "      <td>2010</td>\n",
       "    </tr>\n",
       "    <tr>\n",
       "      <th>999529</th>\n",
       "      <th>457926</th>\n",
       "      <th>1</th>\n",
       "      <td>0</td>\n",
       "      <td>4.811219e-04</td>\n",
       "      <td>2010</td>\n",
       "    </tr>\n",
       "    <tr>\n",
       "      <th>999767</th>\n",
       "      <th>1149767</th>\n",
       "      <th>8</th>\n",
       "      <td>1</td>\n",
       "      <td>9.963569e-01</td>\n",
       "      <td>2010</td>\n",
       "    </tr>\n",
       "    <tr>\n",
       "      <th>999816</th>\n",
       "      <th>799724</th>\n",
       "      <th>8</th>\n",
       "      <td>1</td>\n",
       "      <td>1.000000e+00</td>\n",
       "      <td>2010</td>\n",
       "    </tr>\n",
       "    <tr>\n",
       "      <th>999837</th>\n",
       "      <th>788976</th>\n",
       "      <th>8</th>\n",
       "      <td>1</td>\n",
       "      <td>1.000000e+00</td>\n",
       "      <td>2010</td>\n",
       "    </tr>\n",
       "  </tbody>\n",
       "</table>\n",
       "<p>3831 rows × 3 columns</p>\n",
       "</div>"
      ],
      "text/plain": [
       "                                     Churn  Churn Probability  Start year\n",
       "SubscriptionID CustomerID ProductID                                      \n",
       "1000024        1150045    8              1       9.963042e-01        2010\n",
       "                          8              1       9.963042e-01        2010\n",
       "                          8              1       9.963042e-01        2010\n",
       "1000082        1150046    8              1       1.000000e+00        2010\n",
       "1000566        309653     2              0       7.942676e-07        2010\n",
       "...                                    ...                ...         ...\n",
       "999050         1149771    3              1       8.790751e-01        2010\n",
       "999529         457926     1              0       4.811219e-04        2010\n",
       "999767         1149767    8              1       9.963569e-01        2010\n",
       "999816         799724     8              1       1.000000e+00        2010\n",
       "999837         788976     8              1       1.000000e+00        2010\n",
       "\n",
       "[3831 rows x 3 columns]"
      ]
     },
     "execution_count": 1001,
     "metadata": {},
     "output_type": "execute_result"
    }
   ],
   "source": [
    "final_new"
   ]
  },
  {
   "cell_type": "code",
   "execution_count": null,
   "metadata": {},
   "outputs": [],
   "source": []
  },
  {
   "cell_type": "code",
   "execution_count": null,
   "metadata": {},
   "outputs": [],
   "source": []
  },
  {
   "cell_type": "code",
   "execution_count": null,
   "metadata": {},
   "outputs": [],
   "source": []
  },
  {
   "cell_type": "code",
   "execution_count": null,
   "metadata": {},
   "outputs": [],
   "source": []
  },
  {
   "cell_type": "code",
   "execution_count": null,
   "metadata": {},
   "outputs": [],
   "source": []
  }
 ],
 "metadata": {
  "kernelspec": {
   "display_name": "Python 3",
   "language": "python",
   "name": "python3"
  },
  "language_info": {
   "codemirror_mode": {
    "name": "ipython",
    "version": 3
   },
   "file_extension": ".py",
   "mimetype": "text/x-python",
   "name": "python",
   "nbconvert_exporter": "python",
   "pygments_lexer": "ipython3",
   "version": "3.6.4"
  }
 },
 "nbformat": 4,
 "nbformat_minor": 2
}
