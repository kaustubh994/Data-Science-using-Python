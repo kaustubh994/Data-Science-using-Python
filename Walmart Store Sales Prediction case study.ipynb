{
 "cells": [
  {
   "cell_type": "code",
   "execution_count": 177,
   "metadata": {},
   "outputs": [],
   "source": [
    "import pandas as pd\n",
    "import numpy as np\n",
    "import matplotlib.pylab as plt\n",
    "import seaborn as sns\n",
    "from datetime import datetime\n",
    "from sklearn.linear_model import LinearRegression\n",
    "from sklearn.ensemble import RandomForestRegressor\n",
    "from sklearn.cross_validation import train_test_split\n",
    "import statsmodels.api as sm\n",
    "from sklearn import metrics\n",
    "from sklearn.tree import DecisionTreeRegressor\n",
    "from sklearn.neighbors import KNeighborsRegressor"
   ]
  },
  {
   "cell_type": "code",
   "execution_count": null,
   "metadata": {},
   "outputs": [],
   "source": []
  },
  {
   "cell_type": "code",
   "execution_count": null,
   "metadata": {},
   "outputs": [],
   "source": []
  },
  {
   "cell_type": "code",
   "execution_count": null,
   "metadata": {},
   "outputs": [],
   "source": []
  },
  {
   "cell_type": "code",
   "execution_count": 178,
   "metadata": {},
   "outputs": [],
   "source": [
    "## Reading the data :--"
   ]
  },
  {
   "cell_type": "code",
   "execution_count": null,
   "metadata": {},
   "outputs": [],
   "source": []
  },
  {
   "cell_type": "code",
   "execution_count": 179,
   "metadata": {},
   "outputs": [
    {
     "data": {
      "text/html": [
       "<div>\n",
       "<style scoped>\n",
       "    .dataframe tbody tr th:only-of-type {\n",
       "        vertical-align: middle;\n",
       "    }\n",
       "\n",
       "    .dataframe tbody tr th {\n",
       "        vertical-align: top;\n",
       "    }\n",
       "\n",
       "    .dataframe thead th {\n",
       "        text-align: right;\n",
       "    }\n",
       "</style>\n",
       "<table border=\"1\" class=\"dataframe\">\n",
       "  <thead>\n",
       "    <tr style=\"text-align: right;\">\n",
       "      <th></th>\n",
       "      <th>Store</th>\n",
       "      <th>Date</th>\n",
       "      <th>IsHoliday</th>\n",
       "      <th>Dept</th>\n",
       "      <th>Weekly_Sales</th>\n",
       "      <th>Type</th>\n",
       "      <th>Size</th>\n",
       "      <th>Temperature</th>\n",
       "      <th>Fuel_Price</th>\n",
       "      <th>MarkDown1</th>\n",
       "      <th>MarkDown2</th>\n",
       "      <th>MarkDown3</th>\n",
       "      <th>MarkDown4</th>\n",
       "      <th>MarkDown5</th>\n",
       "      <th>CPI</th>\n",
       "      <th>Unemployment</th>\n",
       "    </tr>\n",
       "  </thead>\n",
       "  <tbody>\n",
       "    <tr>\n",
       "      <th>0</th>\n",
       "      <td>10</td>\n",
       "      <td>2010-02-05</td>\n",
       "      <td>False</td>\n",
       "      <td>1</td>\n",
       "      <td>40212.84</td>\n",
       "      <td>B</td>\n",
       "      <td>126512</td>\n",
       "      <td>54.34</td>\n",
       "      <td>2.962</td>\n",
       "      <td>NaN</td>\n",
       "      <td>NaN</td>\n",
       "      <td>NaN</td>\n",
       "      <td>NaN</td>\n",
       "      <td>NaN</td>\n",
       "      <td>126.442065</td>\n",
       "      <td>9.765</td>\n",
       "    </tr>\n",
       "    <tr>\n",
       "      <th>1</th>\n",
       "      <td>10</td>\n",
       "      <td>2010-02-05</td>\n",
       "      <td>False</td>\n",
       "      <td>98</td>\n",
       "      <td>74.00</td>\n",
       "      <td>B</td>\n",
       "      <td>126512</td>\n",
       "      <td>54.34</td>\n",
       "      <td>2.962</td>\n",
       "      <td>NaN</td>\n",
       "      <td>NaN</td>\n",
       "      <td>NaN</td>\n",
       "      <td>NaN</td>\n",
       "      <td>NaN</td>\n",
       "      <td>126.442065</td>\n",
       "      <td>9.765</td>\n",
       "    </tr>\n",
       "    <tr>\n",
       "      <th>2</th>\n",
       "      <td>10</td>\n",
       "      <td>2010-02-05</td>\n",
       "      <td>False</td>\n",
       "      <td>32</td>\n",
       "      <td>26116.73</td>\n",
       "      <td>B</td>\n",
       "      <td>126512</td>\n",
       "      <td>54.34</td>\n",
       "      <td>2.962</td>\n",
       "      <td>NaN</td>\n",
       "      <td>NaN</td>\n",
       "      <td>NaN</td>\n",
       "      <td>NaN</td>\n",
       "      <td>NaN</td>\n",
       "      <td>126.442065</td>\n",
       "      <td>9.765</td>\n",
       "    </tr>\n",
       "    <tr>\n",
       "      <th>3</th>\n",
       "      <td>10</td>\n",
       "      <td>2010-02-05</td>\n",
       "      <td>False</td>\n",
       "      <td>25</td>\n",
       "      <td>20779.50</td>\n",
       "      <td>B</td>\n",
       "      <td>126512</td>\n",
       "      <td>54.34</td>\n",
       "      <td>2.962</td>\n",
       "      <td>NaN</td>\n",
       "      <td>NaN</td>\n",
       "      <td>NaN</td>\n",
       "      <td>NaN</td>\n",
       "      <td>NaN</td>\n",
       "      <td>126.442065</td>\n",
       "      <td>9.765</td>\n",
       "    </tr>\n",
       "    <tr>\n",
       "      <th>4</th>\n",
       "      <td>10</td>\n",
       "      <td>2010-02-05</td>\n",
       "      <td>False</td>\n",
       "      <td>34</td>\n",
       "      <td>50585.42</td>\n",
       "      <td>B</td>\n",
       "      <td>126512</td>\n",
       "      <td>54.34</td>\n",
       "      <td>2.962</td>\n",
       "      <td>NaN</td>\n",
       "      <td>NaN</td>\n",
       "      <td>NaN</td>\n",
       "      <td>NaN</td>\n",
       "      <td>NaN</td>\n",
       "      <td>126.442065</td>\n",
       "      <td>9.765</td>\n",
       "    </tr>\n",
       "  </tbody>\n",
       "</table>\n",
       "</div>"
      ],
      "text/plain": [
       "   Store        Date  IsHoliday  Dept  Weekly_Sales Type    Size  Temperature  \\\n",
       "0     10  2010-02-05      False     1      40212.84    B  126512        54.34   \n",
       "1     10  2010-02-05      False    98         74.00    B  126512        54.34   \n",
       "2     10  2010-02-05      False    32      26116.73    B  126512        54.34   \n",
       "3     10  2010-02-05      False    25      20779.50    B  126512        54.34   \n",
       "4     10  2010-02-05      False    34      50585.42    B  126512        54.34   \n",
       "\n",
       "   Fuel_Price  MarkDown1  MarkDown2  MarkDown3  MarkDown4  MarkDown5  \\\n",
       "0       2.962        NaN        NaN        NaN        NaN        NaN   \n",
       "1       2.962        NaN        NaN        NaN        NaN        NaN   \n",
       "2       2.962        NaN        NaN        NaN        NaN        NaN   \n",
       "3       2.962        NaN        NaN        NaN        NaN        NaN   \n",
       "4       2.962        NaN        NaN        NaN        NaN        NaN   \n",
       "\n",
       "          CPI  Unemployment  \n",
       "0  126.442065         9.765  \n",
       "1  126.442065         9.765  \n",
       "2  126.442065         9.765  \n",
       "3  126.442065         9.765  \n",
       "4  126.442065         9.765  "
      ]
     },
     "execution_count": 179,
     "metadata": {},
     "output_type": "execute_result"
    }
   ],
   "source": [
    "train = pd.read_csv('C:\\\\Users\\\\kaust\\\\Desktop\\\\Walmart Store Prediction case study\\\\trainMerged.csv')\n",
    "train.head()"
   ]
  },
  {
   "cell_type": "code",
   "execution_count": 180,
   "metadata": {},
   "outputs": [
    {
     "data": {
      "text/html": [
       "<div>\n",
       "<style scoped>\n",
       "    .dataframe tbody tr th:only-of-type {\n",
       "        vertical-align: middle;\n",
       "    }\n",
       "\n",
       "    .dataframe tbody tr th {\n",
       "        vertical-align: top;\n",
       "    }\n",
       "\n",
       "    .dataframe thead th {\n",
       "        text-align: right;\n",
       "    }\n",
       "</style>\n",
       "<table border=\"1\" class=\"dataframe\">\n",
       "  <thead>\n",
       "    <tr style=\"text-align: right;\">\n",
       "      <th></th>\n",
       "      <th>Store</th>\n",
       "      <th>Date</th>\n",
       "      <th>IsHoliday</th>\n",
       "      <th>Dept</th>\n",
       "      <th>Type</th>\n",
       "      <th>Size</th>\n",
       "      <th>Temperature</th>\n",
       "      <th>Fuel_Price</th>\n",
       "      <th>MarkDown1</th>\n",
       "      <th>MarkDown2</th>\n",
       "      <th>MarkDown3</th>\n",
       "      <th>MarkDown4</th>\n",
       "      <th>MarkDown5</th>\n",
       "      <th>CPI</th>\n",
       "      <th>Unemployment</th>\n",
       "    </tr>\n",
       "  </thead>\n",
       "  <tbody>\n",
       "    <tr>\n",
       "      <th>0</th>\n",
       "      <td>10</td>\n",
       "      <td>2012-11-02</td>\n",
       "      <td>False</td>\n",
       "      <td>1</td>\n",
       "      <td>B</td>\n",
       "      <td>126512</td>\n",
       "      <td>70.79</td>\n",
       "      <td>4.099</td>\n",
       "      <td>25680.2</td>\n",
       "      <td>6037.06</td>\n",
       "      <td>44.68</td>\n",
       "      <td>17412.04</td>\n",
       "      <td>4223.05</td>\n",
       "      <td>131.236226</td>\n",
       "      <td>6.943</td>\n",
       "    </tr>\n",
       "    <tr>\n",
       "      <th>1</th>\n",
       "      <td>10</td>\n",
       "      <td>2012-11-02</td>\n",
       "      <td>False</td>\n",
       "      <td>72</td>\n",
       "      <td>B</td>\n",
       "      <td>126512</td>\n",
       "      <td>70.79</td>\n",
       "      <td>4.099</td>\n",
       "      <td>25680.2</td>\n",
       "      <td>6037.06</td>\n",
       "      <td>44.68</td>\n",
       "      <td>17412.04</td>\n",
       "      <td>4223.05</td>\n",
       "      <td>131.236226</td>\n",
       "      <td>6.943</td>\n",
       "    </tr>\n",
       "    <tr>\n",
       "      <th>2</th>\n",
       "      <td>10</td>\n",
       "      <td>2012-11-02</td>\n",
       "      <td>False</td>\n",
       "      <td>71</td>\n",
       "      <td>B</td>\n",
       "      <td>126512</td>\n",
       "      <td>70.79</td>\n",
       "      <td>4.099</td>\n",
       "      <td>25680.2</td>\n",
       "      <td>6037.06</td>\n",
       "      <td>44.68</td>\n",
       "      <td>17412.04</td>\n",
       "      <td>4223.05</td>\n",
       "      <td>131.236226</td>\n",
       "      <td>6.943</td>\n",
       "    </tr>\n",
       "    <tr>\n",
       "      <th>3</th>\n",
       "      <td>10</td>\n",
       "      <td>2012-11-02</td>\n",
       "      <td>False</td>\n",
       "      <td>21</td>\n",
       "      <td>B</td>\n",
       "      <td>126512</td>\n",
       "      <td>70.79</td>\n",
       "      <td>4.099</td>\n",
       "      <td>25680.2</td>\n",
       "      <td>6037.06</td>\n",
       "      <td>44.68</td>\n",
       "      <td>17412.04</td>\n",
       "      <td>4223.05</td>\n",
       "      <td>131.236226</td>\n",
       "      <td>6.943</td>\n",
       "    </tr>\n",
       "    <tr>\n",
       "      <th>4</th>\n",
       "      <td>10</td>\n",
       "      <td>2012-11-02</td>\n",
       "      <td>False</td>\n",
       "      <td>67</td>\n",
       "      <td>B</td>\n",
       "      <td>126512</td>\n",
       "      <td>70.79</td>\n",
       "      <td>4.099</td>\n",
       "      <td>25680.2</td>\n",
       "      <td>6037.06</td>\n",
       "      <td>44.68</td>\n",
       "      <td>17412.04</td>\n",
       "      <td>4223.05</td>\n",
       "      <td>131.236226</td>\n",
       "      <td>6.943</td>\n",
       "    </tr>\n",
       "  </tbody>\n",
       "</table>\n",
       "</div>"
      ],
      "text/plain": [
       "   Store        Date  IsHoliday  Dept Type    Size  Temperature  Fuel_Price  \\\n",
       "0     10  2012-11-02      False     1    B  126512        70.79       4.099   \n",
       "1     10  2012-11-02      False    72    B  126512        70.79       4.099   \n",
       "2     10  2012-11-02      False    71    B  126512        70.79       4.099   \n",
       "3     10  2012-11-02      False    21    B  126512        70.79       4.099   \n",
       "4     10  2012-11-02      False    67    B  126512        70.79       4.099   \n",
       "\n",
       "   MarkDown1  MarkDown2  MarkDown3  MarkDown4  MarkDown5         CPI  \\\n",
       "0    25680.2    6037.06      44.68   17412.04    4223.05  131.236226   \n",
       "1    25680.2    6037.06      44.68   17412.04    4223.05  131.236226   \n",
       "2    25680.2    6037.06      44.68   17412.04    4223.05  131.236226   \n",
       "3    25680.2    6037.06      44.68   17412.04    4223.05  131.236226   \n",
       "4    25680.2    6037.06      44.68   17412.04    4223.05  131.236226   \n",
       "\n",
       "   Unemployment  \n",
       "0         6.943  \n",
       "1         6.943  \n",
       "2         6.943  \n",
       "3         6.943  \n",
       "4         6.943  "
      ]
     },
     "execution_count": 180,
     "metadata": {},
     "output_type": "execute_result"
    }
   ],
   "source": [
    "test = pd.read_csv('C:\\\\Users\\\\kaust\\\\Desktop\\\\Walmart Store Prediction case study\\\\testMerged.csv')\n",
    "test.head()"
   ]
  },
  {
   "cell_type": "code",
   "execution_count": 181,
   "metadata": {},
   "outputs": [
    {
     "data": {
      "text/html": [
       "<div>\n",
       "<style scoped>\n",
       "    .dataframe tbody tr th:only-of-type {\n",
       "        vertical-align: middle;\n",
       "    }\n",
       "\n",
       "    .dataframe tbody tr th {\n",
       "        vertical-align: top;\n",
       "    }\n",
       "\n",
       "    .dataframe thead th {\n",
       "        text-align: right;\n",
       "    }\n",
       "</style>\n",
       "<table border=\"1\" class=\"dataframe\">\n",
       "  <thead>\n",
       "    <tr style=\"text-align: right;\">\n",
       "      <th></th>\n",
       "      <th>Store</th>\n",
       "      <th>Date</th>\n",
       "      <th>Temperature</th>\n",
       "      <th>Fuel_Price</th>\n",
       "      <th>MarkDown1</th>\n",
       "      <th>MarkDown2</th>\n",
       "      <th>MarkDown3</th>\n",
       "      <th>MarkDown4</th>\n",
       "      <th>MarkDown5</th>\n",
       "      <th>CPI</th>\n",
       "      <th>Unemployment</th>\n",
       "      <th>IsHoliday</th>\n",
       "    </tr>\n",
       "  </thead>\n",
       "  <tbody>\n",
       "    <tr>\n",
       "      <th>0</th>\n",
       "      <td>1</td>\n",
       "      <td>2010-02-05</td>\n",
       "      <td>42.31</td>\n",
       "      <td>2.572</td>\n",
       "      <td>NaN</td>\n",
       "      <td>NaN</td>\n",
       "      <td>NaN</td>\n",
       "      <td>NaN</td>\n",
       "      <td>NaN</td>\n",
       "      <td>211.096358</td>\n",
       "      <td>8.106</td>\n",
       "      <td>False</td>\n",
       "    </tr>\n",
       "    <tr>\n",
       "      <th>1</th>\n",
       "      <td>1</td>\n",
       "      <td>2010-02-12</td>\n",
       "      <td>38.51</td>\n",
       "      <td>2.548</td>\n",
       "      <td>NaN</td>\n",
       "      <td>NaN</td>\n",
       "      <td>NaN</td>\n",
       "      <td>NaN</td>\n",
       "      <td>NaN</td>\n",
       "      <td>211.242170</td>\n",
       "      <td>8.106</td>\n",
       "      <td>True</td>\n",
       "    </tr>\n",
       "    <tr>\n",
       "      <th>2</th>\n",
       "      <td>1</td>\n",
       "      <td>2010-02-19</td>\n",
       "      <td>39.93</td>\n",
       "      <td>2.514</td>\n",
       "      <td>NaN</td>\n",
       "      <td>NaN</td>\n",
       "      <td>NaN</td>\n",
       "      <td>NaN</td>\n",
       "      <td>NaN</td>\n",
       "      <td>211.289143</td>\n",
       "      <td>8.106</td>\n",
       "      <td>False</td>\n",
       "    </tr>\n",
       "    <tr>\n",
       "      <th>3</th>\n",
       "      <td>1</td>\n",
       "      <td>2010-02-26</td>\n",
       "      <td>46.63</td>\n",
       "      <td>2.561</td>\n",
       "      <td>NaN</td>\n",
       "      <td>NaN</td>\n",
       "      <td>NaN</td>\n",
       "      <td>NaN</td>\n",
       "      <td>NaN</td>\n",
       "      <td>211.319643</td>\n",
       "      <td>8.106</td>\n",
       "      <td>False</td>\n",
       "    </tr>\n",
       "    <tr>\n",
       "      <th>4</th>\n",
       "      <td>1</td>\n",
       "      <td>2010-03-05</td>\n",
       "      <td>46.50</td>\n",
       "      <td>2.625</td>\n",
       "      <td>NaN</td>\n",
       "      <td>NaN</td>\n",
       "      <td>NaN</td>\n",
       "      <td>NaN</td>\n",
       "      <td>NaN</td>\n",
       "      <td>211.350143</td>\n",
       "      <td>8.106</td>\n",
       "      <td>False</td>\n",
       "    </tr>\n",
       "  </tbody>\n",
       "</table>\n",
       "</div>"
      ],
      "text/plain": [
       "   Store        Date  Temperature  Fuel_Price  MarkDown1  MarkDown2  \\\n",
       "0      1  2010-02-05        42.31       2.572        NaN        NaN   \n",
       "1      1  2010-02-12        38.51       2.548        NaN        NaN   \n",
       "2      1  2010-02-19        39.93       2.514        NaN        NaN   \n",
       "3      1  2010-02-26        46.63       2.561        NaN        NaN   \n",
       "4      1  2010-03-05        46.50       2.625        NaN        NaN   \n",
       "\n",
       "   MarkDown3  MarkDown4  MarkDown5         CPI  Unemployment  IsHoliday  \n",
       "0        NaN        NaN        NaN  211.096358         8.106      False  \n",
       "1        NaN        NaN        NaN  211.242170         8.106       True  \n",
       "2        NaN        NaN        NaN  211.289143         8.106      False  \n",
       "3        NaN        NaN        NaN  211.319643         8.106      False  \n",
       "4        NaN        NaN        NaN  211.350143         8.106      False  "
      ]
     },
     "execution_count": 181,
     "metadata": {},
     "output_type": "execute_result"
    }
   ],
   "source": [
    "features = pd.read_csv('C:\\\\Users\\\\kaust\\\\Desktop\\\\Walmart Store Prediction case study\\\\features.csv')\n",
    "features.head()"
   ]
  },
  {
   "cell_type": "code",
   "execution_count": 182,
   "metadata": {},
   "outputs": [
    {
     "data": {
      "text/html": [
       "<div>\n",
       "<style scoped>\n",
       "    .dataframe tbody tr th:only-of-type {\n",
       "        vertical-align: middle;\n",
       "    }\n",
       "\n",
       "    .dataframe tbody tr th {\n",
       "        vertical-align: top;\n",
       "    }\n",
       "\n",
       "    .dataframe thead th {\n",
       "        text-align: right;\n",
       "    }\n",
       "</style>\n",
       "<table border=\"1\" class=\"dataframe\">\n",
       "  <thead>\n",
       "    <tr style=\"text-align: right;\">\n",
       "      <th></th>\n",
       "      <th>Store</th>\n",
       "      <th>Type</th>\n",
       "      <th>Size</th>\n",
       "    </tr>\n",
       "  </thead>\n",
       "  <tbody>\n",
       "    <tr>\n",
       "      <th>0</th>\n",
       "      <td>1</td>\n",
       "      <td>A</td>\n",
       "      <td>151315</td>\n",
       "    </tr>\n",
       "    <tr>\n",
       "      <th>1</th>\n",
       "      <td>2</td>\n",
       "      <td>A</td>\n",
       "      <td>202307</td>\n",
       "    </tr>\n",
       "    <tr>\n",
       "      <th>2</th>\n",
       "      <td>3</td>\n",
       "      <td>B</td>\n",
       "      <td>37392</td>\n",
       "    </tr>\n",
       "    <tr>\n",
       "      <th>3</th>\n",
       "      <td>4</td>\n",
       "      <td>A</td>\n",
       "      <td>205863</td>\n",
       "    </tr>\n",
       "    <tr>\n",
       "      <th>4</th>\n",
       "      <td>5</td>\n",
       "      <td>B</td>\n",
       "      <td>34875</td>\n",
       "    </tr>\n",
       "  </tbody>\n",
       "</table>\n",
       "</div>"
      ],
      "text/plain": [
       "   Store Type    Size\n",
       "0      1    A  151315\n",
       "1      2    A  202307\n",
       "2      3    B   37392\n",
       "3      4    A  205863\n",
       "4      5    B   34875"
      ]
     },
     "execution_count": 182,
     "metadata": {},
     "output_type": "execute_result"
    }
   ],
   "source": [
    "stores = pd.read_csv('C:\\\\Users\\\\kaust\\\\Desktop\\\\Walmart Store Prediction case study\\\\stores.csv')\n",
    "stores.head()"
   ]
  },
  {
   "cell_type": "code",
   "execution_count": null,
   "metadata": {},
   "outputs": [],
   "source": []
  },
  {
   "cell_type": "code",
   "execution_count": null,
   "metadata": {},
   "outputs": [],
   "source": []
  },
  {
   "cell_type": "code",
   "execution_count": 183,
   "metadata": {},
   "outputs": [],
   "source": [
    "## Missing Value Treatment :--"
   ]
  },
  {
   "cell_type": "code",
   "execution_count": null,
   "metadata": {},
   "outputs": [],
   "source": []
  },
  {
   "cell_type": "code",
   "execution_count": 184,
   "metadata": {},
   "outputs": [
    {
     "data": {
      "text/plain": [
       "Store                0\n",
       "Date                 0\n",
       "IsHoliday            0\n",
       "Dept                 0\n",
       "Weekly_Sales         0\n",
       "Type                 0\n",
       "Size                 0\n",
       "Temperature          0\n",
       "Fuel_Price           0\n",
       "MarkDown1       270889\n",
       "MarkDown2       310322\n",
       "MarkDown3       284479\n",
       "MarkDown4       286603\n",
       "MarkDown5       270138\n",
       "CPI                  0\n",
       "Unemployment         0\n",
       "dtype: int64"
      ]
     },
     "execution_count": 184,
     "metadata": {},
     "output_type": "execute_result"
    }
   ],
   "source": [
    "train.isnull().sum()"
   ]
  },
  {
   "cell_type": "code",
   "execution_count": 185,
   "metadata": {},
   "outputs": [
    {
     "data": {
      "text/plain": [
       "Store               0\n",
       "Date                0\n",
       "IsHoliday           0\n",
       "Dept                0\n",
       "Type                0\n",
       "Size                0\n",
       "Temperature         0\n",
       "Fuel_Price          0\n",
       "MarkDown1         149\n",
       "MarkDown2       28627\n",
       "MarkDown3        9829\n",
       "MarkDown4       12888\n",
       "MarkDown5           0\n",
       "CPI             38162\n",
       "Unemployment    38162\n",
       "dtype: int64"
      ]
     },
     "execution_count": 185,
     "metadata": {},
     "output_type": "execute_result"
    }
   ],
   "source": [
    "test.isnull().sum()"
   ]
  },
  {
   "cell_type": "code",
   "execution_count": 186,
   "metadata": {},
   "outputs": [
    {
     "data": {
      "text/plain": [
       "Store    0\n",
       "Type     0\n",
       "Size     0\n",
       "dtype: int64"
      ]
     },
     "execution_count": 186,
     "metadata": {},
     "output_type": "execute_result"
    }
   ],
   "source": [
    "stores.isnull().sum()"
   ]
  },
  {
   "cell_type": "code",
   "execution_count": 187,
   "metadata": {},
   "outputs": [
    {
     "data": {
      "text/plain": [
       "Store           0\n",
       "Date            0\n",
       "IsHoliday       0\n",
       "Dept            0\n",
       "Weekly_Sales    0\n",
       "Type            0\n",
       "Size            0\n",
       "Temperature     0\n",
       "Fuel_Price      0\n",
       "MarkDown1       0\n",
       "MarkDown2       0\n",
       "MarkDown3       0\n",
       "MarkDown4       0\n",
       "MarkDown5       0\n",
       "CPI             0\n",
       "Unemployment    0\n",
       "dtype: int64"
      ]
     },
     "execution_count": 187,
     "metadata": {},
     "output_type": "execute_result"
    }
   ],
   "source": [
    "train[\"MarkDown1\"]=train[\"MarkDown1\"].fillna(0)\n",
    "train[\"MarkDown2\"]=train[\"MarkDown2\"].fillna(0)\n",
    "train[\"MarkDown3\"]=train[\"MarkDown3\"].fillna(0)\n",
    "train[\"MarkDown4\"]=train[\"MarkDown4\"].fillna(0)\n",
    "train[\"MarkDown5\"]=train[\"MarkDown5\"].fillna(0)\n",
    "train.isnull().sum()"
   ]
  },
  {
   "cell_type": "code",
   "execution_count": 188,
   "metadata": {},
   "outputs": [
    {
     "data": {
      "text/plain": [
       "Store           0\n",
       "Date            0\n",
       "IsHoliday       0\n",
       "Dept            0\n",
       "Type            0\n",
       "Size            0\n",
       "Temperature     0\n",
       "Fuel_Price      0\n",
       "MarkDown1       0\n",
       "MarkDown2       0\n",
       "MarkDown3       0\n",
       "MarkDown4       0\n",
       "MarkDown5       0\n",
       "CPI             0\n",
       "Unemployment    0\n",
       "dtype: int64"
      ]
     },
     "execution_count": 188,
     "metadata": {},
     "output_type": "execute_result"
    }
   ],
   "source": [
    "test[\"MarkDown1\"]=test[\"MarkDown1\"].fillna(0)\n",
    "test[\"MarkDown2\"]=test[\"MarkDown2\"].fillna(0)\n",
    "test[\"MarkDown3\"]=test[\"MarkDown3\"].fillna(0)\n",
    "test[\"MarkDown4\"]=test[\"MarkDown4\"].fillna(0)\n",
    "test[\"CPI\"]=test[\"CPI\"].fillna(test[\"CPI\"].mean())\n",
    "test[\"Unemployment\"]=test[\"Unemployment\"].fillna(test[\"Unemployment\"].mean())\n",
    "test.isnull().sum()"
   ]
  },
  {
   "cell_type": "code",
   "execution_count": null,
   "metadata": {},
   "outputs": [],
   "source": []
  },
  {
   "cell_type": "code",
   "execution_count": null,
   "metadata": {},
   "outputs": [],
   "source": []
  },
  {
   "cell_type": "code",
   "execution_count": null,
   "metadata": {},
   "outputs": [],
   "source": [
    "# Exploring the data:--"
   ]
  },
  {
   "cell_type": "code",
   "execution_count": null,
   "metadata": {},
   "outputs": [],
   "source": []
  },
  {
   "cell_type": "code",
   "execution_count": 189,
   "metadata": {},
   "outputs": [
    {
     "data": {
      "text/plain": [
       "Store             int64\n",
       "Date             object\n",
       "IsHoliday          bool\n",
       "Dept              int64\n",
       "Weekly_Sales    float64\n",
       "Type             object\n",
       "Size              int64\n",
       "Temperature     float64\n",
       "Fuel_Price      float64\n",
       "MarkDown1       float64\n",
       "MarkDown2       float64\n",
       "MarkDown3       float64\n",
       "MarkDown4       float64\n",
       "MarkDown5       float64\n",
       "CPI             float64\n",
       "Unemployment    float64\n",
       "dtype: object"
      ]
     },
     "execution_count": 189,
     "metadata": {},
     "output_type": "execute_result"
    }
   ],
   "source": [
    "train.dtypes"
   ]
  },
  {
   "cell_type": "code",
   "execution_count": 190,
   "metadata": {},
   "outputs": [
    {
     "data": {
      "text/plain": [
       "Store             int64\n",
       "Date             object\n",
       "IsHoliday          bool\n",
       "Dept              int64\n",
       "Type             object\n",
       "Size              int64\n",
       "Temperature     float64\n",
       "Fuel_Price      float64\n",
       "MarkDown1       float64\n",
       "MarkDown2       float64\n",
       "MarkDown3       float64\n",
       "MarkDown4       float64\n",
       "MarkDown5       float64\n",
       "CPI             float64\n",
       "Unemployment    float64\n",
       "dtype: object"
      ]
     },
     "execution_count": 190,
     "metadata": {},
     "output_type": "execute_result"
    }
   ],
   "source": [
    "test.dtypes"
   ]
  },
  {
   "cell_type": "code",
   "execution_count": 191,
   "metadata": {},
   "outputs": [
    {
     "data": {
      "text/plain": [
       "Store     int64\n",
       "Type     object\n",
       "Size      int64\n",
       "dtype: object"
      ]
     },
     "execution_count": 191,
     "metadata": {},
     "output_type": "execute_result"
    }
   ],
   "source": [
    "stores.dtypes"
   ]
  },
  {
   "cell_type": "code",
   "execution_count": 192,
   "metadata": {},
   "outputs": [],
   "source": [
    "train[\"IsHoliday\"]=np.where((train[\"IsHoliday\"]==False),0,1)"
   ]
  },
  {
   "cell_type": "code",
   "execution_count": 193,
   "metadata": {},
   "outputs": [],
   "source": [
    "test[\"IsHoliday\"]=np.where((test[\"IsHoliday\"]==False),0,1)"
   ]
  },
  {
   "cell_type": "code",
   "execution_count": 194,
   "metadata": {},
   "outputs": [],
   "source": [
    "final_train = train.sort_values(by=\"Date\") "
   ]
  },
  {
   "cell_type": "code",
   "execution_count": 195,
   "metadata": {},
   "outputs": [],
   "source": [
    "final_test = test.sort_values(by=\"Date\") "
   ]
  },
  {
   "cell_type": "code",
   "execution_count": null,
   "metadata": {},
   "outputs": [],
   "source": []
  },
  {
   "cell_type": "code",
   "execution_count": 196,
   "metadata": {},
   "outputs": [],
   "source": [
    "# Size of each Store Type--"
   ]
  },
  {
   "cell_type": "code",
   "execution_count": 197,
   "metadata": {},
   "outputs": [
    {
     "data": {
      "text/plain": [
       "<matplotlib.axes._subplots.AxesSubplot at 0x15491afbcc0>"
      ]
     },
     "execution_count": 197,
     "metadata": {},
     "output_type": "execute_result"
    },
    {
     "data": {
      "image/png": "[encoded data removed]",
      "text/plain": [
       "<Figure size 648x432 with 1 Axes>"
      ]
     },
     "metadata": {
      "needs_background": "light"
     },
     "output_type": "display_data"
    }
   ],
   "source": [
    "plt.figure(figsize=(9,6))\n",
    "sns.boxplot(x='Type', y='Size', data=stores)"
   ]
  },
  {
   "cell_type": "code",
   "execution_count": null,
   "metadata": {},
   "outputs": [],
   "source": []
  },
  {
   "cell_type": "code",
   "execution_count": 198,
   "metadata": {},
   "outputs": [],
   "source": [
    "# Total Weekly Sales made by each Store Type--"
   ]
  },
  {
   "cell_type": "code",
   "execution_count": 199,
   "metadata": {},
   "outputs": [],
   "source": [
    "x=pd.DataFrame(final_train.groupby([\"Type\"])[\"Weekly_Sales\"].sum())"
   ]
  },
  {
   "cell_type": "code",
   "execution_count": 200,
   "metadata": {},
   "outputs": [],
   "source": [
    "x=x[\"Weekly_Sales\"].astype(\"int64\")"
   ]
  },
  {
   "cell_type": "code",
   "execution_count": 201,
   "metadata": {},
   "outputs": [
    {
     "data": {
      "text/html": [
       "<div>\n",
       "<style scoped>\n",
       "    .dataframe tbody tr th:only-of-type {\n",
       "        vertical-align: middle;\n",
       "    }\n",
       "\n",
       "    .dataframe tbody tr th {\n",
       "        vertical-align: top;\n",
       "    }\n",
       "\n",
       "    .dataframe thead th {\n",
       "        text-align: right;\n",
       "    }\n",
       "</style>\n",
       "<table border=\"1\" class=\"dataframe\">\n",
       "  <thead>\n",
       "    <tr style=\"text-align: right;\">\n",
       "      <th></th>\n",
       "      <th>Weekly_Sales</th>\n",
       "    </tr>\n",
       "    <tr>\n",
       "      <th>Type</th>\n",
       "      <th></th>\n",
       "    </tr>\n",
       "  </thead>\n",
       "  <tbody>\n",
       "    <tr>\n",
       "      <th>A</th>\n",
       "      <td>4331014722</td>\n",
       "    </tr>\n",
       "    <tr>\n",
       "      <th>B</th>\n",
       "      <td>2000700736</td>\n",
       "    </tr>\n",
       "    <tr>\n",
       "      <th>C</th>\n",
       "      <td>405503527</td>\n",
       "    </tr>\n",
       "  </tbody>\n",
       "</table>\n",
       "</div>"
      ],
      "text/plain": [
       "      Weekly_Sales\n",
       "Type              \n",
       "A       4331014722\n",
       "B       2000700736\n",
       "C        405503527"
      ]
     },
     "execution_count": 201,
     "metadata": {},
     "output_type": "execute_result"
    }
   ],
   "source": [
    "x=pd.DataFrame(x)\n",
    "x"
   ]
  },
  {
   "cell_type": "code",
   "execution_count": 202,
   "metadata": {},
   "outputs": [
    {
     "data": {
      "image/png": "[encoded data removed]",
      "text/plain": [
       "<Figure size 720x360 with 1 Axes>"
      ]
     },
     "metadata": {
      "needs_background": "light"
     },
     "output_type": "display_data"
    }
   ],
   "source": [
    "plt.figure(figsize=(10,5))\n",
    "plt.bar(x.index,x[\"Weekly_Sales\"])\n",
    "plt.yscale(\"symlog\")\n",
    "plt.xlabel(\"Type\",fontsize=12)\n",
    "plt.ylabel(\"Total Weekly sales\",fontsize=12)\n",
    "for i,v in enumerate(x[\"Weekly_Sales\"]):\n",
    "    plt.text(i,v,str(v),fontsize=12,ha=\"center\")"
   ]
  },
  {
   "cell_type": "code",
   "execution_count": null,
   "metadata": {},
   "outputs": [],
   "source": []
  },
  {
   "cell_type": "code",
   "execution_count": 203,
   "metadata": {},
   "outputs": [],
   "source": [
    "# Total Weekly Sales made on Holidays and Non-Holidays--"
   ]
  },
  {
   "cell_type": "code",
   "execution_count": 204,
   "metadata": {},
   "outputs": [],
   "source": [
    "y=pd.DataFrame(final_train.groupby([\"IsHoliday\"])[\"Weekly_Sales\"].sum())"
   ]
  },
  {
   "cell_type": "code",
   "execution_count": 205,
   "metadata": {},
   "outputs": [],
   "source": [
    "y=y[\"Weekly_Sales\"].astype(\"int64\")"
   ]
  },
  {
   "cell_type": "code",
   "execution_count": 206,
   "metadata": {},
   "outputs": [
    {
     "data": {
      "text/html": [
       "<div>\n",
       "<style scoped>\n",
       "    .dataframe tbody tr th:only-of-type {\n",
       "        vertical-align: middle;\n",
       "    }\n",
       "\n",
       "    .dataframe tbody tr th {\n",
       "        vertical-align: top;\n",
       "    }\n",
       "\n",
       "    .dataframe thead th {\n",
       "        text-align: right;\n",
       "    }\n",
       "</style>\n",
       "<table border=\"1\" class=\"dataframe\">\n",
       "  <thead>\n",
       "    <tr style=\"text-align: right;\">\n",
       "      <th></th>\n",
       "      <th>Weekly_Sales</th>\n",
       "    </tr>\n",
       "    <tr>\n",
       "      <th>IsHoliday</th>\n",
       "      <th></th>\n",
       "    </tr>\n",
       "  </thead>\n",
       "  <tbody>\n",
       "    <tr>\n",
       "      <th>0</th>\n",
       "      <td>6231919435</td>\n",
       "    </tr>\n",
       "    <tr>\n",
       "      <th>1</th>\n",
       "      <td>505299551</td>\n",
       "    </tr>\n",
       "  </tbody>\n",
       "</table>\n",
       "</div>"
      ],
      "text/plain": [
       "           Weekly_Sales\n",
       "IsHoliday              \n",
       "0            6231919435\n",
       "1             505299551"
      ]
     },
     "execution_count": 206,
     "metadata": {},
     "output_type": "execute_result"
    }
   ],
   "source": [
    "y=pd.DataFrame(y)\n",
    "y"
   ]
  },
  {
   "cell_type": "code",
   "execution_count": 207,
   "metadata": {},
   "outputs": [
    {
     "data": {
      "image/png": "[encoded data removed]",
      "text/plain": [
       "<Figure size 576x360 with 1 Axes>"
      ]
     },
     "metadata": {
      "needs_background": "light"
     },
     "output_type": "display_data"
    }
   ],
   "source": [
    "plt.figure(figsize=(8,5))\n",
    "plt.bar(y.index,y[\"Weekly_Sales\"],width=0.4)\n",
    "plt.yscale(\"symlog\")\n",
    "plt.xlabel(\"Holiday/Non-Holiday\",fontsize=12)\n",
    "plt.ylabel(\"Total Weekly sales\",fontsize=12)\n",
    "for i,v in enumerate(y[\"Weekly_Sales\"]):\n",
    "    plt.text(i,v,str(v),fontsize=12,ha=\"center\")"
   ]
  },
  {
   "cell_type": "code",
   "execution_count": null,
   "metadata": {},
   "outputs": [],
   "source": []
  },
  {
   "cell_type": "code",
   "execution_count": null,
   "metadata": {},
   "outputs": [],
   "source": [
    "# Relation between services--"
   ]
  },
  {
   "cell_type": "code",
   "execution_count": 208,
   "metadata": {},
   "outputs": [
    {
     "data": {
      "text/html": [
       "<div>\n",
       "<style scoped>\n",
       "    .dataframe tbody tr th:only-of-type {\n",
       "        vertical-align: middle;\n",
       "    }\n",
       "\n",
       "    .dataframe tbody tr th {\n",
       "        vertical-align: top;\n",
       "    }\n",
       "\n",
       "    .dataframe thead th {\n",
       "        text-align: right;\n",
       "    }\n",
       "</style>\n",
       "<table border=\"1\" class=\"dataframe\">\n",
       "  <thead>\n",
       "    <tr style=\"text-align: right;\">\n",
       "      <th></th>\n",
       "      <th>Store</th>\n",
       "      <th>IsHoliday</th>\n",
       "      <th>Dept</th>\n",
       "      <th>Weekly_Sales</th>\n",
       "      <th>Size</th>\n",
       "      <th>Temperature</th>\n",
       "      <th>Fuel_Price</th>\n",
       "      <th>MarkDown1</th>\n",
       "      <th>MarkDown2</th>\n",
       "      <th>MarkDown3</th>\n",
       "      <th>MarkDown4</th>\n",
       "      <th>MarkDown5</th>\n",
       "      <th>CPI</th>\n",
       "      <th>Unemployment</th>\n",
       "    </tr>\n",
       "  </thead>\n",
       "  <tbody>\n",
       "    <tr>\n",
       "      <th>Store</th>\n",
       "      <td>1.000000</td>\n",
       "      <td>-0.000548</td>\n",
       "      <td>0.024004</td>\n",
       "      <td>-0.085195</td>\n",
       "      <td>-0.182881</td>\n",
       "      <td>-0.050097</td>\n",
       "      <td>0.065290</td>\n",
       "      <td>-0.059844</td>\n",
       "      <td>-0.033829</td>\n",
       "      <td>-0.020331</td>\n",
       "      <td>-0.042724</td>\n",
       "      <td>-0.012452</td>\n",
       "      <td>-0.211088</td>\n",
       "      <td>0.208552</td>\n",
       "    </tr>\n",
       "    <tr>\n",
       "      <th>IsHoliday</th>\n",
       "      <td>-0.000548</td>\n",
       "      <td>1.000000</td>\n",
       "      <td>0.000916</td>\n",
       "      <td>0.012774</td>\n",
       "      <td>0.000593</td>\n",
       "      <td>-0.155949</td>\n",
       "      <td>-0.078281</td>\n",
       "      <td>-0.003521</td>\n",
       "      <td>0.207604</td>\n",
       "      <td>0.266471</td>\n",
       "      <td>0.011565</td>\n",
       "      <td>-0.015235</td>\n",
       "      <td>-0.001944</td>\n",
       "      <td>0.010460</td>\n",
       "    </tr>\n",
       "    <tr>\n",
       "      <th>Dept</th>\n",
       "      <td>0.024004</td>\n",
       "      <td>0.000916</td>\n",
       "      <td>1.000000</td>\n",
       "      <td>0.148032</td>\n",
       "      <td>-0.002966</td>\n",
       "      <td>0.004437</td>\n",
       "      <td>0.003572</td>\n",
       "      <td>0.001494</td>\n",
       "      <td>0.000587</td>\n",
       "      <td>0.001475</td>\n",
       "      <td>0.001937</td>\n",
       "      <td>0.002668</td>\n",
       "      <td>-0.007477</td>\n",
       "      <td>0.007837</td>\n",
       "    </tr>\n",
       "    <tr>\n",
       "      <th>Weekly_Sales</th>\n",
       "      <td>-0.085195</td>\n",
       "      <td>0.012774</td>\n",
       "      <td>0.148032</td>\n",
       "      <td>1.000000</td>\n",
       "      <td>0.243828</td>\n",
       "      <td>-0.002312</td>\n",
       "      <td>-0.000120</td>\n",
       "      <td>0.047172</td>\n",
       "      <td>0.020716</td>\n",
       "      <td>0.038562</td>\n",
       "      <td>0.037467</td>\n",
       "      <td>0.050465</td>\n",
       "      <td>-0.020921</td>\n",
       "      <td>-0.025864</td>\n",
       "    </tr>\n",
       "    <tr>\n",
       "      <th>Size</th>\n",
       "      <td>-0.182881</td>\n",
       "      <td>0.000593</td>\n",
       "      <td>-0.002966</td>\n",
       "      <td>0.243828</td>\n",
       "      <td>1.000000</td>\n",
       "      <td>-0.058313</td>\n",
       "      <td>0.003361</td>\n",
       "      <td>0.169788</td>\n",
       "      <td>0.078372</td>\n",
       "      <td>0.033641</td>\n",
       "      <td>0.127334</td>\n",
       "      <td>0.153011</td>\n",
       "      <td>-0.003314</td>\n",
       "      <td>-0.068238</td>\n",
       "    </tr>\n",
       "    <tr>\n",
       "      <th>Temperature</th>\n",
       "      <td>-0.050097</td>\n",
       "      <td>-0.155949</td>\n",
       "      <td>0.004437</td>\n",
       "      <td>-0.002312</td>\n",
       "      <td>-0.058313</td>\n",
       "      <td>1.000000</td>\n",
       "      <td>0.143859</td>\n",
       "      <td>-0.026415</td>\n",
       "      <td>-0.179672</td>\n",
       "      <td>-0.056026</td>\n",
       "      <td>-0.050281</td>\n",
       "      <td>-0.014752</td>\n",
       "      <td>0.182112</td>\n",
       "      <td>0.096730</td>\n",
       "    </tr>\n",
       "    <tr>\n",
       "      <th>Fuel_Price</th>\n",
       "      <td>0.065290</td>\n",
       "      <td>-0.078281</td>\n",
       "      <td>0.003572</td>\n",
       "      <td>-0.000120</td>\n",
       "      <td>0.003361</td>\n",
       "      <td>0.143859</td>\n",
       "      <td>1.000000</td>\n",
       "      <td>0.297056</td>\n",
       "      <td>0.029153</td>\n",
       "      <td>0.018615</td>\n",
       "      <td>0.166622</td>\n",
       "      <td>0.215420</td>\n",
       "      <td>-0.164210</td>\n",
       "      <td>-0.033853</td>\n",
       "    </tr>\n",
       "    <tr>\n",
       "      <th>MarkDown1</th>\n",
       "      <td>-0.059844</td>\n",
       "      <td>-0.003521</td>\n",
       "      <td>0.001494</td>\n",
       "      <td>0.047172</td>\n",
       "      <td>0.169788</td>\n",
       "      <td>-0.026415</td>\n",
       "      <td>0.297056</td>\n",
       "      <td>1.000000</td>\n",
       "      <td>0.174868</td>\n",
       "      <td>-0.014411</td>\n",
       "      <td>0.838904</td>\n",
       "      <td>0.415050</td>\n",
       "      <td>0.010915</td>\n",
       "      <td>-0.105168</td>\n",
       "    </tr>\n",
       "    <tr>\n",
       "      <th>MarkDown2</th>\n",
       "      <td>-0.033829</td>\n",
       "      <td>0.207604</td>\n",
       "      <td>0.000587</td>\n",
       "      <td>0.020716</td>\n",
       "      <td>0.078372</td>\n",
       "      <td>-0.179672</td>\n",
       "      <td>0.029153</td>\n",
       "      <td>0.174868</td>\n",
       "      <td>1.000000</td>\n",
       "      <td>-0.006080</td>\n",
       "      <td>0.113250</td>\n",
       "      <td>0.131735</td>\n",
       "      <td>-0.003554</td>\n",
       "      <td>-0.041427</td>\n",
       "    </tr>\n",
       "    <tr>\n",
       "      <th>MarkDown3</th>\n",
       "      <td>-0.020331</td>\n",
       "      <td>0.266471</td>\n",
       "      <td>0.001475</td>\n",
       "      <td>0.038562</td>\n",
       "      <td>0.033641</td>\n",
       "      <td>-0.056026</td>\n",
       "      <td>0.018615</td>\n",
       "      <td>-0.014411</td>\n",
       "      <td>-0.006080</td>\n",
       "      <td>1.000000</td>\n",
       "      <td>-0.012020</td>\n",
       "      <td>0.042471</td>\n",
       "      <td>-0.005839</td>\n",
       "      <td>-0.018078</td>\n",
       "    </tr>\n",
       "    <tr>\n",
       "      <th>MarkDown4</th>\n",
       "      <td>-0.042724</td>\n",
       "      <td>0.011565</td>\n",
       "      <td>0.001937</td>\n",
       "      <td>0.037467</td>\n",
       "      <td>0.127334</td>\n",
       "      <td>-0.050281</td>\n",
       "      <td>0.166622</td>\n",
       "      <td>0.838904</td>\n",
       "      <td>0.113250</td>\n",
       "      <td>-0.012020</td>\n",
       "      <td>1.000000</td>\n",
       "      <td>0.303370</td>\n",
       "      <td>-0.002047</td>\n",
       "      <td>-0.076513</td>\n",
       "    </tr>\n",
       "    <tr>\n",
       "      <th>MarkDown5</th>\n",
       "      <td>-0.012452</td>\n",
       "      <td>-0.015235</td>\n",
       "      <td>0.002668</td>\n",
       "      <td>0.050465</td>\n",
       "      <td>0.153011</td>\n",
       "      <td>-0.014752</td>\n",
       "      <td>0.215420</td>\n",
       "      <td>0.415050</td>\n",
       "      <td>0.131735</td>\n",
       "      <td>0.042471</td>\n",
       "      <td>0.303370</td>\n",
       "      <td>1.000000</td>\n",
       "      <td>0.067906</td>\n",
       "      <td>-0.120406</td>\n",
       "    </tr>\n",
       "    <tr>\n",
       "      <th>CPI</th>\n",
       "      <td>-0.211088</td>\n",
       "      <td>-0.001944</td>\n",
       "      <td>-0.007477</td>\n",
       "      <td>-0.020921</td>\n",
       "      <td>-0.003314</td>\n",
       "      <td>0.182112</td>\n",
       "      <td>-0.164210</td>\n",
       "      <td>0.010915</td>\n",
       "      <td>-0.003554</td>\n",
       "      <td>-0.005839</td>\n",
       "      <td>-0.002047</td>\n",
       "      <td>0.067906</td>\n",
       "      <td>1.000000</td>\n",
       "      <td>-0.299953</td>\n",
       "    </tr>\n",
       "    <tr>\n",
       "      <th>Unemployment</th>\n",
       "      <td>0.208552</td>\n",
       "      <td>0.010460</td>\n",
       "      <td>0.007837</td>\n",
       "      <td>-0.025864</td>\n",
       "      <td>-0.068238</td>\n",
       "      <td>0.096730</td>\n",
       "      <td>-0.033853</td>\n",
       "      <td>-0.105168</td>\n",
       "      <td>-0.041427</td>\n",
       "      <td>-0.018078</td>\n",
       "      <td>-0.076513</td>\n",
       "      <td>-0.120406</td>\n",
       "      <td>-0.299953</td>\n",
       "      <td>1.000000</td>\n",
       "    </tr>\n",
       "  </tbody>\n",
       "</table>\n",
       "</div>"
      ],
      "text/plain": [
       "                 Store  IsHoliday      Dept  Weekly_Sales      Size  \\\n",
       "Store         1.000000  -0.000548  0.024004     -0.085195 -0.182881   \n",
       "IsHoliday    -0.000548   1.000000  0.000916      0.012774  0.000593   \n",
       "Dept          0.024004   0.000916  1.000000      0.148032 -0.002966   \n",
       "Weekly_Sales -0.085195   0.012774  0.148032      1.000000  0.243828   \n",
       "Size         -0.182881   0.000593 -0.002966      0.243828  1.000000   \n",
       "Temperature  -0.050097  -0.155949  0.004437     -0.002312 -0.058313   \n",
       "Fuel_Price    0.065290  -0.078281  0.003572     -0.000120  0.003361   \n",
       "MarkDown1    -0.059844  -0.003521  0.001494      0.047172  0.169788   \n",
       "MarkDown2    -0.033829   0.207604  0.000587      0.020716  0.078372   \n",
       "MarkDown3    -0.020331   0.266471  0.001475      0.038562  0.033641   \n",
       "MarkDown4    -0.042724   0.011565  0.001937      0.037467  0.127334   \n",
       "MarkDown5    -0.012452  -0.015235  0.002668      0.050465  0.153011   \n",
       "CPI          -0.211088  -0.001944 -0.007477     -0.020921 -0.003314   \n",
       "Unemployment  0.208552   0.010460  0.007837     -0.025864 -0.068238   \n",
       "\n",
       "              Temperature  Fuel_Price  MarkDown1  MarkDown2  MarkDown3  \\\n",
       "Store           -0.050097    0.065290  -0.059844  -0.033829  -0.020331   \n",
       "IsHoliday       -0.155949   -0.078281  -0.003521   0.207604   0.266471   \n",
       "Dept             0.004437    0.003572   0.001494   0.000587   0.001475   \n",
       "Weekly_Sales    -0.002312   -0.000120   0.047172   0.020716   0.038562   \n",
       "Size            -0.058313    0.003361   0.169788   0.078372   0.033641   \n",
       "Temperature      1.000000    0.143859  -0.026415  -0.179672  -0.056026   \n",
       "Fuel_Price       0.143859    1.000000   0.297056   0.029153   0.018615   \n",
       "MarkDown1       -0.026415    0.297056   1.000000   0.174868  -0.014411   \n",
       "MarkDown2       -0.179672    0.029153   0.174868   1.000000  -0.006080   \n",
       "MarkDown3       -0.056026    0.018615  -0.014411  -0.006080   1.000000   \n",
       "MarkDown4       -0.050281    0.166622   0.838904   0.113250  -0.012020   \n",
       "MarkDown5       -0.014752    0.215420   0.415050   0.131735   0.042471   \n",
       "CPI              0.182112   -0.164210   0.010915  -0.003554  -0.005839   \n",
       "Unemployment     0.096730   -0.033853  -0.105168  -0.041427  -0.018078   \n",
       "\n",
       "              MarkDown4  MarkDown5       CPI  Unemployment  \n",
       "Store         -0.042724  -0.012452 -0.211088      0.208552  \n",
       "IsHoliday      0.011565  -0.015235 -0.001944      0.010460  \n",
       "Dept           0.001937   0.002668 -0.007477      0.007837  \n",
       "Weekly_Sales   0.037467   0.050465 -0.020921     -0.025864  \n",
       "Size           0.127334   0.153011 -0.003314     -0.068238  \n",
       "Temperature   -0.050281  -0.014752  0.182112      0.096730  \n",
       "Fuel_Price     0.166622   0.215420 -0.164210     -0.033853  \n",
       "MarkDown1      0.838904   0.415050  0.010915     -0.105168  \n",
       "MarkDown2      0.113250   0.131735 -0.003554     -0.041427  \n",
       "MarkDown3     -0.012020   0.042471 -0.005839     -0.018078  \n",
       "MarkDown4      1.000000   0.303370 -0.002047     -0.076513  \n",
       "MarkDown5      0.303370   1.000000  0.067906     -0.120406  \n",
       "CPI           -0.002047   0.067906  1.000000     -0.299953  \n",
       "Unemployment  -0.076513  -0.120406 -0.299953      1.000000  "
      ]
     },
     "execution_count": 208,
     "metadata": {},
     "output_type": "execute_result"
    }
   ],
   "source": [
    "final_train.corr()"
   ]
  },
  {
   "cell_type": "code",
   "execution_count": 209,
   "metadata": {},
   "outputs": [
    {
     "data": {
      "text/plain": [
       "<matplotlib.axes._subplots.AxesSubplot at 0x15484bf37b8>"
      ]
     },
     "execution_count": 209,
     "metadata": {},
     "output_type": "execute_result"
    },
    {
     "data": {
      "image/png": "[encoded data removed]",
      "text/plain": [
       "<Figure size 1080x648 with 2 Axes>"
      ]
     },
     "metadata": {
      "needs_background": "light"
     },
     "output_type": "display_data"
    }
   ],
   "source": [
    "plt.figure(figsize=(15,9))\n",
    "sns.heatmap(final_train.corr(),annot=True)"
   ]
  },
  {
   "cell_type": "code",
   "execution_count": null,
   "metadata": {},
   "outputs": [],
   "source": []
  },
  {
   "cell_type": "code",
   "execution_count": 210,
   "metadata": {},
   "outputs": [],
   "source": [
    "# Splitting date into year, month and day--"
   ]
  },
  {
   "cell_type": "code",
   "execution_count": 214,
   "metadata": {},
   "outputs": [],
   "source": [
    "final_train[\"Year\"]=pd.DatetimeIndex(final_train[\"Date\"]).year"
   ]
  },
  {
   "cell_type": "code",
   "execution_count": 215,
   "metadata": {},
   "outputs": [],
   "source": [
    "final_train[\"Month\"]=pd.DatetimeIndex(final_train[\"Date\"]).month"
   ]
  },
  {
   "cell_type": "code",
   "execution_count": 216,
   "metadata": {},
   "outputs": [],
   "source": [
    "final_train[\"Day\"]=pd.DatetimeIndex(final_train[\"Date\"]).day"
   ]
  },
  {
   "cell_type": "code",
   "execution_count": 217,
   "metadata": {},
   "outputs": [],
   "source": [
    "final_test[\"Year\"]=pd.DatetimeIndex(final_test[\"Date\"]).year"
   ]
  },
  {
   "cell_type": "code",
   "execution_count": 218,
   "metadata": {},
   "outputs": [],
   "source": [
    "final_test[\"Month\"]=pd.DatetimeIndex(final_test[\"Date\"]).month"
   ]
  },
  {
   "cell_type": "code",
   "execution_count": 219,
   "metadata": {},
   "outputs": [],
   "source": [
    "final_test[\"Day\"]=pd.DatetimeIndex(final_test[\"Date\"]).day"
   ]
  },
  {
   "cell_type": "code",
   "execution_count": null,
   "metadata": {},
   "outputs": [],
   "source": []
  },
  {
   "cell_type": "code",
   "execution_count": 220,
   "metadata": {},
   "outputs": [],
   "source": [
    "# Treating categorical variables--"
   ]
  },
  {
   "cell_type": "code",
   "execution_count": 221,
   "metadata": {},
   "outputs": [],
   "source": [
    "tr=pd.get_dummies(final_train[\"Type\"])"
   ]
  },
  {
   "cell_type": "code",
   "execution_count": 222,
   "metadata": {},
   "outputs": [],
   "source": [
    "te=pd.get_dummies(final_test[\"Type\"])"
   ]
  },
  {
   "cell_type": "code",
   "execution_count": 223,
   "metadata": {},
   "outputs": [],
   "source": [
    "train_new=pd.concat([final_train,tr],axis=1)"
   ]
  },
  {
   "cell_type": "code",
   "execution_count": 224,
   "metadata": {},
   "outputs": [
    {
     "data": {
      "text/html": [
       "<div>\n",
       "<style scoped>\n",
       "    .dataframe tbody tr th:only-of-type {\n",
       "        vertical-align: middle;\n",
       "    }\n",
       "\n",
       "    .dataframe tbody tr th {\n",
       "        vertical-align: top;\n",
       "    }\n",
       "\n",
       "    .dataframe thead th {\n",
       "        text-align: right;\n",
       "    }\n",
       "</style>\n",
       "<table border=\"1\" class=\"dataframe\">\n",
       "  <thead>\n",
       "    <tr style=\"text-align: right;\">\n",
       "      <th></th>\n",
       "      <th>Store</th>\n",
       "      <th>Date</th>\n",
       "      <th>IsHoliday</th>\n",
       "      <th>Dept</th>\n",
       "      <th>Weekly_Sales</th>\n",
       "      <th>Type</th>\n",
       "      <th>Size</th>\n",
       "      <th>Temperature</th>\n",
       "      <th>Fuel_Price</th>\n",
       "      <th>MarkDown1</th>\n",
       "      <th>...</th>\n",
       "      <th>MarkDown4</th>\n",
       "      <th>MarkDown5</th>\n",
       "      <th>CPI</th>\n",
       "      <th>Unemployment</th>\n",
       "      <th>Year</th>\n",
       "      <th>Month</th>\n",
       "      <th>Day</th>\n",
       "      <th>A</th>\n",
       "      <th>B</th>\n",
       "      <th>C</th>\n",
       "    </tr>\n",
       "  </thead>\n",
       "  <tbody>\n",
       "    <tr>\n",
       "      <th>0</th>\n",
       "      <td>10</td>\n",
       "      <td>2010-02-05</td>\n",
       "      <td>0</td>\n",
       "      <td>1</td>\n",
       "      <td>40212.84</td>\n",
       "      <td>B</td>\n",
       "      <td>126512</td>\n",
       "      <td>54.34</td>\n",
       "      <td>2.962</td>\n",
       "      <td>0.0</td>\n",
       "      <td>...</td>\n",
       "      <td>0.0</td>\n",
       "      <td>0.0</td>\n",
       "      <td>126.442065</td>\n",
       "      <td>9.765</td>\n",
       "      <td>2010</td>\n",
       "      <td>2</td>\n",
       "      <td>5</td>\n",
       "      <td>0</td>\n",
       "      <td>1</td>\n",
       "      <td>0</td>\n",
       "    </tr>\n",
       "    <tr>\n",
       "      <th>272805</th>\n",
       "      <td>35</td>\n",
       "      <td>2010-02-05</td>\n",
       "      <td>0</td>\n",
       "      <td>6</td>\n",
       "      <td>11437.81</td>\n",
       "      <td>B</td>\n",
       "      <td>103681</td>\n",
       "      <td>27.19</td>\n",
       "      <td>2.784</td>\n",
       "      <td>0.0</td>\n",
       "      <td>...</td>\n",
       "      <td>0.0</td>\n",
       "      <td>0.0</td>\n",
       "      <td>135.352461</td>\n",
       "      <td>9.262</td>\n",
       "      <td>2010</td>\n",
       "      <td>2</td>\n",
       "      <td>5</td>\n",
       "      <td>0</td>\n",
       "      <td>1</td>\n",
       "      <td>0</td>\n",
       "    </tr>\n",
       "    <tr>\n",
       "      <th>272806</th>\n",
       "      <td>35</td>\n",
       "      <td>2010-02-05</td>\n",
       "      <td>0</td>\n",
       "      <td>25</td>\n",
       "      <td>13661.25</td>\n",
       "      <td>B</td>\n",
       "      <td>103681</td>\n",
       "      <td>27.19</td>\n",
       "      <td>2.784</td>\n",
       "      <td>0.0</td>\n",
       "      <td>...</td>\n",
       "      <td>0.0</td>\n",
       "      <td>0.0</td>\n",
       "      <td>135.352461</td>\n",
       "      <td>9.262</td>\n",
       "      <td>2010</td>\n",
       "      <td>2</td>\n",
       "      <td>5</td>\n",
       "      <td>0</td>\n",
       "      <td>1</td>\n",
       "      <td>0</td>\n",
       "    </tr>\n",
       "    <tr>\n",
       "      <th>272807</th>\n",
       "      <td>35</td>\n",
       "      <td>2010-02-05</td>\n",
       "      <td>0</td>\n",
       "      <td>24</td>\n",
       "      <td>12180.85</td>\n",
       "      <td>B</td>\n",
       "      <td>103681</td>\n",
       "      <td>27.19</td>\n",
       "      <td>2.784</td>\n",
       "      <td>0.0</td>\n",
       "      <td>...</td>\n",
       "      <td>0.0</td>\n",
       "      <td>0.0</td>\n",
       "      <td>135.352461</td>\n",
       "      <td>9.262</td>\n",
       "      <td>2010</td>\n",
       "      <td>2</td>\n",
       "      <td>5</td>\n",
       "      <td>0</td>\n",
       "      <td>1</td>\n",
       "      <td>0</td>\n",
       "    </tr>\n",
       "    <tr>\n",
       "      <th>272808</th>\n",
       "      <td>35</td>\n",
       "      <td>2010-02-05</td>\n",
       "      <td>0</td>\n",
       "      <td>36</td>\n",
       "      <td>1982.00</td>\n",
       "      <td>B</td>\n",
       "      <td>103681</td>\n",
       "      <td>27.19</td>\n",
       "      <td>2.784</td>\n",
       "      <td>0.0</td>\n",
       "      <td>...</td>\n",
       "      <td>0.0</td>\n",
       "      <td>0.0</td>\n",
       "      <td>135.352461</td>\n",
       "      <td>9.262</td>\n",
       "      <td>2010</td>\n",
       "      <td>2</td>\n",
       "      <td>5</td>\n",
       "      <td>0</td>\n",
       "      <td>1</td>\n",
       "      <td>0</td>\n",
       "    </tr>\n",
       "  </tbody>\n",
       "</table>\n",
       "<p>5 rows × 22 columns</p>\n",
       "</div>"
      ],
      "text/plain": [
       "        Store        Date  IsHoliday  Dept  Weekly_Sales Type    Size  \\\n",
       "0          10  2010-02-05          0     1      40212.84    B  126512   \n",
       "272805     35  2010-02-05          0     6      11437.81    B  103681   \n",
       "272806     35  2010-02-05          0    25      13661.25    B  103681   \n",
       "272807     35  2010-02-05          0    24      12180.85    B  103681   \n",
       "272808     35  2010-02-05          0    36       1982.00    B  103681   \n",
       "\n",
       "        Temperature  Fuel_Price  MarkDown1  ...  MarkDown4  MarkDown5  \\\n",
       "0             54.34       2.962        0.0  ...        0.0        0.0   \n",
       "272805        27.19       2.784        0.0  ...        0.0        0.0   \n",
       "272806        27.19       2.784        0.0  ...        0.0        0.0   \n",
       "272807        27.19       2.784        0.0  ...        0.0        0.0   \n",
       "272808        27.19       2.784        0.0  ...        0.0        0.0   \n",
       "\n",
       "               CPI  Unemployment  Year  Month  Day  A  B  C  \n",
       "0       126.442065         9.765  2010      2    5  0  1  0  \n",
       "272805  135.352461         9.262  2010      2    5  0  1  0  \n",
       "272806  135.352461         9.262  2010      2    5  0  1  0  \n",
       "272807  135.352461         9.262  2010      2    5  0  1  0  \n",
       "272808  135.352461         9.262  2010      2    5  0  1  0  \n",
       "\n",
       "[5 rows x 22 columns]"
      ]
     },
     "execution_count": 224,
     "metadata": {},
     "output_type": "execute_result"
    }
   ],
   "source": [
    "train_new.head()"
   ]
  },
  {
   "cell_type": "code",
   "execution_count": 225,
   "metadata": {},
   "outputs": [
    {
     "data": {
      "text/plain": [
       "Store             int64\n",
       "Date             object\n",
       "IsHoliday         int32\n",
       "Dept              int64\n",
       "Weekly_Sales    float64\n",
       "Type             object\n",
       "Size              int64\n",
       "Temperature     float64\n",
       "Fuel_Price      float64\n",
       "MarkDown1       float64\n",
       "MarkDown2       float64\n",
       "MarkDown3       float64\n",
       "MarkDown4       float64\n",
       "MarkDown5       float64\n",
       "CPI             float64\n",
       "Unemployment    float64\n",
       "Year              int64\n",
       "Month             int64\n",
       "Day               int64\n",
       "A                 uint8\n",
       "B                 uint8\n",
       "C                 uint8\n",
       "dtype: object"
      ]
     },
     "execution_count": 225,
     "metadata": {},
     "output_type": "execute_result"
    }
   ],
   "source": [
    "train_new.dtypes"
   ]
  },
  {
   "cell_type": "code",
   "execution_count": 226,
   "metadata": {},
   "outputs": [],
   "source": [
    "test_new=pd.concat([final_test,te],axis=1)"
   ]
  },
  {
   "cell_type": "code",
   "execution_count": 227,
   "metadata": {},
   "outputs": [
    {
     "data": {
      "text/html": [
       "<div>\n",
       "<style scoped>\n",
       "    .dataframe tbody tr th:only-of-type {\n",
       "        vertical-align: middle;\n",
       "    }\n",
       "\n",
       "    .dataframe tbody tr th {\n",
       "        vertical-align: top;\n",
       "    }\n",
       "\n",
       "    .dataframe thead th {\n",
       "        text-align: right;\n",
       "    }\n",
       "</style>\n",
       "<table border=\"1\" class=\"dataframe\">\n",
       "  <thead>\n",
       "    <tr style=\"text-align: right;\">\n",
       "      <th></th>\n",
       "      <th>Store</th>\n",
       "      <th>Date</th>\n",
       "      <th>IsHoliday</th>\n",
       "      <th>Dept</th>\n",
       "      <th>Type</th>\n",
       "      <th>Size</th>\n",
       "      <th>Temperature</th>\n",
       "      <th>Fuel_Price</th>\n",
       "      <th>MarkDown1</th>\n",
       "      <th>MarkDown2</th>\n",
       "      <th>...</th>\n",
       "      <th>MarkDown4</th>\n",
       "      <th>MarkDown5</th>\n",
       "      <th>CPI</th>\n",
       "      <th>Unemployment</th>\n",
       "      <th>Year</th>\n",
       "      <th>Month</th>\n",
       "      <th>Day</th>\n",
       "      <th>A</th>\n",
       "      <th>B</th>\n",
       "      <th>C</th>\n",
       "    </tr>\n",
       "  </thead>\n",
       "  <tbody>\n",
       "    <tr>\n",
       "      <th>0</th>\n",
       "      <td>10</td>\n",
       "      <td>2012-11-02</td>\n",
       "      <td>0</td>\n",
       "      <td>1</td>\n",
       "      <td>B</td>\n",
       "      <td>126512</td>\n",
       "      <td>70.79</td>\n",
       "      <td>4.099</td>\n",
       "      <td>25680.20</td>\n",
       "      <td>6037.06</td>\n",
       "      <td>...</td>\n",
       "      <td>17412.04</td>\n",
       "      <td>4223.05</td>\n",
       "      <td>131.236226</td>\n",
       "      <td>6.943</td>\n",
       "      <td>2012</td>\n",
       "      <td>11</td>\n",
       "      <td>2</td>\n",
       "      <td>0</td>\n",
       "      <td>1</td>\n",
       "      <td>0</td>\n",
       "    </tr>\n",
       "    <tr>\n",
       "      <th>74212</th>\n",
       "      <td>35</td>\n",
       "      <td>2012-11-02</td>\n",
       "      <td>0</td>\n",
       "      <td>31</td>\n",
       "      <td>B</td>\n",
       "      <td>103681</td>\n",
       "      <td>54.44</td>\n",
       "      <td>3.787</td>\n",
       "      <td>9427.41</td>\n",
       "      <td>3322.67</td>\n",
       "      <td>...</td>\n",
       "      <td>3119.64</td>\n",
       "      <td>1982.11</td>\n",
       "      <td>142.661460</td>\n",
       "      <td>8.665</td>\n",
       "      <td>2012</td>\n",
       "      <td>11</td>\n",
       "      <td>2</td>\n",
       "      <td>0</td>\n",
       "      <td>1</td>\n",
       "      <td>0</td>\n",
       "    </tr>\n",
       "    <tr>\n",
       "      <th>74213</th>\n",
       "      <td>35</td>\n",
       "      <td>2012-11-02</td>\n",
       "      <td>0</td>\n",
       "      <td>22</td>\n",
       "      <td>B</td>\n",
       "      <td>103681</td>\n",
       "      <td>54.44</td>\n",
       "      <td>3.787</td>\n",
       "      <td>9427.41</td>\n",
       "      <td>3322.67</td>\n",
       "      <td>...</td>\n",
       "      <td>3119.64</td>\n",
       "      <td>1982.11</td>\n",
       "      <td>142.661460</td>\n",
       "      <td>8.665</td>\n",
       "      <td>2012</td>\n",
       "      <td>11</td>\n",
       "      <td>2</td>\n",
       "      <td>0</td>\n",
       "      <td>1</td>\n",
       "      <td>0</td>\n",
       "    </tr>\n",
       "    <tr>\n",
       "      <th>74214</th>\n",
       "      <td>35</td>\n",
       "      <td>2012-11-02</td>\n",
       "      <td>0</td>\n",
       "      <td>56</td>\n",
       "      <td>B</td>\n",
       "      <td>103681</td>\n",
       "      <td>54.44</td>\n",
       "      <td>3.787</td>\n",
       "      <td>9427.41</td>\n",
       "      <td>3322.67</td>\n",
       "      <td>...</td>\n",
       "      <td>3119.64</td>\n",
       "      <td>1982.11</td>\n",
       "      <td>142.661460</td>\n",
       "      <td>8.665</td>\n",
       "      <td>2012</td>\n",
       "      <td>11</td>\n",
       "      <td>2</td>\n",
       "      <td>0</td>\n",
       "      <td>1</td>\n",
       "      <td>0</td>\n",
       "    </tr>\n",
       "    <tr>\n",
       "      <th>74215</th>\n",
       "      <td>35</td>\n",
       "      <td>2012-11-02</td>\n",
       "      <td>0</td>\n",
       "      <td>54</td>\n",
       "      <td>B</td>\n",
       "      <td>103681</td>\n",
       "      <td>54.44</td>\n",
       "      <td>3.787</td>\n",
       "      <td>9427.41</td>\n",
       "      <td>3322.67</td>\n",
       "      <td>...</td>\n",
       "      <td>3119.64</td>\n",
       "      <td>1982.11</td>\n",
       "      <td>142.661460</td>\n",
       "      <td>8.665</td>\n",
       "      <td>2012</td>\n",
       "      <td>11</td>\n",
       "      <td>2</td>\n",
       "      <td>0</td>\n",
       "      <td>1</td>\n",
       "      <td>0</td>\n",
       "    </tr>\n",
       "  </tbody>\n",
       "</table>\n",
       "<p>5 rows × 21 columns</p>\n",
       "</div>"
      ],
      "text/plain": [
       "       Store        Date  IsHoliday  Dept Type    Size  Temperature  \\\n",
       "0         10  2012-11-02          0     1    B  126512        70.79   \n",
       "74212     35  2012-11-02          0    31    B  103681        54.44   \n",
       "74213     35  2012-11-02          0    22    B  103681        54.44   \n",
       "74214     35  2012-11-02          0    56    B  103681        54.44   \n",
       "74215     35  2012-11-02          0    54    B  103681        54.44   \n",
       "\n",
       "       Fuel_Price  MarkDown1  MarkDown2  ...  MarkDown4  MarkDown5  \\\n",
       "0           4.099   25680.20    6037.06  ...   17412.04    4223.05   \n",
       "74212       3.787    9427.41    3322.67  ...    3119.64    1982.11   \n",
       "74213       3.787    9427.41    3322.67  ...    3119.64    1982.11   \n",
       "74214       3.787    9427.41    3322.67  ...    3119.64    1982.11   \n",
       "74215       3.787    9427.41    3322.67  ...    3119.64    1982.11   \n",
       "\n",
       "              CPI  Unemployment  Year  Month  Day  A  B  C  \n",
       "0      131.236226         6.943  2012     11    2  0  1  0  \n",
       "74212  142.661460         8.665  2012     11    2  0  1  0  \n",
       "74213  142.661460         8.665  2012     11    2  0  1  0  \n",
       "74214  142.661460         8.665  2012     11    2  0  1  0  \n",
       "74215  142.661460         8.665  2012     11    2  0  1  0  \n",
       "\n",
       "[5 rows x 21 columns]"
      ]
     },
     "execution_count": 227,
     "metadata": {},
     "output_type": "execute_result"
    }
   ],
   "source": [
    "test_new.head()"
   ]
  },
  {
   "cell_type": "code",
   "execution_count": 228,
   "metadata": {},
   "outputs": [
    {
     "data": {
      "text/plain": [
       "Store             int64\n",
       "Date             object\n",
       "IsHoliday         int32\n",
       "Dept              int64\n",
       "Type             object\n",
       "Size              int64\n",
       "Temperature     float64\n",
       "Fuel_Price      float64\n",
       "MarkDown1       float64\n",
       "MarkDown2       float64\n",
       "MarkDown3       float64\n",
       "MarkDown4       float64\n",
       "MarkDown5       float64\n",
       "CPI             float64\n",
       "Unemployment    float64\n",
       "Year              int64\n",
       "Month             int64\n",
       "Day               int64\n",
       "A                 uint8\n",
       "B                 uint8\n",
       "C                 uint8\n",
       "dtype: object"
      ]
     },
     "execution_count": 228,
     "metadata": {},
     "output_type": "execute_result"
    }
   ],
   "source": [
    "test_new.dtypes"
   ]
  },
  {
   "cell_type": "code",
   "execution_count": 229,
   "metadata": {},
   "outputs": [],
   "source": [
    "train_new=train_new.drop(['Date','Type'],axis=1)"
   ]
  },
  {
   "cell_type": "code",
   "execution_count": 230,
   "metadata": {
    "scrolled": true
   },
   "outputs": [
    {
     "data": {
      "text/html": [
       "<div>\n",
       "<style scoped>\n",
       "    .dataframe tbody tr th:only-of-type {\n",
       "        vertical-align: middle;\n",
       "    }\n",
       "\n",
       "    .dataframe tbody tr th {\n",
       "        vertical-align: top;\n",
       "    }\n",
       "\n",
       "    .dataframe thead th {\n",
       "        text-align: right;\n",
       "    }\n",
       "</style>\n",
       "<table border=\"1\" class=\"dataframe\">\n",
       "  <thead>\n",
       "    <tr style=\"text-align: right;\">\n",
       "      <th></th>\n",
       "      <th>Store</th>\n",
       "      <th>IsHoliday</th>\n",
       "      <th>Dept</th>\n",
       "      <th>Weekly_Sales</th>\n",
       "      <th>Size</th>\n",
       "      <th>Temperature</th>\n",
       "      <th>Fuel_Price</th>\n",
       "      <th>MarkDown1</th>\n",
       "      <th>MarkDown2</th>\n",
       "      <th>MarkDown3</th>\n",
       "      <th>MarkDown4</th>\n",
       "      <th>MarkDown5</th>\n",
       "      <th>CPI</th>\n",
       "      <th>Unemployment</th>\n",
       "      <th>Year</th>\n",
       "      <th>Month</th>\n",
       "      <th>Day</th>\n",
       "      <th>A</th>\n",
       "      <th>B</th>\n",
       "      <th>C</th>\n",
       "    </tr>\n",
       "  </thead>\n",
       "  <tbody>\n",
       "    <tr>\n",
       "      <th>0</th>\n",
       "      <td>10</td>\n",
       "      <td>0</td>\n",
       "      <td>1</td>\n",
       "      <td>40212.84</td>\n",
       "      <td>126512</td>\n",
       "      <td>54.34</td>\n",
       "      <td>2.962</td>\n",
       "      <td>0.0</td>\n",
       "      <td>0.0</td>\n",
       "      <td>0.0</td>\n",
       "      <td>0.0</td>\n",
       "      <td>0.0</td>\n",
       "      <td>126.442065</td>\n",
       "      <td>9.765</td>\n",
       "      <td>2010</td>\n",
       "      <td>2</td>\n",
       "      <td>5</td>\n",
       "      <td>0</td>\n",
       "      <td>1</td>\n",
       "      <td>0</td>\n",
       "    </tr>\n",
       "    <tr>\n",
       "      <th>272805</th>\n",
       "      <td>35</td>\n",
       "      <td>0</td>\n",
       "      <td>6</td>\n",
       "      <td>11437.81</td>\n",
       "      <td>103681</td>\n",
       "      <td>27.19</td>\n",
       "      <td>2.784</td>\n",
       "      <td>0.0</td>\n",
       "      <td>0.0</td>\n",
       "      <td>0.0</td>\n",
       "      <td>0.0</td>\n",
       "      <td>0.0</td>\n",
       "      <td>135.352461</td>\n",
       "      <td>9.262</td>\n",
       "      <td>2010</td>\n",
       "      <td>2</td>\n",
       "      <td>5</td>\n",
       "      <td>0</td>\n",
       "      <td>1</td>\n",
       "      <td>0</td>\n",
       "    </tr>\n",
       "    <tr>\n",
       "      <th>272806</th>\n",
       "      <td>35</td>\n",
       "      <td>0</td>\n",
       "      <td>25</td>\n",
       "      <td>13661.25</td>\n",
       "      <td>103681</td>\n",
       "      <td>27.19</td>\n",
       "      <td>2.784</td>\n",
       "      <td>0.0</td>\n",
       "      <td>0.0</td>\n",
       "      <td>0.0</td>\n",
       "      <td>0.0</td>\n",
       "      <td>0.0</td>\n",
       "      <td>135.352461</td>\n",
       "      <td>9.262</td>\n",
       "      <td>2010</td>\n",
       "      <td>2</td>\n",
       "      <td>5</td>\n",
       "      <td>0</td>\n",
       "      <td>1</td>\n",
       "      <td>0</td>\n",
       "    </tr>\n",
       "    <tr>\n",
       "      <th>272807</th>\n",
       "      <td>35</td>\n",
       "      <td>0</td>\n",
       "      <td>24</td>\n",
       "      <td>12180.85</td>\n",
       "      <td>103681</td>\n",
       "      <td>27.19</td>\n",
       "      <td>2.784</td>\n",
       "      <td>0.0</td>\n",
       "      <td>0.0</td>\n",
       "      <td>0.0</td>\n",
       "      <td>0.0</td>\n",
       "      <td>0.0</td>\n",
       "      <td>135.352461</td>\n",
       "      <td>9.262</td>\n",
       "      <td>2010</td>\n",
       "      <td>2</td>\n",
       "      <td>5</td>\n",
       "      <td>0</td>\n",
       "      <td>1</td>\n",
       "      <td>0</td>\n",
       "    </tr>\n",
       "    <tr>\n",
       "      <th>272808</th>\n",
       "      <td>35</td>\n",
       "      <td>0</td>\n",
       "      <td>36</td>\n",
       "      <td>1982.00</td>\n",
       "      <td>103681</td>\n",
       "      <td>27.19</td>\n",
       "      <td>2.784</td>\n",
       "      <td>0.0</td>\n",
       "      <td>0.0</td>\n",
       "      <td>0.0</td>\n",
       "      <td>0.0</td>\n",
       "      <td>0.0</td>\n",
       "      <td>135.352461</td>\n",
       "      <td>9.262</td>\n",
       "      <td>2010</td>\n",
       "      <td>2</td>\n",
       "      <td>5</td>\n",
       "      <td>0</td>\n",
       "      <td>1</td>\n",
       "      <td>0</td>\n",
       "    </tr>\n",
       "  </tbody>\n",
       "</table>\n",
       "</div>"
      ],
      "text/plain": [
       "        Store  IsHoliday  Dept  Weekly_Sales    Size  Temperature  Fuel_Price  \\\n",
       "0          10          0     1      40212.84  126512        54.34       2.962   \n",
       "272805     35          0     6      11437.81  103681        27.19       2.784   \n",
       "272806     35          0    25      13661.25  103681        27.19       2.784   \n",
       "272807     35          0    24      12180.85  103681        27.19       2.784   \n",
       "272808     35          0    36       1982.00  103681        27.19       2.784   \n",
       "\n",
       "        MarkDown1  MarkDown2  MarkDown3  MarkDown4  MarkDown5         CPI  \\\n",
       "0             0.0        0.0        0.0        0.0        0.0  126.442065   \n",
       "272805        0.0        0.0        0.0        0.0        0.0  135.352461   \n",
       "272806        0.0        0.0        0.0        0.0        0.0  135.352461   \n",
       "272807        0.0        0.0        0.0        0.0        0.0  135.352461   \n",
       "272808        0.0        0.0        0.0        0.0        0.0  135.352461   \n",
       "\n",
       "        Unemployment  Year  Month  Day  A  B  C  \n",
       "0              9.765  2010      2    5  0  1  0  \n",
       "272805         9.262  2010      2    5  0  1  0  \n",
       "272806         9.262  2010      2    5  0  1  0  \n",
       "272807         9.262  2010      2    5  0  1  0  \n",
       "272808         9.262  2010      2    5  0  1  0  "
      ]
     },
     "execution_count": 230,
     "metadata": {},
     "output_type": "execute_result"
    }
   ],
   "source": [
    "train_new.head()"
   ]
  },
  {
   "cell_type": "code",
   "execution_count": 231,
   "metadata": {},
   "outputs": [],
   "source": [
    "test_new=test_new.drop(['Date','Type'],axis=1)"
   ]
  },
  {
   "cell_type": "code",
   "execution_count": 232,
   "metadata": {},
   "outputs": [
    {
     "data": {
      "text/html": [
       "<div>\n",
       "<style scoped>\n",
       "    .dataframe tbody tr th:only-of-type {\n",
       "        vertical-align: middle;\n",
       "    }\n",
       "\n",
       "    .dataframe tbody tr th {\n",
       "        vertical-align: top;\n",
       "    }\n",
       "\n",
       "    .dataframe thead th {\n",
       "        text-align: right;\n",
       "    }\n",
       "</style>\n",
       "<table border=\"1\" class=\"dataframe\">\n",
       "  <thead>\n",
       "    <tr style=\"text-align: right;\">\n",
       "      <th></th>\n",
       "      <th>Store</th>\n",
       "      <th>IsHoliday</th>\n",
       "      <th>Dept</th>\n",
       "      <th>Size</th>\n",
       "      <th>Temperature</th>\n",
       "      <th>Fuel_Price</th>\n",
       "      <th>MarkDown1</th>\n",
       "      <th>MarkDown2</th>\n",
       "      <th>MarkDown3</th>\n",
       "      <th>MarkDown4</th>\n",
       "      <th>MarkDown5</th>\n",
       "      <th>CPI</th>\n",
       "      <th>Unemployment</th>\n",
       "      <th>Year</th>\n",
       "      <th>Month</th>\n",
       "      <th>Day</th>\n",
       "      <th>A</th>\n",
       "      <th>B</th>\n",
       "      <th>C</th>\n",
       "    </tr>\n",
       "  </thead>\n",
       "  <tbody>\n",
       "    <tr>\n",
       "      <th>0</th>\n",
       "      <td>10</td>\n",
       "      <td>0</td>\n",
       "      <td>1</td>\n",
       "      <td>126512</td>\n",
       "      <td>70.79</td>\n",
       "      <td>4.099</td>\n",
       "      <td>25680.20</td>\n",
       "      <td>6037.06</td>\n",
       "      <td>44.68</td>\n",
       "      <td>17412.04</td>\n",
       "      <td>4223.05</td>\n",
       "      <td>131.236226</td>\n",
       "      <td>6.943</td>\n",
       "      <td>2012</td>\n",
       "      <td>11</td>\n",
       "      <td>2</td>\n",
       "      <td>0</td>\n",
       "      <td>1</td>\n",
       "      <td>0</td>\n",
       "    </tr>\n",
       "    <tr>\n",
       "      <th>74212</th>\n",
       "      <td>35</td>\n",
       "      <td>0</td>\n",
       "      <td>31</td>\n",
       "      <td>103681</td>\n",
       "      <td>54.44</td>\n",
       "      <td>3.787</td>\n",
       "      <td>9427.41</td>\n",
       "      <td>3322.67</td>\n",
       "      <td>31.30</td>\n",
       "      <td>3119.64</td>\n",
       "      <td>1982.11</td>\n",
       "      <td>142.661460</td>\n",
       "      <td>8.665</td>\n",
       "      <td>2012</td>\n",
       "      <td>11</td>\n",
       "      <td>2</td>\n",
       "      <td>0</td>\n",
       "      <td>1</td>\n",
       "      <td>0</td>\n",
       "    </tr>\n",
       "    <tr>\n",
       "      <th>74213</th>\n",
       "      <td>35</td>\n",
       "      <td>0</td>\n",
       "      <td>22</td>\n",
       "      <td>103681</td>\n",
       "      <td>54.44</td>\n",
       "      <td>3.787</td>\n",
       "      <td>9427.41</td>\n",
       "      <td>3322.67</td>\n",
       "      <td>31.30</td>\n",
       "      <td>3119.64</td>\n",
       "      <td>1982.11</td>\n",
       "      <td>142.661460</td>\n",
       "      <td>8.665</td>\n",
       "      <td>2012</td>\n",
       "      <td>11</td>\n",
       "      <td>2</td>\n",
       "      <td>0</td>\n",
       "      <td>1</td>\n",
       "      <td>0</td>\n",
       "    </tr>\n",
       "    <tr>\n",
       "      <th>74214</th>\n",
       "      <td>35</td>\n",
       "      <td>0</td>\n",
       "      <td>56</td>\n",
       "      <td>103681</td>\n",
       "      <td>54.44</td>\n",
       "      <td>3.787</td>\n",
       "      <td>9427.41</td>\n",
       "      <td>3322.67</td>\n",
       "      <td>31.30</td>\n",
       "      <td>3119.64</td>\n",
       "      <td>1982.11</td>\n",
       "      <td>142.661460</td>\n",
       "      <td>8.665</td>\n",
       "      <td>2012</td>\n",
       "      <td>11</td>\n",
       "      <td>2</td>\n",
       "      <td>0</td>\n",
       "      <td>1</td>\n",
       "      <td>0</td>\n",
       "    </tr>\n",
       "    <tr>\n",
       "      <th>74215</th>\n",
       "      <td>35</td>\n",
       "      <td>0</td>\n",
       "      <td>54</td>\n",
       "      <td>103681</td>\n",
       "      <td>54.44</td>\n",
       "      <td>3.787</td>\n",
       "      <td>9427.41</td>\n",
       "      <td>3322.67</td>\n",
       "      <td>31.30</td>\n",
       "      <td>3119.64</td>\n",
       "      <td>1982.11</td>\n",
       "      <td>142.661460</td>\n",
       "      <td>8.665</td>\n",
       "      <td>2012</td>\n",
       "      <td>11</td>\n",
       "      <td>2</td>\n",
       "      <td>0</td>\n",
       "      <td>1</td>\n",
       "      <td>0</td>\n",
       "    </tr>\n",
       "  </tbody>\n",
       "</table>\n",
       "</div>"
      ],
      "text/plain": [
       "       Store  IsHoliday  Dept    Size  Temperature  Fuel_Price  MarkDown1  \\\n",
       "0         10          0     1  126512        70.79       4.099   25680.20   \n",
       "74212     35          0    31  103681        54.44       3.787    9427.41   \n",
       "74213     35          0    22  103681        54.44       3.787    9427.41   \n",
       "74214     35          0    56  103681        54.44       3.787    9427.41   \n",
       "74215     35          0    54  103681        54.44       3.787    9427.41   \n",
       "\n",
       "       MarkDown2  MarkDown3  MarkDown4  MarkDown5         CPI  Unemployment  \\\n",
       "0        6037.06      44.68   17412.04    4223.05  131.236226         6.943   \n",
       "74212    3322.67      31.30    3119.64    1982.11  142.661460         8.665   \n",
       "74213    3322.67      31.30    3119.64    1982.11  142.661460         8.665   \n",
       "74214    3322.67      31.30    3119.64    1982.11  142.661460         8.665   \n",
       "74215    3322.67      31.30    3119.64    1982.11  142.661460         8.665   \n",
       "\n",
       "       Year  Month  Day  A  B  C  \n",
       "0      2012     11    2  0  1  0  \n",
       "74212  2012     11    2  0  1  0  \n",
       "74213  2012     11    2  0  1  0  \n",
       "74214  2012     11    2  0  1  0  \n",
       "74215  2012     11    2  0  1  0  "
      ]
     },
     "execution_count": 232,
     "metadata": {},
     "output_type": "execute_result"
    }
   ],
   "source": [
    "test_new.head()"
   ]
  },
  {
   "cell_type": "code",
   "execution_count": 233,
   "metadata": {},
   "outputs": [
    {
     "data": {
      "text/plain": [
       "Index(['Store', 'IsHoliday', 'Dept', 'Weekly_Sales', 'Size', 'Temperature',\n",
       "       'Fuel_Price', 'MarkDown1', 'MarkDown2', 'MarkDown3', 'MarkDown4',\n",
       "       'MarkDown5', 'CPI', 'Unemployment', 'Year', 'Month', 'Day', 'A', 'B',\n",
       "       'C'],\n",
       "      dtype='object')"
      ]
     },
     "execution_count": 233,
     "metadata": {},
     "output_type": "execute_result"
    }
   ],
   "source": [
    "train_new.columns"
   ]
  },
  {
   "cell_type": "code",
   "execution_count": 234,
   "metadata": {},
   "outputs": [
    {
     "data": {
      "text/plain": [
       "Index(['Store', 'IsHoliday', 'Dept', 'Size', 'Temperature', 'Fuel_Price',\n",
       "       'MarkDown1', 'MarkDown2', 'MarkDown3', 'MarkDown4', 'MarkDown5', 'CPI',\n",
       "       'Unemployment', 'Year', 'Month', 'Day', 'A', 'B', 'C'],\n",
       "      dtype='object')"
      ]
     },
     "execution_count": 234,
     "metadata": {},
     "output_type": "execute_result"
    }
   ],
   "source": [
    "test_new.columns"
   ]
  },
  {
   "cell_type": "code",
   "execution_count": null,
   "metadata": {},
   "outputs": [],
   "source": []
  },
  {
   "cell_type": "code",
   "execution_count": null,
   "metadata": {},
   "outputs": [],
   "source": []
  },
  {
   "cell_type": "code",
   "execution_count": null,
   "metadata": {},
   "outputs": [],
   "source": [
    "# Building Models:--"
   ]
  },
  {
   "cell_type": "code",
   "execution_count": null,
   "metadata": {},
   "outputs": [],
   "source": []
  },
  {
   "cell_type": "code",
   "execution_count": 235,
   "metadata": {},
   "outputs": [],
   "source": [
    "x_train, x_test, y_train, y_test=train_test_split(train_new[['Store', 'IsHoliday', 'Dept', 'Size', 'Temperature',\n",
    "       'Fuel_Price', 'MarkDown3', 'CPI', 'Unemployment', 'Year', 'Month', 'Day', 'A', 'B',\n",
    "       'C']],train_new[\"Weekly_Sales\"],test_size=0.3,random_state=125)"
   ]
  },
  {
   "cell_type": "code",
   "execution_count": null,
   "metadata": {},
   "outputs": [],
   "source": []
  },
  {
   "cell_type": "code",
   "execution_count": 236,
   "metadata": {},
   "outputs": [],
   "source": [
    "# Linear Regression--"
   ]
  },
  {
   "cell_type": "code",
   "execution_count": 237,
   "metadata": {},
   "outputs": [],
   "source": [
    "lm=LinearRegression(normalize=True)"
   ]
  },
  {
   "cell_type": "code",
   "execution_count": 238,
   "metadata": {},
   "outputs": [
    {
     "data": {
      "text/plain": [
       "LinearRegression(copy_X=True, fit_intercept=True, n_jobs=1, normalize=True)"
      ]
     },
     "execution_count": 238,
     "metadata": {},
     "output_type": "execute_result"
    }
   ],
   "source": [
    "lm.fit(x_train,y_train)"
   ]
  },
  {
   "cell_type": "code",
   "execution_count": 239,
   "metadata": {},
   "outputs": [],
   "source": [
    "pre1=lm.predict(x_test)"
   ]
  },
  {
   "cell_type": "code",
   "execution_count": 240,
   "metadata": {},
   "outputs": [
    {
     "data": {
      "text/plain": [
       "array([13792., 23692., 32260., ..., 13400., 12708., 19688.])"
      ]
     },
     "execution_count": 240,
     "metadata": {},
     "output_type": "execute_result"
    }
   ],
   "source": [
    "pre1"
   ]
  },
  {
   "cell_type": "code",
   "execution_count": 242,
   "metadata": {},
   "outputs": [
    {
     "data": {
      "text/plain": [
       "Text(0, 0.5, 'Predicted Sales')"
      ]
     },
     "execution_count": 242,
     "metadata": {},
     "output_type": "execute_result"
    },
    {
     "data": {
      "image/png": "[encoded data removed]",
      "text/plain": [
       "<Figure size 432x288 with 1 Axes>"
      ]
     },
     "metadata": {
      "needs_background": "light"
     },
     "output_type": "display_data"
    }
   ],
   "source": [
    "plt.scatter(y_test,pre1)\n",
    "plt.xlabel(\"Weekly Sales\")\n",
    "plt.ylabel(\"Predicted Sales\")"
   ]
  },
  {
   "cell_type": "code",
   "execution_count": 243,
   "metadata": {},
   "outputs": [
    {
     "data": {
      "text/plain": [
       "14566.88581746013"
      ]
     },
     "execution_count": 243,
     "metadata": {},
     "output_type": "execute_result"
    }
   ],
   "source": [
    "mae1=metrics.mean_absolute_error(y_test,pre1)\n",
    "mae1"
   ]
  },
  {
   "cell_type": "code",
   "execution_count": 244,
   "metadata": {},
   "outputs": [
    {
     "data": {
      "text/plain": [
       "21671.937728673398"
      ]
     },
     "execution_count": 244,
     "metadata": {},
     "output_type": "execute_result"
    }
   ],
   "source": [
    "rmse1=np.sqrt(metrics.mean_squared_error(y_test,pre1))\n",
    "rmse1"
   ]
  },
  {
   "cell_type": "code",
   "execution_count": 245,
   "metadata": {},
   "outputs": [
    {
     "data": {
      "text/plain": [
       "0.09160718029184411"
      ]
     },
     "execution_count": 245,
     "metadata": {},
     "output_type": "execute_result"
    }
   ],
   "source": [
    "acc1=lm.score(x_test,y_test)\n",
    "acc1"
   ]
  },
  {
   "cell_type": "code",
   "execution_count": null,
   "metadata": {},
   "outputs": [],
   "source": []
  },
  {
   "cell_type": "code",
   "execution_count": 246,
   "metadata": {},
   "outputs": [],
   "source": [
    "# Random Forest Regressor--"
   ]
  },
  {
   "cell_type": "code",
   "execution_count": 247,
   "metadata": {},
   "outputs": [],
   "source": [
    "rf=RandomForestRegressor()"
   ]
  },
  {
   "cell_type": "code",
   "execution_count": 248,
   "metadata": {},
   "outputs": [
    {
     "data": {
      "text/plain": [
       "RandomForestRegressor(bootstrap=True, criterion='mse', max_depth=None,\n",
       "           max_features='auto', max_leaf_nodes=None,\n",
       "           min_impurity_decrease=0.0, min_impurity_split=None,\n",
       "           min_samples_leaf=1, min_samples_split=2,\n",
       "           min_weight_fraction_leaf=0.0, n_estimators=10, n_jobs=1,\n",
       "           oob_score=False, random_state=None, verbose=0, warm_start=False)"
      ]
     },
     "execution_count": 248,
     "metadata": {},
     "output_type": "execute_result"
    }
   ],
   "source": [
    "rf.fit(x_train,y_train)"
   ]
  },
  {
   "cell_type": "code",
   "execution_count": 249,
   "metadata": {},
   "outputs": [],
   "source": [
    "pre2=rf.predict(x_test)"
   ]
  },
  {
   "cell_type": "code",
   "execution_count": 250,
   "metadata": {},
   "outputs": [
    {
     "data": {
      "text/plain": [
       "array([ 4002.66 , 24351.919, 32557.531, ...,  6348.709,  7553.827,\n",
       "        3061.866])"
      ]
     },
     "execution_count": 250,
     "metadata": {},
     "output_type": "execute_result"
    }
   ],
   "source": [
    "pre2"
   ]
  },
  {
   "cell_type": "code",
   "execution_count": 251,
   "metadata": {},
   "outputs": [
    {
     "data": {
      "text/plain": [
       "Text(0, 0.5, 'Predicted Sales')"
      ]
     },
     "execution_count": 251,
     "metadata": {},
     "output_type": "execute_result"
    },
    {
     "data": {
      "image/png": "[encoded data removed]",
      "text/plain": [
       "<Figure size 432x288 with 1 Axes>"
      ]
     },
     "metadata": {
      "needs_background": "light"
     },
     "output_type": "display_data"
    }
   ],
   "source": [
    "plt.scatter(y_test,pre2)\n",
    "plt.xlabel(\"Weekly Sales\")\n",
    "plt.ylabel(\"Predicted Sales\")"
   ]
  },
  {
   "cell_type": "code",
   "execution_count": 252,
   "metadata": {},
   "outputs": [
    {
     "data": {
      "text/plain": [
       "1493.6302191885884"
      ]
     },
     "execution_count": 252,
     "metadata": {},
     "output_type": "execute_result"
    }
   ],
   "source": [
    "mae2=metrics.mean_absolute_error(y_test,pre2)\n",
    "mae2"
   ]
  },
  {
   "cell_type": "code",
   "execution_count": 253,
   "metadata": {},
   "outputs": [
    {
     "data": {
      "text/plain": [
       "3744.0055720012715"
      ]
     },
     "execution_count": 253,
     "metadata": {},
     "output_type": "execute_result"
    }
   ],
   "source": [
    "rmse2=np.sqrt(metrics.mean_squared_error(y_test,pre2))\n",
    "rmse2"
   ]
  },
  {
   "cell_type": "code",
   "execution_count": 254,
   "metadata": {},
   "outputs": [
    {
     "data": {
      "text/plain": [
       "0.9728886479028365"
      ]
     },
     "execution_count": 254,
     "metadata": {},
     "output_type": "execute_result"
    }
   ],
   "source": [
    "acc2=rf.score(x_test,y_test)\n",
    "acc2"
   ]
  },
  {
   "cell_type": "code",
   "execution_count": null,
   "metadata": {},
   "outputs": [],
   "source": []
  },
  {
   "cell_type": "code",
   "execution_count": 255,
   "metadata": {},
   "outputs": [],
   "source": [
    "# Decision Tree Regressor--"
   ]
  },
  {
   "cell_type": "code",
   "execution_count": 256,
   "metadata": {},
   "outputs": [],
   "source": [
    "dt=DecisionTreeRegressor()"
   ]
  },
  {
   "cell_type": "code",
   "execution_count": 257,
   "metadata": {},
   "outputs": [
    {
     "data": {
      "text/plain": [
       "DecisionTreeRegressor(criterion='mse', max_depth=None, max_features=None,\n",
       "           max_leaf_nodes=None, min_impurity_decrease=0.0,\n",
       "           min_impurity_split=None, min_samples_leaf=1,\n",
       "           min_samples_split=2, min_weight_fraction_leaf=0.0,\n",
       "           presort=False, random_state=None, splitter='best')"
      ]
     },
     "execution_count": 257,
     "metadata": {},
     "output_type": "execute_result"
    }
   ],
   "source": [
    "dt.fit(x_train,y_train)"
   ]
  },
  {
   "cell_type": "code",
   "execution_count": 258,
   "metadata": {},
   "outputs": [],
   "source": [
    "pre3=dt.predict(x_test)"
   ]
  },
  {
   "cell_type": "code",
   "execution_count": 259,
   "metadata": {},
   "outputs": [
    {
     "data": {
      "text/plain": [
       "array([ 6191.  , 23610.08, 31925.72, ...,  6127.86,  8533.82,  3082.14])"
      ]
     },
     "execution_count": 259,
     "metadata": {},
     "output_type": "execute_result"
    }
   ],
   "source": [
    "pre3"
   ]
  },
  {
   "cell_type": "code",
   "execution_count": 260,
   "metadata": {},
   "outputs": [
    {
     "data": {
      "text/plain": [
       "Text(0, 0.5, 'Predicted Sales')"
      ]
     },
     "execution_count": 260,
     "metadata": {},
     "output_type": "execute_result"
    },
    {
     "data": {
      "image/png": "[encoded data removed]",
      "text/plain": [
       "<Figure size 432x288 with 1 Axes>"
      ]
     },
     "metadata": {
      "needs_background": "light"
     },
     "output_type": "display_data"
    }
   ],
   "source": [
    "plt.scatter(y_test,pre3)\n",
    "plt.xlabel(\"Weekly Sales\")\n",
    "plt.ylabel(\"Predicted Sales\")"
   ]
  },
  {
   "cell_type": "code",
   "execution_count": 261,
   "metadata": {},
   "outputs": [
    {
     "data": {
      "text/plain": [
       "1868.237839900056"
      ]
     },
     "execution_count": 261,
     "metadata": {},
     "output_type": "execute_result"
    }
   ],
   "source": [
    "mae3=metrics.mean_absolute_error(y_test,pre3)\n",
    "mae3"
   ]
  },
  {
   "cell_type": "code",
   "execution_count": 262,
   "metadata": {},
   "outputs": [
    {
     "data": {
      "text/plain": [
       "5045.206987152671"
      ]
     },
     "execution_count": 262,
     "metadata": {},
     "output_type": "execute_result"
    }
   ],
   "source": [
    "rmse3=np.sqrt(metrics.mean_squared_error(y_test,pre3))\n",
    "rmse3"
   ]
  },
  {
   "cell_type": "code",
   "execution_count": 263,
   "metadata": {},
   "outputs": [
    {
     "data": {
      "text/plain": [
       "0.9507692806689235"
      ]
     },
     "execution_count": 263,
     "metadata": {},
     "output_type": "execute_result"
    }
   ],
   "source": [
    "acc3=dt.score(x_test,y_test)\n",
    "acc3"
   ]
  },
  {
   "cell_type": "code",
   "execution_count": null,
   "metadata": {},
   "outputs": [],
   "source": []
  },
  {
   "cell_type": "code",
   "execution_count": 264,
   "metadata": {},
   "outputs": [],
   "source": [
    "# KNN Regressor--"
   ]
  },
  {
   "cell_type": "code",
   "execution_count": 265,
   "metadata": {},
   "outputs": [],
   "source": [
    "knn=KNeighborsRegressor(n_neighbors=10,n_jobs=5)"
   ]
  },
  {
   "cell_type": "code",
   "execution_count": 266,
   "metadata": {},
   "outputs": [
    {
     "data": {
      "text/plain": [
       "KNeighborsRegressor(algorithm='auto', leaf_size=30, metric='minkowski',\n",
       "          metric_params=None, n_jobs=5, n_neighbors=10, p=2,\n",
       "          weights='uniform')"
      ]
     },
     "execution_count": 266,
     "metadata": {},
     "output_type": "execute_result"
    }
   ],
   "source": [
    "knn.fit(x_train,y_train)"
   ]
  },
  {
   "cell_type": "code",
   "execution_count": 267,
   "metadata": {},
   "outputs": [],
   "source": [
    "pre4=knn.predict(x_test)"
   ]
  },
  {
   "cell_type": "code",
   "execution_count": 268,
   "metadata": {},
   "outputs": [
    {
     "data": {
      "text/plain": [
       "array([18003.49 , 37752.026, 83735.669, ...,  9583.45 ,  6168.688,\n",
       "        3235.527])"
      ]
     },
     "execution_count": 268,
     "metadata": {},
     "output_type": "execute_result"
    }
   ],
   "source": [
    "pre4"
   ]
  },
  {
   "cell_type": "code",
   "execution_count": 269,
   "metadata": {},
   "outputs": [
    {
     "data": {
      "text/plain": [
       "Text(0, 0.5, 'Predicted Sales')"
      ]
     },
     "execution_count": 269,
     "metadata": {},
     "output_type": "execute_result"
    },
    {
     "data": {
      "image/png": "[encoded data removed]",
      "text/plain": [
       "<Figure size 432x288 with 1 Axes>"
      ]
     },
     "metadata": {
      "needs_background": "light"
     },
     "output_type": "display_data"
    }
   ],
   "source": [
    "plt.scatter(y_test,pre4)\n",
    "plt.xlabel(\"Weekly Sales\")\n",
    "plt.ylabel(\"Predicted Sales\")"
   ]
  },
  {
   "cell_type": "code",
   "execution_count": 270,
   "metadata": {},
   "outputs": [
    {
     "data": {
      "text/plain": [
       "11042.358467348246"
      ]
     },
     "execution_count": 270,
     "metadata": {},
     "output_type": "execute_result"
    }
   ],
   "source": [
    "mae4=metrics.mean_absolute_error(y_test,pre4)\n",
    "mae4"
   ]
  },
  {
   "cell_type": "code",
   "execution_count": 271,
   "metadata": {},
   "outputs": [
    {
     "data": {
      "text/plain": [
       "18008.71838075949"
      ]
     },
     "execution_count": 271,
     "metadata": {},
     "output_type": "execute_result"
    }
   ],
   "source": [
    "rmse4=np.sqrt(metrics.mean_squared_error(y_test,pre4))\n",
    "rmse4"
   ]
  },
  {
   "cell_type": "code",
   "execution_count": 272,
   "metadata": {},
   "outputs": [
    {
     "data": {
      "text/plain": [
       "0.3727454536642799"
      ]
     },
     "execution_count": 272,
     "metadata": {},
     "output_type": "execute_result"
    }
   ],
   "source": [
    "acc4=knn.score(x_test,y_test)\n",
    "acc4"
   ]
  },
  {
   "cell_type": "code",
   "execution_count": null,
   "metadata": {},
   "outputs": [],
   "source": []
  },
  {
   "cell_type": "code",
   "execution_count": 273,
   "metadata": {},
   "outputs": [],
   "source": [
    "# Model Comparision--"
   ]
  },
  {
   "cell_type": "code",
   "execution_count": 274,
   "metadata": {},
   "outputs": [],
   "source": [
    "df=pd.DataFrame(columns=[\"Model\", \"Mean Absolute Error\", \"Root Mean Squared Error\", \"Accuracy\"])\n",
    "df=df.append({'Model': \"Linear Regression\", 'Mean Absolute Error': mae1, 'Root Mean Squared Error': rmse1, \"Accuracy\": acc1}, \n",
    "             ignore_index=True)\n",
    "df=df.append({'Model': \"Random Forest Regressor\", 'Mean Absolute Error': mae2, 'Root Mean Squared Error': rmse2, \"Accuracy\": \n",
    "              acc2}, ignore_index=True)\n",
    "df=df.append({'Model': \"Decision Tree Regressor\", 'Mean Absolute Error': mae3, 'Root Mean Squared Error': rmse3, \"Accuracy\": \n",
    "              acc3}, ignore_index=True)\n",
    "df=df.append({'Model': \"KNN Regressor\", 'Mean Absolute Error': mae4, 'Root Mean Squared Error': rmse4, \"Accuracy\": acc4}, \n",
    "             ignore_index=True)"
   ]
  },
  {
   "cell_type": "code",
   "execution_count": 275,
   "metadata": {},
   "outputs": [
    {
     "data": {
      "text/html": [
       "<div>\n",
       "<style scoped>\n",
       "    .dataframe tbody tr th:only-of-type {\n",
       "        vertical-align: middle;\n",
       "    }\n",
       "\n",
       "    .dataframe tbody tr th {\n",
       "        vertical-align: top;\n",
       "    }\n",
       "\n",
       "    .dataframe thead th {\n",
       "        text-align: right;\n",
       "    }\n",
       "</style>\n",
       "<table border=\"1\" class=\"dataframe\">\n",
       "  <thead>\n",
       "    <tr style=\"text-align: right;\">\n",
       "      <th></th>\n",
       "      <th>Model</th>\n",
       "      <th>Mean Absolute Error</th>\n",
       "      <th>Root Mean Squared Error</th>\n",
       "      <th>Accuracy</th>\n",
       "    </tr>\n",
       "  </thead>\n",
       "  <tbody>\n",
       "    <tr>\n",
       "      <th>0</th>\n",
       "      <td>Linear Regression</td>\n",
       "      <td>14566.885817</td>\n",
       "      <td>21671.937729</td>\n",
       "      <td>0.091607</td>\n",
       "    </tr>\n",
       "    <tr>\n",
       "      <th>1</th>\n",
       "      <td>Random Forest Regressor</td>\n",
       "      <td>1493.630219</td>\n",
       "      <td>3744.005572</td>\n",
       "      <td>0.972889</td>\n",
       "    </tr>\n",
       "    <tr>\n",
       "      <th>2</th>\n",
       "      <td>Decision Tree Regressor</td>\n",
       "      <td>1868.237840</td>\n",
       "      <td>5045.206987</td>\n",
       "      <td>0.950769</td>\n",
       "    </tr>\n",
       "    <tr>\n",
       "      <th>3</th>\n",
       "      <td>KNN Regressor</td>\n",
       "      <td>11042.358467</td>\n",
       "      <td>18008.718381</td>\n",
       "      <td>0.372745</td>\n",
       "    </tr>\n",
       "  </tbody>\n",
       "</table>\n",
       "</div>"
      ],
      "text/plain": [
       "                     Model  Mean Absolute Error  Root Mean Squared Error  \\\n",
       "0        Linear Regression         14566.885817             21671.937729   \n",
       "1  Random Forest Regressor          1493.630219              3744.005572   \n",
       "2  Decision Tree Regressor          1868.237840              5045.206987   \n",
       "3            KNN Regressor         11042.358467             18008.718381   \n",
       "\n",
       "   Accuracy  \n",
       "0  0.091607  \n",
       "1  0.972889  \n",
       "2  0.950769  \n",
       "3  0.372745  "
      ]
     },
     "execution_count": 275,
     "metadata": {},
     "output_type": "execute_result"
    }
   ],
   "source": [
    "df"
   ]
  },
  {
   "cell_type": "code",
   "execution_count": null,
   "metadata": {},
   "outputs": [],
   "source": []
  },
  {
   "cell_type": "code",
   "execution_count": null,
   "metadata": {},
   "outputs": [],
   "source": [
    "## Comparing the models above we find out that Random Forest Regressor model is most accurate and shows lesser chances of errors\n",
    "## than the other models. Hence, we choose Random Forest Regressor model for predicting the sales."
   ]
  },
  {
   "cell_type": "code",
   "execution_count": 297,
   "metadata": {},
   "outputs": [
    {
     "data": {
      "text/html": [
       "<div>\n",
       "<style scoped>\n",
       "    .dataframe tbody tr th:only-of-type {\n",
       "        vertical-align: middle;\n",
       "    }\n",
       "\n",
       "    .dataframe tbody tr th {\n",
       "        vertical-align: top;\n",
       "    }\n",
       "\n",
       "    .dataframe thead th {\n",
       "        text-align: right;\n",
       "    }\n",
       "</style>\n",
       "<table border=\"1\" class=\"dataframe\">\n",
       "  <thead>\n",
       "    <tr style=\"text-align: right;\">\n",
       "      <th></th>\n",
       "      <th>Predicted Weekly Sales</th>\n",
       "    </tr>\n",
       "  </thead>\n",
       "  <tbody>\n",
       "    <tr>\n",
       "      <th>0</th>\n",
       "      <td>4002.660</td>\n",
       "    </tr>\n",
       "    <tr>\n",
       "      <th>1</th>\n",
       "      <td>24351.919</td>\n",
       "    </tr>\n",
       "    <tr>\n",
       "      <th>2</th>\n",
       "      <td>32557.531</td>\n",
       "    </tr>\n",
       "    <tr>\n",
       "      <th>3</th>\n",
       "      <td>1799.805</td>\n",
       "    </tr>\n",
       "    <tr>\n",
       "      <th>4</th>\n",
       "      <td>8748.064</td>\n",
       "    </tr>\n",
       "    <tr>\n",
       "      <th>...</th>\n",
       "      <td>...</td>\n",
       "    </tr>\n",
       "    <tr>\n",
       "      <th>126466</th>\n",
       "      <td>16873.815</td>\n",
       "    </tr>\n",
       "    <tr>\n",
       "      <th>126467</th>\n",
       "      <td>18000.443</td>\n",
       "    </tr>\n",
       "    <tr>\n",
       "      <th>126468</th>\n",
       "      <td>6348.709</td>\n",
       "    </tr>\n",
       "    <tr>\n",
       "      <th>126469</th>\n",
       "      <td>7553.827</td>\n",
       "    </tr>\n",
       "    <tr>\n",
       "      <th>126470</th>\n",
       "      <td>3061.866</td>\n",
       "    </tr>\n",
       "  </tbody>\n",
       "</table>\n",
       "<p>126471 rows × 1 columns</p>\n",
       "</div>"
      ],
      "text/plain": [
       "        Predicted Weekly Sales\n",
       "0                     4002.660\n",
       "1                    24351.919\n",
       "2                    32557.531\n",
       "3                     1799.805\n",
       "4                     8748.064\n",
       "...                        ...\n",
       "126466               16873.815\n",
       "126467               18000.443\n",
       "126468                6348.709\n",
       "126469                7553.827\n",
       "126470                3061.866\n",
       "\n",
       "[126471 rows x 1 columns]"
      ]
     },
     "execution_count": 297,
     "metadata": {},
     "output_type": "execute_result"
    }
   ],
   "source": [
    "pred=pd.DataFrame(pre2,columns=[\"Predicted Weekly Sales\"])\n",
    "pred"
   ]
  },
  {
   "cell_type": "code",
   "execution_count": 300,
   "metadata": {},
   "outputs": [
    {
     "data": {
      "text/html": [
       "<div>\n",
       "<style scoped>\n",
       "    .dataframe tbody tr th:only-of-type {\n",
       "        vertical-align: middle;\n",
       "    }\n",
       "\n",
       "    .dataframe tbody tr th {\n",
       "        vertical-align: top;\n",
       "    }\n",
       "\n",
       "    .dataframe thead th {\n",
       "        text-align: right;\n",
       "    }\n",
       "</style>\n",
       "<table border=\"1\" class=\"dataframe\">\n",
       "  <thead>\n",
       "    <tr style=\"text-align: right;\">\n",
       "      <th></th>\n",
       "      <th>Weekly_Sales</th>\n",
       "    </tr>\n",
       "  </thead>\n",
       "  <tbody>\n",
       "    <tr>\n",
       "      <th>155165</th>\n",
       "      <td>6940.00</td>\n",
       "    </tr>\n",
       "    <tr>\n",
       "      <th>406751</th>\n",
       "      <td>25276.01</td>\n",
       "    </tr>\n",
       "    <tr>\n",
       "      <th>334604</th>\n",
       "      <td>34019.15</td>\n",
       "    </tr>\n",
       "    <tr>\n",
       "      <th>242452</th>\n",
       "      <td>1865.35</td>\n",
       "    </tr>\n",
       "    <tr>\n",
       "      <th>230475</th>\n",
       "      <td>7479.77</td>\n",
       "    </tr>\n",
       "    <tr>\n",
       "      <th>...</th>\n",
       "      <td>...</td>\n",
       "    </tr>\n",
       "    <tr>\n",
       "      <th>414645</th>\n",
       "      <td>16297.74</td>\n",
       "    </tr>\n",
       "    <tr>\n",
       "      <th>58132</th>\n",
       "      <td>13969.98</td>\n",
       "    </tr>\n",
       "    <tr>\n",
       "      <th>174830</th>\n",
       "      <td>5090.83</td>\n",
       "    </tr>\n",
       "    <tr>\n",
       "      <th>140385</th>\n",
       "      <td>7912.03</td>\n",
       "    </tr>\n",
       "    <tr>\n",
       "      <th>163531</th>\n",
       "      <td>3099.80</td>\n",
       "    </tr>\n",
       "  </tbody>\n",
       "</table>\n",
       "<p>126471 rows × 1 columns</p>\n",
       "</div>"
      ],
      "text/plain": [
       "        Weekly_Sales\n",
       "155165       6940.00\n",
       "406751      25276.01\n",
       "334604      34019.15\n",
       "242452       1865.35\n",
       "230475       7479.77\n",
       "...              ...\n",
       "414645      16297.74\n",
       "58132       13969.98\n",
       "174830       5090.83\n",
       "140385       7912.03\n",
       "163531       3099.80\n",
       "\n",
       "[126471 rows x 1 columns]"
      ]
     },
     "execution_count": 300,
     "metadata": {},
     "output_type": "execute_result"
    }
   ],
   "source": [
    "y=pd.DataFrame(y_test)\n",
    "y"
   ]
  },
  {
   "cell_type": "code",
   "execution_count": null,
   "metadata": {},
   "outputs": [],
   "source": []
  },
  {
   "cell_type": "code",
   "execution_count": null,
   "metadata": {},
   "outputs": [],
   "source": []
  },
  {
   "cell_type": "code",
   "execution_count": null,
   "metadata": {},
   "outputs": [],
   "source": [
    "## Finding percentage change between Total Original sales and Predicted sales:--"
   ]
  },
  {
   "cell_type": "code",
   "execution_count": null,
   "metadata": {},
   "outputs": [],
   "source": []
  },
  {
   "cell_type": "code",
   "execution_count": 301,
   "metadata": {},
   "outputs": [],
   "source": [
    "# Total Predicted sales--"
   ]
  },
  {
   "cell_type": "code",
   "execution_count": 302,
   "metadata": {},
   "outputs": [],
   "source": [
    "rfm=pre2.sum()"
   ]
  },
  {
   "cell_type": "code",
   "execution_count": 303,
   "metadata": {},
   "outputs": [
    {
     "data": {
      "text/plain": [
       "2030524574.4309998"
      ]
     },
     "execution_count": 303,
     "metadata": {},
     "output_type": "execute_result"
    }
   ],
   "source": [
    "rfm"
   ]
  },
  {
   "cell_type": "code",
   "execution_count": null,
   "metadata": {},
   "outputs": [],
   "source": []
  },
  {
   "cell_type": "code",
   "execution_count": 304,
   "metadata": {},
   "outputs": [],
   "source": [
    "# Total Weekly sales--"
   ]
  },
  {
   "cell_type": "code",
   "execution_count": 305,
   "metadata": {},
   "outputs": [],
   "source": [
    "pre=y_test.sum()"
   ]
  },
  {
   "cell_type": "code",
   "execution_count": 306,
   "metadata": {},
   "outputs": [
    {
     "data": {
      "text/plain": [
       "2025987458.6399999"
      ]
     },
     "execution_count": 306,
     "metadata": {},
     "output_type": "execute_result"
    }
   ],
   "source": [
    "pre"
   ]
  },
  {
   "cell_type": "code",
   "execution_count": null,
   "metadata": {},
   "outputs": [],
   "source": []
  },
  {
   "cell_type": "code",
   "execution_count": 307,
   "metadata": {},
   "outputs": [],
   "source": [
    "# Percentage Change-- "
   ]
  },
  {
   "cell_type": "code",
   "execution_count": 309,
   "metadata": {},
   "outputs": [
    {
     "data": {
      "text/plain": [
       "0.2239458971797167"
      ]
     },
     "execution_count": 309,
     "metadata": {},
     "output_type": "execute_result"
    }
   ],
   "source": [
    "((rfm-pre)/pre)*100"
   ]
  },
  {
   "cell_type": "code",
   "execution_count": null,
   "metadata": {},
   "outputs": [],
   "source": [
    "## Hence, we find out that the sales would increase by 0.22% according to the prediction by Random Forest Regressor Model  "
   ]
  },
  {
   "cell_type": "code",
   "execution_count": null,
   "metadata": {},
   "outputs": [],
   "source": []
  }
 ],
 "metadata": {
  "kernelspec": {
   "display_name": "Python 3",
   "language": "python",
   "name": "python3"
  },
  "language_info": {
   "codemirror_mode": {
    "name": "ipython",
    "version": 3
   },
   "file_extension": ".py",
   "mimetype": "text/x-python",
   "name": "python",
   "nbconvert_exporter": "python",
   "pygments_lexer": "ipython3",
   "version": "3.6.4"
  }
 },
 "nbformat": 4,
 "nbformat_minor": 2
}
